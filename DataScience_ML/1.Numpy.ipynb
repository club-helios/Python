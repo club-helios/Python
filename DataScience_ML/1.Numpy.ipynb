{
 "cells": [
  {
   "cell_type": "markdown",
   "metadata": {
    "deletable": false,
    "editable": false
   },
   "source": [
    " # NumPY\n",
    "\n",
    "NumPy is a powerful numerical computing library in Python that provides support for large, multi-dimensional arrays and matrices, along with a wide range of mathematical functions. It is widely used in various fields for numerical computations and is an essential tool for any data scientist or researcher working with numerical data in Python."
   ]
  },
  {
   "cell_type": "code",
   "execution_count": 99,
   "metadata": {
    "ExecuteTime": {
     "end_time": "2023-05-16T11:18:20.012860500Z",
     "start_time": "2023-05-16T11:18:19.632877Z"
    }
   },
   "outputs": [],
   "source": [
    "import numpy as np\n",
    "import time"
   ]
  },
  {
   "cell_type": "code",
   "execution_count": 100,
   "metadata": {
    "ExecuteTime": {
     "end_time": "2023-05-16T11:18:22.214872700Z",
     "start_time": "2023-05-16T11:18:19.636867300Z"
    }
   },
   "outputs": [
    {
     "name": "stdout",
     "output_type": "stream",
     "text": [
      "[0.05894083 0.96308218 0.6139025  ... 0.34250341 0.00745742 0.86995452]\n"
     ]
    }
   ],
   "source": [
    "data = np.random.rand(110000000)\n",
    "print(data)"
   ]
  },
  {
   "cell_type": "markdown",
   "metadata": {},
   "source": [
    "Show time difference between list and numpy"
   ]
  },
  {
   "cell_type": "code",
   "execution_count": 101,
   "metadata": {
    "ExecuteTime": {
     "end_time": "2023-05-16T11:18:33.494644300Z",
     "start_time": "2023-05-16T11:18:33.487157100Z"
    }
   },
   "outputs": [
    {
     "name": "stdout",
     "output_type": "stream",
     "text": [
      "11.652165412902832\n"
     ]
    }
   ],
   "source": [
    "# List\n",
    "\n",
    "start = time.time()\n",
    "mean_list = sum(data) / len(data)\n",
    "print(time.time() - start)"
   ]
  },
  {
   "cell_type": "code",
   "execution_count": 102,
   "metadata": {
    "ExecuteTime": {
     "end_time": "2023-05-16T11:18:33.690622500Z",
     "start_time": "2023-05-16T11:18:33.493646800Z"
    }
   },
   "outputs": [
    {
     "name": "stdout",
     "output_type": "stream",
     "text": [
      "0.18151330947875977\n"
     ]
    }
   ],
   "source": [
    "# Numpy\n",
    "\n",
    "start = time.time()\n",
    "mean_np = np.mean(data)\n",
    "print(time.time() - start)"
   ]
  },
  {
   "cell_type": "code",
   "execution_count": 103,
   "metadata": {
    "ExecuteTime": {
     "end_time": "2023-05-16T11:18:33.703298400Z",
     "start_time": "2023-05-16T11:18:33.691619600Z"
    }
   },
   "outputs": [
    {
     "data": {
      "text/plain": "0.5000077944121428"
     },
     "execution_count": 103,
     "metadata": {},
     "output_type": "execute_result"
    }
   ],
   "source": [
    "mean_list"
   ]
  },
  {
   "cell_type": "code",
   "execution_count": 104,
   "metadata": {
    "ExecuteTime": {
     "end_time": "2023-05-16T11:18:33.779097700Z",
     "start_time": "2023-05-16T11:18:33.701303900Z"
    }
   },
   "outputs": [
    {
     "data": {
      "text/plain": "0.5000077944119599"
     },
     "execution_count": 104,
     "metadata": {},
     "output_type": "execute_result"
    }
   ],
   "source": [
    "mean_np"
   ]
  },
  {
   "cell_type": "markdown",
   "metadata": {},
   "source": [
    "---"
   ]
  },
  {
   "cell_type": "markdown",
   "metadata": {},
   "source": [
    "## Creating ndarrays\n"
   ]
  },
  {
   "cell_type": "markdown",
   "metadata": {},
   "source": [
    "<a href=\"https://ibb.co/LYqp1wp\"><img src=\"https://i.ibb.co/HBMgqvg/Screenshot-2023-04-15-125315.png\" alt=\"Screenshot-2023-04-15-125315\" border=\"0\"></a>"
   ]
  },
  {
   "cell_type": "code",
   "execution_count": 105,
   "metadata": {
    "ExecuteTime": {
     "end_time": "2023-05-16T11:18:33.782089800Z",
     "start_time": "2023-05-16T11:18:33.714135800Z"
    }
   },
   "outputs": [],
   "source": [
    "# syntax\n",
    "# arr = np.array()\n",
    "# arr"
   ]
  },
  {
   "cell_type": "code",
   "execution_count": 106,
   "metadata": {
    "ExecuteTime": {
     "end_time": "2023-05-16T11:18:33.782089800Z",
     "start_time": "2023-05-16T11:18:33.725566700Z"
    }
   },
   "outputs": [],
   "source": [
    "# 0D (zero dimensional)\n",
    "arr0 = np.array(1)"
   ]
  },
  {
   "cell_type": "code",
   "execution_count": 107,
   "metadata": {
    "ExecuteTime": {
     "end_time": "2023-05-16T11:18:33.783088400Z",
     "start_time": "2023-05-16T11:18:33.736889100Z"
    }
   },
   "outputs": [
    {
     "data": {
      "text/plain": "array([1, 2, 3, 4, 5])"
     },
     "execution_count": 107,
     "metadata": {},
     "output_type": "execute_result"
    }
   ],
   "source": [
    "# 1D (one dimensional)\n",
    "arr = np.array([1, 2, 3, 4, 5])\n",
    "arr"
   ]
  },
  {
   "cell_type": "code",
   "execution_count": 108,
   "metadata": {
    "ExecuteTime": {
     "end_time": "2023-05-16T11:18:33.783088400Z",
     "start_time": "2023-05-16T11:18:33.749521700Z"
    }
   },
   "outputs": [],
   "source": [
    "# 2D (2 dimensional)\n",
    "arr2 = np.array([[1, 2, 3, 4, 5], [6, 7, 8, 9, 10]])"
   ]
  },
  {
   "cell_type": "code",
   "execution_count": 109,
   "metadata": {
    "ExecuteTime": {
     "end_time": "2023-05-16T11:18:33.793249Z",
     "start_time": "2023-05-16T11:18:33.776106Z"
    }
   },
   "outputs": [
    {
     "data": {
      "text/plain": "array([[ 1,  2,  3,  4,  5],\n       [ 6,  7,  8,  9, 10]])"
     },
     "execution_count": 109,
     "metadata": {},
     "output_type": "execute_result"
    }
   ],
   "source": [
    "arr2"
   ]
  },
  {
   "cell_type": "code",
   "execution_count": 110,
   "metadata": {
    "ExecuteTime": {
     "end_time": "2023-05-16T11:18:33.879356500Z",
     "start_time": "2023-05-16T11:18:33.790469900Z"
    }
   },
   "outputs": [],
   "source": [
    "# 3D (3 dimensional)\n",
    "arr3 = np.array(\n",
    "    [\n",
    "        [\n",
    "            [1, 2, 3],\n",
    "            [4, 5, 6]\n",
    "        ],\n",
    "        [\n",
    "            [7, 8, 9],\n",
    "            [10, 11, 12]\n",
    "\n",
    "        ]\n",
    "    ]\n",
    ")"
   ]
  },
  {
   "cell_type": "code",
   "execution_count": 111,
   "metadata": {
    "ExecuteTime": {
     "end_time": "2023-05-16T11:18:33.880355Z",
     "start_time": "2023-05-16T11:18:33.795245300Z"
    }
   },
   "outputs": [
    {
     "data": {
      "text/plain": "array([[[ 1,  2,  3],\n        [ 4,  5,  6]],\n\n       [[ 7,  8,  9],\n        [10, 11, 12]]])"
     },
     "execution_count": 111,
     "metadata": {},
     "output_type": "execute_result"
    }
   ],
   "source": [
    "arr3"
   ]
  },
  {
   "cell_type": "code",
   "execution_count": 112,
   "metadata": {
    "ExecuteTime": {
     "end_time": "2023-05-16T11:18:33.900313900Z",
     "start_time": "2023-05-16T11:18:33.803266700Z"
    }
   },
   "outputs": [
    {
     "data": {
      "text/plain": "numpy.ndarray"
     },
     "execution_count": 112,
     "metadata": {},
     "output_type": "execute_result"
    }
   ],
   "source": [
    "type(arr3)"
   ]
  },
  {
   "cell_type": "markdown",
   "metadata": {},
   "source": [
    "### Ndim\n",
    "It Return a dimension of the array\n",
    "has two dimensions with shape\n",
    "inferred from the data. We can confirm this by inspecting the ndim and shape\n",
    "attributes:"
   ]
  },
  {
   "cell_type": "code",
   "execution_count": 113,
   "metadata": {
    "ExecuteTime": {
     "end_time": "2023-05-16T11:18:33.900313900Z",
     "start_time": "2023-05-16T11:18:33.808117500Z"
    }
   },
   "outputs": [],
   "source": [
    "# 0D (zero dimensional)\n",
    "arr0 = np.array(1)"
   ]
  },
  {
   "cell_type": "code",
   "execution_count": 114,
   "metadata": {
    "ExecuteTime": {
     "end_time": "2023-05-16T11:18:33.901311Z",
     "start_time": "2023-05-16T11:18:33.814955300Z"
    }
   },
   "outputs": [
    {
     "data": {
      "text/plain": "0"
     },
     "execution_count": 114,
     "metadata": {},
     "output_type": "execute_result"
    }
   ],
   "source": [
    "arr0.ndim"
   ]
  },
  {
   "cell_type": "code",
   "execution_count": 115,
   "metadata": {
    "ExecuteTime": {
     "end_time": "2023-05-16T11:18:33.903306400Z",
     "start_time": "2023-05-16T11:18:33.822187Z"
    }
   },
   "outputs": [
    {
     "data": {
      "text/plain": "array([1, 2, 3, 4, 5])"
     },
     "execution_count": 115,
     "metadata": {},
     "output_type": "execute_result"
    }
   ],
   "source": [
    "# 1D (one dimensional)\n",
    "arr = np.array([1, 2, 3, 4, 5])\n",
    "arr\n"
   ]
  },
  {
   "cell_type": "code",
   "execution_count": 116,
   "metadata": {
    "ExecuteTime": {
     "end_time": "2023-05-16T11:18:33.903306400Z",
     "start_time": "2023-05-16T11:18:33.828755500Z"
    }
   },
   "outputs": [
    {
     "data": {
      "text/plain": "1"
     },
     "execution_count": 116,
     "metadata": {},
     "output_type": "execute_result"
    }
   ],
   "source": [
    "arr.ndim"
   ]
  },
  {
   "cell_type": "code",
   "execution_count": 117,
   "metadata": {
    "ExecuteTime": {
     "end_time": "2023-05-16T11:18:33.903306400Z",
     "start_time": "2023-05-16T11:18:33.836071Z"
    }
   },
   "outputs": [],
   "source": [
    "# 2D (2 dimensional)\n",
    "arr2 = np.array([[1, 2, 3, 4, 5], [6, 7, 8, 9, 10]])\n"
   ]
  },
  {
   "cell_type": "code",
   "execution_count": 118,
   "metadata": {
    "ExecuteTime": {
     "end_time": "2023-05-16T11:18:33.904304500Z",
     "start_time": "2023-05-16T11:18:33.840568700Z"
    }
   },
   "outputs": [
    {
     "data": {
      "text/plain": "2"
     },
     "execution_count": 118,
     "metadata": {},
     "output_type": "execute_result"
    }
   ],
   "source": [
    "arr2.ndim"
   ]
  },
  {
   "cell_type": "code",
   "execution_count": 119,
   "metadata": {
    "ExecuteTime": {
     "end_time": "2023-05-16T11:18:33.904304500Z",
     "start_time": "2023-05-16T11:18:33.846918600Z"
    }
   },
   "outputs": [],
   "source": [
    "# 3D (3 dimensional)\n",
    "arr3 = np.array(\n",
    "    [\n",
    "        [\n",
    "            [1, 2, 3],\n",
    "            [4, 5, 6]\n",
    "        ],\n",
    "        [\n",
    "            [7, 8, 9],\n",
    "            [10, 11, 12]\n",
    "\n",
    "        ]\n",
    "    ]\n",
    ")"
   ]
  },
  {
   "cell_type": "code",
   "execution_count": 120,
   "metadata": {
    "ExecuteTime": {
     "end_time": "2023-05-16T11:18:33.904304500Z",
     "start_time": "2023-05-16T11:18:33.853031900Z"
    }
   },
   "outputs": [
    {
     "data": {
      "text/plain": "3"
     },
     "execution_count": 120,
     "metadata": {},
     "output_type": "execute_result"
    }
   ],
   "source": [
    "arr3.ndim"
   ]
  },
  {
   "cell_type": "code",
   "execution_count": 121,
   "metadata": {
    "ExecuteTime": {
     "end_time": "2023-05-16T11:18:33.905301200Z",
     "start_time": "2023-05-16T11:18:33.861717800Z"
    }
   },
   "outputs": [],
   "source": [
    "arr10 = np.array([1, 2, 3, 4], ndmin=10)\n"
   ]
  },
  {
   "cell_type": "code",
   "execution_count": 122,
   "metadata": {
    "ExecuteTime": {
     "end_time": "2023-05-16T11:18:33.905301200Z",
     "start_time": "2023-05-16T11:18:33.869167100Z"
    }
   },
   "outputs": [
    {
     "data": {
      "text/plain": "10"
     },
     "execution_count": 122,
     "metadata": {},
     "output_type": "execute_result"
    }
   ],
   "source": [
    "arr10.ndim"
   ]
  },
  {
   "cell_type": "code",
   "execution_count": 123,
   "metadata": {
    "ExecuteTime": {
     "end_time": "2023-05-16T11:18:33.906299200Z",
     "start_time": "2023-05-16T11:18:33.879356500Z"
    }
   },
   "outputs": [
    {
     "data": {
      "text/plain": "array([[[[[[[[[[1, 2, 3, 4]]]]]]]]]])"
     },
     "execution_count": 123,
     "metadata": {},
     "output_type": "execute_result"
    }
   ],
   "source": [
    "arr10"
   ]
  },
  {
   "cell_type": "markdown",
   "metadata": {},
   "source": [
    "### Shape\n",
    "It tails the shape of the array\n"
   ]
  },
  {
   "cell_type": "code",
   "execution_count": 124,
   "metadata": {
    "ExecuteTime": {
     "end_time": "2023-05-16T11:18:33.932302300Z",
     "start_time": "2023-05-16T11:18:33.885022300Z"
    }
   },
   "outputs": [
    {
     "data": {
      "text/plain": "(2, 2, 3)"
     },
     "execution_count": 124,
     "metadata": {},
     "output_type": "execute_result"
    }
   ],
   "source": [
    "arr3.shape"
   ]
  },
  {
   "cell_type": "code",
   "execution_count": 125,
   "metadata": {
    "ExecuteTime": {
     "end_time": "2023-05-16T11:18:34.160009900Z",
     "start_time": "2023-05-16T11:18:33.897603200Z"
    }
   },
   "outputs": [
    {
     "data": {
      "text/plain": "(1, 1, 1, 1, 1, 1, 1, 1, 1, 4)"
     },
     "execution_count": 125,
     "metadata": {},
     "output_type": "execute_result"
    }
   ],
   "source": [
    "arr10.shape"
   ]
  },
  {
   "cell_type": "code",
   "execution_count": 126,
   "metadata": {
    "ExecuteTime": {
     "end_time": "2023-05-16T11:18:34.161009800Z",
     "start_time": "2023-05-16T11:18:33.905301200Z"
    }
   },
   "outputs": [
    {
     "data": {
      "text/plain": "(2, 5)"
     },
     "execution_count": 126,
     "metadata": {},
     "output_type": "execute_result"
    }
   ],
   "source": [
    "arr2.shape"
   ]
  },
  {
   "cell_type": "markdown",
   "metadata": {},
   "source": [
    "## Data Types of ndarrays\n",
    "\n",
    "<a href=\"https://ibb.co/Kmt7wfK\"><img src=\"https://i.ibb.co/JCY2QG3/Screenshot-2023-04-15-125904.png\" alt=\"Screenshot-2023-04-15-125904\" border=\"0\"></a>"
   ]
  },
  {
   "cell_type": "markdown",
   "metadata": {},
   "source": [
    "### Type --- dtype\n",
    "It tells about the type of the data"
   ]
  },
  {
   "cell_type": "code",
   "execution_count": 127,
   "metadata": {
    "ExecuteTime": {
     "end_time": "2023-05-16T11:18:34.161009800Z",
     "start_time": "2023-05-16T11:18:33.925504700Z"
    }
   },
   "outputs": [
    {
     "data": {
      "text/plain": "dtype('int32')"
     },
     "execution_count": 127,
     "metadata": {},
     "output_type": "execute_result"
    }
   ],
   "source": [
    "arr3.dtype"
   ]
  },
  {
   "cell_type": "code",
   "execution_count": 128,
   "metadata": {
    "ExecuteTime": {
     "end_time": "2023-05-16T11:18:34.206567400Z",
     "start_time": "2023-05-16T11:18:33.936292500Z"
    }
   },
   "outputs": [
    {
     "data": {
      "text/plain": "dtype('<U1')"
     },
     "execution_count": 128,
     "metadata": {},
     "output_type": "execute_result"
    }
   ],
   "source": [
    "arrs = np.array(['a', 'b'])\n",
    "arrs.dtype"
   ]
  },
  {
   "cell_type": "code",
   "execution_count": 129,
   "metadata": {
    "ExecuteTime": {
     "end_time": "2023-05-16T11:18:34.207565500Z",
     "start_time": "2023-05-16T11:18:33.945232500Z"
    }
   },
   "outputs": [],
   "source": [
    "arr1 = np.array([1, 2, 3], dtype=np.float64)\n"
   ]
  },
  {
   "cell_type": "code",
   "execution_count": 130,
   "metadata": {
    "ExecuteTime": {
     "end_time": "2023-05-16T11:18:34.207565500Z",
     "start_time": "2023-05-16T11:18:33.951907100Z"
    }
   },
   "outputs": [
    {
     "data": {
      "text/plain": "dtype('float64')"
     },
     "execution_count": 130,
     "metadata": {},
     "output_type": "execute_result"
    }
   ],
   "source": [
    "arr1.dtype"
   ]
  },
  {
   "cell_type": "markdown",
   "metadata": {},
   "source": [
    "Change the dtype of the data"
   ]
  },
  {
   "cell_type": "code",
   "execution_count": 131,
   "metadata": {
    "ExecuteTime": {
     "end_time": "2023-05-16T11:18:34.208562600Z",
     "start_time": "2023-05-16T11:18:33.960860200Z"
    }
   },
   "outputs": [
    {
     "data": {
      "text/plain": "array([1, 2, 3])"
     },
     "execution_count": 131,
     "metadata": {},
     "output_type": "execute_result"
    }
   ],
   "source": [
    "arr1.astype(np.int32)"
   ]
  },
  {
   "cell_type": "markdown",
   "metadata": {},
   "source": [
    "### Size - it tells total number of element"
   ]
  },
  {
   "cell_type": "code",
   "execution_count": 132,
   "metadata": {
    "ExecuteTime": {
     "end_time": "2023-05-16T11:18:34.208562600Z",
     "start_time": "2023-05-16T11:18:33.970392400Z"
    }
   },
   "outputs": [
    {
     "data": {
      "text/plain": "3"
     },
     "execution_count": 132,
     "metadata": {},
     "output_type": "execute_result"
    }
   ],
   "source": [
    "arr1.size"
   ]
  },
  {
   "cell_type": "code",
   "execution_count": 133,
   "metadata": {
    "ExecuteTime": {
     "end_time": "2023-05-16T11:18:34.208562600Z",
     "start_time": "2023-05-16T11:18:33.975659Z"
    }
   },
   "outputs": [
    {
     "data": {
      "text/plain": "10"
     },
     "execution_count": 133,
     "metadata": {},
     "output_type": "execute_result"
    }
   ],
   "source": [
    "arr2.size"
   ]
  },
  {
   "cell_type": "code",
   "execution_count": 134,
   "metadata": {
    "ExecuteTime": {
     "end_time": "2023-05-16T11:18:34.210564Z",
     "start_time": "2023-05-16T11:18:33.982651900Z"
    }
   },
   "outputs": [
    {
     "data": {
      "text/plain": "array([[ 1,  2,  3,  4,  5],\n       [ 6,  7,  8,  9, 10]])"
     },
     "execution_count": 134,
     "metadata": {},
     "output_type": "execute_result"
    }
   ],
   "source": [
    "arr2\n"
   ]
  },
  {
   "cell_type": "code",
   "execution_count": 135,
   "metadata": {
    "ExecuteTime": {
     "end_time": "2023-05-16T11:18:34.210564Z",
     "start_time": "2023-05-16T11:18:33.991388500Z"
    }
   },
   "outputs": [
    {
     "data": {
      "text/plain": "5"
     },
     "execution_count": 135,
     "metadata": {},
     "output_type": "execute_result"
    }
   ],
   "source": [
    "#### 1 for the column\n",
    "# 0  for the row\n",
    "\n",
    "np.size(arr2, 1)\n"
   ]
  },
  {
   "cell_type": "markdown",
   "metadata": {},
   "source": [
    "### Itemsize\n",
    "It tells about the length of the single element in bytes"
   ]
  },
  {
   "cell_type": "code",
   "execution_count": 136,
   "metadata": {
    "ExecuteTime": {
     "end_time": "2023-05-16T11:18:34.211554600Z",
     "start_time": "2023-05-16T11:18:33.996473900Z"
    }
   },
   "outputs": [
    {
     "data": {
      "text/plain": "4"
     },
     "execution_count": 136,
     "metadata": {},
     "output_type": "execute_result"
    }
   ],
   "source": [
    "arr2.itemsize"
   ]
  },
  {
   "cell_type": "markdown",
   "metadata": {},
   "source": [
    "### nbytes\n",
    "Total bytes"
   ]
  },
  {
   "cell_type": "code",
   "execution_count": 137,
   "metadata": {
    "ExecuteTime": {
     "end_time": "2023-05-16T11:18:34.213091600Z",
     "start_time": "2023-05-16T11:18:34.006640200Z"
    }
   },
   "outputs": [
    {
     "data": {
      "text/plain": "40"
     },
     "execution_count": 137,
     "metadata": {},
     "output_type": "execute_result"
    }
   ],
   "source": [
    "arr2.nbytes"
   ]
  },
  {
   "cell_type": "markdown",
   "metadata": {},
   "source": [
    "## Create array using arange method\n"
   ]
  },
  {
   "cell_type": "code",
   "execution_count": 138,
   "metadata": {
    "ExecuteTime": {
     "end_time": "2023-05-16T11:18:34.213091600Z",
     "start_time": "2023-05-16T11:18:34.010847700Z"
    }
   },
   "outputs": [
    {
     "data": {
      "text/plain": "array([0, 1, 2, 3, 4, 5, 6, 7, 8, 9])"
     },
     "execution_count": 138,
     "metadata": {},
     "output_type": "execute_result"
    }
   ],
   "source": [
    "\n",
    "aranged_array = np.arange(10)\n",
    "aranged_array"
   ]
  },
  {
   "cell_type": "code",
   "execution_count": 139,
   "metadata": {
    "ExecuteTime": {
     "end_time": "2023-05-16T11:18:34.214088900Z",
     "start_time": "2023-05-16T11:18:34.019290400Z"
    }
   },
   "outputs": [
    {
     "data": {
      "text/plain": "array([2, 3, 4, 5, 6, 7, 8, 9])"
     },
     "execution_count": 139,
     "metadata": {},
     "output_type": "execute_result"
    }
   ],
   "source": [
    "aranged_array2 = np.arange(2, 10)  ## craete a 1D array with start with 2 and end with 9\n",
    "aranged_array2"
   ]
  },
  {
   "cell_type": "code",
   "execution_count": 140,
   "metadata": {
    "ExecuteTime": {
     "end_time": "2023-05-16T11:18:34.214088900Z",
     "start_time": "2023-05-16T11:18:34.027390Z"
    }
   },
   "outputs": [
    {
     "data": {
      "text/plain": "array([2, 4, 6, 8])"
     },
     "execution_count": 140,
     "metadata": {},
     "output_type": "execute_result"
    }
   ],
   "source": [
    "aranged_array3 = np.arange(2, 10, 2)  # create 1D ndarray with start with 2 and end with 9 and increment 2\n",
    "aranged_array3"
   ]
  },
  {
   "cell_type": "code",
   "execution_count": 141,
   "metadata": {
    "ExecuteTime": {
     "end_time": "2023-05-16T11:18:34.216083600Z",
     "start_time": "2023-05-16T11:18:34.036660500Z"
    }
   },
   "outputs": [
    {
     "data": {
      "text/plain": "array([1. , 1.1, 1.2, 1.3, 1.4, 1.5, 1.6, 1.7, 1.8, 1.9])"
     },
     "execution_count": 141,
     "metadata": {},
     "output_type": "execute_result"
    }
   ],
   "source": [
    "aranged_array4 = np.arange(1, 2, 0.1)\n",
    "\n",
    "aranged_array4"
   ]
  },
  {
   "cell_type": "markdown",
   "metadata": {},
   "source": [
    "## create a ndarray using zeros()"
   ]
  },
  {
   "cell_type": "code",
   "execution_count": 142,
   "metadata": {
    "ExecuteTime": {
     "end_time": "2023-05-16T11:18:34.216083600Z",
     "start_time": "2023-05-16T11:18:34.044932Z"
    }
   },
   "outputs": [
    {
     "data": {
      "text/plain": "array([0, 0])"
     },
     "execution_count": 142,
     "metadata": {},
     "output_type": "execute_result"
    }
   ],
   "source": [
    "## zeros(shape, dtype)\n",
    "\n",
    "\n",
    "zero_arr = np.zeros(2, dtype=int)\n",
    "zero_arr"
   ]
  },
  {
   "cell_type": "code",
   "execution_count": 143,
   "metadata": {
    "ExecuteTime": {
     "end_time": "2023-05-16T11:18:34.217082400Z",
     "start_time": "2023-05-16T11:18:34.050921400Z"
    }
   },
   "outputs": [
    {
     "data": {
      "text/plain": "array([[0, 0, 0, 0, 0],\n       [0, 0, 0, 0, 0],\n       [0, 0, 0, 0, 0]])"
     },
     "execution_count": 143,
     "metadata": {},
     "output_type": "execute_result"
    }
   ],
   "source": [
    "zero_arr = np.zeros([3, 5], dtype=int)\n",
    "zero_arr"
   ]
  },
  {
   "cell_type": "markdown",
   "source": [
    "# CRUD Operations"
   ],
   "metadata": {
    "collapsed": false
   }
  },
  {
   "cell_type": "markdown",
   "source": [
    "## Create a ndarray"
   ],
   "metadata": {
    "collapsed": false
   }
  },
  {
   "cell_type": "code",
   "execution_count": 144,
   "outputs": [],
   "source": [
    "arr = np.array([[1, 2, 3], [4, 5, 6]])"
   ],
   "metadata": {
    "collapsed": false,
    "ExecuteTime": {
     "end_time": "2023-05-16T11:18:34.217082400Z",
     "start_time": "2023-05-16T11:18:34.060220400Z"
    }
   }
  },
  {
   "cell_type": "code",
   "execution_count": 145,
   "outputs": [
    {
     "data": {
      "text/plain": "2"
     },
     "execution_count": 145,
     "metadata": {},
     "output_type": "execute_result"
    }
   ],
   "source": [
    "arr.ndim"
   ],
   "metadata": {
    "collapsed": false,
    "ExecuteTime": {
     "end_time": "2023-05-16T11:18:34.234579500Z",
     "start_time": "2023-05-16T11:18:34.063722300Z"
    }
   }
  },
  {
   "cell_type": "code",
   "execution_count": 146,
   "outputs": [],
   "source": [
    "arr0 = np.zeros((3, 3))\n"
   ],
   "metadata": {
    "collapsed": false,
    "ExecuteTime": {
     "end_time": "2023-05-16T11:18:34.235576900Z",
     "start_time": "2023-05-16T11:18:34.070374400Z"
    }
   }
  },
  {
   "cell_type": "code",
   "execution_count": 147,
   "outputs": [
    {
     "data": {
      "text/plain": "array([[0., 0., 0.],\n       [0., 0., 0.],\n       [0., 0., 0.]])"
     },
     "execution_count": 147,
     "metadata": {},
     "output_type": "execute_result"
    }
   ],
   "source": [
    "arr0"
   ],
   "metadata": {
    "collapsed": false,
    "ExecuteTime": {
     "end_time": "2023-05-16T11:18:34.235576900Z",
     "start_time": "2023-05-16T11:18:34.077483700Z"
    }
   }
  },
  {
   "cell_type": "code",
   "execution_count": 148,
   "outputs": [],
   "source": [
    "arr0 = np.zeros(10)"
   ],
   "metadata": {
    "collapsed": false,
    "ExecuteTime": {
     "end_time": "2023-05-16T11:18:34.235576900Z",
     "start_time": "2023-05-16T11:18:34.082949400Z"
    }
   }
  },
  {
   "cell_type": "code",
   "execution_count": 149,
   "outputs": [
    {
     "data": {
      "text/plain": "array([0., 0., 0., 0., 0., 0., 0., 0., 0., 0.])"
     },
     "execution_count": 149,
     "metadata": {},
     "output_type": "execute_result"
    }
   ],
   "source": [
    "arr0"
   ],
   "metadata": {
    "collapsed": false,
    "ExecuteTime": {
     "end_time": "2023-05-16T11:18:34.236574300Z",
     "start_time": "2023-05-16T11:18:34.088166600Z"
    }
   }
  },
  {
   "cell_type": "code",
   "execution_count": 150,
   "outputs": [],
   "source": [
    "arr0 = np.zeros([2, 3, 4])\n"
   ],
   "metadata": {
    "collapsed": false,
    "ExecuteTime": {
     "end_time": "2023-05-16T11:18:34.236574300Z",
     "start_time": "2023-05-16T11:18:34.095489800Z"
    }
   }
  },
  {
   "cell_type": "code",
   "execution_count": 151,
   "outputs": [
    {
     "data": {
      "text/plain": "array([[[0., 0., 0., 0.],\n        [0., 0., 0., 0.],\n        [0., 0., 0., 0.]],\n\n       [[0., 0., 0., 0.],\n        [0., 0., 0., 0.],\n        [0., 0., 0., 0.]]])"
     },
     "execution_count": 151,
     "metadata": {},
     "output_type": "execute_result"
    }
   ],
   "source": [
    "arr0"
   ],
   "metadata": {
    "collapsed": false,
    "ExecuteTime": {
     "end_time": "2023-05-16T11:18:34.237573300Z",
     "start_time": "2023-05-16T11:18:34.101062200Z"
    }
   }
  },
  {
   "cell_type": "code",
   "execution_count": 152,
   "outputs": [],
   "source": [
    "arr1 = np.ones([3, 4])"
   ],
   "metadata": {
    "collapsed": false,
    "ExecuteTime": {
     "end_time": "2023-05-16T11:18:34.237573300Z",
     "start_time": "2023-05-16T11:18:34.108146700Z"
    }
   }
  },
  {
   "cell_type": "code",
   "execution_count": 153,
   "outputs": [
    {
     "data": {
      "text/plain": "array([[1., 1., 1., 1.],\n       [1., 1., 1., 1.],\n       [1., 1., 1., 1.]])"
     },
     "execution_count": 153,
     "metadata": {},
     "output_type": "execute_result"
    }
   ],
   "source": [
    "arr1"
   ],
   "metadata": {
    "collapsed": false,
    "ExecuteTime": {
     "end_time": "2023-05-16T11:18:34.237573300Z",
     "start_time": "2023-05-16T11:18:34.114544Z"
    }
   }
  },
  {
   "cell_type": "code",
   "execution_count": 154,
   "outputs": [],
   "source": [
    "arre = np.empty([3, 4])"
   ],
   "metadata": {
    "collapsed": false,
    "ExecuteTime": {
     "end_time": "2023-05-16T11:18:34.238568300Z",
     "start_time": "2023-05-16T11:18:34.121359700Z"
    }
   }
  },
  {
   "cell_type": "code",
   "execution_count": 155,
   "outputs": [
    {
     "data": {
      "text/plain": "array([[1., 1., 1., 1.],\n       [1., 1., 1., 1.],\n       [1., 1., 1., 1.]])"
     },
     "execution_count": 155,
     "metadata": {},
     "output_type": "execute_result"
    }
   ],
   "source": [
    "arre"
   ],
   "metadata": {
    "collapsed": false,
    "ExecuteTime": {
     "end_time": "2023-05-16T11:18:34.238568300Z",
     "start_time": "2023-05-16T11:18:34.125960200Z"
    }
   }
  },
  {
   "cell_type": "code",
   "execution_count": 156,
   "outputs": [],
   "source": [
    "arr = np.full([3, 4], 10)"
   ],
   "metadata": {
    "collapsed": false,
    "ExecuteTime": {
     "end_time": "2023-05-16T11:18:34.238568300Z",
     "start_time": "2023-05-16T11:18:34.132142300Z"
    }
   }
  },
  {
   "cell_type": "code",
   "execution_count": 157,
   "outputs": [
    {
     "data": {
      "text/plain": "array([[10, 10, 10, 10],\n       [10, 10, 10, 10],\n       [10, 10, 10, 10]])"
     },
     "execution_count": 157,
     "metadata": {},
     "output_type": "execute_result"
    }
   ],
   "source": [
    "arr"
   ],
   "metadata": {
    "collapsed": false,
    "ExecuteTime": {
     "end_time": "2023-05-16T11:18:34.239565700Z",
     "start_time": "2023-05-16T11:18:34.136742300Z"
    }
   }
  },
  {
   "cell_type": "code",
   "execution_count": 158,
   "outputs": [],
   "source": [
    "arre = np.eye(3)"
   ],
   "metadata": {
    "collapsed": false,
    "ExecuteTime": {
     "end_time": "2023-05-16T11:18:34.239843200Z",
     "start_time": "2023-05-16T11:18:34.142744100Z"
    }
   }
  },
  {
   "cell_type": "code",
   "execution_count": 159,
   "outputs": [
    {
     "data": {
      "text/plain": "array([[1., 0., 0.],\n       [0., 1., 0.],\n       [0., 0., 1.]])"
     },
     "execution_count": 159,
     "metadata": {},
     "output_type": "execute_result"
    }
   ],
   "source": [
    "arre"
   ],
   "metadata": {
    "collapsed": false,
    "ExecuteTime": {
     "end_time": "2023-05-16T11:18:34.239843200Z",
     "start_time": "2023-05-16T11:18:34.148712Z"
    }
   }
  },
  {
   "cell_type": "code",
   "execution_count": 160,
   "outputs": [],
   "source": [
    "arrd = np.diag([1, 2, 3, 4])\n"
   ],
   "metadata": {
    "collapsed": false,
    "ExecuteTime": {
     "end_time": "2023-05-16T11:18:34.242346600Z",
     "start_time": "2023-05-16T11:18:34.155192200Z"
    }
   }
  },
  {
   "cell_type": "code",
   "execution_count": 161,
   "outputs": [
    {
     "data": {
      "text/plain": "array([[1, 0, 0, 0],\n       [0, 2, 0, 0],\n       [0, 0, 3, 0],\n       [0, 0, 0, 4]])"
     },
     "execution_count": 161,
     "metadata": {},
     "output_type": "execute_result"
    }
   ],
   "source": [
    "arrd"
   ],
   "metadata": {
    "collapsed": false,
    "ExecuteTime": {
     "end_time": "2023-05-16T11:18:34.242346600Z",
     "start_time": "2023-05-16T11:18:34.161009800Z"
    }
   }
  },
  {
   "cell_type": "code",
   "execution_count": 162,
   "outputs": [],
   "source": [
    "arr = np.linspace(0, 10, 20)"
   ],
   "metadata": {
    "collapsed": false,
    "ExecuteTime": {
     "end_time": "2023-05-16T11:18:34.243343500Z",
     "start_time": "2023-05-16T11:18:34.168159400Z"
    }
   }
  },
  {
   "cell_type": "code",
   "execution_count": 163,
   "outputs": [
    {
     "data": {
      "text/plain": "array([ 0.        ,  0.52631579,  1.05263158,  1.57894737,  2.10526316,\n        2.63157895,  3.15789474,  3.68421053,  4.21052632,  4.73684211,\n        5.26315789,  5.78947368,  6.31578947,  6.84210526,  7.36842105,\n        7.89473684,  8.42105263,  8.94736842,  9.47368421, 10.        ])"
     },
     "execution_count": 163,
     "metadata": {},
     "output_type": "execute_result"
    }
   ],
   "source": [
    "arr"
   ],
   "metadata": {
    "collapsed": false,
    "ExecuteTime": {
     "end_time": "2023-05-16T11:18:34.243343500Z",
     "start_time": "2023-05-16T11:18:34.174396700Z"
    }
   }
  },
  {
   "cell_type": "code",
   "execution_count": 164,
   "outputs": [],
   "source": [
    "arrr = np.random.rand(10)\n"
   ],
   "metadata": {
    "collapsed": false,
    "ExecuteTime": {
     "end_time": "2023-05-16T11:18:34.577412500Z",
     "start_time": "2023-05-16T11:18:34.183394300Z"
    }
   }
  },
  {
   "cell_type": "code",
   "execution_count": 165,
   "outputs": [
    {
     "data": {
      "text/plain": "array([0.03496459, 0.98420784, 0.35630444, 0.21286293, 0.67394507,\n       0.49595468, 0.6600219 , 0.41715387, 0.48192157, 0.87535705])"
     },
     "execution_count": 165,
     "metadata": {},
     "output_type": "execute_result"
    }
   ],
   "source": [
    "arrr"
   ],
   "metadata": {
    "collapsed": false,
    "ExecuteTime": {
     "end_time": "2023-05-16T11:18:34.577412500Z",
     "start_time": "2023-05-16T11:18:34.187455400Z"
    }
   }
  },
  {
   "cell_type": "code",
   "execution_count": 166,
   "outputs": [],
   "source": [
    "arrr = np.random.randint(15, 25, size=(2, 3))"
   ],
   "metadata": {
    "collapsed": false,
    "ExecuteTime": {
     "end_time": "2023-05-16T11:18:34.578409900Z",
     "start_time": "2023-05-16T11:18:34.196333600Z"
    }
   }
  },
  {
   "cell_type": "code",
   "execution_count": 167,
   "outputs": [
    {
     "data": {
      "text/plain": "array([[16, 17, 15],\n       [21, 24, 20]])"
     },
     "execution_count": 167,
     "metadata": {},
     "output_type": "execute_result"
    }
   ],
   "source": [
    "arrr"
   ],
   "metadata": {
    "collapsed": false,
    "ExecuteTime": {
     "end_time": "2023-05-16T11:18:34.578409900Z",
     "start_time": "2023-05-16T11:18:34.202833700Z"
    }
   }
  },
  {
   "cell_type": "code",
   "execution_count": 168,
   "outputs": [],
   "source": [
    "arrr = np.arange(1, 12, 2)"
   ],
   "metadata": {
    "collapsed": false,
    "ExecuteTime": {
     "end_time": "2023-05-16T11:18:34.590377400Z",
     "start_time": "2023-05-16T11:18:34.209561200Z"
    }
   }
  },
  {
   "cell_type": "code",
   "execution_count": 169,
   "outputs": [
    {
     "data": {
      "text/plain": "array([ 1,  3,  5,  7,  9, 11])"
     },
     "execution_count": 169,
     "metadata": {},
     "output_type": "execute_result"
    }
   ],
   "source": [
    "arrr"
   ],
   "metadata": {
    "collapsed": false,
    "ExecuteTime": {
     "end_time": "2023-05-16T11:18:34.605337400Z",
     "start_time": "2023-05-16T11:18:34.215086700Z"
    }
   }
  },
  {
   "cell_type": "markdown",
   "source": [
    "## u -> Update"
   ],
   "metadata": {
    "collapsed": false
   }
  },
  {
   "cell_type": "code",
   "execution_count": 170,
   "outputs": [],
   "source": [
    "arr1 = np.array([1, 2, 3, 4, 5, 6, 7, 8, 9])\n",
    "arr2 = np.array([[1, 2, 3, 4], [5, 6, 7, 8, ], [1, 3, 5, 7]])"
   ],
   "metadata": {
    "collapsed": false,
    "ExecuteTime": {
     "end_time": "2023-05-16T11:18:34.606335700Z",
     "start_time": "2023-05-16T11:18:34.222494300Z"
    }
   }
  },
  {
   "cell_type": "code",
   "execution_count": 171,
   "outputs": [
    {
     "data": {
      "text/plain": "array([[1, 2, 3, 4],\n       [5, 6, 7, 8],\n       [1, 3, 5, 7]])"
     },
     "execution_count": 171,
     "metadata": {},
     "output_type": "execute_result"
    }
   ],
   "source": [
    "arr2"
   ],
   "metadata": {
    "collapsed": false,
    "ExecuteTime": {
     "end_time": "2023-05-16T11:18:34.606335700Z",
     "start_time": "2023-05-16T11:18:34.230502200Z"
    }
   }
  },
  {
   "cell_type": "markdown",
   "source": [
    "### Indexing"
   ],
   "metadata": {
    "collapsed": false
   }
  },
  {
   "cell_type": "code",
   "execution_count": 172,
   "outputs": [
    {
     "data": {
      "text/plain": "5"
     },
     "execution_count": 172,
     "metadata": {},
     "output_type": "execute_result"
    }
   ],
   "source": [
    "arr1[4]"
   ],
   "metadata": {
    "collapsed": false,
    "ExecuteTime": {
     "end_time": "2023-05-16T11:18:34.606335700Z",
     "start_time": "2023-05-16T11:18:34.238568300Z"
    }
   }
  },
  {
   "cell_type": "code",
   "execution_count": 173,
   "outputs": [
    {
     "data": {
      "text/plain": "9"
     },
     "execution_count": 173,
     "metadata": {},
     "output_type": "execute_result"
    }
   ],
   "source": [
    "arr1[-1]"
   ],
   "metadata": {
    "collapsed": false,
    "ExecuteTime": {
     "end_time": "2023-05-16T11:18:34.609327500Z",
     "start_time": "2023-05-16T11:18:34.244342800Z"
    }
   }
  },
  {
   "cell_type": "code",
   "execution_count": 174,
   "outputs": [
    {
     "data": {
      "text/plain": "8"
     },
     "execution_count": 174,
     "metadata": {},
     "output_type": "execute_result"
    }
   ],
   "source": [
    "# arr2[row,column]\n",
    "arr2[1, 3]"
   ],
   "metadata": {
    "collapsed": false,
    "ExecuteTime": {
     "end_time": "2023-05-16T11:18:34.610334400Z",
     "start_time": "2023-05-16T11:18:34.252117800Z"
    }
   }
  },
  {
   "cell_type": "code",
   "execution_count": 175,
   "outputs": [],
   "source": [
    "arr2[1, 3] = 20"
   ],
   "metadata": {
    "collapsed": false,
    "ExecuteTime": {
     "end_time": "2023-05-16T11:18:34.618303100Z",
     "start_time": "2023-05-16T11:18:34.259026400Z"
    }
   }
  },
  {
   "cell_type": "code",
   "execution_count": 176,
   "outputs": [
    {
     "data": {
      "text/plain": "array([[ 1,  2,  3,  4],\n       [ 5,  6,  7, 20],\n       [ 1,  3,  5,  7]])"
     },
     "execution_count": 176,
     "metadata": {},
     "output_type": "execute_result"
    }
   ],
   "source": [
    "arr2"
   ],
   "metadata": {
    "collapsed": false,
    "ExecuteTime": {
     "end_time": "2023-05-16T11:18:34.618303100Z",
     "start_time": "2023-05-16T11:18:34.267862800Z"
    }
   }
  },
  {
   "cell_type": "markdown",
   "source": [
    "### Slicing"
   ],
   "metadata": {
    "collapsed": false
   }
  },
  {
   "cell_type": "code",
   "execution_count": 177,
   "outputs": [
    {
     "data": {
      "text/plain": "array([[ 1,  2,  3,  4],\n       [ 5,  6,  7, 20],\n       [ 1,  3,  5,  7]])"
     },
     "execution_count": 177,
     "metadata": {},
     "output_type": "execute_result"
    }
   ],
   "source": [
    "arr2"
   ],
   "metadata": {
    "collapsed": false,
    "ExecuteTime": {
     "end_time": "2023-05-16T11:18:34.619301600Z",
     "start_time": "2023-05-16T11:18:34.273898900Z"
    }
   }
  },
  {
   "cell_type": "code",
   "execution_count": 178,
   "outputs": [
    {
     "data": {
      "text/plain": "array([[ 5,  6,  7, 20],\n       [ 1,  3,  5,  7]])"
     },
     "execution_count": 178,
     "metadata": {},
     "output_type": "execute_result"
    }
   ],
   "source": [
    "arr2[1:]"
   ],
   "metadata": {
    "collapsed": false,
    "ExecuteTime": {
     "end_time": "2023-05-16T11:18:34.619301600Z",
     "start_time": "2023-05-16T11:18:34.278856900Z"
    }
   }
  },
  {
   "cell_type": "code",
   "execution_count": 179,
   "outputs": [],
   "source": [
    "#Quiz\n",
    "\n",
    "arr = np.linspace(10, 500, 12).reshape([3, 4])"
   ],
   "metadata": {
    "collapsed": false,
    "ExecuteTime": {
     "end_time": "2023-05-16T11:18:34.619301600Z",
     "start_time": "2023-05-16T11:18:34.287217700Z"
    }
   }
  },
  {
   "cell_type": "code",
   "execution_count": 180,
   "outputs": [
    {
     "data": {
      "text/plain": "array([[ 10.        ,  54.54545455,  99.09090909, 143.63636364],\n       [188.18181818, 232.72727273, 277.27272727, 321.81818182],\n       [366.36363636, 410.90909091, 455.45454545, 500.        ]])"
     },
     "execution_count": 180,
     "metadata": {},
     "output_type": "execute_result"
    }
   ],
   "source": [
    "arr"
   ],
   "metadata": {
    "collapsed": false,
    "ExecuteTime": {
     "end_time": "2023-05-16T11:18:34.620298300Z",
     "start_time": "2023-05-16T11:18:34.294261800Z"
    }
   }
  },
  {
   "cell_type": "code",
   "execution_count": 181,
   "outputs": [],
   "source": [
    "arr = np.random.rand(63).reshape([7, 9])"
   ],
   "metadata": {
    "collapsed": false,
    "ExecuteTime": {
     "end_time": "2023-05-16T11:18:34.620298300Z",
     "start_time": "2023-05-16T11:18:34.309816200Z"
    }
   }
  },
  {
   "cell_type": "code",
   "execution_count": 182,
   "outputs": [
    {
     "data": {
      "text/plain": "array([[0.41817731, 0.85569619, 0.93140754, 0.95017926, 0.20056407,\n        0.05807796, 0.43394743, 0.05801099, 0.50797974],\n       [0.83560349, 0.30410753, 0.86288296, 0.56680833, 0.42516465,\n        0.56748796, 0.42923299, 0.97998683, 0.92894674],\n       [0.23052716, 0.86298435, 0.56785169, 0.83338889, 0.2377688 ,\n        0.29250808, 0.37717004, 0.0722319 , 0.65629412],\n       [0.46758347, 0.542612  , 0.49933742, 0.38849382, 0.32552425,\n        0.25088968, 0.53901341, 0.10025452, 0.8257326 ],\n       [0.12162622, 0.66466405, 0.31809839, 0.14592201, 0.08930309,\n        0.93611742, 0.73049091, 0.31127429, 0.21107574],\n       [0.6687363 , 0.53350711, 0.47373119, 0.71957254, 0.22841479,\n        0.93368799, 0.71565901, 0.93700217, 0.0271319 ],\n       [0.21713083, 0.07105267, 0.37256918, 0.19037741, 0.78673448,\n        0.29358646, 0.08255645, 0.31184943, 0.77907733]])"
     },
     "execution_count": 182,
     "metadata": {},
     "output_type": "execute_result"
    }
   ],
   "source": [
    "arr"
   ],
   "metadata": {
    "collapsed": false,
    "ExecuteTime": {
     "end_time": "2023-05-16T11:18:34.620298300Z",
     "start_time": "2023-05-16T11:18:34.316051200Z"
    }
   }
  },
  {
   "cell_type": "code",
   "execution_count": 182,
   "outputs": [],
   "source": [],
   "metadata": {
    "collapsed": false,
    "ExecuteTime": {
     "end_time": "2023-05-16T11:18:34.620298300Z",
     "start_time": "2023-05-16T11:18:34.323401700Z"
    }
   }
  }
 ],
 "metadata": {
  "gist": {
   "data": {
    "description": "DataScience_ML/Numpy/1.introduction.ipynb",
    "public": false
   },
   "id": ""
  },
  "kernelspec": {
   "display_name": "Python 3 (ipykernel)",
   "language": "python",
   "name": "python3"
  },
  "language_info": {
   "codemirror_mode": {
    "name": "ipython",
    "version": 3
   },
   "file_extension": ".py",
   "mimetype": "text/x-python",
   "name": "python",
   "nbconvert_exporter": "python",
   "pygments_lexer": "ipython3",
   "version": "3.11.3"
  },
  "toc": {
   "base_numbering": 1,
   "nav_menu": {},
   "number_sections": true,
   "sideBar": true,
   "skip_h1_title": false,
   "title_cell": "Table of Contents",
   "title_sidebar": "Contents",
   "toc_cell": false,
   "toc_position": {
    "height": "calc(100% - 180px)",
    "left": "10px",
    "top": "150px",
    "width": "303.837px"
   },
   "toc_section_display": true,
   "toc_window_display": false
  }
 },
 "nbformat": 4,
 "nbformat_minor": 1
}
