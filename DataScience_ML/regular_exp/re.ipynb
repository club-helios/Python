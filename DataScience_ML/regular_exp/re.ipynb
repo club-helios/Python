{
 "cells": [
  {
   "cell_type": "code",
   "execution_count": 1,
   "metadata": {
    "ExecuteTime": {
     "end_time": "2023-06-18T11:38:23.155000700Z",
     "start_time": "2023-06-18T11:38:23.116865200Z"
    }
   },
   "outputs": [],
   "source": [
    "import re"
   ]
  },
  {
   "cell_type": "code",
   "execution_count": 2,
   "metadata": {
    "ExecuteTime": {
     "end_time": "2023-06-18T11:38:23.155998300Z",
     "start_time": "2023-06-18T11:38:23.124258600Z"
    }
   },
   "outputs": [],
   "source": [
    "stri = \"\"\"I was occupied on sunday and after  I've got free, I called\n",
    " my friend and his number was 111-9876543210\"\"\"\n"
   ]
  },
  {
   "cell_type": "code",
   "execution_count": 3,
   "metadata": {
    "ExecuteTime": {
     "end_time": "2023-06-18T11:38:23.172982200Z",
     "start_time": "2023-06-18T11:38:23.129758500Z"
    }
   },
   "outputs": [
    {
     "data": {
      "text/plain": "\"I was occupied on sunday and after  I've got free, I called\\n my friend and his number was 111-9876543210\""
     },
     "execution_count": 3,
     "metadata": {},
     "output_type": "execute_result"
    }
   ],
   "source": [
    "stri"
   ]
  },
  {
   "cell_type": "code",
   "execution_count": 4,
   "metadata": {
    "ExecuteTime": {
     "end_time": "2023-06-18T11:38:23.173974Z",
     "start_time": "2023-06-18T11:38:23.141902200Z"
    }
   },
   "outputs": [],
   "source": [
    "number = re.findall('111-9876543210', stri)"
   ]
  },
  {
   "cell_type": "code",
   "execution_count": 5,
   "metadata": {
    "ExecuteTime": {
     "end_time": "2023-06-18T11:38:23.173974Z",
     "start_time": "2023-06-18T11:38:23.148887Z"
    }
   },
   "outputs": [
    {
     "data": {
      "text/plain": "['111-9876543210']"
     },
     "execution_count": 5,
     "metadata": {},
     "output_type": "execute_result"
    }
   ],
   "source": [
    "number\n"
   ]
  },
  {
   "cell_type": "code",
   "execution_count": 6,
   "metadata": {
    "ExecuteTime": {
     "end_time": "2023-06-18T11:38:23.174969200Z",
     "start_time": "2023-06-18T11:38:23.155998300Z"
    }
   },
   "outputs": [],
   "source": [
    "number = re.findall('\\d', stri)\n",
    "# d -> digit\n",
    "# \\d  -> single digit"
   ]
  },
  {
   "cell_type": "code",
   "execution_count": 7,
   "metadata": {
    "ExecuteTime": {
     "end_time": "2023-06-18T11:38:23.175966800Z",
     "start_time": "2023-06-18T11:38:23.162418900Z"
    }
   },
   "outputs": [
    {
     "data": {
      "text/plain": "['1', '1', '1', '9', '8', '7', '6', '5', '4', '3', '2', '1', '0']"
     },
     "execution_count": 7,
     "metadata": {},
     "output_type": "execute_result"
    }
   ],
   "source": [
    "number"
   ]
  },
  {
   "cell_type": "code",
   "execution_count": 8,
   "metadata": {
    "ExecuteTime": {
     "end_time": "2023-06-18T11:38:23.176965Z",
     "start_time": "2023-06-18T11:38:23.171468800Z"
    }
   },
   "outputs": [
    {
     "data": {
      "text/plain": "0"
     },
     "execution_count": 8,
     "metadata": {},
     "output_type": "execute_result"
    }
   ],
   "source": [
    "1234 - 1234\n"
   ]
  },
  {
   "cell_type": "code",
   "execution_count": 9,
   "metadata": {
    "jupyter": {
     "outputs_hidden": false
    },
    "ExecuteTime": {
     "end_time": "2023-06-18T11:38:23.269315400Z",
     "start_time": "2023-06-18T11:38:23.176965Z"
    }
   },
   "outputs": [],
   "source": [
    "number = re.findall('\\d+', stri)\n"
   ]
  },
  {
   "cell_type": "code",
   "execution_count": 10,
   "metadata": {
    "jupyter": {
     "outputs_hidden": false
    },
    "ExecuteTime": {
     "end_time": "2023-06-18T11:38:23.290262600Z",
     "start_time": "2023-06-18T11:38:23.183203500Z"
    }
   },
   "outputs": [
    {
     "data": {
      "text/plain": "['111', '9876543210']"
     },
     "execution_count": 10,
     "metadata": {},
     "output_type": "execute_result"
    }
   ],
   "source": [
    "number"
   ]
  },
  {
   "cell_type": "code",
   "execution_count": 11,
   "metadata": {
    "ExecuteTime": {
     "end_time": "2023-06-18T11:38:23.291260100Z",
     "start_time": "2023-06-18T11:38:23.189583500Z"
    }
   },
   "outputs": [],
   "source": [
    "number = re.findall('\\d{3}-\\d{10}', stri)"
   ]
  },
  {
   "cell_type": "code",
   "execution_count": 12,
   "outputs": [
    {
     "data": {
      "text/plain": "['111-9876543210']"
     },
     "execution_count": 12,
     "metadata": {},
     "output_type": "execute_result"
    }
   ],
   "source": [
    "number"
   ],
   "metadata": {
    "collapsed": false,
    "ExecuteTime": {
     "end_time": "2023-06-18T11:38:41.564473600Z",
     "start_time": "2023-06-18T11:38:41.464225600Z"
    }
   }
  },
  {
   "cell_type": "markdown",
   "source": [
    "# Further concepts"
   ],
   "metadata": {
    "collapsed": false
   }
  },
  {
   "cell_type": "code",
   "execution_count": 13,
   "outputs": [],
   "source": [
    "stri = \"On Monday, there will be a chance for havey rainfall\""
   ],
   "metadata": {
    "collapsed": false,
    "ExecuteTime": {
     "end_time": "2023-06-18T11:42:26.103366800Z",
     "start_time": "2023-06-18T11:42:26.054978500Z"
    }
   }
  },
  {
   "cell_type": "code",
   "execution_count": 14,
   "outputs": [
    {
     "data": {
      "text/plain": "'On Monday, there will be a chance for havey rainfall'"
     },
     "execution_count": 14,
     "metadata": {},
     "output_type": "execute_result"
    }
   ],
   "source": [
    "stri"
   ],
   "metadata": {
    "collapsed": false,
    "ExecuteTime": {
     "end_time": "2023-06-18T11:45:38.649080700Z",
     "start_time": "2023-06-18T11:45:38.601209900Z"
    }
   }
  },
  {
   "cell_type": "code",
   "execution_count": 15,
   "outputs": [
    {
     "name": "stdout",
     "output_type": "stream",
     "text": [
      "matched\n"
     ]
    }
   ],
   "source": [
    "strin = re.search('^On', stri)\n",
    "if strin:\n",
    "    print('matched')\n",
    "else:\n",
    "    print(\"Not matched\")"
   ],
   "metadata": {
    "collapsed": false,
    "ExecuteTime": {
     "end_time": "2023-06-18T11:47:06.496879400Z",
     "start_time": "2023-06-18T11:47:06.424564Z"
    }
   }
  },
  {
   "cell_type": "markdown",
   "source": [
    "* match\n",
    "\n",
    "[JamBoard](https://jamboard.google.com/d/1-TWBkIAfN1Q1mJPhl1oFdCxbHKrecnZGcSvzxDB6jpM/edit?usp=sharing)"
   ],
   "metadata": {
    "collapsed": false
   }
  },
  {
   "cell_type": "code",
   "execution_count": 16,
   "outputs": [],
   "source": [
    "stri = \"Dog is a pet animal\""
   ],
   "metadata": {
    "collapsed": false,
    "ExecuteTime": {
     "end_time": "2023-06-18T12:00:42.362881400Z",
     "start_time": "2023-06-18T12:00:42.303129Z"
    }
   }
  },
  {
   "cell_type": "code",
   "execution_count": 17,
   "outputs": [],
   "source": [
    "mat = re.match('D\\w\\w', stri)"
   ],
   "metadata": {
    "collapsed": false,
    "ExecuteTime": {
     "end_time": "2023-06-18T12:01:06.219348700Z",
     "start_time": "2023-06-18T12:01:06.139047600Z"
    }
   }
  },
  {
   "cell_type": "code",
   "execution_count": 18,
   "outputs": [
    {
     "data": {
      "text/plain": "<re.Match object; span=(0, 3), match='Dog'>"
     },
     "execution_count": 18,
     "metadata": {},
     "output_type": "execute_result"
    }
   ],
   "source": [
    "mat"
   ],
   "metadata": {
    "collapsed": false,
    "ExecuteTime": {
     "end_time": "2023-06-18T12:01:32.135897Z",
     "start_time": "2023-06-18T12:01:32.071066700Z"
    }
   }
  },
  {
   "cell_type": "code",
   "execution_count": null,
   "outputs": [],
   "source": [],
   "metadata": {
    "collapsed": false
   }
  }
 ],
 "metadata": {
  "kernelspec": {
   "display_name": "Python 3 (ipykernel)",
   "language": "python",
   "name": "python3"
  },
  "language_info": {
   "codemirror_mode": {
    "name": "ipython",
    "version": 3
   },
   "file_extension": ".py",
   "mimetype": "text/x-python",
   "name": "python",
   "nbconvert_exporter": "python",
   "pygments_lexer": "ipython3",
   "version": "3.11.3"
  },
  "toc": {
   "base_numbering": 1,
   "nav_menu": {},
   "number_sections": true,
   "sideBar": true,
   "skip_h1_title": false,
   "title_cell": "Table of Contents",
   "title_sidebar": "Contents",
   "toc_cell": false,
   "toc_position": {},
   "toc_section_display": true,
   "toc_window_display": false
  }
 },
 "nbformat": 4,
 "nbformat_minor": 4
}
