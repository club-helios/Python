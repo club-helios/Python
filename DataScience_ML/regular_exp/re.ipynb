{
 "cells": [
  {
   "cell_type": "code",
   "execution_count": 1,
   "metadata": {
    "ExecuteTime": {
     "end_time": "2023-06-15T11:50:26.835272300Z",
     "start_time": "2023-06-15T11:50:26.442523400Z"
    }
   },
   "outputs": [],
   "source": [
    "import re"
   ]
  },
  {
   "cell_type": "code",
   "execution_count": 2,
   "metadata": {
    "ExecuteTime": {
     "end_time": "2023-06-15T11:50:26.841259100Z",
     "start_time": "2023-06-15T11:50:26.836270600Z"
    }
   },
   "outputs": [],
   "source": [
    "stri = \"\"\"I was occupied on sunday and after  I've got free, I called\n",
    " my friend and his number was 111-9876543210\"\"\"\n"
   ]
  },
  {
   "cell_type": "code",
   "execution_count": 3,
   "metadata": {
    "ExecuteTime": {
     "end_time": "2023-06-15T11:50:26.848242300Z",
     "start_time": "2023-06-15T11:50:26.840260600Z"
    }
   },
   "outputs": [
    {
     "data": {
      "text/plain": [
       "\"I was occupied on sunday and after  I've got free, I called\\n my friend and his number was 111-9876543210\""
      ]
     },
     "execution_count": 3,
     "metadata": {},
     "output_type": "execute_result"
    }
   ],
   "source": [
    "stri"
   ]
  },
  {
   "cell_type": "code",
   "execution_count": 4,
   "metadata": {
    "ExecuteTime": {
     "end_time": "2023-06-15T11:50:26.863717Z",
     "start_time": "2023-06-15T11:50:26.842255900Z"
    }
   },
   "outputs": [],
   "source": [
    "number = re.findall('111-9876543210', stri)"
   ]
  },
  {
   "cell_type": "code",
   "execution_count": 5,
   "metadata": {
    "ExecuteTime": {
     "end_time": "2023-06-15T11:50:26.865710100Z",
     "start_time": "2023-06-15T11:50:26.843252500Z"
    }
   },
   "outputs": [
    {
     "data": {
      "text/plain": [
       "['111-9876543210']"
      ]
     },
     "execution_count": 5,
     "metadata": {},
     "output_type": "execute_result"
    }
   ],
   "source": [
    "number\n"
   ]
  },
  {
   "cell_type": "code",
   "execution_count": 6,
   "metadata": {
    "ExecuteTime": {
     "end_time": "2023-06-15T11:50:26.865710100Z",
     "start_time": "2023-06-15T11:50:26.843252500Z"
    }
   },
   "outputs": [],
   "source": [
    "number = re.findall('\\d', stri)\n",
    "# d -> digit\n",
    "# \\d  -> single digit"
   ]
  },
  {
   "cell_type": "code",
   "execution_count": 7,
   "metadata": {
    "ExecuteTime": {
     "end_time": "2023-06-15T11:50:26.879671800Z",
     "start_time": "2023-06-15T11:50:26.848242300Z"
    }
   },
   "outputs": [
    {
     "data": {
      "text/plain": [
       "['1', '1', '1', '9', '8', '7', '6', '5', '4', '3', '2', '1', '0']"
      ]
     },
     "execution_count": 7,
     "metadata": {},
     "output_type": "execute_result"
    }
   ],
   "source": [
    "number"
   ]
  },
  {
   "cell_type": "code",
   "execution_count": 8,
   "metadata": {
    "ExecuteTime": {
     "end_time": "2023-06-15T11:50:26.909592500Z",
     "start_time": "2023-06-15T11:50:26.849240300Z"
    }
   },
   "outputs": [
    {
     "data": {
      "text/plain": [
       "0"
      ]
     },
     "execution_count": 8,
     "metadata": {},
     "output_type": "execute_result"
    }
   ],
   "source": [
    "1234 - 1234\n"
   ]
  },
  {
   "cell_type": "code",
   "execution_count": 9,
   "metadata": {
    "ExecuteTime": {
     "end_time": "2023-06-15T11:50:26.910592100Z",
     "start_time": "2023-06-15T11:50:26.850238500Z"
    },
    "jupyter": {
     "outputs_hidden": false
    }
   },
   "outputs": [],
   "source": [
    "number = re.findall('\\d+', stri)\n"
   ]
  },
  {
   "cell_type": "code",
   "execution_count": 10,
   "metadata": {
    "ExecuteTime": {
     "end_time": "2023-06-15T11:50:26.912584200Z",
     "start_time": "2023-06-15T11:50:26.853228500Z"
    },
    "jupyter": {
     "outputs_hidden": false
    }
   },
   "outputs": [
    {
     "data": {
      "text/plain": [
       "['111', '9876543210']"
      ]
     },
     "execution_count": 10,
     "metadata": {},
     "output_type": "execute_result"
    }
   ],
   "source": [
    "number"
   ]
  },
  {
   "cell_type": "code",
   "execution_count": 10,
   "metadata": {
    "ExecuteTime": {
     "end_time": "2023-06-15T11:50:26.912584200Z",
     "start_time": "2023-06-15T11:50:26.855223700Z"
    }
   },
   "outputs": [],
   "source": []
  }
 ],
 "metadata": {
  "kernelspec": {
   "display_name": "Python 3 (ipykernel)",
   "language": "python",
   "name": "python3"
  },
  "language_info": {
   "codemirror_mode": {
    "name": "ipython",
    "version": 3
   },
   "file_extension": ".py",
   "mimetype": "text/x-python",
   "name": "python",
   "nbconvert_exporter": "python",
   "pygments_lexer": "ipython3",
   "version": "3.11.3"
  },
  "toc": {
   "base_numbering": 1,
   "nav_menu": {},
   "number_sections": true,
   "sideBar": true,
   "skip_h1_title": false,
   "title_cell": "Table of Contents",
   "title_sidebar": "Contents",
   "toc_cell": false,
   "toc_position": {},
   "toc_section_display": true,
   "toc_window_display": false
  }
 },
 "nbformat": 4,
 "nbformat_minor": 4
}
