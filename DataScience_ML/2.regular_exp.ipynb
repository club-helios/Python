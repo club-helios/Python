{
 "cells": [
  {
   "cell_type": "code",
   "execution_count": 1,
   "metadata": {
    "ExecuteTime": {
     "end_time": "2023-06-20T11:05:36.582626900Z",
     "start_time": "2023-06-20T11:05:36.148158600Z"
    }
   },
   "outputs": [],
   "source": [
    "import re"
   ]
  },
  {
   "cell_type": "code",
   "execution_count": 2,
   "metadata": {
    "ExecuteTime": {
     "end_time": "2023-06-20T11:05:36.755228600Z",
     "start_time": "2023-06-20T11:05:36.153149300Z"
    }
   },
   "outputs": [],
   "source": [
    "stri = \"\"\"I was occupied on sunday and after  I've got free, I called\n",
    " my friend and his number was 111-9876543210\"\"\"\n"
   ]
  },
  {
   "cell_type": "code",
   "execution_count": 3,
   "metadata": {
    "ExecuteTime": {
     "end_time": "2023-06-20T11:05:36.775699900Z",
     "start_time": "2023-06-20T11:05:36.166599600Z"
    }
   },
   "outputs": [
    {
     "data": {
      "text/plain": "\"I was occupied on sunday and after  I've got free, I called\\n my friend and his number was 111-9876543210\""
     },
     "execution_count": 3,
     "metadata": {},
     "output_type": "execute_result"
    }
   ],
   "source": [
    "stri"
   ]
  },
  {
   "cell_type": "code",
   "execution_count": 4,
   "metadata": {
    "ExecuteTime": {
     "end_time": "2023-06-20T11:05:36.775699900Z",
     "start_time": "2023-06-20T11:05:36.179083100Z"
    }
   },
   "outputs": [],
   "source": [
    "number = re.findall('111-9876543210', stri)"
   ]
  },
  {
   "cell_type": "code",
   "execution_count": 5,
   "metadata": {
    "ExecuteTime": {
     "end_time": "2023-06-20T11:05:36.798634500Z",
     "start_time": "2023-06-20T11:05:36.188060400Z"
    }
   },
   "outputs": [
    {
     "data": {
      "text/plain": "['111-9876543210']"
     },
     "execution_count": 5,
     "metadata": {},
     "output_type": "execute_result"
    }
   ],
   "source": [
    "number\n"
   ]
  },
  {
   "cell_type": "code",
   "execution_count": 6,
   "metadata": {
    "ExecuteTime": {
     "end_time": "2023-06-20T11:05:36.799632200Z",
     "start_time": "2023-06-20T11:05:36.197158500Z"
    }
   },
   "outputs": [],
   "source": [
    "number = re.findall('\\d', stri)\n",
    "# d -> digit\n",
    "# \\d  -> single digit"
   ]
  },
  {
   "cell_type": "code",
   "execution_count": 7,
   "metadata": {
    "ExecuteTime": {
     "end_time": "2023-06-20T11:05:36.818581900Z",
     "start_time": "2023-06-20T11:05:36.203655800Z"
    }
   },
   "outputs": [
    {
     "data": {
      "text/plain": "['1', '1', '1', '9', '8', '7', '6', '5', '4', '3', '2', '1', '0']"
     },
     "execution_count": 7,
     "metadata": {},
     "output_type": "execute_result"
    }
   ],
   "source": [
    "number"
   ]
  },
  {
   "cell_type": "code",
   "execution_count": 8,
   "metadata": {
    "ExecuteTime": {
     "end_time": "2023-06-20T11:05:36.826562500Z",
     "start_time": "2023-06-20T11:05:36.214634600Z"
    }
   },
   "outputs": [
    {
     "data": {
      "text/plain": "0"
     },
     "execution_count": 8,
     "metadata": {},
     "output_type": "execute_result"
    }
   ],
   "source": [
    "1234 - 1234\n"
   ]
  },
  {
   "cell_type": "code",
   "execution_count": 9,
   "metadata": {
    "jupyter": {
     "outputs_hidden": false
    },
    "ExecuteTime": {
     "end_time": "2023-06-20T11:05:36.841520800Z",
     "start_time": "2023-06-20T11:05:36.220822Z"
    }
   },
   "outputs": [],
   "source": [
    "number = re.findall('\\d+', stri)\n"
   ]
  },
  {
   "cell_type": "code",
   "execution_count": 10,
   "metadata": {
    "jupyter": {
     "outputs_hidden": false
    },
    "ExecuteTime": {
     "end_time": "2023-06-20T11:05:36.844514300Z",
     "start_time": "2023-06-20T11:05:36.303296400Z"
    }
   },
   "outputs": [
    {
     "data": {
      "text/plain": "['111', '9876543210']"
     },
     "execution_count": 10,
     "metadata": {},
     "output_type": "execute_result"
    }
   ],
   "source": [
    "number"
   ]
  },
  {
   "cell_type": "code",
   "execution_count": 11,
   "metadata": {
    "ExecuteTime": {
     "end_time": "2023-06-20T11:05:36.844514300Z",
     "start_time": "2023-06-20T11:05:36.314000600Z"
    }
   },
   "outputs": [],
   "source": [
    "number = re.findall('\\d{3}-\\d{10}', stri)"
   ]
  },
  {
   "cell_type": "code",
   "execution_count": 12,
   "outputs": [
    {
     "data": {
      "text/plain": "['111-9876543210']"
     },
     "execution_count": 12,
     "metadata": {},
     "output_type": "execute_result"
    }
   ],
   "source": [
    "number"
   ],
   "metadata": {
    "collapsed": false,
    "ExecuteTime": {
     "end_time": "2023-06-20T11:05:36.847504400Z",
     "start_time": "2023-06-20T11:05:36.323490500Z"
    }
   }
  },
  {
   "cell_type": "markdown",
   "source": [
    "# Further concepts"
   ],
   "metadata": {
    "collapsed": false
   }
  },
  {
   "cell_type": "code",
   "execution_count": 13,
   "outputs": [],
   "source": [
    "stri = \"On Monday, there will be a chance for havey rainfall\""
   ],
   "metadata": {
    "collapsed": false,
    "ExecuteTime": {
     "end_time": "2023-06-20T11:05:36.847504400Z",
     "start_time": "2023-06-20T11:05:36.332125500Z"
    }
   }
  },
  {
   "cell_type": "code",
   "execution_count": 14,
   "outputs": [
    {
     "data": {
      "text/plain": "'On Monday, there will be a chance for havey rainfall'"
     },
     "execution_count": 14,
     "metadata": {},
     "output_type": "execute_result"
    }
   ],
   "source": [
    "stri"
   ],
   "metadata": {
    "collapsed": false,
    "ExecuteTime": {
     "end_time": "2023-06-20T11:05:36.849499500Z",
     "start_time": "2023-06-20T11:05:36.347624200Z"
    }
   }
  },
  {
   "cell_type": "code",
   "execution_count": 15,
   "outputs": [
    {
     "name": "stdout",
     "output_type": "stream",
     "text": [
      "matched\n"
     ]
    }
   ],
   "source": [
    "strin = re.search('^On', stri)\n",
    "if strin:\n",
    "    print('matched')\n",
    "else:\n",
    "    print(\"Not matched\")"
   ],
   "metadata": {
    "collapsed": false,
    "ExecuteTime": {
     "end_time": "2023-06-20T11:05:36.850497300Z",
     "start_time": "2023-06-20T11:05:36.407261300Z"
    }
   }
  },
  {
   "cell_type": "markdown",
   "source": [
    "* match\n",
    "\n",
    "[JamBoard](https://jamboard.google.com/d/1-TWBkIAfN1Q1mJPhl1oFdCxbHKrecnZGcSvzxDB6jpM/edit?usp=sharing)"
   ],
   "metadata": {
    "collapsed": false
   }
  },
  {
   "cell_type": "code",
   "execution_count": 16,
   "outputs": [],
   "source": [
    "stri = \"Dog is a pet animal\""
   ],
   "metadata": {
    "collapsed": false,
    "ExecuteTime": {
     "end_time": "2023-06-20T11:05:36.871446200Z",
     "start_time": "2023-06-20T11:05:36.408259200Z"
    }
   }
  },
  {
   "cell_type": "code",
   "execution_count": 17,
   "outputs": [],
   "source": [
    "mat = re.match('D\\w\\w', stri)"
   ],
   "metadata": {
    "collapsed": false,
    "ExecuteTime": {
     "end_time": "2023-06-20T11:05:36.871446200Z",
     "start_time": "2023-06-20T11:05:36.408259200Z"
    }
   }
  },
  {
   "cell_type": "code",
   "execution_count": 18,
   "outputs": [
    {
     "data": {
      "text/plain": "<re.Match object; span=(0, 3), match='Dog'>"
     },
     "execution_count": 18,
     "metadata": {},
     "output_type": "execute_result"
    }
   ],
   "source": [
    "mat"
   ],
   "metadata": {
    "collapsed": false,
    "ExecuteTime": {
     "end_time": "2023-06-20T11:05:36.872444100Z",
     "start_time": "2023-06-20T11:05:36.409255300Z"
    }
   }
  },
  {
   "cell_type": "code",
   "execution_count": 19,
   "outputs": [
    {
     "data": {
      "text/plain": "'Dog'"
     },
     "execution_count": 19,
     "metadata": {},
     "output_type": "execute_result"
    }
   ],
   "source": [
    "mat.group()"
   ],
   "metadata": {
    "collapsed": false,
    "ExecuteTime": {
     "end_time": "2023-06-20T11:05:36.873442200Z",
     "start_time": "2023-06-20T11:05:36.410253200Z"
    }
   }
  },
  {
   "cell_type": "markdown",
   "source": [
    "* split\n",
    "\n",
    "[Split JamBoard](https://jamboard.google.com/d/1-TWBkIAfN1Q1mJPhl1oFdCxbHKrecnZGcSvzxDB6jpM/viewer?f=1)"
   ],
   "metadata": {
    "collapsed": false
   }
  },
  {
   "cell_type": "code",
   "execution_count": 20,
   "outputs": [],
   "source": [
    "stri = \"On Monday, there will be a chance for havey rainfall\""
   ],
   "metadata": {
    "collapsed": false,
    "ExecuteTime": {
     "end_time": "2023-06-20T11:05:36.873442200Z",
     "start_time": "2023-06-20T11:05:36.422943900Z"
    }
   }
  },
  {
   "cell_type": "code",
   "execution_count": 21,
   "outputs": [
    {
     "data": {
      "text/plain": "'On Monday, there will be a chance for havey rainfall'"
     },
     "execution_count": 21,
     "metadata": {},
     "output_type": "execute_result"
    }
   ],
   "source": [
    "stri"
   ],
   "metadata": {
    "collapsed": false,
    "ExecuteTime": {
     "end_time": "2023-06-20T11:05:36.873442200Z",
     "start_time": "2023-06-20T11:05:36.431924Z"
    }
   }
  },
  {
   "cell_type": "code",
   "execution_count": 22,
   "outputs": [],
   "source": [
    "spli = re.split('\\s', stri)\n",
    "# \\d -> single digit\n",
    "# \\w -> single char\n",
    "# \\s -> spacee"
   ],
   "metadata": {
    "collapsed": false,
    "ExecuteTime": {
     "end_time": "2023-06-20T11:05:36.873442200Z",
     "start_time": "2023-06-20T11:05:36.442851800Z"
    }
   }
  },
  {
   "cell_type": "code",
   "execution_count": 23,
   "outputs": [
    {
     "data": {
      "text/plain": "['On',\n 'Monday,',\n 'there',\n 'will',\n 'be',\n 'a',\n 'chance',\n 'for',\n 'havey',\n 'rainfall']"
     },
     "execution_count": 23,
     "metadata": {},
     "output_type": "execute_result"
    }
   ],
   "source": [
    "spli"
   ],
   "metadata": {
    "collapsed": false,
    "ExecuteTime": {
     "end_time": "2023-06-20T11:05:36.874949800Z",
     "start_time": "2023-06-20T11:05:36.450859200Z"
    }
   }
  },
  {
   "cell_type": "markdown",
   "source": [
    "* Sub- replace\n",
    "\n",
    "[Sub Jam board](https://jamboard.google.com/d/1-TWBkIAfN1Q1mJPhl1oFdCxbHKrecnZGcSvzxDB6jpM/viewer?f=2)"
   ],
   "metadata": {
    "collapsed": false
   }
  },
  {
   "cell_type": "markdown",
   "source": [
    "syntax : re.sub(pattern, repl, string)"
   ],
   "metadata": {
    "collapsed": false
   }
  },
  {
   "cell_type": "code",
   "execution_count": 24,
   "outputs": [],
   "source": [
    "stri = \"Football is not a ball of foot\""
   ],
   "metadata": {
    "collapsed": false,
    "ExecuteTime": {
     "end_time": "2023-06-20T11:05:36.874949800Z",
     "start_time": "2023-06-20T11:05:36.466621Z"
    }
   }
  },
  {
   "cell_type": "code",
   "execution_count": 25,
   "outputs": [],
   "source": [
    "rep = re.sub(\"o\", 'e', stri)"
   ],
   "metadata": {
    "collapsed": false,
    "ExecuteTime": {
     "end_time": "2023-06-20T11:05:36.874949800Z",
     "start_time": "2023-06-20T11:05:36.475555800Z"
    }
   }
  },
  {
   "cell_type": "code",
   "execution_count": 26,
   "outputs": [
    {
     "data": {
      "text/plain": "'Feetball is net a ball ef feet'"
     },
     "execution_count": 26,
     "metadata": {},
     "output_type": "execute_result"
    }
   ],
   "source": [
    "rep"
   ],
   "metadata": {
    "collapsed": false,
    "ExecuteTime": {
     "end_time": "2023-06-20T11:05:36.874949800Z",
     "start_time": "2023-06-20T11:05:36.486039800Z"
    }
   }
  },
  {
   "cell_type": "code",
   "execution_count": 27,
   "outputs": [],
   "source": [
    "rep = re.sub(\"o\", 'e', stri, 2)"
   ],
   "metadata": {
    "collapsed": false,
    "ExecuteTime": {
     "end_time": "2023-06-20T11:05:36.875950700Z",
     "start_time": "2023-06-20T11:05:36.497695Z"
    }
   }
  },
  {
   "cell_type": "code",
   "execution_count": 28,
   "outputs": [
    {
     "data": {
      "text/plain": "'Feetball is not a ball of foot'"
     },
     "execution_count": 28,
     "metadata": {},
     "output_type": "execute_result"
    }
   ],
   "source": [
    "rep"
   ],
   "metadata": {
    "collapsed": false,
    "ExecuteTime": {
     "end_time": "2023-06-20T11:05:36.875950700Z",
     "start_time": "2023-06-20T11:05:36.505391400Z"
    }
   }
  },
  {
   "cell_type": "markdown",
   "source": [
    "* metachar\n",
    "[a-b] -> a set of char"
   ],
   "metadata": {
    "collapsed": false
   }
  },
  {
   "cell_type": "code",
   "execution_count": 29,
   "outputs": [],
   "source": [
    "stri = \"Mumbai is the financial capital of india\""
   ],
   "metadata": {
    "collapsed": false,
    "ExecuteTime": {
     "end_time": "2023-06-20T11:05:36.875950700Z",
     "start_time": "2023-06-20T11:05:36.517632900Z"
    }
   }
  },
  {
   "cell_type": "code",
   "execution_count": 30,
   "outputs": [],
   "source": [
    "asd = re.findall('[a-e]', stri)"
   ],
   "metadata": {
    "collapsed": false,
    "ExecuteTime": {
     "end_time": "2023-06-20T11:05:36.876947900Z",
     "start_time": "2023-06-20T11:05:36.571135900Z"
    }
   }
  },
  {
   "cell_type": "code",
   "execution_count": 31,
   "outputs": [
    {
     "data": {
      "text/plain": "['b', 'a', 'e', 'a', 'c', 'a', 'c', 'a', 'a', 'd', 'a']"
     },
     "execution_count": 31,
     "metadata": {},
     "output_type": "execute_result"
    }
   ],
   "source": [
    "asd\n"
   ],
   "metadata": {
    "collapsed": false,
    "ExecuteTime": {
     "end_time": "2023-06-20T11:05:36.876947900Z",
     "start_time": "2023-06-20T11:05:36.578636300Z"
    }
   }
  },
  {
   "cell_type": "markdown",
   "source": [
    "2.  ^ -> start with"
   ],
   "metadata": {
    "collapsed": false
   }
  },
  {
   "cell_type": "code",
   "execution_count": 31,
   "outputs": [],
   "source": [],
   "metadata": {
    "collapsed": false,
    "ExecuteTime": {
     "end_time": "2023-06-20T11:05:36.876947900Z",
     "start_time": "2023-06-20T11:05:36.596196500Z"
    }
   }
  },
  {
   "cell_type": "markdown",
   "source": [
    "3. $ -> end with"
   ],
   "metadata": {
    "collapsed": false
   }
  },
  {
   "cell_type": "code",
   "execution_count": 32,
   "outputs": [
    {
     "data": {
      "text/plain": "'Mumbai is the financial capital of india'"
     },
     "execution_count": 32,
     "metadata": {},
     "output_type": "execute_result"
    }
   ],
   "source": [
    "stri"
   ],
   "metadata": {
    "collapsed": false,
    "ExecuteTime": {
     "end_time": "2023-06-20T11:05:49.448877200Z",
     "start_time": "2023-06-20T11:05:49.354033900Z"
    }
   }
  },
  {
   "cell_type": "code",
   "execution_count": 35,
   "outputs": [],
   "source": [
    "asd = re.findall('india$', stri)"
   ],
   "metadata": {
    "collapsed": false,
    "ExecuteTime": {
     "end_time": "2023-06-20T11:06:48.037345400Z",
     "start_time": "2023-06-20T11:06:47.995454100Z"
    }
   }
  },
  {
   "cell_type": "code",
   "execution_count": 36,
   "outputs": [
    {
     "data": {
      "text/plain": "['india']"
     },
     "execution_count": 36,
     "metadata": {},
     "output_type": "execute_result"
    }
   ],
   "source": [
    "asd"
   ],
   "metadata": {
    "collapsed": false,
    "ExecuteTime": {
     "end_time": "2023-06-20T11:06:48.718793300Z",
     "start_time": "2023-06-20T11:06:48.706624500Z"
    }
   }
  },
  {
   "cell_type": "markdown",
   "source": [
    "4 . -> match single character except newline\n",
    "\n",
    "5 + ->match one or more occurrence\n",
    "\n",
    "6 * -> match zero or more occurrence"
   ],
   "metadata": {
    "collapsed": false
   }
  },
  {
   "cell_type": "code",
   "execution_count": 37,
   "outputs": [],
   "source": [
    "stri = \"Today is Monday\""
   ],
   "metadata": {
    "collapsed": false,
    "ExecuteTime": {
     "end_time": "2023-06-20T11:09:07.713508500Z",
     "start_time": "2023-06-20T11:09:07.646178900Z"
    }
   }
  },
  {
   "cell_type": "code",
   "execution_count": 39,
   "outputs": [],
   "source": [
    "asd = re.search('^Today.*Monday$', stri)"
   ],
   "metadata": {
    "collapsed": false,
    "ExecuteTime": {
     "end_time": "2023-06-20T11:11:12.192984900Z",
     "start_time": "2023-06-20T11:11:12.187964400Z"
    }
   }
  },
  {
   "cell_type": "code",
   "execution_count": 40,
   "outputs": [
    {
     "data": {
      "text/plain": "<re.Match object; span=(0, 15), match='Today is Monday'>"
     },
     "execution_count": 40,
     "metadata": {},
     "output_type": "execute_result"
    }
   ],
   "source": [
    "asd"
   ],
   "metadata": {
    "collapsed": false,
    "ExecuteTime": {
     "end_time": "2023-06-20T11:11:15.005964200Z",
     "start_time": "2023-06-20T11:11:14.955099100Z"
    }
   }
  },
  {
   "cell_type": "code",
   "execution_count": null,
   "outputs": [],
   "source": [],
   "metadata": {
    "collapsed": false
   }
  }
 ],
 "metadata": {
  "kernelspec": {
   "display_name": "Python 3 (ipykernel)",
   "language": "python",
   "name": "python3"
  },
  "language_info": {
   "codemirror_mode": {
    "name": "ipython",
    "version": 3
   },
   "file_extension": ".py",
   "mimetype": "text/x-python",
   "name": "python",
   "nbconvert_exporter": "python",
   "pygments_lexer": "ipython3",
   "version": "3.11.3"
  },
  "toc": {
   "base_numbering": 1,
   "nav_menu": {},
   "number_sections": true,
   "sideBar": true,
   "skip_h1_title": false,
   "title_cell": "Table of Contents",
   "title_sidebar": "Contents",
   "toc_cell": false,
   "toc_position": {},
   "toc_section_display": true,
   "toc_window_display": false
  }
 },
 "nbformat": 4,
 "nbformat_minor": 4
}
