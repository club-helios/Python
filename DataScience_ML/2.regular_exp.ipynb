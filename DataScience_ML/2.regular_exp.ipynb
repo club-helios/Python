{
 "cells": [
  {
   "cell_type": "code",
   "execution_count": 43,
   "metadata": {
    "ExecuteTime": {
     "end_time": "2023-06-18T13:42:30.119010900Z",
     "start_time": "2023-06-18T13:42:30.063790100Z"
    }
   },
   "outputs": [],
   "source": [
    "import re"
   ]
  },
  {
   "cell_type": "code",
   "execution_count": 44,
   "metadata": {
    "ExecuteTime": {
     "end_time": "2023-06-18T13:42:30.139215Z",
     "start_time": "2023-06-18T13:42:30.069778300Z"
    }
   },
   "outputs": [],
   "source": [
    "stri = \"\"\"I was occupied on sunday and after  I've got free, I called\n",
    " my friend and his number was 111-9876543210\"\"\"\n"
   ]
  },
  {
   "cell_type": "code",
   "execution_count": 45,
   "metadata": {
    "ExecuteTime": {
     "end_time": "2023-06-18T13:42:30.245488500Z",
     "start_time": "2023-06-18T13:42:30.074919700Z"
    }
   },
   "outputs": [
    {
     "data": {
      "text/plain": "\"I was occupied on sunday and after  I've got free, I called\\n my friend and his number was 111-9876543210\""
     },
     "execution_count": 45,
     "metadata": {},
     "output_type": "execute_result"
    }
   ],
   "source": [
    "stri"
   ]
  },
  {
   "cell_type": "code",
   "execution_count": 46,
   "metadata": {
    "ExecuteTime": {
     "end_time": "2023-06-18T13:42:30.245488500Z",
     "start_time": "2023-06-18T13:42:30.082260800Z"
    }
   },
   "outputs": [],
   "source": [
    "number = re.findall('111-9876543210', stri)"
   ]
  },
  {
   "cell_type": "code",
   "execution_count": 47,
   "metadata": {
    "ExecuteTime": {
     "end_time": "2023-06-18T13:42:30.267436400Z",
     "start_time": "2023-06-18T13:42:30.091353500Z"
    }
   },
   "outputs": [
    {
     "data": {
      "text/plain": "['111-9876543210']"
     },
     "execution_count": 47,
     "metadata": {},
     "output_type": "execute_result"
    }
   ],
   "source": [
    "number\n"
   ]
  },
  {
   "cell_type": "code",
   "execution_count": 48,
   "metadata": {
    "ExecuteTime": {
     "end_time": "2023-06-18T13:42:30.268427500Z",
     "start_time": "2023-06-18T13:42:30.096802600Z"
    }
   },
   "outputs": [],
   "source": [
    "number = re.findall('\\d', stri)\n",
    "# d -> digit\n",
    "# \\d  -> single digit"
   ]
  },
  {
   "cell_type": "code",
   "execution_count": 49,
   "metadata": {
    "ExecuteTime": {
     "end_time": "2023-06-18T13:42:30.269425600Z",
     "start_time": "2023-06-18T13:42:30.101760800Z"
    }
   },
   "outputs": [
    {
     "data": {
      "text/plain": "['1', '1', '1', '9', '8', '7', '6', '5', '4', '3', '2', '1', '0']"
     },
     "execution_count": 49,
     "metadata": {},
     "output_type": "execute_result"
    }
   ],
   "source": [
    "number"
   ]
  },
  {
   "cell_type": "code",
   "execution_count": 50,
   "metadata": {
    "ExecuteTime": {
     "end_time": "2023-06-18T13:42:30.269425600Z",
     "start_time": "2023-06-18T13:42:30.110729200Z"
    }
   },
   "outputs": [
    {
     "data": {
      "text/plain": "0"
     },
     "execution_count": 50,
     "metadata": {},
     "output_type": "execute_result"
    }
   ],
   "source": [
    "1234 - 1234\n"
   ]
  },
  {
   "cell_type": "code",
   "execution_count": 51,
   "metadata": {
    "jupyter": {
     "outputs_hidden": false
    },
    "ExecuteTime": {
     "end_time": "2023-06-18T13:42:30.272416400Z",
     "start_time": "2023-06-18T13:42:30.114226600Z"
    }
   },
   "outputs": [],
   "source": [
    "number = re.findall('\\d+', stri)\n"
   ]
  },
  {
   "cell_type": "code",
   "execution_count": 52,
   "metadata": {
    "jupyter": {
     "outputs_hidden": false
    },
    "ExecuteTime": {
     "end_time": "2023-06-18T13:42:30.276407300Z",
     "start_time": "2023-06-18T13:42:30.119010900Z"
    }
   },
   "outputs": [
    {
     "data": {
      "text/plain": "['111', '9876543210']"
     },
     "execution_count": 52,
     "metadata": {},
     "output_type": "execute_result"
    }
   ],
   "source": [
    "number"
   ]
  },
  {
   "cell_type": "code",
   "execution_count": 53,
   "metadata": {
    "ExecuteTime": {
     "end_time": "2023-06-18T13:42:30.276407300Z",
     "start_time": "2023-06-18T13:42:30.126566500Z"
    }
   },
   "outputs": [],
   "source": [
    "number = re.findall('\\d{3}-\\d{10}', stri)"
   ]
  },
  {
   "cell_type": "code",
   "execution_count": 54,
   "outputs": [
    {
     "data": {
      "text/plain": "['111-9876543210']"
     },
     "execution_count": 54,
     "metadata": {},
     "output_type": "execute_result"
    }
   ],
   "source": [
    "number"
   ],
   "metadata": {
    "collapsed": false,
    "ExecuteTime": {
     "end_time": "2023-06-18T13:42:30.277403500Z",
     "start_time": "2023-06-18T13:42:30.133475100Z"
    }
   }
  },
  {
   "cell_type": "markdown",
   "source": [
    "# Further concepts"
   ],
   "metadata": {
    "collapsed": false
   }
  },
  {
   "cell_type": "code",
   "execution_count": 55,
   "outputs": [],
   "source": [
    "stri = \"On Monday, there will be a chance for havey rainfall\""
   ],
   "metadata": {
    "collapsed": false,
    "ExecuteTime": {
     "end_time": "2023-06-18T13:42:30.277403500Z",
     "start_time": "2023-06-18T13:42:30.140210600Z"
    }
   }
  },
  {
   "cell_type": "code",
   "execution_count": 56,
   "outputs": [
    {
     "data": {
      "text/plain": "'On Monday, there will be a chance for havey rainfall'"
     },
     "execution_count": 56,
     "metadata": {},
     "output_type": "execute_result"
    }
   ],
   "source": [
    "stri"
   ],
   "metadata": {
    "collapsed": false,
    "ExecuteTime": {
     "end_time": "2023-06-18T13:42:30.277403500Z",
     "start_time": "2023-06-18T13:42:30.147642800Z"
    }
   }
  },
  {
   "cell_type": "code",
   "execution_count": 57,
   "outputs": [
    {
     "name": "stdout",
     "output_type": "stream",
     "text": [
      "matched\n"
     ]
    }
   ],
   "source": [
    "strin = re.search('^On', stri)\n",
    "if strin:\n",
    "    print('matched')\n",
    "else:\n",
    "    print(\"Not matched\")"
   ],
   "metadata": {
    "collapsed": false,
    "ExecuteTime": {
     "end_time": "2023-06-18T13:42:30.278400100Z",
     "start_time": "2023-06-18T13:42:30.155004900Z"
    }
   }
  },
  {
   "cell_type": "markdown",
   "source": [
    "* match\n",
    "\n",
    "[JamBoard](https://jamboard.google.com/d/1-TWBkIAfN1Q1mJPhl1oFdCxbHKrecnZGcSvzxDB6jpM/edit?usp=sharing)"
   ],
   "metadata": {
    "collapsed": false
   }
  },
  {
   "cell_type": "code",
   "execution_count": 58,
   "outputs": [],
   "source": [
    "stri = \"Dog is a pet animal\""
   ],
   "metadata": {
    "collapsed": false,
    "ExecuteTime": {
     "end_time": "2023-06-18T13:42:30.278400100Z",
     "start_time": "2023-06-18T13:42:30.160867400Z"
    }
   }
  },
  {
   "cell_type": "code",
   "execution_count": 59,
   "outputs": [],
   "source": [
    "mat = re.match('D\\w\\w', stri)"
   ],
   "metadata": {
    "collapsed": false,
    "ExecuteTime": {
     "end_time": "2023-06-18T13:42:30.278400100Z",
     "start_time": "2023-06-18T13:42:30.168041700Z"
    }
   }
  },
  {
   "cell_type": "code",
   "execution_count": 60,
   "outputs": [
    {
     "data": {
      "text/plain": "<re.Match object; span=(0, 3), match='Dog'>"
     },
     "execution_count": 60,
     "metadata": {},
     "output_type": "execute_result"
    }
   ],
   "source": [
    "mat"
   ],
   "metadata": {
    "collapsed": false,
    "ExecuteTime": {
     "end_time": "2023-06-18T13:42:30.278400100Z",
     "start_time": "2023-06-18T13:42:30.174453600Z"
    }
   }
  },
  {
   "cell_type": "code",
   "execution_count": 61,
   "outputs": [
    {
     "data": {
      "text/plain": "'Dog'"
     },
     "execution_count": 61,
     "metadata": {},
     "output_type": "execute_result"
    }
   ],
   "source": [
    "mat.group()"
   ],
   "metadata": {
    "collapsed": false,
    "ExecuteTime": {
     "end_time": "2023-06-18T13:42:30.279396800Z",
     "start_time": "2023-06-18T13:42:30.183595Z"
    }
   }
  },
  {
   "cell_type": "markdown",
   "source": [
    "* split\n",
    "\n",
    "[Split JamBoard](https://jamboard.google.com/d/1-TWBkIAfN1Q1mJPhl1oFdCxbHKrecnZGcSvzxDB6jpM/viewer?f=1)"
   ],
   "metadata": {
    "collapsed": false
   }
  },
  {
   "cell_type": "code",
   "execution_count": 62,
   "outputs": [],
   "source": [
    "stri = \"On Monday, there will be a chance for havey rainfall\""
   ],
   "metadata": {
    "collapsed": false,
    "ExecuteTime": {
     "end_time": "2023-06-18T13:42:30.279396800Z",
     "start_time": "2023-06-18T13:42:30.192941600Z"
    }
   }
  },
  {
   "cell_type": "code",
   "execution_count": 63,
   "outputs": [
    {
     "data": {
      "text/plain": "'On Monday, there will be a chance for havey rainfall'"
     },
     "execution_count": 63,
     "metadata": {},
     "output_type": "execute_result"
    }
   ],
   "source": [
    "stri"
   ],
   "metadata": {
    "collapsed": false,
    "ExecuteTime": {
     "end_time": "2023-06-18T13:42:30.279396800Z",
     "start_time": "2023-06-18T13:42:30.197449700Z"
    }
   }
  },
  {
   "cell_type": "code",
   "execution_count": 64,
   "outputs": [],
   "source": [
    "spli = re.split('\\s', stri)\n",
    "# \\d -> single digit\n",
    "# \\w -> single char\n",
    "# \\s -> spacee"
   ],
   "metadata": {
    "collapsed": false,
    "ExecuteTime": {
     "end_time": "2023-06-18T13:42:30.279396800Z",
     "start_time": "2023-06-18T13:42:30.206821100Z"
    }
   }
  },
  {
   "cell_type": "code",
   "execution_count": 65,
   "outputs": [
    {
     "data": {
      "text/plain": "['On',\n 'Monday,',\n 'there',\n 'will',\n 'be',\n 'a',\n 'chance',\n 'for',\n 'havey',\n 'rainfall']"
     },
     "execution_count": 65,
     "metadata": {},
     "output_type": "execute_result"
    }
   ],
   "source": [
    "spli"
   ],
   "metadata": {
    "collapsed": false,
    "ExecuteTime": {
     "end_time": "2023-06-18T13:42:30.280396500Z",
     "start_time": "2023-06-18T13:42:30.211319400Z"
    }
   }
  },
  {
   "cell_type": "markdown",
   "source": [
    "* Sub- replace\n",
    "\n",
    "[Sub Jam board](https://jamboard.google.com/d/1-TWBkIAfN1Q1mJPhl1oFdCxbHKrecnZGcSvzxDB6jpM/viewer?f=2)"
   ],
   "metadata": {
    "collapsed": false
   }
  },
  {
   "cell_type": "markdown",
   "source": [
    "syntax : re.sub(pattern, repl, string)"
   ],
   "metadata": {
    "collapsed": false
   }
  },
  {
   "cell_type": "code",
   "execution_count": 66,
   "outputs": [],
   "source": [
    "stri = \"Football is not a ball of foot\""
   ],
   "metadata": {
    "collapsed": false,
    "ExecuteTime": {
     "end_time": "2023-06-18T13:48:10.199455500Z",
     "start_time": "2023-06-18T13:48:10.160559500Z"
    }
   }
  },
  {
   "cell_type": "code",
   "execution_count": 68,
   "outputs": [],
   "source": [
    "rep = re.sub(\"o\", 'e', stri)"
   ],
   "metadata": {
    "collapsed": false,
    "ExecuteTime": {
     "end_time": "2023-06-18T13:48:59.220277Z",
     "start_time": "2023-06-18T13:48:59.197530Z"
    }
   }
  },
  {
   "cell_type": "code",
   "execution_count": 69,
   "outputs": [
    {
     "data": {
      "text/plain": "'Feetball is net a ball ef feet'"
     },
     "execution_count": 69,
     "metadata": {},
     "output_type": "execute_result"
    }
   ],
   "source": [
    "rep"
   ],
   "metadata": {
    "collapsed": false,
    "ExecuteTime": {
     "end_time": "2023-06-18T13:49:02.617519500Z",
     "start_time": "2023-06-18T13:49:02.513606600Z"
    }
   }
  },
  {
   "cell_type": "code",
   "execution_count": 70,
   "outputs": [],
   "source": [
    "rep = re.sub(\"o\", 'e', stri, 2)"
   ],
   "metadata": {
    "collapsed": false,
    "ExecuteTime": {
     "end_time": "2023-06-18T13:49:48.631248Z",
     "start_time": "2023-06-18T13:49:48.608675600Z"
    }
   }
  },
  {
   "cell_type": "code",
   "execution_count": 71,
   "outputs": [
    {
     "data": {
      "text/plain": "'Feetball is not a ball of foot'"
     },
     "execution_count": 71,
     "metadata": {},
     "output_type": "execute_result"
    }
   ],
   "source": [
    "rep"
   ],
   "metadata": {
    "collapsed": false,
    "ExecuteTime": {
     "end_time": "2023-06-18T13:49:52.983985200Z",
     "start_time": "2023-06-18T13:49:52.940586900Z"
    }
   }
  },
  {
   "cell_type": "markdown",
   "source": [
    "* metachar\n",
    "[a-b] -> a set of char"
   ],
   "metadata": {
    "collapsed": false
   }
  },
  {
   "cell_type": "code",
   "execution_count": 72,
   "outputs": [],
   "source": [
    "stri = \"Mumbai is the financial capital of india\""
   ],
   "metadata": {
    "collapsed": false,
    "ExecuteTime": {
     "end_time": "2023-06-18T13:56:06.823717100Z",
     "start_time": "2023-06-18T13:56:06.790806300Z"
    }
   }
  },
  {
   "cell_type": "code",
   "execution_count": 75,
   "outputs": [],
   "source": [
    "asd = re.findall('[a-e]', stri)"
   ],
   "metadata": {
    "collapsed": false,
    "ExecuteTime": {
     "end_time": "2023-06-18T13:58:13.279655400Z",
     "start_time": "2023-06-18T13:58:13.275654100Z"
    }
   }
  },
  {
   "cell_type": "code",
   "execution_count": 76,
   "outputs": [
    {
     "data": {
      "text/plain": "['b', 'a', 'e', 'a', 'c', 'a', 'c', 'a', 'a', 'd', 'a']"
     },
     "execution_count": 76,
     "metadata": {},
     "output_type": "execute_result"
    }
   ],
   "source": [
    "asd\n"
   ],
   "metadata": {
    "collapsed": false,
    "ExecuteTime": {
     "end_time": "2023-06-18T13:58:13.874190800Z",
     "start_time": "2023-06-18T13:58:13.854228Z"
    }
   }
  },
  {
   "cell_type": "markdown",
   "source": [
    "2.  ^ -> start with"
   ],
   "metadata": {
    "collapsed": false
   }
  },
  {
   "cell_type": "code",
   "execution_count": null,
   "outputs": [],
   "source": [],
   "metadata": {
    "collapsed": false
   }
  }
 ],
 "metadata": {
  "kernelspec": {
   "display_name": "Python 3 (ipykernel)",
   "language": "python",
   "name": "python3"
  },
  "language_info": {
   "codemirror_mode": {
    "name": "ipython",
    "version": 3
   },
   "file_extension": ".py",
   "mimetype": "text/x-python",
   "name": "python",
   "nbconvert_exporter": "python",
   "pygments_lexer": "ipython3",
   "version": "3.11.3"
  },
  "toc": {
   "base_numbering": 1,
   "nav_menu": {},
   "number_sections": true,
   "sideBar": true,
   "skip_h1_title": false,
   "title_cell": "Table of Contents",
   "title_sidebar": "Contents",
   "toc_cell": false,
   "toc_position": {},
   "toc_section_display": true,
   "toc_window_display": false
  }
 },
 "nbformat": 4,
 "nbformat_minor": 4
}
