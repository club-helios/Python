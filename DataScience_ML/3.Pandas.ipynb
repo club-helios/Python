{
 "cells": [
  {
   "cell_type": "markdown",
   "source": [
    "# pandas\n",
    "\n",
    " * It's a python library that is used while you are working with the datasets\n",
    " * It has some function\n",
    "    1. analyze\n",
    "    2. Cleaning\n",
    "    3. Explore\n",
    "    4. Manipulation\n",
    "\n",
    "\n",
    "[JamBoard](https://jamboard.google.com/d/1-cxIXQroyDja7lDC5QR8HZvoYffOKAldTP7jQcv4tBM/edit?usp=sharing)"
   ],
   "metadata": {
    "collapsed": false
   }
  },
  {
   "cell_type": "markdown",
   "source": [
    "# Why Pandas\n",
    "\n",
    "* It allows us to analyze big data\n",
    "* It is used to clean messy datasets and then make it readable and relevant"
   ],
   "metadata": {
    "collapsed": false
   }
  },
  {
   "cell_type": "markdown",
   "source": [
    "# importation of Pandas"
   ],
   "metadata": {
    "collapsed": false
   }
  },
  {
   "cell_type": "code",
   "execution_count": 1,
   "outputs": [],
   "source": [
    "import pandas as pd\n",
    "import numpy as np"
   ],
   "metadata": {
    "collapsed": false,
    "ExecuteTime": {
     "end_time": "2023-06-27T11:03:16.689336400Z",
     "start_time": "2023-06-27T11:03:13.784149600Z"
    }
   }
  },
  {
   "cell_type": "code",
   "execution_count": 2,
   "outputs": [
    {
     "data": {
      "text/plain": "'2.0.0'"
     },
     "execution_count": 2,
     "metadata": {},
     "output_type": "execute_result"
    }
   ],
   "source": [
    "pd.__version__"
   ],
   "metadata": {
    "collapsed": false,
    "ExecuteTime": {
     "end_time": "2023-06-27T11:03:16.725776700Z",
     "start_time": "2023-06-27T11:03:16.390649400Z"
    }
   }
  },
  {
   "cell_type": "markdown",
   "source": [
    "## pandas data structure\n",
    "\n",
    "   1. series\n",
    "   2. dataframe\n",
    "   3. panel"
   ],
   "metadata": {
    "collapsed": false
   }
  },
  {
   "cell_type": "markdown",
   "source": [
    "## Series\n",
    "It is a 1D array like DS\n"
   ],
   "metadata": {
    "collapsed": false
   }
  },
  {
   "cell_type": "code",
   "execution_count": 3,
   "outputs": [],
   "source": [
    "# pd.Series(data, index, dtype)"
   ],
   "metadata": {
    "collapsed": false,
    "ExecuteTime": {
     "end_time": "2023-06-27T11:03:16.726774600Z",
     "start_time": "2023-06-27T11:03:16.404299900Z"
    }
   }
  },
  {
   "cell_type": "markdown",
   "source": [
    "creating an empty series"
   ],
   "metadata": {
    "collapsed": false
   }
  },
  {
   "cell_type": "code",
   "execution_count": 4,
   "outputs": [],
   "source": [
    "s = pd.Series()"
   ],
   "metadata": {
    "collapsed": false,
    "ExecuteTime": {
     "end_time": "2023-06-27T11:03:16.726774600Z",
     "start_time": "2023-06-27T11:03:16.411844900Z"
    }
   }
  },
  {
   "cell_type": "code",
   "execution_count": 5,
   "outputs": [
    {
     "data": {
      "text/plain": "Series([], dtype: object)"
     },
     "execution_count": 5,
     "metadata": {},
     "output_type": "execute_result"
    }
   ],
   "source": [
    "s"
   ],
   "metadata": {
    "collapsed": false,
    "ExecuteTime": {
     "end_time": "2023-06-27T11:03:16.726774600Z",
     "start_time": "2023-06-27T11:03:16.419345300Z"
    }
   }
  },
  {
   "cell_type": "markdown",
   "source": [
    "create a series using numpy array"
   ],
   "metadata": {
    "collapsed": false
   }
  },
  {
   "cell_type": "code",
   "execution_count": 6,
   "outputs": [],
   "source": [
    "data = np.array([12, 45, 32, 89])\n",
    "s = pd.Series(data)"
   ],
   "metadata": {
    "collapsed": false,
    "ExecuteTime": {
     "end_time": "2023-06-27T11:03:16.727772Z",
     "start_time": "2023-06-27T11:03:16.426110800Z"
    }
   }
  },
  {
   "cell_type": "code",
   "execution_count": 7,
   "outputs": [
    {
     "data": {
      "text/plain": "0    12\n1    45\n2    32\n3    89\ndtype: int32"
     },
     "execution_count": 7,
     "metadata": {},
     "output_type": "execute_result"
    }
   ],
   "source": [
    "s"
   ],
   "metadata": {
    "collapsed": false,
    "ExecuteTime": {
     "end_time": "2023-06-27T11:03:16.728771Z",
     "start_time": "2023-06-27T11:03:16.432959900Z"
    }
   }
  },
  {
   "cell_type": "code",
   "execution_count": 8,
   "outputs": [],
   "source": [
    "s = pd.Series(data, index=[101, 102, 103, 104])"
   ],
   "metadata": {
    "collapsed": false,
    "ExecuteTime": {
     "end_time": "2023-06-27T11:03:16.729766100Z",
     "start_time": "2023-06-27T11:03:16.444277500Z"
    }
   }
  },
  {
   "cell_type": "code",
   "execution_count": 9,
   "outputs": [
    {
     "data": {
      "text/plain": "101    12\n102    45\n103    32\n104    89\ndtype: int32"
     },
     "execution_count": 9,
     "metadata": {},
     "output_type": "execute_result"
    }
   ],
   "source": [
    "s"
   ],
   "metadata": {
    "collapsed": false,
    "ExecuteTime": {
     "end_time": "2023-06-27T11:03:16.730764300Z",
     "start_time": "2023-06-27T11:03:16.450572500Z"
    }
   }
  },
  {
   "cell_type": "markdown",
   "source": [
    "create a series using dictionary"
   ],
   "metadata": {
    "collapsed": false
   }
  },
  {
   "cell_type": "code",
   "execution_count": 10,
   "outputs": [],
   "source": [
    "data = {\"a\": 1, \"b\": 2, \"c\": 3}\n",
    "s = pd.Series(data)"
   ],
   "metadata": {
    "collapsed": false,
    "ExecuteTime": {
     "end_time": "2023-06-27T11:03:16.730764300Z",
     "start_time": "2023-06-27T11:03:16.464088400Z"
    }
   }
  },
  {
   "cell_type": "code",
   "execution_count": 11,
   "outputs": [
    {
     "data": {
      "text/plain": "a    1\nb    2\nc    3\ndtype: int64"
     },
     "execution_count": 11,
     "metadata": {},
     "output_type": "execute_result"
    }
   ],
   "source": [
    "s"
   ],
   "metadata": {
    "collapsed": false,
    "ExecuteTime": {
     "end_time": "2023-06-27T11:03:16.737303400Z",
     "start_time": "2023-06-27T11:03:16.473236700Z"
    }
   }
  },
  {
   "cell_type": "code",
   "execution_count": 12,
   "outputs": [],
   "source": [
    "data = {\"a\": 1, \"b\": 2, \"c\": 3}\n",
    "s = pd.Series(data, index=['f', 'g', 'h'])"
   ],
   "metadata": {
    "collapsed": false,
    "ExecuteTime": {
     "end_time": "2023-06-27T11:03:16.738299500Z",
     "start_time": "2023-06-27T11:03:16.483850200Z"
    }
   }
  },
  {
   "cell_type": "code",
   "execution_count": 13,
   "outputs": [
    {
     "data": {
      "text/plain": "f   NaN\ng   NaN\nh   NaN\ndtype: float64"
     },
     "execution_count": 13,
     "metadata": {},
     "output_type": "execute_result"
    }
   ],
   "source": [
    "s"
   ],
   "metadata": {
    "collapsed": false,
    "ExecuteTime": {
     "end_time": "2023-06-27T11:03:16.738299500Z",
     "start_time": "2023-06-27T11:03:16.490469300Z"
    }
   }
  },
  {
   "cell_type": "markdown",
   "source": [
    "create a series using the scalar value"
   ],
   "metadata": {
    "collapsed": false
   }
  },
  {
   "cell_type": "code",
   "execution_count": 14,
   "outputs": [],
   "source": [
    "data = 99\n",
    "s = pd.Series(data, index=[101, 102, 103, 104])"
   ],
   "metadata": {
    "collapsed": false,
    "ExecuteTime": {
     "end_time": "2023-06-27T11:03:16.738299500Z",
     "start_time": "2023-06-27T11:03:16.498924900Z"
    }
   }
  },
  {
   "cell_type": "code",
   "execution_count": 15,
   "outputs": [
    {
     "data": {
      "text/plain": "101    99\n102    99\n103    99\n104    99\ndtype: int64"
     },
     "execution_count": 15,
     "metadata": {},
     "output_type": "execute_result"
    }
   ],
   "source": [
    "s"
   ],
   "metadata": {
    "collapsed": false,
    "ExecuteTime": {
     "end_time": "2023-06-27T11:03:16.739297Z",
     "start_time": "2023-06-27T11:03:16.503930200Z"
    }
   }
  },
  {
   "cell_type": "markdown",
   "source": [
    "* Updation\n",
    "\n",
    "1 accesing the data from pandas series"
   ],
   "metadata": {
    "collapsed": false
   }
  },
  {
   "cell_type": "code",
   "execution_count": 16,
   "outputs": [],
   "source": [
    "data = np.array([12, 45, 32, 89, 7, -10, 21, -0.5, -7, 30])\n",
    "s = pd.Series(data)"
   ],
   "metadata": {
    "collapsed": false,
    "ExecuteTime": {
     "end_time": "2023-06-27T11:03:16.739297Z",
     "start_time": "2023-06-27T11:03:16.511928700Z"
    }
   }
  },
  {
   "cell_type": "code",
   "execution_count": 17,
   "outputs": [
    {
     "data": {
      "text/plain": "0    12.0\n1    45.0\n2    32.0\n3    89.0\n4     7.0\n5   -10.0\n6    21.0\n7    -0.5\n8    -7.0\n9    30.0\ndtype: float64"
     },
     "execution_count": 17,
     "metadata": {},
     "output_type": "execute_result"
    }
   ],
   "source": [
    "s"
   ],
   "metadata": {
    "collapsed": false,
    "ExecuteTime": {
     "end_time": "2023-06-27T11:03:16.740293600Z",
     "start_time": "2023-06-27T11:03:16.521790800Z"
    }
   }
  },
  {
   "cell_type": "code",
   "execution_count": 18,
   "outputs": [
    {
     "data": {
      "text/plain": "7.0"
     },
     "execution_count": 18,
     "metadata": {},
     "output_type": "execute_result"
    }
   ],
   "source": [
    "s[4]"
   ],
   "metadata": {
    "collapsed": false,
    "ExecuteTime": {
     "end_time": "2023-06-27T11:03:16.741291500Z",
     "start_time": "2023-06-27T11:03:16.531294800Z"
    }
   }
  },
  {
   "cell_type": "code",
   "execution_count": 19,
   "outputs": [
    {
     "data": {
      "text/plain": "0    12.0\n1    45.0\n2    32.0\ndtype: float64"
     },
     "execution_count": 19,
     "metadata": {},
     "output_type": "execute_result"
    }
   ],
   "source": [
    "s[0:3]  # s[:3]"
   ],
   "metadata": {
    "collapsed": false,
    "ExecuteTime": {
     "end_time": "2023-06-27T11:03:16.742289600Z",
     "start_time": "2023-06-27T11:03:16.540639Z"
    }
   }
  },
  {
   "cell_type": "code",
   "execution_count": 20,
   "outputs": [
    {
     "data": {
      "text/plain": "7    -0.5\n8    -7.0\n9    30.0\ndtype: float64"
     },
     "execution_count": 20,
     "metadata": {},
     "output_type": "execute_result"
    }
   ],
   "source": [
    "s[7:]"
   ],
   "metadata": {
    "collapsed": false,
    "ExecuteTime": {
     "end_time": "2023-06-27T11:03:16.742289600Z",
     "start_time": "2023-06-27T11:03:16.548953400Z"
    }
   }
  },
  {
   "cell_type": "code",
   "execution_count": 21,
   "outputs": [],
   "source": [
    "data = {\"a\": 1, \"b\": 2, \"c\": 3}\n",
    "s = pd.Series(data, index=['f', 'g', 'h', 'a', 'b', 'c'])"
   ],
   "metadata": {
    "collapsed": false,
    "ExecuteTime": {
     "end_time": "2023-06-27T11:03:16.743286200Z",
     "start_time": "2023-06-27T11:03:16.558713Z"
    }
   }
  },
  {
   "cell_type": "code",
   "execution_count": 22,
   "outputs": [
    {
     "data": {
      "text/plain": "f   NaN\ng   NaN\nh   NaN\ndtype: float64"
     },
     "execution_count": 22,
     "metadata": {},
     "output_type": "execute_result"
    }
   ],
   "source": [
    "s['f':'h']"
   ],
   "metadata": {
    "collapsed": false,
    "ExecuteTime": {
     "end_time": "2023-06-27T11:03:16.744283600Z",
     "start_time": "2023-06-27T11:03:16.565093400Z"
    }
   }
  },
  {
   "cell_type": "code",
   "execution_count": 23,
   "outputs": [],
   "source": [
    "s['f'] = 88.5"
   ],
   "metadata": {
    "collapsed": false,
    "ExecuteTime": {
     "end_time": "2023-06-27T11:03:16.744283600Z",
     "start_time": "2023-06-27T11:03:16.578376200Z"
    }
   }
  },
  {
   "cell_type": "code",
   "execution_count": 24,
   "outputs": [
    {
     "data": {
      "text/plain": "f    88.5\ng     NaN\nh     NaN\na     1.0\nb     2.0\nc     3.0\ndtype: float64"
     },
     "execution_count": 24,
     "metadata": {},
     "output_type": "execute_result"
    }
   ],
   "source": [
    "s"
   ],
   "metadata": {
    "collapsed": false,
    "ExecuteTime": {
     "end_time": "2023-06-27T11:03:16.745280500Z",
     "start_time": "2023-06-27T11:03:16.584871500Z"
    }
   }
  },
  {
   "cell_type": "markdown",
   "source": [
    "* boolean marking"
   ],
   "metadata": {
    "collapsed": false
   }
  },
  {
   "cell_type": "code",
   "execution_count": 25,
   "outputs": [
    {
     "data": {
      "text/plain": "f     True\ng    False\nh    False\na    False\nb    False\nc    False\ndtype: bool"
     },
     "execution_count": 25,
     "metadata": {},
     "output_type": "execute_result"
    }
   ],
   "source": [
    "s > 5"
   ],
   "metadata": {
    "collapsed": false,
    "ExecuteTime": {
     "end_time": "2023-06-27T11:03:16.745280500Z",
     "start_time": "2023-06-27T11:03:16.592170500Z"
    }
   }
  },
  {
   "cell_type": "code",
   "execution_count": 26,
   "outputs": [
    {
     "data": {
      "text/plain": "f    88.5\nc     3.0\ndtype: float64"
     },
     "execution_count": 26,
     "metadata": {},
     "output_type": "execute_result"
    }
   ],
   "source": [
    "s[s > 2]"
   ],
   "metadata": {
    "collapsed": false,
    "ExecuteTime": {
     "end_time": "2023-06-27T11:03:16.746277600Z",
     "start_time": "2023-06-27T11:03:16.600471600Z"
    }
   }
  },
  {
   "cell_type": "code",
   "execution_count": 27,
   "outputs": [],
   "source": [
    "# s[s < 2 or s == 3]"
   ],
   "metadata": {
    "collapsed": false,
    "ExecuteTime": {
     "end_time": "2023-06-27T11:03:16.746277600Z",
     "start_time": "2023-06-27T11:03:16.609416500Z"
    }
   }
  },
  {
   "cell_type": "code",
   "execution_count": 28,
   "outputs": [
    {
     "data": {
      "text/plain": "(6,)"
     },
     "execution_count": 28,
     "metadata": {},
     "output_type": "execute_result"
    }
   ],
   "source": [
    "s.shape"
   ],
   "metadata": {
    "collapsed": false,
    "ExecuteTime": {
     "end_time": "2023-06-27T11:03:16.746277600Z",
     "start_time": "2023-06-27T11:03:16.619902600Z"
    }
   }
  },
  {
   "cell_type": "code",
   "execution_count": 29,
   "outputs": [
    {
     "data": {
      "text/plain": "1"
     },
     "execution_count": 29,
     "metadata": {},
     "output_type": "execute_result"
    }
   ],
   "source": [
    "s.ndim"
   ],
   "metadata": {
    "collapsed": false,
    "ExecuteTime": {
     "end_time": "2023-06-27T11:03:16.747615100Z",
     "start_time": "2023-06-27T11:03:16.624719300Z"
    }
   }
  },
  {
   "cell_type": "code",
   "execution_count": 30,
   "outputs": [
    {
     "data": {
      "text/plain": "6"
     },
     "execution_count": 30,
     "metadata": {},
     "output_type": "execute_result"
    }
   ],
   "source": [
    "s.size"
   ],
   "metadata": {
    "collapsed": false,
    "ExecuteTime": {
     "end_time": "2023-06-27T11:03:16.748120500Z",
     "start_time": "2023-06-27T11:03:16.632385100Z"
    }
   }
  },
  {
   "cell_type": "code",
   "execution_count": 31,
   "outputs": [
    {
     "data": {
      "text/plain": "Index(['f', 'g', 'h', 'a', 'b', 'c'], dtype='object')"
     },
     "execution_count": 31,
     "metadata": {},
     "output_type": "execute_result"
    }
   ],
   "source": [
    "s.index"
   ],
   "metadata": {
    "collapsed": false,
    "ExecuteTime": {
     "end_time": "2023-06-27T11:03:16.750124600Z",
     "start_time": "2023-06-27T11:03:16.638173400Z"
    }
   }
  },
  {
   "cell_type": "code",
   "execution_count": 32,
   "outputs": [
    {
     "data": {
      "text/plain": "array([88.5,  nan,  nan,  1. ,  2. ,  3. ])"
     },
     "execution_count": 32,
     "metadata": {},
     "output_type": "execute_result"
    }
   ],
   "source": [
    "s.values"
   ],
   "metadata": {
    "collapsed": false,
    "ExecuteTime": {
     "end_time": "2023-06-27T11:03:16.751116100Z",
     "start_time": "2023-06-27T11:03:16.646506300Z"
    }
   }
  },
  {
   "cell_type": "code",
   "execution_count": 33,
   "outputs": [
    {
     "data": {
      "text/plain": "True"
     },
     "execution_count": 33,
     "metadata": {},
     "output_type": "execute_result"
    }
   ],
   "source": [
    "'a' in s"
   ],
   "metadata": {
    "collapsed": false,
    "ExecuteTime": {
     "end_time": "2023-06-27T11:03:16.751116100Z",
     "start_time": "2023-06-27T11:03:16.654619800Z"
    }
   }
  },
  {
   "cell_type": "markdown",
   "source": [
    "# delete"
   ],
   "metadata": {
    "collapsed": false
   }
  },
  {
   "cell_type": "code",
   "execution_count": 34,
   "outputs": [
    {
     "data": {
      "text/plain": "f    88.5\ng     NaN\nh     NaN\nb     2.0\nc     3.0\ndtype: float64"
     },
     "execution_count": 34,
     "metadata": {},
     "output_type": "execute_result"
    }
   ],
   "source": [
    "s.drop('a')"
   ],
   "metadata": {
    "collapsed": false,
    "ExecuteTime": {
     "end_time": "2023-06-27T11:03:16.752113500Z",
     "start_time": "2023-06-27T11:03:16.658241100Z"
    }
   }
  },
  {
   "cell_type": "code",
   "execution_count": 35,
   "outputs": [
    {
     "data": {
      "text/plain": "f    88.5\ng     NaN\nh     NaN\na     1.0\nb     2.0\nc     3.0\ndtype: float64"
     },
     "execution_count": 35,
     "metadata": {},
     "output_type": "execute_result"
    }
   ],
   "source": [
    "s"
   ],
   "metadata": {
    "collapsed": false,
    "ExecuteTime": {
     "end_time": "2023-06-27T11:03:16.753111100Z",
     "start_time": "2023-06-27T11:03:16.668619500Z"
    }
   }
  },
  {
   "cell_type": "code",
   "execution_count": 36,
   "outputs": [],
   "source": [
    "s.drop('a', inplace=True)"
   ],
   "metadata": {
    "collapsed": false,
    "ExecuteTime": {
     "end_time": "2023-06-27T11:03:16.753111100Z",
     "start_time": "2023-06-27T11:03:16.674951800Z"
    }
   }
  },
  {
   "cell_type": "code",
   "execution_count": 37,
   "outputs": [
    {
     "data": {
      "text/plain": "f    88.5\ng     NaN\nh     NaN\nb     2.0\nc     3.0\ndtype: float64"
     },
     "execution_count": 37,
     "metadata": {},
     "output_type": "execute_result"
    }
   ],
   "source": [
    "s"
   ],
   "metadata": {
    "collapsed": false,
    "ExecuteTime": {
     "end_time": "2023-06-27T11:03:16.754108500Z",
     "start_time": "2023-06-27T11:03:16.680022600Z"
    }
   }
  },
  {
   "cell_type": "code",
   "execution_count": 38,
   "outputs": [
    {
     "data": {
      "text/plain": "f    90.5\ng     NaN\nh     NaN\nb     4.0\nc     5.0\ndtype: float64"
     },
     "execution_count": 38,
     "metadata": {},
     "output_type": "execute_result"
    }
   ],
   "source": [
    "s + 2"
   ],
   "metadata": {
    "collapsed": false,
    "ExecuteTime": {
     "end_time": "2023-06-27T11:03:16.755105700Z",
     "start_time": "2023-06-27T11:03:16.690333200Z"
    }
   }
  },
  {
   "cell_type": "code",
   "execution_count": 39,
   "outputs": [
    {
     "data": {
      "text/plain": "f    86.5\ng     NaN\nh     NaN\nb     0.0\nc     1.0\ndtype: float64"
     },
     "execution_count": 39,
     "metadata": {},
     "output_type": "execute_result"
    }
   ],
   "source": [
    "s - 2"
   ],
   "metadata": {
    "collapsed": false,
    "ExecuteTime": {
     "end_time": "2023-06-27T11:03:16.755968300Z",
     "start_time": "2023-06-27T11:03:16.698282Z"
    }
   }
  },
  {
   "cell_type": "code",
   "execution_count": 40,
   "outputs": [
    {
     "data": {
      "text/plain": "f    177.0\ng      NaN\nh      NaN\nb      4.0\nc      6.0\ndtype: float64"
     },
     "execution_count": 40,
     "metadata": {},
     "output_type": "execute_result"
    }
   ],
   "source": [
    "s * 2"
   ],
   "metadata": {
    "collapsed": false,
    "ExecuteTime": {
     "end_time": "2023-06-27T11:03:17.457893800Z",
     "start_time": "2023-06-27T11:03:16.706733700Z"
    }
   }
  },
  {
   "cell_type": "code",
   "execution_count": 41,
   "outputs": [
    {
     "data": {
      "text/plain": "f    7832.25\ng        NaN\nh        NaN\nb       4.00\nc       9.00\ndtype: float64"
     },
     "execution_count": 41,
     "metadata": {},
     "output_type": "execute_result"
    }
   ],
   "source": [
    "np.power(s, 2)"
   ],
   "metadata": {
    "collapsed": false,
    "ExecuteTime": {
     "end_time": "2023-06-27T11:03:17.459336500Z",
     "start_time": "2023-06-27T11:03:16.714140500Z"
    }
   }
  },
  {
   "cell_type": "markdown",
   "source": [
    "# DataFrame\n",
    "\n",
    "It is 2D ds"
   ],
   "metadata": {
    "collapsed": false
   }
  },
  {
   "cell_type": "code",
   "execution_count": 42,
   "outputs": [],
   "source": [
    "# pd.DataFrame(data, index, columns, dtype, copy)"
   ],
   "metadata": {
    "collapsed": false,
    "ExecuteTime": {
     "end_time": "2023-06-27T11:03:17.459842500Z",
     "start_time": "2023-06-27T11:03:16.723485300Z"
    }
   }
  },
  {
   "cell_type": "markdown",
   "source": [
    "CURD"
   ],
   "metadata": {
    "collapsed": false
   }
  },
  {
   "cell_type": "markdown",
   "source": [
    "To create\n",
    "\n",
    "1 list\n",
    "2 Dict\n",
    "3 ndarrays\n",
    "4 series"
   ],
   "metadata": {
    "collapsed": false
   }
  },
  {
   "cell_type": "code",
   "execution_count": 43,
   "outputs": [],
   "source": [
    "# empty data frame\n",
    "df = pd.DataFrame()"
   ],
   "metadata": {
    "collapsed": false,
    "ExecuteTime": {
     "end_time": "2023-06-27T11:03:17.459842500Z",
     "start_time": "2023-06-27T11:03:16.729766100Z"
    }
   }
  },
  {
   "cell_type": "code",
   "execution_count": 44,
   "outputs": [
    {
     "data": {
      "text/plain": "Empty DataFrame\nColumns: []\nIndex: []",
      "text/html": "<div>\n<style scoped>\n    .dataframe tbody tr th:only-of-type {\n        vertical-align: middle;\n    }\n\n    .dataframe tbody tr th {\n        vertical-align: top;\n    }\n\n    .dataframe thead th {\n        text-align: right;\n    }\n</style>\n<table border=\"1\" class=\"dataframe\">\n  <thead>\n    <tr style=\"text-align: right;\">\n      <th></th>\n    </tr>\n  </thead>\n  <tbody>\n  </tbody>\n</table>\n</div>"
     },
     "execution_count": 44,
     "metadata": {},
     "output_type": "execute_result"
    }
   ],
   "source": [
    "df"
   ],
   "metadata": {
    "collapsed": false,
    "ExecuteTime": {
     "end_time": "2023-06-27T11:03:17.460843700Z",
     "start_time": "2023-06-27T11:03:16.735308200Z"
    }
   }
  },
  {
   "cell_type": "markdown",
   "source": [
    "## Create a data frame using list"
   ],
   "metadata": {
    "collapsed": false
   }
  },
  {
   "cell_type": "code",
   "execution_count": 45,
   "outputs": [],
   "source": [
    "data = [7, 8, 44, 56, 23, 98]"
   ],
   "metadata": {
    "collapsed": false,
    "ExecuteTime": {
     "end_time": "2023-06-27T11:03:17.461840600Z",
     "start_time": "2023-06-27T11:03:16.754108500Z"
    }
   }
  },
  {
   "cell_type": "code",
   "execution_count": 46,
   "outputs": [],
   "source": [
    "df = pd.DataFrame(data)"
   ],
   "metadata": {
    "collapsed": false,
    "ExecuteTime": {
     "end_time": "2023-06-27T11:03:17.461840600Z",
     "start_time": "2023-06-27T11:03:16.762161500Z"
    }
   }
  },
  {
   "cell_type": "code",
   "execution_count": 47,
   "outputs": [
    {
     "data": {
      "text/plain": "    0\n0   7\n1   8\n2  44\n3  56\n4  23\n5  98",
      "text/html": "<div>\n<style scoped>\n    .dataframe tbody tr th:only-of-type {\n        vertical-align: middle;\n    }\n\n    .dataframe tbody tr th {\n        vertical-align: top;\n    }\n\n    .dataframe thead th {\n        text-align: right;\n    }\n</style>\n<table border=\"1\" class=\"dataframe\">\n  <thead>\n    <tr style=\"text-align: right;\">\n      <th></th>\n      <th>0</th>\n    </tr>\n  </thead>\n  <tbody>\n    <tr>\n      <th>0</th>\n      <td>7</td>\n    </tr>\n    <tr>\n      <th>1</th>\n      <td>8</td>\n    </tr>\n    <tr>\n      <th>2</th>\n      <td>44</td>\n    </tr>\n    <tr>\n      <th>3</th>\n      <td>56</td>\n    </tr>\n    <tr>\n      <th>4</th>\n      <td>23</td>\n    </tr>\n    <tr>\n      <th>5</th>\n      <td>98</td>\n    </tr>\n  </tbody>\n</table>\n</div>"
     },
     "execution_count": 47,
     "metadata": {},
     "output_type": "execute_result"
    }
   ],
   "source": [
    "df"
   ],
   "metadata": {
    "collapsed": false,
    "ExecuteTime": {
     "end_time": "2023-06-27T11:03:17.465838200Z",
     "start_time": "2023-06-27T11:03:16.767656700Z"
    }
   }
  },
  {
   "cell_type": "code",
   "execution_count": 48,
   "outputs": [],
   "source": [
    "data = [[\"dog\", 'bhaw bhaw'], ['cat', 'meow'], ['cow', 'moo']]\n",
    "df = pd.DataFrame(data)"
   ],
   "metadata": {
    "collapsed": false,
    "ExecuteTime": {
     "end_time": "2023-06-27T11:03:17.489838600Z",
     "start_time": "2023-06-27T11:03:16.777416Z"
    }
   }
  },
  {
   "cell_type": "code",
   "execution_count": 49,
   "outputs": [
    {
     "data": {
      "text/plain": "     0          1\n0  dog  bhaw bhaw\n1  cat       meow\n2  cow        moo",
      "text/html": "<div>\n<style scoped>\n    .dataframe tbody tr th:only-of-type {\n        vertical-align: middle;\n    }\n\n    .dataframe tbody tr th {\n        vertical-align: top;\n    }\n\n    .dataframe thead th {\n        text-align: right;\n    }\n</style>\n<table border=\"1\" class=\"dataframe\">\n  <thead>\n    <tr style=\"text-align: right;\">\n      <th></th>\n      <th>0</th>\n      <th>1</th>\n    </tr>\n  </thead>\n  <tbody>\n    <tr>\n      <th>0</th>\n      <td>dog</td>\n      <td>bhaw bhaw</td>\n    </tr>\n    <tr>\n      <th>1</th>\n      <td>cat</td>\n      <td>meow</td>\n    </tr>\n    <tr>\n      <th>2</th>\n      <td>cow</td>\n      <td>moo</td>\n    </tr>\n  </tbody>\n</table>\n</div>"
     },
     "execution_count": 49,
     "metadata": {},
     "output_type": "execute_result"
    }
   ],
   "source": [
    "df"
   ],
   "metadata": {
    "collapsed": false,
    "ExecuteTime": {
     "end_time": "2023-06-27T11:03:17.495551300Z",
     "start_time": "2023-06-27T11:03:16.786125200Z"
    }
   }
  },
  {
   "cell_type": "code",
   "execution_count": 50,
   "outputs": [],
   "source": [
    "df = pd.DataFrame(data, columns=[\"animal_name\", 'animal_sound'])"
   ],
   "metadata": {
    "collapsed": false,
    "ExecuteTime": {
     "end_time": "2023-06-27T11:03:17.496548100Z",
     "start_time": "2023-06-27T11:03:16.795811300Z"
    }
   }
  },
  {
   "cell_type": "code",
   "execution_count": 51,
   "outputs": [
    {
     "data": {
      "text/plain": "  animal_name animal_sound\n0         dog    bhaw bhaw\n1         cat         meow\n2         cow          moo",
      "text/html": "<div>\n<style scoped>\n    .dataframe tbody tr th:only-of-type {\n        vertical-align: middle;\n    }\n\n    .dataframe tbody tr th {\n        vertical-align: top;\n    }\n\n    .dataframe thead th {\n        text-align: right;\n    }\n</style>\n<table border=\"1\" class=\"dataframe\">\n  <thead>\n    <tr style=\"text-align: right;\">\n      <th></th>\n      <th>animal_name</th>\n      <th>animal_sound</th>\n    </tr>\n  </thead>\n  <tbody>\n    <tr>\n      <th>0</th>\n      <td>dog</td>\n      <td>bhaw bhaw</td>\n    </tr>\n    <tr>\n      <th>1</th>\n      <td>cat</td>\n      <td>meow</td>\n    </tr>\n    <tr>\n      <th>2</th>\n      <td>cow</td>\n      <td>moo</td>\n    </tr>\n  </tbody>\n</table>\n</div>"
     },
     "execution_count": 51,
     "metadata": {},
     "output_type": "execute_result"
    }
   ],
   "source": [
    "df"
   ],
   "metadata": {
    "collapsed": false,
    "ExecuteTime": {
     "end_time": "2023-06-27T11:03:17.499547900Z",
     "start_time": "2023-06-27T11:03:16.801470900Z"
    }
   }
  },
  {
   "cell_type": "markdown",
   "source": [
    "## Create a data frame using dictionary"
   ],
   "metadata": {
    "collapsed": false
   }
  },
  {
   "cell_type": "code",
   "execution_count": 52,
   "outputs": [],
   "source": [
    "data = {'name': ['ram', 'rahul', 'bhwana'], \"age\": [25, 20, 18]}\n",
    "df = pd.DataFrame(data)"
   ],
   "metadata": {
    "collapsed": false,
    "ExecuteTime": {
     "end_time": "2023-06-27T11:03:17.499547900Z",
     "start_time": "2023-06-27T11:03:16.810862200Z"
    }
   }
  },
  {
   "cell_type": "code",
   "execution_count": 53,
   "outputs": [
    {
     "data": {
      "text/plain": "     name  age\n0     ram   25\n1   rahul   20\n2  bhwana   18",
      "text/html": "<div>\n<style scoped>\n    .dataframe tbody tr th:only-of-type {\n        vertical-align: middle;\n    }\n\n    .dataframe tbody tr th {\n        vertical-align: top;\n    }\n\n    .dataframe thead th {\n        text-align: right;\n    }\n</style>\n<table border=\"1\" class=\"dataframe\">\n  <thead>\n    <tr style=\"text-align: right;\">\n      <th></th>\n      <th>name</th>\n      <th>age</th>\n    </tr>\n  </thead>\n  <tbody>\n    <tr>\n      <th>0</th>\n      <td>ram</td>\n      <td>25</td>\n    </tr>\n    <tr>\n      <th>1</th>\n      <td>rahul</td>\n      <td>20</td>\n    </tr>\n    <tr>\n      <th>2</th>\n      <td>bhwana</td>\n      <td>18</td>\n    </tr>\n  </tbody>\n</table>\n</div>"
     },
     "execution_count": 53,
     "metadata": {},
     "output_type": "execute_result"
    }
   ],
   "source": [
    "df"
   ],
   "metadata": {
    "collapsed": false,
    "ExecuteTime": {
     "end_time": "2023-06-27T11:03:17.500537300Z",
     "start_time": "2023-06-27T11:03:16.816980900Z"
    }
   }
  },
  {
   "cell_type": "code",
   "execution_count": 54,
   "outputs": [],
   "source": [
    "df = pd.DataFrame(data, index=['a', 'b', 'c'])"
   ],
   "metadata": {
    "collapsed": false,
    "ExecuteTime": {
     "end_time": "2023-06-27T11:03:17.503529800Z",
     "start_time": "2023-06-27T11:03:16.824150600Z"
    }
   }
  },
  {
   "cell_type": "code",
   "execution_count": 55,
   "outputs": [
    {
     "data": {
      "text/plain": "     name  age\na     ram   25\nb   rahul   20\nc  bhwana   18",
      "text/html": "<div>\n<style scoped>\n    .dataframe tbody tr th:only-of-type {\n        vertical-align: middle;\n    }\n\n    .dataframe tbody tr th {\n        vertical-align: top;\n    }\n\n    .dataframe thead th {\n        text-align: right;\n    }\n</style>\n<table border=\"1\" class=\"dataframe\">\n  <thead>\n    <tr style=\"text-align: right;\">\n      <th></th>\n      <th>name</th>\n      <th>age</th>\n    </tr>\n  </thead>\n  <tbody>\n    <tr>\n      <th>a</th>\n      <td>ram</td>\n      <td>25</td>\n    </tr>\n    <tr>\n      <th>b</th>\n      <td>rahul</td>\n      <td>20</td>\n    </tr>\n    <tr>\n      <th>c</th>\n      <td>bhwana</td>\n      <td>18</td>\n    </tr>\n  </tbody>\n</table>\n</div>"
     },
     "execution_count": 55,
     "metadata": {},
     "output_type": "execute_result"
    }
   ],
   "source": [
    "df"
   ],
   "metadata": {
    "collapsed": false,
    "ExecuteTime": {
     "end_time": "2023-06-27T11:03:17.503529800Z",
     "start_time": "2023-06-27T11:03:16.829737400Z"
    }
   }
  },
  {
   "cell_type": "markdown",
   "source": [
    "## Create a data frame using series"
   ],
   "metadata": {
    "collapsed": false
   }
  },
  {
   "cell_type": "code",
   "execution_count": 56,
   "outputs": [],
   "source": [
    "data = {'karan_marks': pd.Series([50, 77, 65], index=['test1', 'test2', 'test3']),\n",
    "        \"arjun_marks\": pd.Series([67, 89, 32, 98, 50], index=['test-1', 'ptest-1', 'test-2', 'ptest-2', 'test-3'])}\n",
    "\n",
    "df = pd.DataFrame(data)"
   ],
   "metadata": {
    "collapsed": false,
    "ExecuteTime": {
     "end_time": "2023-06-27T11:03:17.504527900Z",
     "start_time": "2023-06-27T11:03:16.840818500Z"
    }
   }
  },
  {
   "cell_type": "code",
   "execution_count": 57,
   "outputs": [
    {
     "data": {
      "text/plain": "         karan_marks  arjun_marks\nptest-1          NaN         89.0\nptest-2          NaN         98.0\ntest-1           NaN         67.0\ntest-2           NaN         32.0\ntest-3           NaN         50.0\ntest1           50.0          NaN\ntest2           77.0          NaN\ntest3           65.0          NaN",
      "text/html": "<div>\n<style scoped>\n    .dataframe tbody tr th:only-of-type {\n        vertical-align: middle;\n    }\n\n    .dataframe tbody tr th {\n        vertical-align: top;\n    }\n\n    .dataframe thead th {\n        text-align: right;\n    }\n</style>\n<table border=\"1\" class=\"dataframe\">\n  <thead>\n    <tr style=\"text-align: right;\">\n      <th></th>\n      <th>karan_marks</th>\n      <th>arjun_marks</th>\n    </tr>\n  </thead>\n  <tbody>\n    <tr>\n      <th>ptest-1</th>\n      <td>NaN</td>\n      <td>89.0</td>\n    </tr>\n    <tr>\n      <th>ptest-2</th>\n      <td>NaN</td>\n      <td>98.0</td>\n    </tr>\n    <tr>\n      <th>test-1</th>\n      <td>NaN</td>\n      <td>67.0</td>\n    </tr>\n    <tr>\n      <th>test-2</th>\n      <td>NaN</td>\n      <td>32.0</td>\n    </tr>\n    <tr>\n      <th>test-3</th>\n      <td>NaN</td>\n      <td>50.0</td>\n    </tr>\n    <tr>\n      <th>test1</th>\n      <td>50.0</td>\n      <td>NaN</td>\n    </tr>\n    <tr>\n      <th>test2</th>\n      <td>77.0</td>\n      <td>NaN</td>\n    </tr>\n    <tr>\n      <th>test3</th>\n      <td>65.0</td>\n      <td>NaN</td>\n    </tr>\n  </tbody>\n</table>\n</div>"
     },
     "execution_count": 57,
     "metadata": {},
     "output_type": "execute_result"
    }
   ],
   "source": [
    "df"
   ],
   "metadata": {
    "collapsed": false,
    "ExecuteTime": {
     "end_time": "2023-06-27T11:03:17.504527900Z",
     "start_time": "2023-06-27T11:03:16.848083500Z"
    }
   }
  },
  {
   "cell_type": "markdown",
   "source": [
    "5. Create a data frame using list of dictionaries"
   ],
   "metadata": {
    "collapsed": false
   }
  },
  {
   "cell_type": "code",
   "execution_count": 58,
   "outputs": [],
   "source": [
    "data = [{\"a\": 1, \"b\": 2}, {\"c\": 3, \"d\": 4}, {\"e\": 5, \"f\": 6}]\n",
    "df = pd.DataFrame(data)\n"
   ],
   "metadata": {
    "collapsed": false,
    "ExecuteTime": {
     "end_time": "2023-06-27T11:03:17.506521Z",
     "start_time": "2023-06-27T11:03:16.857602600Z"
    }
   }
  },
  {
   "cell_type": "code",
   "execution_count": 59,
   "outputs": [
    {
     "data": {
      "text/plain": "     a    b    c    d    e    f\n0  1.0  2.0  NaN  NaN  NaN  NaN\n1  NaN  NaN  3.0  4.0  NaN  NaN\n2  NaN  NaN  NaN  NaN  5.0  6.0",
      "text/html": "<div>\n<style scoped>\n    .dataframe tbody tr th:only-of-type {\n        vertical-align: middle;\n    }\n\n    .dataframe tbody tr th {\n        vertical-align: top;\n    }\n\n    .dataframe thead th {\n        text-align: right;\n    }\n</style>\n<table border=\"1\" class=\"dataframe\">\n  <thead>\n    <tr style=\"text-align: right;\">\n      <th></th>\n      <th>a</th>\n      <th>b</th>\n      <th>c</th>\n      <th>d</th>\n      <th>e</th>\n      <th>f</th>\n    </tr>\n  </thead>\n  <tbody>\n    <tr>\n      <th>0</th>\n      <td>1.0</td>\n      <td>2.0</td>\n      <td>NaN</td>\n      <td>NaN</td>\n      <td>NaN</td>\n      <td>NaN</td>\n    </tr>\n    <tr>\n      <th>1</th>\n      <td>NaN</td>\n      <td>NaN</td>\n      <td>3.0</td>\n      <td>4.0</td>\n      <td>NaN</td>\n      <td>NaN</td>\n    </tr>\n    <tr>\n      <th>2</th>\n      <td>NaN</td>\n      <td>NaN</td>\n      <td>NaN</td>\n      <td>NaN</td>\n      <td>5.0</td>\n      <td>6.0</td>\n    </tr>\n  </tbody>\n</table>\n</div>"
     },
     "execution_count": 59,
     "metadata": {},
     "output_type": "execute_result"
    }
   ],
   "source": [
    "df"
   ],
   "metadata": {
    "collapsed": false,
    "ExecuteTime": {
     "end_time": "2023-06-27T11:03:17.507518400Z",
     "start_time": "2023-06-27T11:03:16.864164600Z"
    }
   }
  },
  {
   "cell_type": "code",
   "execution_count": 60,
   "outputs": [],
   "source": [
    "data = [{\"a\": 1, \"b\": 2, \"c\": 90}, {\"c\": 3, \"d\": 4}, {\"e\": 5, \"f\": 6}]\n",
    "df = pd.DataFrame(data, index=['x', 'y', 'z'])\n"
   ],
   "metadata": {
    "collapsed": false,
    "ExecuteTime": {
     "end_time": "2023-06-27T11:03:17.507518400Z",
     "start_time": "2023-06-27T11:03:16.877721800Z"
    }
   }
  },
  {
   "cell_type": "code",
   "execution_count": 61,
   "outputs": [
    {
     "data": {
      "text/plain": "     a    b     c    d    e    f\nx  1.0  2.0  90.0  NaN  NaN  NaN\ny  NaN  NaN   3.0  4.0  NaN  NaN\nz  NaN  NaN   NaN  NaN  5.0  6.0",
      "text/html": "<div>\n<style scoped>\n    .dataframe tbody tr th:only-of-type {\n        vertical-align: middle;\n    }\n\n    .dataframe tbody tr th {\n        vertical-align: top;\n    }\n\n    .dataframe thead th {\n        text-align: right;\n    }\n</style>\n<table border=\"1\" class=\"dataframe\">\n  <thead>\n    <tr style=\"text-align: right;\">\n      <th></th>\n      <th>a</th>\n      <th>b</th>\n      <th>c</th>\n      <th>d</th>\n      <th>e</th>\n      <th>f</th>\n    </tr>\n  </thead>\n  <tbody>\n    <tr>\n      <th>x</th>\n      <td>1.0</td>\n      <td>2.0</td>\n      <td>90.0</td>\n      <td>NaN</td>\n      <td>NaN</td>\n      <td>NaN</td>\n    </tr>\n    <tr>\n      <th>y</th>\n      <td>NaN</td>\n      <td>NaN</td>\n      <td>3.0</td>\n      <td>4.0</td>\n      <td>NaN</td>\n      <td>NaN</td>\n    </tr>\n    <tr>\n      <th>z</th>\n      <td>NaN</td>\n      <td>NaN</td>\n      <td>NaN</td>\n      <td>NaN</td>\n      <td>5.0</td>\n      <td>6.0</td>\n    </tr>\n  </tbody>\n</table>\n</div>"
     },
     "execution_count": 61,
     "metadata": {},
     "output_type": "execute_result"
    }
   ],
   "source": [
    "df"
   ],
   "metadata": {
    "collapsed": false,
    "ExecuteTime": {
     "end_time": "2023-06-27T11:03:17.507518400Z",
     "start_time": "2023-06-27T11:03:16.882221400Z"
    }
   }
  },
  {
   "cell_type": "markdown",
   "source": [
    "### Update"
   ],
   "metadata": {
    "collapsed": false
   }
  },
  {
   "cell_type": "code",
   "execution_count": 62,
   "outputs": [],
   "source": [
    "data = [10, 20, 30, 40, 50, 60, 70]\n",
    "data1 = [100, 200, 300, 400, 500, 600, 700]\n",
    "df = pd.DataFrame([data, data1], columns=['a', 'b', 'c', 'd', 'e', 'f', 'g'])"
   ],
   "metadata": {
    "collapsed": false,
    "ExecuteTime": {
     "end_time": "2023-06-27T11:03:17.508516200Z",
     "start_time": "2023-06-27T11:03:16.895495200Z"
    }
   }
  },
  {
   "cell_type": "code",
   "execution_count": 63,
   "outputs": [
    {
     "data": {
      "text/plain": "     a    b    c    d    e    f    g\n0   10   20   30   40   50   60   70\n1  100  200  300  400  500  600  700",
      "text/html": "<div>\n<style scoped>\n    .dataframe tbody tr th:only-of-type {\n        vertical-align: middle;\n    }\n\n    .dataframe tbody tr th {\n        vertical-align: top;\n    }\n\n    .dataframe thead th {\n        text-align: right;\n    }\n</style>\n<table border=\"1\" class=\"dataframe\">\n  <thead>\n    <tr style=\"text-align: right;\">\n      <th></th>\n      <th>a</th>\n      <th>b</th>\n      <th>c</th>\n      <th>d</th>\n      <th>e</th>\n      <th>f</th>\n      <th>g</th>\n    </tr>\n  </thead>\n  <tbody>\n    <tr>\n      <th>0</th>\n      <td>10</td>\n      <td>20</td>\n      <td>30</td>\n      <td>40</td>\n      <td>50</td>\n      <td>60</td>\n      <td>70</td>\n    </tr>\n    <tr>\n      <th>1</th>\n      <td>100</td>\n      <td>200</td>\n      <td>300</td>\n      <td>400</td>\n      <td>500</td>\n      <td>600</td>\n      <td>700</td>\n    </tr>\n  </tbody>\n</table>\n</div>"
     },
     "execution_count": 63,
     "metadata": {},
     "output_type": "execute_result"
    }
   ],
   "source": [
    "df"
   ],
   "metadata": {
    "collapsed": false,
    "ExecuteTime": {
     "end_time": "2023-06-27T11:03:17.509517500Z",
     "start_time": "2023-06-27T11:03:16.900663Z"
    }
   }
  },
  {
   "cell_type": "markdown",
   "source": [
    "1. column selection"
   ],
   "metadata": {
    "collapsed": false
   }
  },
  {
   "cell_type": "code",
   "execution_count": 64,
   "outputs": [
    {
     "data": {
      "text/plain": "0     20\n1    200\nName: b, dtype: int64"
     },
     "execution_count": 64,
     "metadata": {},
     "output_type": "execute_result"
    }
   ],
   "source": [
    "df['b']"
   ],
   "metadata": {
    "collapsed": false,
    "ExecuteTime": {
     "end_time": "2023-06-27T11:03:17.509517500Z",
     "start_time": "2023-06-27T11:03:16.908690500Z"
    }
   }
  },
  {
   "cell_type": "markdown",
   "source": [
    "2. add a column"
   ],
   "metadata": {
    "collapsed": false
   }
  },
  {
   "cell_type": "code",
   "execution_count": 65,
   "outputs": [],
   "source": [
    "df['h'] = [56, 78]"
   ],
   "metadata": {
    "collapsed": false,
    "ExecuteTime": {
     "end_time": "2023-06-27T11:03:17.509517500Z",
     "start_time": "2023-06-27T11:03:16.916658400Z"
    }
   }
  },
  {
   "cell_type": "code",
   "execution_count": 66,
   "outputs": [
    {
     "data": {
      "text/plain": "     a    b    c    d    e    f    g   h\n0   10   20   30   40   50   60   70  56\n1  100  200  300  400  500  600  700  78",
      "text/html": "<div>\n<style scoped>\n    .dataframe tbody tr th:only-of-type {\n        vertical-align: middle;\n    }\n\n    .dataframe tbody tr th {\n        vertical-align: top;\n    }\n\n    .dataframe thead th {\n        text-align: right;\n    }\n</style>\n<table border=\"1\" class=\"dataframe\">\n  <thead>\n    <tr style=\"text-align: right;\">\n      <th></th>\n      <th>a</th>\n      <th>b</th>\n      <th>c</th>\n      <th>d</th>\n      <th>e</th>\n      <th>f</th>\n      <th>g</th>\n      <th>h</th>\n    </tr>\n  </thead>\n  <tbody>\n    <tr>\n      <th>0</th>\n      <td>10</td>\n      <td>20</td>\n      <td>30</td>\n      <td>40</td>\n      <td>50</td>\n      <td>60</td>\n      <td>70</td>\n      <td>56</td>\n    </tr>\n    <tr>\n      <th>1</th>\n      <td>100</td>\n      <td>200</td>\n      <td>300</td>\n      <td>400</td>\n      <td>500</td>\n      <td>600</td>\n      <td>700</td>\n      <td>78</td>\n    </tr>\n  </tbody>\n</table>\n</div>"
     },
     "execution_count": 66,
     "metadata": {},
     "output_type": "execute_result"
    }
   ],
   "source": [
    "df"
   ],
   "metadata": {
    "collapsed": false,
    "ExecuteTime": {
     "end_time": "2023-06-27T11:03:17.510516300Z",
     "start_time": "2023-06-27T11:03:16.922352600Z"
    }
   }
  },
  {
   "cell_type": "code",
   "execution_count": 67,
   "outputs": [],
   "source": [
    "df['m'] = pd.Series([56, 78, 89])"
   ],
   "metadata": {
    "collapsed": false,
    "ExecuteTime": {
     "end_time": "2023-06-27T11:03:17.510516300Z",
     "start_time": "2023-06-27T11:03:16.932195400Z"
    }
   }
  },
  {
   "cell_type": "code",
   "execution_count": 68,
   "outputs": [
    {
     "data": {
      "text/plain": "     a    b    c    d    e    f    g   h   m\n0   10   20   30   40   50   60   70  56  56\n1  100  200  300  400  500  600  700  78  78",
      "text/html": "<div>\n<style scoped>\n    .dataframe tbody tr th:only-of-type {\n        vertical-align: middle;\n    }\n\n    .dataframe tbody tr th {\n        vertical-align: top;\n    }\n\n    .dataframe thead th {\n        text-align: right;\n    }\n</style>\n<table border=\"1\" class=\"dataframe\">\n  <thead>\n    <tr style=\"text-align: right;\">\n      <th></th>\n      <th>a</th>\n      <th>b</th>\n      <th>c</th>\n      <th>d</th>\n      <th>e</th>\n      <th>f</th>\n      <th>g</th>\n      <th>h</th>\n      <th>m</th>\n    </tr>\n  </thead>\n  <tbody>\n    <tr>\n      <th>0</th>\n      <td>10</td>\n      <td>20</td>\n      <td>30</td>\n      <td>40</td>\n      <td>50</td>\n      <td>60</td>\n      <td>70</td>\n      <td>56</td>\n      <td>56</td>\n    </tr>\n    <tr>\n      <th>1</th>\n      <td>100</td>\n      <td>200</td>\n      <td>300</td>\n      <td>400</td>\n      <td>500</td>\n      <td>600</td>\n      <td>700</td>\n      <td>78</td>\n      <td>78</td>\n    </tr>\n  </tbody>\n</table>\n</div>"
     },
     "execution_count": 68,
     "metadata": {},
     "output_type": "execute_result"
    }
   ],
   "source": [
    "df"
   ],
   "metadata": {
    "collapsed": false,
    "ExecuteTime": {
     "end_time": "2023-06-27T11:03:17.511512Z",
     "start_time": "2023-06-27T11:03:16.937123800Z"
    }
   }
  },
  {
   "cell_type": "code",
   "execution_count": 69,
   "outputs": [],
   "source": [
    "df['n'] = pd.Series([56])"
   ],
   "metadata": {
    "collapsed": false,
    "ExecuteTime": {
     "end_time": "2023-06-27T11:03:17.511512Z",
     "start_time": "2023-06-27T11:03:16.945569500Z"
    }
   }
  },
  {
   "cell_type": "code",
   "execution_count": 70,
   "outputs": [
    {
     "data": {
      "text/plain": "     a    b    c    d    e    f    g   h   m     n\n0   10   20   30   40   50   60   70  56  56  56.0\n1  100  200  300  400  500  600  700  78  78   NaN",
      "text/html": "<div>\n<style scoped>\n    .dataframe tbody tr th:only-of-type {\n        vertical-align: middle;\n    }\n\n    .dataframe tbody tr th {\n        vertical-align: top;\n    }\n\n    .dataframe thead th {\n        text-align: right;\n    }\n</style>\n<table border=\"1\" class=\"dataframe\">\n  <thead>\n    <tr style=\"text-align: right;\">\n      <th></th>\n      <th>a</th>\n      <th>b</th>\n      <th>c</th>\n      <th>d</th>\n      <th>e</th>\n      <th>f</th>\n      <th>g</th>\n      <th>h</th>\n      <th>m</th>\n      <th>n</th>\n    </tr>\n  </thead>\n  <tbody>\n    <tr>\n      <th>0</th>\n      <td>10</td>\n      <td>20</td>\n      <td>30</td>\n      <td>40</td>\n      <td>50</td>\n      <td>60</td>\n      <td>70</td>\n      <td>56</td>\n      <td>56</td>\n      <td>56.0</td>\n    </tr>\n    <tr>\n      <th>1</th>\n      <td>100</td>\n      <td>200</td>\n      <td>300</td>\n      <td>400</td>\n      <td>500</td>\n      <td>600</td>\n      <td>700</td>\n      <td>78</td>\n      <td>78</td>\n      <td>NaN</td>\n    </tr>\n  </tbody>\n</table>\n</div>"
     },
     "execution_count": 70,
     "metadata": {},
     "output_type": "execute_result"
    }
   ],
   "source": [
    "df"
   ],
   "metadata": {
    "collapsed": false,
    "ExecuteTime": {
     "end_time": "2023-06-27T11:03:17.511512Z",
     "start_time": "2023-06-27T11:03:16.950483700Z"
    }
   }
  },
  {
   "cell_type": "code",
   "execution_count": 71,
   "outputs": [],
   "source": [
    "del df['n']"
   ],
   "metadata": {
    "collapsed": false,
    "ExecuteTime": {
     "end_time": "2023-06-27T11:03:17.511512Z",
     "start_time": "2023-06-27T11:03:16.960626200Z"
    }
   }
  },
  {
   "cell_type": "code",
   "execution_count": 72,
   "outputs": [
    {
     "data": {
      "text/plain": "     a    b    c    d    e    f    g   h   m\n0   10   20   30   40   50   60   70  56  56\n1  100  200  300  400  500  600  700  78  78",
      "text/html": "<div>\n<style scoped>\n    .dataframe tbody tr th:only-of-type {\n        vertical-align: middle;\n    }\n\n    .dataframe tbody tr th {\n        vertical-align: top;\n    }\n\n    .dataframe thead th {\n        text-align: right;\n    }\n</style>\n<table border=\"1\" class=\"dataframe\">\n  <thead>\n    <tr style=\"text-align: right;\">\n      <th></th>\n      <th>a</th>\n      <th>b</th>\n      <th>c</th>\n      <th>d</th>\n      <th>e</th>\n      <th>f</th>\n      <th>g</th>\n      <th>h</th>\n      <th>m</th>\n    </tr>\n  </thead>\n  <tbody>\n    <tr>\n      <th>0</th>\n      <td>10</td>\n      <td>20</td>\n      <td>30</td>\n      <td>40</td>\n      <td>50</td>\n      <td>60</td>\n      <td>70</td>\n      <td>56</td>\n      <td>56</td>\n    </tr>\n    <tr>\n      <th>1</th>\n      <td>100</td>\n      <td>200</td>\n      <td>300</td>\n      <td>400</td>\n      <td>500</td>\n      <td>600</td>\n      <td>700</td>\n      <td>78</td>\n      <td>78</td>\n    </tr>\n  </tbody>\n</table>\n</div>"
     },
     "execution_count": 72,
     "metadata": {},
     "output_type": "execute_result"
    }
   ],
   "source": [
    "df"
   ],
   "metadata": {
    "collapsed": false,
    "ExecuteTime": {
     "end_time": "2023-06-27T11:03:17.512509900Z",
     "start_time": "2023-06-27T11:03:16.964528800Z"
    }
   }
  },
  {
   "cell_type": "code",
   "execution_count": 73,
   "outputs": [],
   "source": [
    "# df.pop()"
   ],
   "metadata": {
    "collapsed": false,
    "ExecuteTime": {
     "end_time": "2023-06-27T11:03:17.512509900Z",
     "start_time": "2023-06-27T11:03:16.973350200Z"
    }
   }
  },
  {
   "cell_type": "code",
   "execution_count": 74,
   "outputs": [
    {
     "data": {
      "text/plain": "     c\n0   30\n1  300",
      "text/html": "<div>\n<style scoped>\n    .dataframe tbody tr th:only-of-type {\n        vertical-align: middle;\n    }\n\n    .dataframe tbody tr th {\n        vertical-align: top;\n    }\n\n    .dataframe thead th {\n        text-align: right;\n    }\n</style>\n<table border=\"1\" class=\"dataframe\">\n  <thead>\n    <tr style=\"text-align: right;\">\n      <th></th>\n      <th>c</th>\n    </tr>\n  </thead>\n  <tbody>\n    <tr>\n      <th>0</th>\n      <td>30</td>\n    </tr>\n    <tr>\n      <th>1</th>\n      <td>300</td>\n    </tr>\n  </tbody>\n</table>\n</div>"
     },
     "execution_count": 74,
     "metadata": {},
     "output_type": "execute_result"
    }
   ],
   "source": [
    "df[['c']]"
   ],
   "metadata": {
    "collapsed": false,
    "ExecuteTime": {
     "end_time": "2023-06-27T11:03:17.512509900Z",
     "start_time": "2023-06-27T11:03:16.977545Z"
    }
   }
  },
  {
   "cell_type": "code",
   "execution_count": 75,
   "outputs": [
    {
     "data": {
      "text/plain": "     e    a    f\n0   50   10   60\n1  500  100  600",
      "text/html": "<div>\n<style scoped>\n    .dataframe tbody tr th:only-of-type {\n        vertical-align: middle;\n    }\n\n    .dataframe tbody tr th {\n        vertical-align: top;\n    }\n\n    .dataframe thead th {\n        text-align: right;\n    }\n</style>\n<table border=\"1\" class=\"dataframe\">\n  <thead>\n    <tr style=\"text-align: right;\">\n      <th></th>\n      <th>e</th>\n      <th>a</th>\n      <th>f</th>\n    </tr>\n  </thead>\n  <tbody>\n    <tr>\n      <th>0</th>\n      <td>50</td>\n      <td>10</td>\n      <td>60</td>\n    </tr>\n    <tr>\n      <th>1</th>\n      <td>500</td>\n      <td>100</td>\n      <td>600</td>\n    </tr>\n  </tbody>\n</table>\n</div>"
     },
     "execution_count": 75,
     "metadata": {},
     "output_type": "execute_result"
    }
   ],
   "source": [
    "df[['e', 'a', 'f']]"
   ],
   "metadata": {
    "collapsed": false,
    "ExecuteTime": {
     "end_time": "2023-06-27T11:03:17.513508Z",
     "start_time": "2023-06-27T11:03:16.987088700Z"
    }
   }
  },
  {
   "cell_type": "code",
   "execution_count": 76,
   "outputs": [],
   "source": [
    "data = {'apple': [102, 500, 250, 75], \"grapes\": [50, 150, 90, 45]}\n",
    "df = pd.DataFrame(data)"
   ],
   "metadata": {
    "collapsed": false,
    "ExecuteTime": {
     "end_time": "2023-06-27T11:03:17.513508Z",
     "start_time": "2023-06-27T11:03:16.995121700Z"
    }
   }
  },
  {
   "cell_type": "code",
   "execution_count": 77,
   "outputs": [
    {
     "data": {
      "text/plain": "   apple  grapes\n0    102      50\n1    500     150\n2    250      90\n3     75      45",
      "text/html": "<div>\n<style scoped>\n    .dataframe tbody tr th:only-of-type {\n        vertical-align: middle;\n    }\n\n    .dataframe tbody tr th {\n        vertical-align: top;\n    }\n\n    .dataframe thead th {\n        text-align: right;\n    }\n</style>\n<table border=\"1\" class=\"dataframe\">\n  <thead>\n    <tr style=\"text-align: right;\">\n      <th></th>\n      <th>apple</th>\n      <th>grapes</th>\n    </tr>\n  </thead>\n  <tbody>\n    <tr>\n      <th>0</th>\n      <td>102</td>\n      <td>50</td>\n    </tr>\n    <tr>\n      <th>1</th>\n      <td>500</td>\n      <td>150</td>\n    </tr>\n    <tr>\n      <th>2</th>\n      <td>250</td>\n      <td>90</td>\n    </tr>\n    <tr>\n      <th>3</th>\n      <td>75</td>\n      <td>45</td>\n    </tr>\n  </tbody>\n</table>\n</div>"
     },
     "execution_count": 77,
     "metadata": {},
     "output_type": "execute_result"
    }
   ],
   "source": [
    "df"
   ],
   "metadata": {
    "collapsed": false,
    "ExecuteTime": {
     "end_time": "2023-06-27T11:03:17.539269600Z",
     "start_time": "2023-06-27T11:03:17.003448800Z"
    }
   }
  },
  {
   "cell_type": "code",
   "execution_count": 78,
   "outputs": [
    {
     "data": {
      "text/plain": "   grapes\n0      50\n1     150\n2      90\n3      45",
      "text/html": "<div>\n<style scoped>\n    .dataframe tbody tr th:only-of-type {\n        vertical-align: middle;\n    }\n\n    .dataframe tbody tr th {\n        vertical-align: top;\n    }\n\n    .dataframe thead th {\n        text-align: right;\n    }\n</style>\n<table border=\"1\" class=\"dataframe\">\n  <thead>\n    <tr style=\"text-align: right;\">\n      <th></th>\n      <th>grapes</th>\n    </tr>\n  </thead>\n  <tbody>\n    <tr>\n      <th>0</th>\n      <td>50</td>\n    </tr>\n    <tr>\n      <th>1</th>\n      <td>150</td>\n    </tr>\n    <tr>\n      <th>2</th>\n      <td>90</td>\n    </tr>\n    <tr>\n      <th>3</th>\n      <td>45</td>\n    </tr>\n  </tbody>\n</table>\n</div>"
     },
     "execution_count": 78,
     "metadata": {},
     "output_type": "execute_result"
    }
   ],
   "source": [
    "df[['grapes']]"
   ],
   "metadata": {
    "collapsed": false,
    "ExecuteTime": {
     "end_time": "2023-06-27T11:03:17.539269600Z",
     "start_time": "2023-06-27T11:03:17.016012800Z"
    }
   }
  },
  {
   "cell_type": "code",
   "execution_count": 79,
   "outputs": [],
   "source": [
    "df['bananas'] = df['grapes'] + 50"
   ],
   "metadata": {
    "collapsed": false,
    "ExecuteTime": {
     "end_time": "2023-06-27T11:03:17.540267700Z",
     "start_time": "2023-06-27T11:03:17.029993400Z"
    }
   }
  },
  {
   "cell_type": "code",
   "execution_count": 80,
   "outputs": [
    {
     "data": {
      "text/plain": "   apple  grapes  bananas\n0    102      50      100\n1    500     150      200\n2    250      90      140\n3     75      45       95",
      "text/html": "<div>\n<style scoped>\n    .dataframe tbody tr th:only-of-type {\n        vertical-align: middle;\n    }\n\n    .dataframe tbody tr th {\n        vertical-align: top;\n    }\n\n    .dataframe thead th {\n        text-align: right;\n    }\n</style>\n<table border=\"1\" class=\"dataframe\">\n  <thead>\n    <tr style=\"text-align: right;\">\n      <th></th>\n      <th>apple</th>\n      <th>grapes</th>\n      <th>bananas</th>\n    </tr>\n  </thead>\n  <tbody>\n    <tr>\n      <th>0</th>\n      <td>102</td>\n      <td>50</td>\n      <td>100</td>\n    </tr>\n    <tr>\n      <th>1</th>\n      <td>500</td>\n      <td>150</td>\n      <td>200</td>\n    </tr>\n    <tr>\n      <th>2</th>\n      <td>250</td>\n      <td>90</td>\n      <td>140</td>\n    </tr>\n    <tr>\n      <th>3</th>\n      <td>75</td>\n      <td>45</td>\n      <td>95</td>\n    </tr>\n  </tbody>\n</table>\n</div>"
     },
     "execution_count": 80,
     "metadata": {},
     "output_type": "execute_result"
    }
   ],
   "source": [
    "df"
   ],
   "metadata": {
    "collapsed": false,
    "ExecuteTime": {
     "end_time": "2023-06-27T11:03:17.540267700Z",
     "start_time": "2023-06-27T11:03:17.038698600Z"
    }
   }
  },
  {
   "cell_type": "code",
   "execution_count": 81,
   "outputs": [],
   "source": [
    "df.drop('bananas', axis=1, inplace=True)"
   ],
   "metadata": {
    "collapsed": false,
    "ExecuteTime": {
     "end_time": "2023-06-27T11:03:17.541264300Z",
     "start_time": "2023-06-27T11:03:17.051524800Z"
    }
   }
  },
  {
   "cell_type": "code",
   "execution_count": 82,
   "outputs": [
    {
     "data": {
      "text/plain": "   apple  grapes\n0    102      50\n1    500     150\n2    250      90\n3     75      45",
      "text/html": "<div>\n<style scoped>\n    .dataframe tbody tr th:only-of-type {\n        vertical-align: middle;\n    }\n\n    .dataframe tbody tr th {\n        vertical-align: top;\n    }\n\n    .dataframe thead th {\n        text-align: right;\n    }\n</style>\n<table border=\"1\" class=\"dataframe\">\n  <thead>\n    <tr style=\"text-align: right;\">\n      <th></th>\n      <th>apple</th>\n      <th>grapes</th>\n    </tr>\n  </thead>\n  <tbody>\n    <tr>\n      <th>0</th>\n      <td>102</td>\n      <td>50</td>\n    </tr>\n    <tr>\n      <th>1</th>\n      <td>500</td>\n      <td>150</td>\n    </tr>\n    <tr>\n      <th>2</th>\n      <td>250</td>\n      <td>90</td>\n    </tr>\n    <tr>\n      <th>3</th>\n      <td>75</td>\n      <td>45</td>\n    </tr>\n  </tbody>\n</table>\n</div>"
     },
     "execution_count": 82,
     "metadata": {},
     "output_type": "execute_result"
    }
   ],
   "source": [
    "df"
   ],
   "metadata": {
    "collapsed": false,
    "ExecuteTime": {
     "end_time": "2023-06-27T11:03:17.541264300Z",
     "start_time": "2023-06-27T11:03:17.067228200Z"
    }
   }
  },
  {
   "cell_type": "code",
   "execution_count": 83,
   "outputs": [],
   "source": [
    "df['pear'] = df['grapes'] + 100\n",
    "df['mangos'] = df['grapes'] + 500\n",
    "df['jackfruit'] = df['grapes'] + 150\n",
    "df['strawberry'] = df['grapes'] + 200\n",
    "df['oranges'] = df['grapes'] + 70"
   ],
   "metadata": {
    "collapsed": false,
    "ExecuteTime": {
     "end_time": "2023-06-27T11:03:17.541264300Z",
     "start_time": "2023-06-27T11:03:17.072186200Z"
    }
   }
  },
  {
   "cell_type": "code",
   "execution_count": 84,
   "outputs": [
    {
     "data": {
      "text/plain": "   apple  grapes  pear  mangos  jackfruit  strawberry  oranges\n0    102      50   150     550        200         250      120\n1    500     150   250     650        300         350      220\n2    250      90   190     590        240         290      160\n3     75      45   145     545        195         245      115",
      "text/html": "<div>\n<style scoped>\n    .dataframe tbody tr th:only-of-type {\n        vertical-align: middle;\n    }\n\n    .dataframe tbody tr th {\n        vertical-align: top;\n    }\n\n    .dataframe thead th {\n        text-align: right;\n    }\n</style>\n<table border=\"1\" class=\"dataframe\">\n  <thead>\n    <tr style=\"text-align: right;\">\n      <th></th>\n      <th>apple</th>\n      <th>grapes</th>\n      <th>pear</th>\n      <th>mangos</th>\n      <th>jackfruit</th>\n      <th>strawberry</th>\n      <th>oranges</th>\n    </tr>\n  </thead>\n  <tbody>\n    <tr>\n      <th>0</th>\n      <td>102</td>\n      <td>50</td>\n      <td>150</td>\n      <td>550</td>\n      <td>200</td>\n      <td>250</td>\n      <td>120</td>\n    </tr>\n    <tr>\n      <th>1</th>\n      <td>500</td>\n      <td>150</td>\n      <td>250</td>\n      <td>650</td>\n      <td>300</td>\n      <td>350</td>\n      <td>220</td>\n    </tr>\n    <tr>\n      <th>2</th>\n      <td>250</td>\n      <td>90</td>\n      <td>190</td>\n      <td>590</td>\n      <td>240</td>\n      <td>290</td>\n      <td>160</td>\n    </tr>\n    <tr>\n      <th>3</th>\n      <td>75</td>\n      <td>45</td>\n      <td>145</td>\n      <td>545</td>\n      <td>195</td>\n      <td>245</td>\n      <td>115</td>\n    </tr>\n  </tbody>\n</table>\n</div>"
     },
     "execution_count": 84,
     "metadata": {},
     "output_type": "execute_result"
    }
   ],
   "source": [
    "df"
   ],
   "metadata": {
    "collapsed": false,
    "ExecuteTime": {
     "end_time": "2023-06-27T11:03:17.542264Z",
     "start_time": "2023-06-27T11:03:17.082980400Z"
    }
   }
  },
  {
   "cell_type": "markdown",
   "source": [
    "## Row selection"
   ],
   "metadata": {
    "collapsed": false
   }
  },
  {
   "cell_type": "code",
   "execution_count": 85,
   "outputs": [
    {
     "data": {
      "text/plain": "apple          75\ngrapes         45\npear          145\nmangos        545\njackfruit     195\nstrawberry    245\noranges       115\nName: 3, dtype: int64"
     },
     "execution_count": 85,
     "metadata": {},
     "output_type": "execute_result"
    }
   ],
   "source": [
    "# loc & iloc\n",
    "# loc -> works with rows\n",
    "df.loc[3]"
   ],
   "metadata": {
    "collapsed": false,
    "ExecuteTime": {
     "end_time": "2023-06-27T11:03:17.543259900Z",
     "start_time": "2023-06-27T11:03:17.094128600Z"
    }
   }
  },
  {
   "cell_type": "markdown",
   "source": [
    "df.loc[[3]]"
   ],
   "metadata": {
    "collapsed": false
   }
  },
  {
   "cell_type": "code",
   "execution_count": 86,
   "outputs": [
    {
     "data": {
      "text/plain": "   apple  grapes  pear  mangos  jackfruit  strawberry  oranges\n3     75      45   145     545        195         245      115",
      "text/html": "<div>\n<style scoped>\n    .dataframe tbody tr th:only-of-type {\n        vertical-align: middle;\n    }\n\n    .dataframe tbody tr th {\n        vertical-align: top;\n    }\n\n    .dataframe thead th {\n        text-align: right;\n    }\n</style>\n<table border=\"1\" class=\"dataframe\">\n  <thead>\n    <tr style=\"text-align: right;\">\n      <th></th>\n      <th>apple</th>\n      <th>grapes</th>\n      <th>pear</th>\n      <th>mangos</th>\n      <th>jackfruit</th>\n      <th>strawberry</th>\n      <th>oranges</th>\n    </tr>\n  </thead>\n  <tbody>\n    <tr>\n      <th>3</th>\n      <td>75</td>\n      <td>45</td>\n      <td>145</td>\n      <td>545</td>\n      <td>195</td>\n      <td>245</td>\n      <td>115</td>\n    </tr>\n  </tbody>\n</table>\n</div>"
     },
     "execution_count": 86,
     "metadata": {},
     "output_type": "execute_result"
    }
   ],
   "source": [
    "# iloc -> index name\n",
    "df.iloc[[3]]"
   ],
   "metadata": {
    "collapsed": false,
    "ExecuteTime": {
     "end_time": "2023-06-27T11:03:17.544209600Z",
     "start_time": "2023-06-27T11:03:17.104471400Z"
    }
   }
  },
  {
   "cell_type": "markdown",
   "source": [
    "## Row addition"
   ],
   "metadata": {
    "collapsed": false
   }
  },
  {
   "cell_type": "code",
   "execution_count": 87,
   "outputs": [],
   "source": [
    "student_marks = {\n",
    "    \"name\": ['rahul', 'rohit', 'venkat', 'sahil', 'ankita'],\n",
    "    \"OS\": [25, 75.5, 96, 0, 100],\n",
    "    \"DBMS\": [20, 80, 60, 50, 99]\n",
    "}\n",
    "\n",
    "df1 = pd.DataFrame(student_marks)"
   ],
   "metadata": {
    "collapsed": false,
    "ExecuteTime": {
     "end_time": "2023-06-27T11:03:17.544716Z",
     "start_time": "2023-06-27T11:03:17.116444800Z"
    }
   }
  },
  {
   "cell_type": "code",
   "execution_count": 88,
   "outputs": [
    {
     "data": {
      "text/plain": "     name     OS  DBMS\n0   rahul   25.0    20\n1   rohit   75.5    80\n2  venkat   96.0    60\n3   sahil    0.0    50\n4  ankita  100.0    99",
      "text/html": "<div>\n<style scoped>\n    .dataframe tbody tr th:only-of-type {\n        vertical-align: middle;\n    }\n\n    .dataframe tbody tr th {\n        vertical-align: top;\n    }\n\n    .dataframe thead th {\n        text-align: right;\n    }\n</style>\n<table border=\"1\" class=\"dataframe\">\n  <thead>\n    <tr style=\"text-align: right;\">\n      <th></th>\n      <th>name</th>\n      <th>OS</th>\n      <th>DBMS</th>\n    </tr>\n  </thead>\n  <tbody>\n    <tr>\n      <th>0</th>\n      <td>rahul</td>\n      <td>25.0</td>\n      <td>20</td>\n    </tr>\n    <tr>\n      <th>1</th>\n      <td>rohit</td>\n      <td>75.5</td>\n      <td>80</td>\n    </tr>\n    <tr>\n      <th>2</th>\n      <td>venkat</td>\n      <td>96.0</td>\n      <td>60</td>\n    </tr>\n    <tr>\n      <th>3</th>\n      <td>sahil</td>\n      <td>0.0</td>\n      <td>50</td>\n    </tr>\n    <tr>\n      <th>4</th>\n      <td>ankita</td>\n      <td>100.0</td>\n      <td>99</td>\n    </tr>\n  </tbody>\n</table>\n</div>"
     },
     "execution_count": 88,
     "metadata": {},
     "output_type": "execute_result"
    }
   ],
   "source": [
    "df1"
   ],
   "metadata": {
    "collapsed": false,
    "ExecuteTime": {
     "end_time": "2023-06-27T11:03:17.545717300Z",
     "start_time": "2023-06-27T11:03:17.122828500Z"
    }
   }
  },
  {
   "cell_type": "code",
   "execution_count": 89,
   "outputs": [],
   "source": [
    "data2 = {\"name\": \"robby\", \"OS\": 60.5, \"DBMS\": 55.5}"
   ],
   "metadata": {
    "collapsed": false,
    "ExecuteTime": {
     "end_time": "2023-06-27T11:03:17.545717300Z",
     "start_time": "2023-06-27T11:03:17.134048400Z"
    }
   }
  },
  {
   "cell_type": "code",
   "execution_count": 90,
   "outputs": [],
   "source": [
    "df1 = df1._append(data2, ignore_index=True)"
   ],
   "metadata": {
    "collapsed": false,
    "ExecuteTime": {
     "end_time": "2023-06-27T11:03:17.546714600Z",
     "start_time": "2023-06-27T11:03:17.140847Z"
    }
   }
  },
  {
   "cell_type": "code",
   "execution_count": 91,
   "outputs": [
    {
     "data": {
      "text/plain": "     name     OS  DBMS\n0   rahul   25.0  20.0\n1   rohit   75.5  80.0\n2  venkat   96.0  60.0\n3   sahil    0.0  50.0\n4  ankita  100.0  99.0\n5   robby   60.5  55.5",
      "text/html": "<div>\n<style scoped>\n    .dataframe tbody tr th:only-of-type {\n        vertical-align: middle;\n    }\n\n    .dataframe tbody tr th {\n        vertical-align: top;\n    }\n\n    .dataframe thead th {\n        text-align: right;\n    }\n</style>\n<table border=\"1\" class=\"dataframe\">\n  <thead>\n    <tr style=\"text-align: right;\">\n      <th></th>\n      <th>name</th>\n      <th>OS</th>\n      <th>DBMS</th>\n    </tr>\n  </thead>\n  <tbody>\n    <tr>\n      <th>0</th>\n      <td>rahul</td>\n      <td>25.0</td>\n      <td>20.0</td>\n    </tr>\n    <tr>\n      <th>1</th>\n      <td>rohit</td>\n      <td>75.5</td>\n      <td>80.0</td>\n    </tr>\n    <tr>\n      <th>2</th>\n      <td>venkat</td>\n      <td>96.0</td>\n      <td>60.0</td>\n    </tr>\n    <tr>\n      <th>3</th>\n      <td>sahil</td>\n      <td>0.0</td>\n      <td>50.0</td>\n    </tr>\n    <tr>\n      <th>4</th>\n      <td>ankita</td>\n      <td>100.0</td>\n      <td>99.0</td>\n    </tr>\n    <tr>\n      <th>5</th>\n      <td>robby</td>\n      <td>60.5</td>\n      <td>55.5</td>\n    </tr>\n  </tbody>\n</table>\n</div>"
     },
     "execution_count": 91,
     "metadata": {},
     "output_type": "execute_result"
    }
   ],
   "source": [
    "df1"
   ],
   "metadata": {
    "collapsed": false,
    "ExecuteTime": {
     "end_time": "2023-06-27T11:03:17.548708100Z",
     "start_time": "2023-06-27T11:03:17.147434Z"
    }
   }
  },
  {
   "cell_type": "code",
   "execution_count": 92,
   "outputs": [],
   "source": [
    "data3 = {\"name\": \"venom\", \"OS\": 80.5, \"DBMS\": 75}\n",
    "df3 = pd.DataFrame(data3, index=[0])"
   ],
   "metadata": {
    "collapsed": false,
    "ExecuteTime": {
     "end_time": "2023-06-27T11:03:17.549706300Z",
     "start_time": "2023-06-27T11:03:17.159868500Z"
    }
   }
  },
  {
   "cell_type": "code",
   "execution_count": 93,
   "outputs": [
    {
     "data": {
      "text/plain": "    name    OS  DBMS\n0  venom  80.5    75",
      "text/html": "<div>\n<style scoped>\n    .dataframe tbody tr th:only-of-type {\n        vertical-align: middle;\n    }\n\n    .dataframe tbody tr th {\n        vertical-align: top;\n    }\n\n    .dataframe thead th {\n        text-align: right;\n    }\n</style>\n<table border=\"1\" class=\"dataframe\">\n  <thead>\n    <tr style=\"text-align: right;\">\n      <th></th>\n      <th>name</th>\n      <th>OS</th>\n      <th>DBMS</th>\n    </tr>\n  </thead>\n  <tbody>\n    <tr>\n      <th>0</th>\n      <td>venom</td>\n      <td>80.5</td>\n      <td>75</td>\n    </tr>\n  </tbody>\n</table>\n</div>"
     },
     "execution_count": 93,
     "metadata": {},
     "output_type": "execute_result"
    }
   ],
   "source": [
    "df3\n"
   ],
   "metadata": {
    "collapsed": false,
    "ExecuteTime": {
     "end_time": "2023-06-27T11:03:17.550703Z",
     "start_time": "2023-06-27T11:03:17.166553800Z"
    }
   }
  },
  {
   "cell_type": "code",
   "execution_count": 94,
   "outputs": [],
   "source": [
    "df1 = pd.concat([df1, df3], ignore_index=True)"
   ],
   "metadata": {
    "collapsed": false,
    "ExecuteTime": {
     "end_time": "2023-06-27T11:03:17.550703Z",
     "start_time": "2023-06-27T11:03:17.177170800Z"
    }
   }
  },
  {
   "cell_type": "code",
   "execution_count": 95,
   "outputs": [
    {
     "data": {
      "text/plain": "     name     OS  DBMS\n0   rahul   25.0  20.0\n1   rohit   75.5  80.0\n2  venkat   96.0  60.0\n3   sahil    0.0  50.0\n4  ankita  100.0  99.0\n5   robby   60.5  55.5\n6   venom   80.5  75.0",
      "text/html": "<div>\n<style scoped>\n    .dataframe tbody tr th:only-of-type {\n        vertical-align: middle;\n    }\n\n    .dataframe tbody tr th {\n        vertical-align: top;\n    }\n\n    .dataframe thead th {\n        text-align: right;\n    }\n</style>\n<table border=\"1\" class=\"dataframe\">\n  <thead>\n    <tr style=\"text-align: right;\">\n      <th></th>\n      <th>name</th>\n      <th>OS</th>\n      <th>DBMS</th>\n    </tr>\n  </thead>\n  <tbody>\n    <tr>\n      <th>0</th>\n      <td>rahul</td>\n      <td>25.0</td>\n      <td>20.0</td>\n    </tr>\n    <tr>\n      <th>1</th>\n      <td>rohit</td>\n      <td>75.5</td>\n      <td>80.0</td>\n    </tr>\n    <tr>\n      <th>2</th>\n      <td>venkat</td>\n      <td>96.0</td>\n      <td>60.0</td>\n    </tr>\n    <tr>\n      <th>3</th>\n      <td>sahil</td>\n      <td>0.0</td>\n      <td>50.0</td>\n    </tr>\n    <tr>\n      <th>4</th>\n      <td>ankita</td>\n      <td>100.0</td>\n      <td>99.0</td>\n    </tr>\n    <tr>\n      <th>5</th>\n      <td>robby</td>\n      <td>60.5</td>\n      <td>55.5</td>\n    </tr>\n    <tr>\n      <th>6</th>\n      <td>venom</td>\n      <td>80.5</td>\n      <td>75.0</td>\n    </tr>\n  </tbody>\n</table>\n</div>"
     },
     "execution_count": 95,
     "metadata": {},
     "output_type": "execute_result"
    }
   ],
   "source": [
    "df1"
   ],
   "metadata": {
    "collapsed": false,
    "ExecuteTime": {
     "end_time": "2023-06-27T11:03:17.551701900Z",
     "start_time": "2023-06-27T11:03:17.186772800Z"
    }
   }
  },
  {
   "cell_type": "code",
   "execution_count": 96,
   "outputs": [
    {
     "data": {
      "text/plain": "    name    OS  DBMS\n0  rahul  25.0  20.0",
      "text/html": "<div>\n<style scoped>\n    .dataframe tbody tr th:only-of-type {\n        vertical-align: middle;\n    }\n\n    .dataframe tbody tr th {\n        vertical-align: top;\n    }\n\n    .dataframe thead th {\n        text-align: right;\n    }\n</style>\n<table border=\"1\" class=\"dataframe\">\n  <thead>\n    <tr style=\"text-align: right;\">\n      <th></th>\n      <th>name</th>\n      <th>OS</th>\n      <th>DBMS</th>\n    </tr>\n  </thead>\n  <tbody>\n    <tr>\n      <th>0</th>\n      <td>rahul</td>\n      <td>25.0</td>\n      <td>20.0</td>\n    </tr>\n  </tbody>\n</table>\n</div>"
     },
     "execution_count": 96,
     "metadata": {},
     "output_type": "execute_result"
    }
   ],
   "source": [
    "df1.iloc[[0]]"
   ],
   "metadata": {
    "collapsed": false,
    "ExecuteTime": {
     "end_time": "2023-06-27T11:03:17.553392200Z",
     "start_time": "2023-06-27T11:03:17.196849Z"
    }
   }
  },
  {
   "cell_type": "code",
   "execution_count": 97,
   "outputs": [
    {
     "data": {
      "text/plain": "     name     OS  DBMS\n4  ankita  100.0  99.0",
      "text/html": "<div>\n<style scoped>\n    .dataframe tbody tr th:only-of-type {\n        vertical-align: middle;\n    }\n\n    .dataframe tbody tr th {\n        vertical-align: top;\n    }\n\n    .dataframe thead th {\n        text-align: right;\n    }\n</style>\n<table border=\"1\" class=\"dataframe\">\n  <thead>\n    <tr style=\"text-align: right;\">\n      <th></th>\n      <th>name</th>\n      <th>OS</th>\n      <th>DBMS</th>\n    </tr>\n  </thead>\n  <tbody>\n    <tr>\n      <th>4</th>\n      <td>ankita</td>\n      <td>100.0</td>\n      <td>99.0</td>\n    </tr>\n  </tbody>\n</table>\n</div>"
     },
     "execution_count": 97,
     "metadata": {},
     "output_type": "execute_result"
    }
   ],
   "source": [
    "df1.loc[[4]]"
   ],
   "metadata": {
    "collapsed": false,
    "ExecuteTime": {
     "end_time": "2023-06-27T11:03:17.553897100Z",
     "start_time": "2023-06-27T11:03:17.208871200Z"
    }
   }
  },
  {
   "cell_type": "code",
   "execution_count": 98,
   "outputs": [],
   "source": [
    "df1.loc[4] = ['steve', 67, 23]"
   ],
   "metadata": {
    "collapsed": false,
    "ExecuteTime": {
     "end_time": "2023-06-27T11:03:17.553897100Z",
     "start_time": "2023-06-27T11:03:17.223734700Z"
    }
   }
  },
  {
   "cell_type": "code",
   "execution_count": 99,
   "outputs": [
    {
     "data": {
      "text/plain": "     name    OS  DBMS\n0   rahul  25.0  20.0\n1   rohit  75.5  80.0\n2  venkat  96.0  60.0\n3   sahil   0.0  50.0\n4   steve  67.0  23.0\n5   robby  60.5  55.5\n6   venom  80.5  75.0",
      "text/html": "<div>\n<style scoped>\n    .dataframe tbody tr th:only-of-type {\n        vertical-align: middle;\n    }\n\n    .dataframe tbody tr th {\n        vertical-align: top;\n    }\n\n    .dataframe thead th {\n        text-align: right;\n    }\n</style>\n<table border=\"1\" class=\"dataframe\">\n  <thead>\n    <tr style=\"text-align: right;\">\n      <th></th>\n      <th>name</th>\n      <th>OS</th>\n      <th>DBMS</th>\n    </tr>\n  </thead>\n  <tbody>\n    <tr>\n      <th>0</th>\n      <td>rahul</td>\n      <td>25.0</td>\n      <td>20.0</td>\n    </tr>\n    <tr>\n      <th>1</th>\n      <td>rohit</td>\n      <td>75.5</td>\n      <td>80.0</td>\n    </tr>\n    <tr>\n      <th>2</th>\n      <td>venkat</td>\n      <td>96.0</td>\n      <td>60.0</td>\n    </tr>\n    <tr>\n      <th>3</th>\n      <td>sahil</td>\n      <td>0.0</td>\n      <td>50.0</td>\n    </tr>\n    <tr>\n      <th>4</th>\n      <td>steve</td>\n      <td>67.0</td>\n      <td>23.0</td>\n    </tr>\n    <tr>\n      <th>5</th>\n      <td>robby</td>\n      <td>60.5</td>\n      <td>55.5</td>\n    </tr>\n    <tr>\n      <th>6</th>\n      <td>venom</td>\n      <td>80.5</td>\n      <td>75.0</td>\n    </tr>\n  </tbody>\n</table>\n</div>"
     },
     "execution_count": 99,
     "metadata": {},
     "output_type": "execute_result"
    }
   ],
   "source": [
    "df1"
   ],
   "metadata": {
    "collapsed": false,
    "ExecuteTime": {
     "end_time": "2023-06-27T11:03:17.554899400Z",
     "start_time": "2023-06-27T11:03:17.229532600Z"
    }
   }
  },
  {
   "cell_type": "markdown",
   "source": [
    "## Row deletion"
   ],
   "metadata": {
    "collapsed": false
   }
  },
  {
   "cell_type": "code",
   "execution_count": 100,
   "outputs": [
    {
     "data": {
      "text/plain": "    name    OS  DBMS\n6  venom  80.5  75.0",
      "text/html": "<div>\n<style scoped>\n    .dataframe tbody tr th:only-of-type {\n        vertical-align: middle;\n    }\n\n    .dataframe tbody tr th {\n        vertical-align: top;\n    }\n\n    .dataframe thead th {\n        text-align: right;\n    }\n</style>\n<table border=\"1\" class=\"dataframe\">\n  <thead>\n    <tr style=\"text-align: right;\">\n      <th></th>\n      <th>name</th>\n      <th>OS</th>\n      <th>DBMS</th>\n    </tr>\n  </thead>\n  <tbody>\n    <tr>\n      <th>6</th>\n      <td>venom</td>\n      <td>80.5</td>\n      <td>75.0</td>\n    </tr>\n  </tbody>\n</table>\n</div>"
     },
     "execution_count": 100,
     "metadata": {},
     "output_type": "execute_result"
    }
   ],
   "source": [
    "# del, pop, drop\n",
    "df1.loc[[6]]"
   ],
   "metadata": {
    "collapsed": false,
    "ExecuteTime": {
     "end_time": "2023-06-27T11:03:17.554899400Z",
     "start_time": "2023-06-27T11:03:17.238451900Z"
    }
   }
  },
  {
   "cell_type": "code",
   "execution_count": 101,
   "outputs": [],
   "source": [
    "df1.drop(6, inplace=True)"
   ],
   "metadata": {
    "collapsed": false,
    "ExecuteTime": {
     "end_time": "2023-06-27T11:03:17.555894300Z",
     "start_time": "2023-06-27T11:03:17.248882800Z"
    }
   }
  },
  {
   "cell_type": "code",
   "execution_count": 102,
   "outputs": [
    {
     "data": {
      "text/plain": "     name    OS  DBMS\n0   rahul  25.0  20.0\n1   rohit  75.5  80.0\n2  venkat  96.0  60.0\n3   sahil   0.0  50.0\n4   steve  67.0  23.0\n5   robby  60.5  55.5",
      "text/html": "<div>\n<style scoped>\n    .dataframe tbody tr th:only-of-type {\n        vertical-align: middle;\n    }\n\n    .dataframe tbody tr th {\n        vertical-align: top;\n    }\n\n    .dataframe thead th {\n        text-align: right;\n    }\n</style>\n<table border=\"1\" class=\"dataframe\">\n  <thead>\n    <tr style=\"text-align: right;\">\n      <th></th>\n      <th>name</th>\n      <th>OS</th>\n      <th>DBMS</th>\n    </tr>\n  </thead>\n  <tbody>\n    <tr>\n      <th>0</th>\n      <td>rahul</td>\n      <td>25.0</td>\n      <td>20.0</td>\n    </tr>\n    <tr>\n      <th>1</th>\n      <td>rohit</td>\n      <td>75.5</td>\n      <td>80.0</td>\n    </tr>\n    <tr>\n      <th>2</th>\n      <td>venkat</td>\n      <td>96.0</td>\n      <td>60.0</td>\n    </tr>\n    <tr>\n      <th>3</th>\n      <td>sahil</td>\n      <td>0.0</td>\n      <td>50.0</td>\n    </tr>\n    <tr>\n      <th>4</th>\n      <td>steve</td>\n      <td>67.0</td>\n      <td>23.0</td>\n    </tr>\n    <tr>\n      <th>5</th>\n      <td>robby</td>\n      <td>60.5</td>\n      <td>55.5</td>\n    </tr>\n  </tbody>\n</table>\n</div>"
     },
     "execution_count": 102,
     "metadata": {},
     "output_type": "execute_result"
    }
   ],
   "source": [
    "df1"
   ],
   "metadata": {
    "collapsed": false,
    "ExecuteTime": {
     "end_time": "2023-06-27T11:03:17.556892100Z",
     "start_time": "2023-06-27T11:03:17.257170500Z"
    }
   }
  },
  {
   "cell_type": "code",
   "execution_count": 103,
   "outputs": [],
   "source": [
    "lis = [1, 2, 3, 4, 5, 6, 7]"
   ],
   "metadata": {
    "collapsed": false,
    "ExecuteTime": {
     "end_time": "2023-06-27T11:03:17.557890300Z",
     "start_time": "2023-06-27T11:03:17.269576800Z"
    }
   }
  },
  {
   "cell_type": "markdown",
   "source": [
    "# data\n",
    "   * data cleaning\n",
    "   * data analysis\n",
    "   * data manipulation\n",
    "   * data exploration"
   ],
   "metadata": {
    "collapsed": false
   }
  },
  {
   "cell_type": "code",
   "execution_count": 104,
   "outputs": [
    {
     "data": {
      "text/plain": "     name    OS  DBMS\n0   rahul  25.0  20.0\n1   rohit  75.5  80.0\n2  venkat  96.0  60.0\n3   sahil   0.0  50.0\n4   steve  67.0  23.0\n5   robby  60.5  55.5",
      "text/html": "<div>\n<style scoped>\n    .dataframe tbody tr th:only-of-type {\n        vertical-align: middle;\n    }\n\n    .dataframe tbody tr th {\n        vertical-align: top;\n    }\n\n    .dataframe thead th {\n        text-align: right;\n    }\n</style>\n<table border=\"1\" class=\"dataframe\">\n  <thead>\n    <tr style=\"text-align: right;\">\n      <th></th>\n      <th>name</th>\n      <th>OS</th>\n      <th>DBMS</th>\n    </tr>\n  </thead>\n  <tbody>\n    <tr>\n      <th>0</th>\n      <td>rahul</td>\n      <td>25.0</td>\n      <td>20.0</td>\n    </tr>\n    <tr>\n      <th>1</th>\n      <td>rohit</td>\n      <td>75.5</td>\n      <td>80.0</td>\n    </tr>\n    <tr>\n      <th>2</th>\n      <td>venkat</td>\n      <td>96.0</td>\n      <td>60.0</td>\n    </tr>\n    <tr>\n      <th>3</th>\n      <td>sahil</td>\n      <td>0.0</td>\n      <td>50.0</td>\n    </tr>\n    <tr>\n      <th>4</th>\n      <td>steve</td>\n      <td>67.0</td>\n      <td>23.0</td>\n    </tr>\n    <tr>\n      <th>5</th>\n      <td>robby</td>\n      <td>60.5</td>\n      <td>55.5</td>\n    </tr>\n  </tbody>\n</table>\n</div>"
     },
     "execution_count": 104,
     "metadata": {},
     "output_type": "execute_result"
    }
   ],
   "source": [
    "df1"
   ],
   "metadata": {
    "collapsed": false,
    "ExecuteTime": {
     "end_time": "2023-06-27T11:03:17.558887800Z",
     "start_time": "2023-06-27T11:03:17.274567700Z"
    }
   }
  },
  {
   "cell_type": "markdown",
   "source": [
    "# Data exploration"
   ],
   "metadata": {
    "collapsed": false
   }
  },
  {
   "cell_type": "code",
   "execution_count": 105,
   "outputs": [
    {
     "data": {
      "text/plain": "   apple  grapes  pear  mangos  jackfruit  strawberry  oranges\n0    102      50   150     550        200         250      120\n1    500     150   250     650        300         350      220\n2    250      90   190     590        240         290      160\n3     75      45   145     545        195         245      115",
      "text/html": "<div>\n<style scoped>\n    .dataframe tbody tr th:only-of-type {\n        vertical-align: middle;\n    }\n\n    .dataframe tbody tr th {\n        vertical-align: top;\n    }\n\n    .dataframe thead th {\n        text-align: right;\n    }\n</style>\n<table border=\"1\" class=\"dataframe\">\n  <thead>\n    <tr style=\"text-align: right;\">\n      <th></th>\n      <th>apple</th>\n      <th>grapes</th>\n      <th>pear</th>\n      <th>mangos</th>\n      <th>jackfruit</th>\n      <th>strawberry</th>\n      <th>oranges</th>\n    </tr>\n  </thead>\n  <tbody>\n    <tr>\n      <th>0</th>\n      <td>102</td>\n      <td>50</td>\n      <td>150</td>\n      <td>550</td>\n      <td>200</td>\n      <td>250</td>\n      <td>120</td>\n    </tr>\n    <tr>\n      <th>1</th>\n      <td>500</td>\n      <td>150</td>\n      <td>250</td>\n      <td>650</td>\n      <td>300</td>\n      <td>350</td>\n      <td>220</td>\n    </tr>\n    <tr>\n      <th>2</th>\n      <td>250</td>\n      <td>90</td>\n      <td>190</td>\n      <td>590</td>\n      <td>240</td>\n      <td>290</td>\n      <td>160</td>\n    </tr>\n    <tr>\n      <th>3</th>\n      <td>75</td>\n      <td>45</td>\n      <td>145</td>\n      <td>545</td>\n      <td>195</td>\n      <td>245</td>\n      <td>115</td>\n    </tr>\n  </tbody>\n</table>\n</div>"
     },
     "execution_count": 105,
     "metadata": {},
     "output_type": "execute_result"
    }
   ],
   "source": [
    "df"
   ],
   "metadata": {
    "collapsed": false,
    "ExecuteTime": {
     "end_time": "2023-06-27T11:03:17.558887800Z",
     "start_time": "2023-06-27T11:03:17.284895800Z"
    }
   }
  },
  {
   "cell_type": "code",
   "execution_count": 106,
   "outputs": [
    {
     "data": {
      "text/plain": "     name    OS  DBMS\n0   rahul  25.0  20.0\n1   rohit  75.5  80.0\n2  venkat  96.0  60.0\n3   sahil   0.0  50.0\n4   steve  67.0  23.0\n5   robby  60.5  55.5",
      "text/html": "<div>\n<style scoped>\n    .dataframe tbody tr th:only-of-type {\n        vertical-align: middle;\n    }\n\n    .dataframe tbody tr th {\n        vertical-align: top;\n    }\n\n    .dataframe thead th {\n        text-align: right;\n    }\n</style>\n<table border=\"1\" class=\"dataframe\">\n  <thead>\n    <tr style=\"text-align: right;\">\n      <th></th>\n      <th>name</th>\n      <th>OS</th>\n      <th>DBMS</th>\n    </tr>\n  </thead>\n  <tbody>\n    <tr>\n      <th>0</th>\n      <td>rahul</td>\n      <td>25.0</td>\n      <td>20.0</td>\n    </tr>\n    <tr>\n      <th>1</th>\n      <td>rohit</td>\n      <td>75.5</td>\n      <td>80.0</td>\n    </tr>\n    <tr>\n      <th>2</th>\n      <td>venkat</td>\n      <td>96.0</td>\n      <td>60.0</td>\n    </tr>\n    <tr>\n      <th>3</th>\n      <td>sahil</td>\n      <td>0.0</td>\n      <td>50.0</td>\n    </tr>\n    <tr>\n      <th>4</th>\n      <td>steve</td>\n      <td>67.0</td>\n      <td>23.0</td>\n    </tr>\n    <tr>\n      <th>5</th>\n      <td>robby</td>\n      <td>60.5</td>\n      <td>55.5</td>\n    </tr>\n  </tbody>\n</table>\n</div>"
     },
     "execution_count": 106,
     "metadata": {},
     "output_type": "execute_result"
    }
   ],
   "source": [
    "df1"
   ],
   "metadata": {
    "collapsed": false,
    "ExecuteTime": {
     "end_time": "2023-06-27T11:03:17.559885Z",
     "start_time": "2023-06-27T11:03:17.294669700Z"
    }
   }
  },
  {
   "cell_type": "markdown",
   "source": [
    "## head()"
   ],
   "metadata": {
    "collapsed": false
   }
  },
  {
   "cell_type": "code",
   "execution_count": 107,
   "outputs": [
    {
     "data": {
      "text/plain": "     name    OS  DBMS\n0   rahul  25.0  20.0\n1   rohit  75.5  80.0\n2  venkat  96.0  60.0\n3   sahil   0.0  50.0\n4   steve  67.0  23.0",
      "text/html": "<div>\n<style scoped>\n    .dataframe tbody tr th:only-of-type {\n        vertical-align: middle;\n    }\n\n    .dataframe tbody tr th {\n        vertical-align: top;\n    }\n\n    .dataframe thead th {\n        text-align: right;\n    }\n</style>\n<table border=\"1\" class=\"dataframe\">\n  <thead>\n    <tr style=\"text-align: right;\">\n      <th></th>\n      <th>name</th>\n      <th>OS</th>\n      <th>DBMS</th>\n    </tr>\n  </thead>\n  <tbody>\n    <tr>\n      <th>0</th>\n      <td>rahul</td>\n      <td>25.0</td>\n      <td>20.0</td>\n    </tr>\n    <tr>\n      <th>1</th>\n      <td>rohit</td>\n      <td>75.5</td>\n      <td>80.0</td>\n    </tr>\n    <tr>\n      <th>2</th>\n      <td>venkat</td>\n      <td>96.0</td>\n      <td>60.0</td>\n    </tr>\n    <tr>\n      <th>3</th>\n      <td>sahil</td>\n      <td>0.0</td>\n      <td>50.0</td>\n    </tr>\n    <tr>\n      <th>4</th>\n      <td>steve</td>\n      <td>67.0</td>\n      <td>23.0</td>\n    </tr>\n  </tbody>\n</table>\n</div>"
     },
     "execution_count": 107,
     "metadata": {},
     "output_type": "execute_result"
    }
   ],
   "source": [
    "df1.head()"
   ],
   "metadata": {
    "collapsed": false,
    "ExecuteTime": {
     "end_time": "2023-06-27T11:03:17.560881900Z",
     "start_time": "2023-06-27T11:03:17.303238Z"
    }
   }
  },
  {
   "cell_type": "markdown",
   "source": [
    "## tail()"
   ],
   "metadata": {
    "collapsed": false
   }
  },
  {
   "cell_type": "code",
   "execution_count": 108,
   "outputs": [
    {
     "data": {
      "text/plain": "     name    OS  DBMS\n1   rohit  75.5  80.0\n2  venkat  96.0  60.0\n3   sahil   0.0  50.0\n4   steve  67.0  23.0\n5   robby  60.5  55.5",
      "text/html": "<div>\n<style scoped>\n    .dataframe tbody tr th:only-of-type {\n        vertical-align: middle;\n    }\n\n    .dataframe tbody tr th {\n        vertical-align: top;\n    }\n\n    .dataframe thead th {\n        text-align: right;\n    }\n</style>\n<table border=\"1\" class=\"dataframe\">\n  <thead>\n    <tr style=\"text-align: right;\">\n      <th></th>\n      <th>name</th>\n      <th>OS</th>\n      <th>DBMS</th>\n    </tr>\n  </thead>\n  <tbody>\n    <tr>\n      <th>1</th>\n      <td>rohit</td>\n      <td>75.5</td>\n      <td>80.0</td>\n    </tr>\n    <tr>\n      <th>2</th>\n      <td>venkat</td>\n      <td>96.0</td>\n      <td>60.0</td>\n    </tr>\n    <tr>\n      <th>3</th>\n      <td>sahil</td>\n      <td>0.0</td>\n      <td>50.0</td>\n    </tr>\n    <tr>\n      <th>4</th>\n      <td>steve</td>\n      <td>67.0</td>\n      <td>23.0</td>\n    </tr>\n    <tr>\n      <th>5</th>\n      <td>robby</td>\n      <td>60.5</td>\n      <td>55.5</td>\n    </tr>\n  </tbody>\n</table>\n</div>"
     },
     "execution_count": 108,
     "metadata": {},
     "output_type": "execute_result"
    }
   ],
   "source": [
    "df1.tail()"
   ],
   "metadata": {
    "collapsed": false,
    "ExecuteTime": {
     "end_time": "2023-06-27T11:03:17.561879200Z",
     "start_time": "2023-06-27T11:03:17.314189300Z"
    }
   }
  },
  {
   "cell_type": "code",
   "execution_count": 109,
   "outputs": [
    {
     "data": {
      "text/plain": "    name    OS  DBMS\n0  rahul  25.0  20.0\n1  rohit  75.5  80.0",
      "text/html": "<div>\n<style scoped>\n    .dataframe tbody tr th:only-of-type {\n        vertical-align: middle;\n    }\n\n    .dataframe tbody tr th {\n        vertical-align: top;\n    }\n\n    .dataframe thead th {\n        text-align: right;\n    }\n</style>\n<table border=\"1\" class=\"dataframe\">\n  <thead>\n    <tr style=\"text-align: right;\">\n      <th></th>\n      <th>name</th>\n      <th>OS</th>\n      <th>DBMS</th>\n    </tr>\n  </thead>\n  <tbody>\n    <tr>\n      <th>0</th>\n      <td>rahul</td>\n      <td>25.0</td>\n      <td>20.0</td>\n    </tr>\n    <tr>\n      <th>1</th>\n      <td>rohit</td>\n      <td>75.5</td>\n      <td>80.0</td>\n    </tr>\n  </tbody>\n</table>\n</div>"
     },
     "execution_count": 109,
     "metadata": {},
     "output_type": "execute_result"
    }
   ],
   "source": [
    "df1.head(2)"
   ],
   "metadata": {
    "collapsed": false,
    "ExecuteTime": {
     "end_time": "2023-06-27T11:03:17.561879200Z",
     "start_time": "2023-06-27T11:03:17.325000100Z"
    }
   }
  },
  {
   "cell_type": "markdown",
   "source": [
    "## dtypes"
   ],
   "metadata": {
    "collapsed": false
   }
  },
  {
   "cell_type": "code",
   "execution_count": 110,
   "outputs": [
    {
     "data": {
      "text/plain": "name     object\nOS      float64\nDBMS    float64\ndtype: object"
     },
     "execution_count": 110,
     "metadata": {},
     "output_type": "execute_result"
    }
   ],
   "source": [
    "df1.dtypes"
   ],
   "metadata": {
    "collapsed": false,
    "ExecuteTime": {
     "end_time": "2023-06-27T11:03:17.563873500Z",
     "start_time": "2023-06-27T11:03:17.336367700Z"
    }
   }
  },
  {
   "cell_type": "markdown",
   "source": [
    "## empty"
   ],
   "metadata": {
    "collapsed": false
   }
  },
  {
   "cell_type": "code",
   "execution_count": 111,
   "outputs": [
    {
     "data": {
      "text/plain": "False"
     },
     "execution_count": 111,
     "metadata": {},
     "output_type": "execute_result"
    }
   ],
   "source": [
    "df1.empty"
   ],
   "metadata": {
    "collapsed": false,
    "ExecuteTime": {
     "end_time": "2023-06-27T11:03:17.564877100Z",
     "start_time": "2023-06-27T11:03:17.343141400Z"
    }
   }
  },
  {
   "cell_type": "markdown",
   "source": [
    "## ndim"
   ],
   "metadata": {
    "collapsed": false
   }
  },
  {
   "cell_type": "code",
   "execution_count": 112,
   "outputs": [
    {
     "data": {
      "text/plain": "2"
     },
     "execution_count": 112,
     "metadata": {},
     "output_type": "execute_result"
    }
   ],
   "source": [
    "df1.ndim"
   ],
   "metadata": {
    "collapsed": false,
    "ExecuteTime": {
     "end_time": "2023-06-27T11:03:17.565868300Z",
     "start_time": "2023-06-27T11:03:17.349531300Z"
    }
   }
  },
  {
   "cell_type": "markdown",
   "source": [
    "## shape"
   ],
   "metadata": {
    "collapsed": false
   }
  },
  {
   "cell_type": "code",
   "execution_count": 113,
   "outputs": [
    {
     "data": {
      "text/plain": "(6, 3)"
     },
     "execution_count": 113,
     "metadata": {},
     "output_type": "execute_result"
    }
   ],
   "source": [
    "df1.shape"
   ],
   "metadata": {
    "collapsed": false,
    "ExecuteTime": {
     "end_time": "2023-06-27T11:03:17.565868300Z",
     "start_time": "2023-06-27T11:03:17.356307200Z"
    }
   }
  },
  {
   "cell_type": "code",
   "execution_count": 114,
   "outputs": [
    {
     "data": {
      "text/plain": "18"
     },
     "execution_count": 114,
     "metadata": {},
     "output_type": "execute_result"
    }
   ],
   "source": [
    "df1.size"
   ],
   "metadata": {
    "collapsed": false,
    "ExecuteTime": {
     "end_time": "2023-06-27T11:03:17.566865300Z",
     "start_time": "2023-06-27T11:03:17.362142900Z"
    }
   }
  },
  {
   "cell_type": "markdown",
   "source": [
    "## values"
   ],
   "metadata": {
    "collapsed": false
   }
  },
  {
   "cell_type": "code",
   "execution_count": 115,
   "outputs": [
    {
     "data": {
      "text/plain": "array([['rahul', 25.0, 20.0],\n       ['rohit', 75.5, 80.0],\n       ['venkat', 96.0, 60.0],\n       ['sahil', 0.0, 50.0],\n       ['steve', 67.0, 23.0],\n       ['robby', 60.5, 55.5]], dtype=object)"
     },
     "execution_count": 115,
     "metadata": {},
     "output_type": "execute_result"
    }
   ],
   "source": [
    "df1.values"
   ],
   "metadata": {
    "collapsed": false,
    "ExecuteTime": {
     "end_time": "2023-06-27T11:03:17.567862900Z",
     "start_time": "2023-06-27T11:03:17.369309700Z"
    }
   }
  },
  {
   "cell_type": "code",
   "execution_count": 116,
   "outputs": [
    {
     "data": {
      "text/plain": "Index(['name', 'OS', 'DBMS'], dtype='object')"
     },
     "execution_count": 116,
     "metadata": {},
     "output_type": "execute_result"
    }
   ],
   "source": [
    "df1.keys()"
   ],
   "metadata": {
    "collapsed": false,
    "ExecuteTime": {
     "end_time": "2023-06-27T11:03:17.568861100Z",
     "start_time": "2023-06-27T11:03:17.378471600Z"
    }
   }
  },
  {
   "cell_type": "markdown",
   "source": [
    "## describe"
   ],
   "metadata": {
    "collapsed": false
   }
  },
  {
   "cell_type": "code",
   "execution_count": 117,
   "outputs": [
    {
     "data": {
      "text/plain": "              OS       DBMS\ncount   6.000000   6.000000\nmean   54.000000  48.083333\nstd    35.198011  22.966098\nmin     0.000000  20.000000\n25%    33.875000  29.750000\n50%    63.750000  52.750000\n75%    73.375000  58.875000\nmax    96.000000  80.000000",
      "text/html": "<div>\n<style scoped>\n    .dataframe tbody tr th:only-of-type {\n        vertical-align: middle;\n    }\n\n    .dataframe tbody tr th {\n        vertical-align: top;\n    }\n\n    .dataframe thead th {\n        text-align: right;\n    }\n</style>\n<table border=\"1\" class=\"dataframe\">\n  <thead>\n    <tr style=\"text-align: right;\">\n      <th></th>\n      <th>OS</th>\n      <th>DBMS</th>\n    </tr>\n  </thead>\n  <tbody>\n    <tr>\n      <th>count</th>\n      <td>6.000000</td>\n      <td>6.000000</td>\n    </tr>\n    <tr>\n      <th>mean</th>\n      <td>54.000000</td>\n      <td>48.083333</td>\n    </tr>\n    <tr>\n      <th>std</th>\n      <td>35.198011</td>\n      <td>22.966098</td>\n    </tr>\n    <tr>\n      <th>min</th>\n      <td>0.000000</td>\n      <td>20.000000</td>\n    </tr>\n    <tr>\n      <th>25%</th>\n      <td>33.875000</td>\n      <td>29.750000</td>\n    </tr>\n    <tr>\n      <th>50%</th>\n      <td>63.750000</td>\n      <td>52.750000</td>\n    </tr>\n    <tr>\n      <th>75%</th>\n      <td>73.375000</td>\n      <td>58.875000</td>\n    </tr>\n    <tr>\n      <th>max</th>\n      <td>96.000000</td>\n      <td>80.000000</td>\n    </tr>\n  </tbody>\n</table>\n</div>"
     },
     "execution_count": 117,
     "metadata": {},
     "output_type": "execute_result"
    }
   ],
   "source": [
    "df1.describe()"
   ],
   "metadata": {
    "collapsed": false,
    "ExecuteTime": {
     "end_time": "2023-06-27T11:03:17.569858200Z",
     "start_time": "2023-06-27T11:03:17.383931600Z"
    }
   }
  },
  {
   "cell_type": "markdown",
   "source": [
    "## T"
   ],
   "metadata": {
    "collapsed": false
   }
  },
  {
   "cell_type": "code",
   "execution_count": 118,
   "outputs": [
    {
     "data": {
      "text/plain": "          0      1       2      3      4      5\nname  rahul  rohit  venkat  sahil  steve  robby\nOS     25.0   75.5    96.0    0.0   67.0   60.5\nDBMS   20.0   80.0    60.0   50.0   23.0   55.5",
      "text/html": "<div>\n<style scoped>\n    .dataframe tbody tr th:only-of-type {\n        vertical-align: middle;\n    }\n\n    .dataframe tbody tr th {\n        vertical-align: top;\n    }\n\n    .dataframe thead th {\n        text-align: right;\n    }\n</style>\n<table border=\"1\" class=\"dataframe\">\n  <thead>\n    <tr style=\"text-align: right;\">\n      <th></th>\n      <th>0</th>\n      <th>1</th>\n      <th>2</th>\n      <th>3</th>\n      <th>4</th>\n      <th>5</th>\n    </tr>\n  </thead>\n  <tbody>\n    <tr>\n      <th>name</th>\n      <td>rahul</td>\n      <td>rohit</td>\n      <td>venkat</td>\n      <td>sahil</td>\n      <td>steve</td>\n      <td>robby</td>\n    </tr>\n    <tr>\n      <th>OS</th>\n      <td>25.0</td>\n      <td>75.5</td>\n      <td>96.0</td>\n      <td>0.0</td>\n      <td>67.0</td>\n      <td>60.5</td>\n    </tr>\n    <tr>\n      <th>DBMS</th>\n      <td>20.0</td>\n      <td>80.0</td>\n      <td>60.0</td>\n      <td>50.0</td>\n      <td>23.0</td>\n      <td>55.5</td>\n    </tr>\n  </tbody>\n</table>\n</div>"
     },
     "execution_count": 118,
     "metadata": {},
     "output_type": "execute_result"
    }
   ],
   "source": [
    "df1.T"
   ],
   "metadata": {
    "collapsed": false,
    "ExecuteTime": {
     "end_time": "2023-06-27T11:03:17.570854800Z",
     "start_time": "2023-06-27T11:03:17.396263200Z"
    }
   }
  },
  {
   "cell_type": "code",
   "execution_count": 119,
   "outputs": [
    {
     "data": {
      "text/plain": "name    rohit\nOS       75.5\nDBMS     80.0\nName: 1, dtype: object"
     },
     "execution_count": 119,
     "metadata": {},
     "output_type": "execute_result"
    }
   ],
   "source": [
    "df1.iloc[1]"
   ],
   "metadata": {
    "collapsed": false,
    "ExecuteTime": {
     "end_time": "2023-06-27T11:03:17.571456800Z",
     "start_time": "2023-06-27T11:03:17.406854700Z"
    }
   }
  },
  {
   "cell_type": "code",
   "execution_count": 120,
   "outputs": [
    {
     "data": {
      "text/plain": "name    rahulrohitvenkatsahilsteverobby\nOS                                324.0\nDBMS                              288.5\ndtype: object"
     },
     "execution_count": 120,
     "metadata": {},
     "output_type": "execute_result"
    }
   ],
   "source": [
    "df1.sum()"
   ],
   "metadata": {
    "collapsed": false,
    "ExecuteTime": {
     "end_time": "2023-06-27T11:03:18.322355Z",
     "start_time": "2023-06-27T11:03:17.414328600Z"
    }
   }
  },
  {
   "cell_type": "code",
   "execution_count": 121,
   "outputs": [
    {
     "data": {
      "text/plain": "324.0"
     },
     "execution_count": 121,
     "metadata": {},
     "output_type": "execute_result"
    }
   ],
   "source": [
    "df1['OS'].sum()"
   ],
   "metadata": {
    "collapsed": false,
    "ExecuteTime": {
     "end_time": "2023-06-27T11:03:18.323352500Z",
     "start_time": "2023-06-27T11:03:17.424502800Z"
    }
   }
  },
  {
   "cell_type": "markdown",
   "source": [
    "## mean()"
   ],
   "metadata": {
    "collapsed": false
   }
  },
  {
   "cell_type": "code",
   "execution_count": 122,
   "outputs": [
    {
     "data": {
      "text/plain": "54.0"
     },
     "execution_count": 122,
     "metadata": {},
     "output_type": "execute_result"
    }
   ],
   "source": [
    "df1['OS'].mean()"
   ],
   "metadata": {
    "collapsed": false,
    "ExecuteTime": {
     "end_time": "2023-06-27T11:03:18.323352500Z",
     "start_time": "2023-06-27T11:03:17.434646100Z"
    }
   }
  },
  {
   "cell_type": "markdown",
   "source": [
    "# Data cleaning & data manipulation"
   ],
   "metadata": {
    "collapsed": false
   }
  },
  {
   "cell_type": "code",
   "execution_count": 123,
   "outputs": [],
   "source": [
    "data1 = np.random.rand(10, 3)\n",
    "data2 = np.random.rand(7, 3)"
   ],
   "metadata": {
    "collapsed": false,
    "ExecuteTime": {
     "end_time": "2023-06-27T11:03:18.323352500Z",
     "start_time": "2023-06-27T11:03:17.441295800Z"
    }
   }
  },
  {
   "cell_type": "code",
   "execution_count": 124,
   "outputs": [],
   "source": [
    "df1 = pd.DataFrame(data1, columns=['col1', 'col2', 'col3'])\n",
    "df2 = pd.DataFrame(data2, columns=['col1', 'col2', 'col3'])"
   ],
   "metadata": {
    "collapsed": false,
    "ExecuteTime": {
     "end_time": "2023-06-27T11:03:18.324349700Z",
     "start_time": "2023-06-27T11:03:17.446569900Z"
    }
   }
  },
  {
   "cell_type": "code",
   "execution_count": 125,
   "outputs": [
    {
     "data": {
      "text/plain": "       col1      col2      col3\n0  0.156943  0.060754  0.496923\n1  0.364094  0.897677  0.548448\n2  0.751204  0.377408  0.221639\n3  0.594644  0.673176  0.048277\n4  0.514413  0.434249  0.655580\n5  0.158303  0.056663  0.817290\n6  0.153017  0.558103  0.947781\n7  0.903737  0.097254  0.262567\n8  0.832945  0.248087  0.924421\n9  0.879122  0.419689  0.882486",
      "text/html": "<div>\n<style scoped>\n    .dataframe tbody tr th:only-of-type {\n        vertical-align: middle;\n    }\n\n    .dataframe tbody tr th {\n        vertical-align: top;\n    }\n\n    .dataframe thead th {\n        text-align: right;\n    }\n</style>\n<table border=\"1\" class=\"dataframe\">\n  <thead>\n    <tr style=\"text-align: right;\">\n      <th></th>\n      <th>col1</th>\n      <th>col2</th>\n      <th>col3</th>\n    </tr>\n  </thead>\n  <tbody>\n    <tr>\n      <th>0</th>\n      <td>0.156943</td>\n      <td>0.060754</td>\n      <td>0.496923</td>\n    </tr>\n    <tr>\n      <th>1</th>\n      <td>0.364094</td>\n      <td>0.897677</td>\n      <td>0.548448</td>\n    </tr>\n    <tr>\n      <th>2</th>\n      <td>0.751204</td>\n      <td>0.377408</td>\n      <td>0.221639</td>\n    </tr>\n    <tr>\n      <th>3</th>\n      <td>0.594644</td>\n      <td>0.673176</td>\n      <td>0.048277</td>\n    </tr>\n    <tr>\n      <th>4</th>\n      <td>0.514413</td>\n      <td>0.434249</td>\n      <td>0.655580</td>\n    </tr>\n    <tr>\n      <th>5</th>\n      <td>0.158303</td>\n      <td>0.056663</td>\n      <td>0.817290</td>\n    </tr>\n    <tr>\n      <th>6</th>\n      <td>0.153017</td>\n      <td>0.558103</td>\n      <td>0.947781</td>\n    </tr>\n    <tr>\n      <th>7</th>\n      <td>0.903737</td>\n      <td>0.097254</td>\n      <td>0.262567</td>\n    </tr>\n    <tr>\n      <th>8</th>\n      <td>0.832945</td>\n      <td>0.248087</td>\n      <td>0.924421</td>\n    </tr>\n    <tr>\n      <th>9</th>\n      <td>0.879122</td>\n      <td>0.419689</td>\n      <td>0.882486</td>\n    </tr>\n  </tbody>\n</table>\n</div>"
     },
     "execution_count": 125,
     "metadata": {},
     "output_type": "execute_result"
    }
   ],
   "source": [
    "df1"
   ],
   "metadata": {
    "collapsed": false,
    "ExecuteTime": {
     "end_time": "2023-06-27T11:03:18.324349700Z",
     "start_time": "2023-06-27T11:03:17.452907800Z"
    }
   }
  },
  {
   "cell_type": "code",
   "execution_count": 126,
   "outputs": [
    {
     "data": {
      "text/plain": "       col1      col2      col3\n0  0.567754  0.271735  0.980969\n1  0.562790  0.601445  0.284150\n2  0.060794  0.721338  0.078932\n3  0.647939  0.792193  0.742517\n4  0.927209  0.693122  0.347163\n5  0.770534  0.561498  0.291115\n6  0.604706  0.916077  0.281691",
      "text/html": "<div>\n<style scoped>\n    .dataframe tbody tr th:only-of-type {\n        vertical-align: middle;\n    }\n\n    .dataframe tbody tr th {\n        vertical-align: top;\n    }\n\n    .dataframe thead th {\n        text-align: right;\n    }\n</style>\n<table border=\"1\" class=\"dataframe\">\n  <thead>\n    <tr style=\"text-align: right;\">\n      <th></th>\n      <th>col1</th>\n      <th>col2</th>\n      <th>col3</th>\n    </tr>\n  </thead>\n  <tbody>\n    <tr>\n      <th>0</th>\n      <td>0.567754</td>\n      <td>0.271735</td>\n      <td>0.980969</td>\n    </tr>\n    <tr>\n      <th>1</th>\n      <td>0.562790</td>\n      <td>0.601445</td>\n      <td>0.284150</td>\n    </tr>\n    <tr>\n      <th>2</th>\n      <td>0.060794</td>\n      <td>0.721338</td>\n      <td>0.078932</td>\n    </tr>\n    <tr>\n      <th>3</th>\n      <td>0.647939</td>\n      <td>0.792193</td>\n      <td>0.742517</td>\n    </tr>\n    <tr>\n      <th>4</th>\n      <td>0.927209</td>\n      <td>0.693122</td>\n      <td>0.347163</td>\n    </tr>\n    <tr>\n      <th>5</th>\n      <td>0.770534</td>\n      <td>0.561498</td>\n      <td>0.291115</td>\n    </tr>\n    <tr>\n      <th>6</th>\n      <td>0.604706</td>\n      <td>0.916077</td>\n      <td>0.281691</td>\n    </tr>\n  </tbody>\n</table>\n</div>"
     },
     "execution_count": 126,
     "metadata": {},
     "output_type": "execute_result"
    }
   ],
   "source": [
    "df2"
   ],
   "metadata": {
    "collapsed": false,
    "ExecuteTime": {
     "end_time": "2023-06-27T11:03:18.324349700Z",
     "start_time": "2023-06-27T11:03:17.465838200Z"
    }
   }
  },
  {
   "cell_type": "code",
   "execution_count": 127,
   "outputs": [],
   "source": [
    "df3 = pd.concat([df1, df2], ignore_index=True)"
   ],
   "metadata": {
    "collapsed": false,
    "ExecuteTime": {
     "end_time": "2023-06-27T11:03:18.324349700Z",
     "start_time": "2023-06-27T11:03:17.478272100Z"
    }
   }
  },
  {
   "cell_type": "code",
   "execution_count": 128,
   "outputs": [
    {
     "data": {
      "text/plain": "        col1      col2      col3\n0   0.156943  0.060754  0.496923\n1   0.364094  0.897677  0.548448\n2   0.751204  0.377408  0.221639\n3   0.594644  0.673176  0.048277\n4   0.514413  0.434249  0.655580\n5   0.158303  0.056663  0.817290\n6   0.153017  0.558103  0.947781\n7   0.903737  0.097254  0.262567\n8   0.832945  0.248087  0.924421\n9   0.879122  0.419689  0.882486\n10  0.567754  0.271735  0.980969\n11  0.562790  0.601445  0.284150\n12  0.060794  0.721338  0.078932\n13  0.647939  0.792193  0.742517\n14  0.927209  0.693122  0.347163\n15  0.770534  0.561498  0.291115\n16  0.604706  0.916077  0.281691",
      "text/html": "<div>\n<style scoped>\n    .dataframe tbody tr th:only-of-type {\n        vertical-align: middle;\n    }\n\n    .dataframe tbody tr th {\n        vertical-align: top;\n    }\n\n    .dataframe thead th {\n        text-align: right;\n    }\n</style>\n<table border=\"1\" class=\"dataframe\">\n  <thead>\n    <tr style=\"text-align: right;\">\n      <th></th>\n      <th>col1</th>\n      <th>col2</th>\n      <th>col3</th>\n    </tr>\n  </thead>\n  <tbody>\n    <tr>\n      <th>0</th>\n      <td>0.156943</td>\n      <td>0.060754</td>\n      <td>0.496923</td>\n    </tr>\n    <tr>\n      <th>1</th>\n      <td>0.364094</td>\n      <td>0.897677</td>\n      <td>0.548448</td>\n    </tr>\n    <tr>\n      <th>2</th>\n      <td>0.751204</td>\n      <td>0.377408</td>\n      <td>0.221639</td>\n    </tr>\n    <tr>\n      <th>3</th>\n      <td>0.594644</td>\n      <td>0.673176</td>\n      <td>0.048277</td>\n    </tr>\n    <tr>\n      <th>4</th>\n      <td>0.514413</td>\n      <td>0.434249</td>\n      <td>0.655580</td>\n    </tr>\n    <tr>\n      <th>5</th>\n      <td>0.158303</td>\n      <td>0.056663</td>\n      <td>0.817290</td>\n    </tr>\n    <tr>\n      <th>6</th>\n      <td>0.153017</td>\n      <td>0.558103</td>\n      <td>0.947781</td>\n    </tr>\n    <tr>\n      <th>7</th>\n      <td>0.903737</td>\n      <td>0.097254</td>\n      <td>0.262567</td>\n    </tr>\n    <tr>\n      <th>8</th>\n      <td>0.832945</td>\n      <td>0.248087</td>\n      <td>0.924421</td>\n    </tr>\n    <tr>\n      <th>9</th>\n      <td>0.879122</td>\n      <td>0.419689</td>\n      <td>0.882486</td>\n    </tr>\n    <tr>\n      <th>10</th>\n      <td>0.567754</td>\n      <td>0.271735</td>\n      <td>0.980969</td>\n    </tr>\n    <tr>\n      <th>11</th>\n      <td>0.562790</td>\n      <td>0.601445</td>\n      <td>0.284150</td>\n    </tr>\n    <tr>\n      <th>12</th>\n      <td>0.060794</td>\n      <td>0.721338</td>\n      <td>0.078932</td>\n    </tr>\n    <tr>\n      <th>13</th>\n      <td>0.647939</td>\n      <td>0.792193</td>\n      <td>0.742517</td>\n    </tr>\n    <tr>\n      <th>14</th>\n      <td>0.927209</td>\n      <td>0.693122</td>\n      <td>0.347163</td>\n    </tr>\n    <tr>\n      <th>15</th>\n      <td>0.770534</td>\n      <td>0.561498</td>\n      <td>0.291115</td>\n    </tr>\n    <tr>\n      <th>16</th>\n      <td>0.604706</td>\n      <td>0.916077</td>\n      <td>0.281691</td>\n    </tr>\n  </tbody>\n</table>\n</div>"
     },
     "execution_count": 128,
     "metadata": {},
     "output_type": "execute_result"
    }
   ],
   "source": [
    "df3"
   ],
   "metadata": {
    "collapsed": false,
    "ExecuteTime": {
     "end_time": "2023-06-27T11:03:18.324349700Z",
     "start_time": "2023-06-27T11:03:17.484850500Z"
    }
   }
  },
  {
   "cell_type": "code",
   "execution_count": 129,
   "outputs": [
    {
     "name": "stdout",
     "output_type": "stream",
     "text": [
      "0.4969229112474213\n",
      "0.5484482273280088\n",
      "0.22163886785396492\n",
      "0.048277436250004246\n",
      "0.6555802797302248\n",
      "0.8172904765350287\n",
      "0.9477813904760193\n",
      "0.26256742325209514\n",
      "0.92442134521837\n",
      "0.8824859491654208\n",
      "0.9809694799895692\n",
      "0.2841499824902133\n",
      "0.07893177006352148\n",
      "0.7425174273691829\n",
      "0.34716343222021284\n",
      "0.2911145814374555\n",
      "0.28169136898207037\n"
     ]
    }
   ],
   "source": [
    "for i in df3.col3:\n",
    "    print(i)"
   ],
   "metadata": {
    "collapsed": false,
    "ExecuteTime": {
     "end_time": "2023-06-27T11:03:18.326856500Z",
     "start_time": "2023-06-27T11:03:17.496548100Z"
    }
   }
  },
  {
   "cell_type": "markdown",
   "source": [
    "## iteritems"
   ],
   "metadata": {
    "collapsed": false
   }
  },
  {
   "cell_type": "code",
   "execution_count": 130,
   "outputs": [
    {
     "name": "stdout",
     "output_type": "stream",
     "text": [
      "0 col1    0.156943\n",
      "col2    0.060754\n",
      "col3    0.496923\n",
      "Name: 0, dtype: float64\n",
      "1 col1    0.364094\n",
      "col2    0.897677\n",
      "col3    0.548448\n",
      "Name: 1, dtype: float64\n",
      "2 col1    0.751204\n",
      "col2    0.377408\n",
      "col3    0.221639\n",
      "Name: 2, dtype: float64\n",
      "3 col1    0.594644\n",
      "col2    0.673176\n",
      "col3    0.048277\n",
      "Name: 3, dtype: float64\n",
      "4 col1    0.514413\n",
      "col2    0.434249\n",
      "col3    0.655580\n",
      "Name: 4, dtype: float64\n",
      "5 col1    0.158303\n",
      "col2    0.056663\n",
      "col3    0.817290\n",
      "Name: 5, dtype: float64\n",
      "6 col1    0.153017\n",
      "col2    0.558103\n",
      "col3    0.947781\n",
      "Name: 6, dtype: float64\n",
      "7 col1    0.903737\n",
      "col2    0.097254\n",
      "col3    0.262567\n",
      "Name: 7, dtype: float64\n",
      "8 col1    0.832945\n",
      "col2    0.248087\n",
      "col3    0.924421\n",
      "Name: 8, dtype: float64\n",
      "9 col1    0.879122\n",
      "col2    0.419689\n",
      "col3    0.882486\n",
      "Name: 9, dtype: float64\n",
      "10 col1    0.567754\n",
      "col2    0.271735\n",
      "col3    0.980969\n",
      "Name: 10, dtype: float64\n",
      "11 col1    0.562790\n",
      "col2    0.601445\n",
      "col3    0.284150\n",
      "Name: 11, dtype: float64\n",
      "12 col1    0.060794\n",
      "col2    0.721338\n",
      "col3    0.078932\n",
      "Name: 12, dtype: float64\n",
      "13 col1    0.647939\n",
      "col2    0.792193\n",
      "col3    0.742517\n",
      "Name: 13, dtype: float64\n",
      "14 col1    0.927209\n",
      "col2    0.693122\n",
      "col3    0.347163\n",
      "Name: 14, dtype: float64\n",
      "15 col1    0.770534\n",
      "col2    0.561498\n",
      "col3    0.291115\n",
      "Name: 15, dtype: float64\n",
      "16 col1    0.604706\n",
      "col2    0.916077\n",
      "col3    0.281691\n",
      "Name: 16, dtype: float64\n"
     ]
    }
   ],
   "source": [
    "for key, value in df3.iterrows():\n",
    "    print(key, value)"
   ],
   "metadata": {
    "collapsed": false,
    "ExecuteTime": {
     "end_time": "2023-06-27T11:03:18.326856500Z",
     "start_time": "2023-06-27T11:03:17.536278400Z"
    }
   }
  },
  {
   "cell_type": "markdown",
   "source": [
    "## Sort()"
   ],
   "metadata": {
    "collapsed": false
   }
  },
  {
   "cell_type": "code",
   "execution_count": 131,
   "outputs": [],
   "source": [
    "unsorted_df = pd.DataFrame(np.random.randn(10, 3), index=[5, 7, 3, 9, 2, 1, 9, 11, 21, 4],\n",
    "                           columns=['col1', 'col2', 'col3'])"
   ],
   "metadata": {
    "collapsed": false,
    "ExecuteTime": {
     "end_time": "2023-06-27T11:03:18.327853100Z",
     "start_time": "2023-06-27T11:03:17.549706300Z"
    }
   }
  },
  {
   "cell_type": "code",
   "execution_count": 132,
   "outputs": [
    {
     "data": {
      "text/plain": "        col1      col2      col3\n5   1.513529 -0.661698  1.031521\n7  -0.313380  0.071043  0.145626\n3   0.544023 -0.294860 -1.750887\n9  -2.705374 -1.172163 -1.666474\n2  -2.039228  1.169702  0.048711\n1   0.601742 -0.494960 -0.014231\n9  -0.446702  0.064909  1.148578\n11 -0.729196 -0.676458 -1.435305\n21  0.574584  0.767751  0.882342\n4  -0.264953 -0.097711 -0.862960",
      "text/html": "<div>\n<style scoped>\n    .dataframe tbody tr th:only-of-type {\n        vertical-align: middle;\n    }\n\n    .dataframe tbody tr th {\n        vertical-align: top;\n    }\n\n    .dataframe thead th {\n        text-align: right;\n    }\n</style>\n<table border=\"1\" class=\"dataframe\">\n  <thead>\n    <tr style=\"text-align: right;\">\n      <th></th>\n      <th>col1</th>\n      <th>col2</th>\n      <th>col3</th>\n    </tr>\n  </thead>\n  <tbody>\n    <tr>\n      <th>5</th>\n      <td>1.513529</td>\n      <td>-0.661698</td>\n      <td>1.031521</td>\n    </tr>\n    <tr>\n      <th>7</th>\n      <td>-0.313380</td>\n      <td>0.071043</td>\n      <td>0.145626</td>\n    </tr>\n    <tr>\n      <th>3</th>\n      <td>0.544023</td>\n      <td>-0.294860</td>\n      <td>-1.750887</td>\n    </tr>\n    <tr>\n      <th>9</th>\n      <td>-2.705374</td>\n      <td>-1.172163</td>\n      <td>-1.666474</td>\n    </tr>\n    <tr>\n      <th>2</th>\n      <td>-2.039228</td>\n      <td>1.169702</td>\n      <td>0.048711</td>\n    </tr>\n    <tr>\n      <th>1</th>\n      <td>0.601742</td>\n      <td>-0.494960</td>\n      <td>-0.014231</td>\n    </tr>\n    <tr>\n      <th>9</th>\n      <td>-0.446702</td>\n      <td>0.064909</td>\n      <td>1.148578</td>\n    </tr>\n    <tr>\n      <th>11</th>\n      <td>-0.729196</td>\n      <td>-0.676458</td>\n      <td>-1.435305</td>\n    </tr>\n    <tr>\n      <th>21</th>\n      <td>0.574584</td>\n      <td>0.767751</td>\n      <td>0.882342</td>\n    </tr>\n    <tr>\n      <th>4</th>\n      <td>-0.264953</td>\n      <td>-0.097711</td>\n      <td>-0.862960</td>\n    </tr>\n  </tbody>\n</table>\n</div>"
     },
     "execution_count": 132,
     "metadata": {},
     "output_type": "execute_result"
    }
   ],
   "source": [
    "unsorted_df"
   ],
   "metadata": {
    "collapsed": false,
    "ExecuteTime": {
     "end_time": "2023-06-27T11:03:18.327853100Z",
     "start_time": "2023-06-27T11:03:17.559885Z"
    }
   }
  },
  {
   "cell_type": "code",
   "execution_count": 133,
   "outputs": [
    {
     "data": {
      "text/plain": "        col1      col2      col3\n1   0.601742 -0.494960 -0.014231\n2  -2.039228  1.169702  0.048711\n3   0.544023 -0.294860 -1.750887\n4  -0.264953 -0.097711 -0.862960\n5   1.513529 -0.661698  1.031521\n7  -0.313380  0.071043  0.145626\n9  -2.705374 -1.172163 -1.666474\n9  -0.446702  0.064909  1.148578\n11 -0.729196 -0.676458 -1.435305\n21  0.574584  0.767751  0.882342",
      "text/html": "<div>\n<style scoped>\n    .dataframe tbody tr th:only-of-type {\n        vertical-align: middle;\n    }\n\n    .dataframe tbody tr th {\n        vertical-align: top;\n    }\n\n    .dataframe thead th {\n        text-align: right;\n    }\n</style>\n<table border=\"1\" class=\"dataframe\">\n  <thead>\n    <tr style=\"text-align: right;\">\n      <th></th>\n      <th>col1</th>\n      <th>col2</th>\n      <th>col3</th>\n    </tr>\n  </thead>\n  <tbody>\n    <tr>\n      <th>1</th>\n      <td>0.601742</td>\n      <td>-0.494960</td>\n      <td>-0.014231</td>\n    </tr>\n    <tr>\n      <th>2</th>\n      <td>-2.039228</td>\n      <td>1.169702</td>\n      <td>0.048711</td>\n    </tr>\n    <tr>\n      <th>3</th>\n      <td>0.544023</td>\n      <td>-0.294860</td>\n      <td>-1.750887</td>\n    </tr>\n    <tr>\n      <th>4</th>\n      <td>-0.264953</td>\n      <td>-0.097711</td>\n      <td>-0.862960</td>\n    </tr>\n    <tr>\n      <th>5</th>\n      <td>1.513529</td>\n      <td>-0.661698</td>\n      <td>1.031521</td>\n    </tr>\n    <tr>\n      <th>7</th>\n      <td>-0.313380</td>\n      <td>0.071043</td>\n      <td>0.145626</td>\n    </tr>\n    <tr>\n      <th>9</th>\n      <td>-2.705374</td>\n      <td>-1.172163</td>\n      <td>-1.666474</td>\n    </tr>\n    <tr>\n      <th>9</th>\n      <td>-0.446702</td>\n      <td>0.064909</td>\n      <td>1.148578</td>\n    </tr>\n    <tr>\n      <th>11</th>\n      <td>-0.729196</td>\n      <td>-0.676458</td>\n      <td>-1.435305</td>\n    </tr>\n    <tr>\n      <th>21</th>\n      <td>0.574584</td>\n      <td>0.767751</td>\n      <td>0.882342</td>\n    </tr>\n  </tbody>\n</table>\n</div>"
     },
     "execution_count": 133,
     "metadata": {},
     "output_type": "execute_result"
    }
   ],
   "source": [
    "unsorted_df.sort_index()"
   ],
   "metadata": {
    "collapsed": false,
    "ExecuteTime": {
     "end_time": "2023-06-27T11:03:18.390687100Z",
     "start_time": "2023-06-27T11:03:17.577955400Z"
    }
   }
  },
  {
   "cell_type": "code",
   "execution_count": 134,
   "outputs": [
    {
     "data": {
      "text/plain": "        col1      col2      col3\n21  0.574584  0.767751  0.882342\n11 -0.729196 -0.676458 -1.435305\n9  -2.705374 -1.172163 -1.666474\n9  -0.446702  0.064909  1.148578\n7  -0.313380  0.071043  0.145626\n5   1.513529 -0.661698  1.031521\n4  -0.264953 -0.097711 -0.862960\n3   0.544023 -0.294860 -1.750887\n2  -2.039228  1.169702  0.048711\n1   0.601742 -0.494960 -0.014231",
      "text/html": "<div>\n<style scoped>\n    .dataframe tbody tr th:only-of-type {\n        vertical-align: middle;\n    }\n\n    .dataframe tbody tr th {\n        vertical-align: top;\n    }\n\n    .dataframe thead th {\n        text-align: right;\n    }\n</style>\n<table border=\"1\" class=\"dataframe\">\n  <thead>\n    <tr style=\"text-align: right;\">\n      <th></th>\n      <th>col1</th>\n      <th>col2</th>\n      <th>col3</th>\n    </tr>\n  </thead>\n  <tbody>\n    <tr>\n      <th>21</th>\n      <td>0.574584</td>\n      <td>0.767751</td>\n      <td>0.882342</td>\n    </tr>\n    <tr>\n      <th>11</th>\n      <td>-0.729196</td>\n      <td>-0.676458</td>\n      <td>-1.435305</td>\n    </tr>\n    <tr>\n      <th>9</th>\n      <td>-2.705374</td>\n      <td>-1.172163</td>\n      <td>-1.666474</td>\n    </tr>\n    <tr>\n      <th>9</th>\n      <td>-0.446702</td>\n      <td>0.064909</td>\n      <td>1.148578</td>\n    </tr>\n    <tr>\n      <th>7</th>\n      <td>-0.313380</td>\n      <td>0.071043</td>\n      <td>0.145626</td>\n    </tr>\n    <tr>\n      <th>5</th>\n      <td>1.513529</td>\n      <td>-0.661698</td>\n      <td>1.031521</td>\n    </tr>\n    <tr>\n      <th>4</th>\n      <td>-0.264953</td>\n      <td>-0.097711</td>\n      <td>-0.862960</td>\n    </tr>\n    <tr>\n      <th>3</th>\n      <td>0.544023</td>\n      <td>-0.294860</td>\n      <td>-1.750887</td>\n    </tr>\n    <tr>\n      <th>2</th>\n      <td>-2.039228</td>\n      <td>1.169702</td>\n      <td>0.048711</td>\n    </tr>\n    <tr>\n      <th>1</th>\n      <td>0.601742</td>\n      <td>-0.494960</td>\n      <td>-0.014231</td>\n    </tr>\n  </tbody>\n</table>\n</div>"
     },
     "execution_count": 134,
     "metadata": {},
     "output_type": "execute_result"
    }
   ],
   "source": [
    "unsorted_df.sort_index(ascending=False)"
   ],
   "metadata": {
    "collapsed": false,
    "ExecuteTime": {
     "end_time": "2023-06-27T11:03:18.390687100Z",
     "start_time": "2023-06-27T11:03:17.603005400Z"
    }
   }
  },
  {
   "cell_type": "code",
   "execution_count": 135,
   "outputs": [
    {
     "data": {
      "text/plain": "        col1      col2      col3\n5   1.513529 -0.661698  1.031521\n7  -0.313380  0.071043  0.145626\n3   0.544023 -0.294860 -1.750887\n9  -2.705374 -1.172163 -1.666474\n2  -2.039228  1.169702  0.048711\n1   0.601742 -0.494960 -0.014231\n9  -0.446702  0.064909  1.148578\n11 -0.729196 -0.676458 -1.435305\n21  0.574584  0.767751  0.882342\n4  -0.264953 -0.097711 -0.862960",
      "text/html": "<div>\n<style scoped>\n    .dataframe tbody tr th:only-of-type {\n        vertical-align: middle;\n    }\n\n    .dataframe tbody tr th {\n        vertical-align: top;\n    }\n\n    .dataframe thead th {\n        text-align: right;\n    }\n</style>\n<table border=\"1\" class=\"dataframe\">\n  <thead>\n    <tr style=\"text-align: right;\">\n      <th></th>\n      <th>col1</th>\n      <th>col2</th>\n      <th>col3</th>\n    </tr>\n  </thead>\n  <tbody>\n    <tr>\n      <th>5</th>\n      <td>1.513529</td>\n      <td>-0.661698</td>\n      <td>1.031521</td>\n    </tr>\n    <tr>\n      <th>7</th>\n      <td>-0.313380</td>\n      <td>0.071043</td>\n      <td>0.145626</td>\n    </tr>\n    <tr>\n      <th>3</th>\n      <td>0.544023</td>\n      <td>-0.294860</td>\n      <td>-1.750887</td>\n    </tr>\n    <tr>\n      <th>9</th>\n      <td>-2.705374</td>\n      <td>-1.172163</td>\n      <td>-1.666474</td>\n    </tr>\n    <tr>\n      <th>2</th>\n      <td>-2.039228</td>\n      <td>1.169702</td>\n      <td>0.048711</td>\n    </tr>\n    <tr>\n      <th>1</th>\n      <td>0.601742</td>\n      <td>-0.494960</td>\n      <td>-0.014231</td>\n    </tr>\n    <tr>\n      <th>9</th>\n      <td>-0.446702</td>\n      <td>0.064909</td>\n      <td>1.148578</td>\n    </tr>\n    <tr>\n      <th>11</th>\n      <td>-0.729196</td>\n      <td>-0.676458</td>\n      <td>-1.435305</td>\n    </tr>\n    <tr>\n      <th>21</th>\n      <td>0.574584</td>\n      <td>0.767751</td>\n      <td>0.882342</td>\n    </tr>\n    <tr>\n      <th>4</th>\n      <td>-0.264953</td>\n      <td>-0.097711</td>\n      <td>-0.862960</td>\n    </tr>\n  </tbody>\n</table>\n</div>"
     },
     "execution_count": 135,
     "metadata": {},
     "output_type": "execute_result"
    }
   ],
   "source": [
    "unsorted_df.sort_index(axis=1)"
   ],
   "metadata": {
    "collapsed": false,
    "ExecuteTime": {
     "end_time": "2023-06-27T11:03:18.391683700Z",
     "start_time": "2023-06-27T11:03:17.617182100Z"
    }
   }
  },
  {
   "cell_type": "markdown",
   "source": [
    "## sort_values()"
   ],
   "metadata": {
    "collapsed": false
   }
  },
  {
   "cell_type": "code",
   "execution_count": 141,
   "outputs": [],
   "source": [
    "df = pd.DataFrame({\"apples\": [50, 95, 105, 75], \"grapes\": [110, 45, 99, 0]})"
   ],
   "metadata": {
    "collapsed": false,
    "ExecuteTime": {
     "end_time": "2023-06-27T11:07:54.025367800Z",
     "start_time": "2023-06-27T11:07:53.933097500Z"
    }
   }
  },
  {
   "cell_type": "code",
   "execution_count": 142,
   "outputs": [
    {
     "data": {
      "text/plain": "   apples  grapes\n0      50     110\n1      95      45\n2     105      99\n3      75       0",
      "text/html": "<div>\n<style scoped>\n    .dataframe tbody tr th:only-of-type {\n        vertical-align: middle;\n    }\n\n    .dataframe tbody tr th {\n        vertical-align: top;\n    }\n\n    .dataframe thead th {\n        text-align: right;\n    }\n</style>\n<table border=\"1\" class=\"dataframe\">\n  <thead>\n    <tr style=\"text-align: right;\">\n      <th></th>\n      <th>apples</th>\n      <th>grapes</th>\n    </tr>\n  </thead>\n  <tbody>\n    <tr>\n      <th>0</th>\n      <td>50</td>\n      <td>110</td>\n    </tr>\n    <tr>\n      <th>1</th>\n      <td>95</td>\n      <td>45</td>\n    </tr>\n    <tr>\n      <th>2</th>\n      <td>105</td>\n      <td>99</td>\n    </tr>\n    <tr>\n      <th>3</th>\n      <td>75</td>\n      <td>0</td>\n    </tr>\n  </tbody>\n</table>\n</div>"
     },
     "execution_count": 142,
     "metadata": {},
     "output_type": "execute_result"
    }
   ],
   "source": [
    "df"
   ],
   "metadata": {
    "collapsed": false,
    "ExecuteTime": {
     "end_time": "2023-06-27T11:07:54.967619Z",
     "start_time": "2023-06-27T11:07:54.844507800Z"
    }
   }
  },
  {
   "cell_type": "code",
   "execution_count": 143,
   "outputs": [
    {
     "data": {
      "text/plain": "   apples  grapes\n0      50     110\n3      75       0\n1      95      45\n2     105      99",
      "text/html": "<div>\n<style scoped>\n    .dataframe tbody tr th:only-of-type {\n        vertical-align: middle;\n    }\n\n    .dataframe tbody tr th {\n        vertical-align: top;\n    }\n\n    .dataframe thead th {\n        text-align: right;\n    }\n</style>\n<table border=\"1\" class=\"dataframe\">\n  <thead>\n    <tr style=\"text-align: right;\">\n      <th></th>\n      <th>apples</th>\n      <th>grapes</th>\n    </tr>\n  </thead>\n  <tbody>\n    <tr>\n      <th>0</th>\n      <td>50</td>\n      <td>110</td>\n    </tr>\n    <tr>\n      <th>3</th>\n      <td>75</td>\n      <td>0</td>\n    </tr>\n    <tr>\n      <th>1</th>\n      <td>95</td>\n      <td>45</td>\n    </tr>\n    <tr>\n      <th>2</th>\n      <td>105</td>\n      <td>99</td>\n    </tr>\n  </tbody>\n</table>\n</div>"
     },
     "execution_count": 143,
     "metadata": {},
     "output_type": "execute_result"
    }
   ],
   "source": [
    "df.sort_values(by='apples')"
   ],
   "metadata": {
    "collapsed": false,
    "ExecuteTime": {
     "end_time": "2023-06-27T11:07:57.467965500Z",
     "start_time": "2023-06-27T11:07:57.420563900Z"
    }
   }
  },
  {
   "cell_type": "code",
   "execution_count": 144,
   "outputs": [
    {
     "data": {
      "text/plain": "   apples  grapes\n0      50     110\n3      75       0\n1      95      45\n2     105      99",
      "text/html": "<div>\n<style scoped>\n    .dataframe tbody tr th:only-of-type {\n        vertical-align: middle;\n    }\n\n    .dataframe tbody tr th {\n        vertical-align: top;\n    }\n\n    .dataframe thead th {\n        text-align: right;\n    }\n</style>\n<table border=\"1\" class=\"dataframe\">\n  <thead>\n    <tr style=\"text-align: right;\">\n      <th></th>\n      <th>apples</th>\n      <th>grapes</th>\n    </tr>\n  </thead>\n  <tbody>\n    <tr>\n      <th>0</th>\n      <td>50</td>\n      <td>110</td>\n    </tr>\n    <tr>\n      <th>3</th>\n      <td>75</td>\n      <td>0</td>\n    </tr>\n    <tr>\n      <th>1</th>\n      <td>95</td>\n      <td>45</td>\n    </tr>\n    <tr>\n      <th>2</th>\n      <td>105</td>\n      <td>99</td>\n    </tr>\n  </tbody>\n</table>\n</div>"
     },
     "execution_count": 144,
     "metadata": {},
     "output_type": "execute_result"
    }
   ],
   "source": [
    "df.sort_values(by=['apples', 'grapes'])"
   ],
   "metadata": {
    "collapsed": false,
    "ExecuteTime": {
     "end_time": "2023-06-27T11:07:59.203816600Z",
     "start_time": "2023-06-27T11:07:59.169844100Z"
    }
   }
  },
  {
   "cell_type": "code",
   "execution_count": 145,
   "outputs": [
    {
     "data": {
      "text/plain": "   apples  grapes\n0      50     110\n3      75       0\n1      95      45\n2     105      99",
      "text/html": "<div>\n<style scoped>\n    .dataframe tbody tr th:only-of-type {\n        vertical-align: middle;\n    }\n\n    .dataframe tbody tr th {\n        vertical-align: top;\n    }\n\n    .dataframe thead th {\n        text-align: right;\n    }\n</style>\n<table border=\"1\" class=\"dataframe\">\n  <thead>\n    <tr style=\"text-align: right;\">\n      <th></th>\n      <th>apples</th>\n      <th>grapes</th>\n    </tr>\n  </thead>\n  <tbody>\n    <tr>\n      <th>0</th>\n      <td>50</td>\n      <td>110</td>\n    </tr>\n    <tr>\n      <th>3</th>\n      <td>75</td>\n      <td>0</td>\n    </tr>\n    <tr>\n      <th>1</th>\n      <td>95</td>\n      <td>45</td>\n    </tr>\n    <tr>\n      <th>2</th>\n      <td>105</td>\n      <td>99</td>\n    </tr>\n  </tbody>\n</table>\n</div>"
     },
     "execution_count": 145,
     "metadata": {},
     "output_type": "execute_result"
    }
   ],
   "source": [
    "df.sort_values(by=['apples', 'grapes'], kind='mergesort')"
   ],
   "metadata": {
    "collapsed": false,
    "ExecuteTime": {
     "end_time": "2023-06-27T11:08:49.494842100Z",
     "start_time": "2023-06-27T11:08:49.370158200Z"
    }
   }
  },
  {
   "cell_type": "markdown",
   "source": [
    "## stats - advanced"
   ],
   "metadata": {
    "collapsed": false
   }
  },
  {
   "cell_type": "markdown",
   "source": [
    "df3"
   ],
   "metadata": {
    "collapsed": false
   }
  },
  {
   "cell_type": "code",
   "execution_count": 147,
   "outputs": [
    {
     "data": {
      "text/plain": "        col1      col2      col3\n0   0.156943  0.060754  0.496923\n1   0.364094  0.897677  0.548448\n2   0.751204  0.377408  0.221639\n3   0.594644  0.673176  0.048277\n4   0.514413  0.434249  0.655580\n5   0.158303  0.056663  0.817290\n6   0.153017  0.558103  0.947781\n7   0.903737  0.097254  0.262567\n9   0.879122  0.419689  0.882486\n10  0.567754  0.271735  0.980969\n11  0.562790  0.601445  0.284150\n12  0.060794  0.721338  0.078932\n13  0.647939  0.792193  0.742517\n14  0.927209  0.693122  0.347163\n15  0.770534  0.561498  0.291115",
      "text/html": "<div>\n<style scoped>\n    .dataframe tbody tr th:only-of-type {\n        vertical-align: middle;\n    }\n\n    .dataframe tbody tr th {\n        vertical-align: top;\n    }\n\n    .dataframe thead th {\n        text-align: right;\n    }\n</style>\n<table border=\"1\" class=\"dataframe\">\n  <thead>\n    <tr style=\"text-align: right;\">\n      <th></th>\n      <th>col1</th>\n      <th>col2</th>\n      <th>col3</th>\n    </tr>\n  </thead>\n  <tbody>\n    <tr>\n      <th>0</th>\n      <td>0.156943</td>\n      <td>0.060754</td>\n      <td>0.496923</td>\n    </tr>\n    <tr>\n      <th>1</th>\n      <td>0.364094</td>\n      <td>0.897677</td>\n      <td>0.548448</td>\n    </tr>\n    <tr>\n      <th>2</th>\n      <td>0.751204</td>\n      <td>0.377408</td>\n      <td>0.221639</td>\n    </tr>\n    <tr>\n      <th>3</th>\n      <td>0.594644</td>\n      <td>0.673176</td>\n      <td>0.048277</td>\n    </tr>\n    <tr>\n      <th>4</th>\n      <td>0.514413</td>\n      <td>0.434249</td>\n      <td>0.655580</td>\n    </tr>\n    <tr>\n      <th>5</th>\n      <td>0.158303</td>\n      <td>0.056663</td>\n      <td>0.817290</td>\n    </tr>\n    <tr>\n      <th>6</th>\n      <td>0.153017</td>\n      <td>0.558103</td>\n      <td>0.947781</td>\n    </tr>\n    <tr>\n      <th>7</th>\n      <td>0.903737</td>\n      <td>0.097254</td>\n      <td>0.262567</td>\n    </tr>\n    <tr>\n      <th>9</th>\n      <td>0.879122</td>\n      <td>0.419689</td>\n      <td>0.882486</td>\n    </tr>\n    <tr>\n      <th>10</th>\n      <td>0.567754</td>\n      <td>0.271735</td>\n      <td>0.980969</td>\n    </tr>\n    <tr>\n      <th>11</th>\n      <td>0.562790</td>\n      <td>0.601445</td>\n      <td>0.284150</td>\n    </tr>\n    <tr>\n      <th>12</th>\n      <td>0.060794</td>\n      <td>0.721338</td>\n      <td>0.078932</td>\n    </tr>\n    <tr>\n      <th>13</th>\n      <td>0.647939</td>\n      <td>0.792193</td>\n      <td>0.742517</td>\n    </tr>\n    <tr>\n      <th>14</th>\n      <td>0.927209</td>\n      <td>0.693122</td>\n      <td>0.347163</td>\n    </tr>\n    <tr>\n      <th>15</th>\n      <td>0.770534</td>\n      <td>0.561498</td>\n      <td>0.291115</td>\n    </tr>\n  </tbody>\n</table>\n</div>"
     },
     "execution_count": 147,
     "metadata": {},
     "output_type": "execute_result"
    }
   ],
   "source": [
    "df3.drop([8, 16])"
   ],
   "metadata": {
    "collapsed": false,
    "ExecuteTime": {
     "end_time": "2023-06-27T11:10:46.318317800Z",
     "start_time": "2023-06-27T11:10:46.164160400Z"
    }
   }
  },
  {
   "cell_type": "markdown",
   "source": [
    "## covariance -> cov()"
   ],
   "metadata": {
    "collapsed": false
   }
  },
  {
   "cell_type": "code",
   "execution_count": 148,
   "outputs": [
    {
     "data": {
      "text/plain": "0     0.060754\n1     0.897677\n2     0.377408\n3     0.673176\n4     0.434249\n5     0.056663\n6     0.558103\n7     0.097254\n8     0.248087\n9     0.419689\n10    0.271735\n11    0.601445\n12    0.721338\n13    0.792193\n14    0.693122\n15    0.561498\n16    0.916077\nName: col2, dtype: float64"
     },
     "execution_count": 148,
     "metadata": {},
     "output_type": "execute_result"
    }
   ],
   "source": [
    "df3.col2"
   ],
   "metadata": {
    "collapsed": false,
    "ExecuteTime": {
     "end_time": "2023-06-27T11:11:47.537636200Z",
     "start_time": "2023-06-27T11:11:47.441360300Z"
    }
   }
  },
  {
   "cell_type": "code",
   "execution_count": 149,
   "outputs": [
    {
     "data": {
      "text/plain": "0     0.060754\n1     0.897677\n2     0.377408\n3     0.673176\n4     0.434249\n5     0.056663\n6     0.558103\n7     0.097254\n8     0.248087\n9     0.419689\n10    0.271735\n11    0.601445\n12    0.721338\n13    0.792193\n14    0.693122\n15    0.561498\n16    0.916077\nName: col2, dtype: float64"
     },
     "execution_count": 149,
     "metadata": {},
     "output_type": "execute_result"
    }
   ],
   "source": [
    "df3['col2']"
   ],
   "metadata": {
    "collapsed": false,
    "ExecuteTime": {
     "end_time": "2023-06-27T11:12:04.199494600Z",
     "start_time": "2023-06-27T11:12:04.097251400Z"
    }
   }
  },
  {
   "cell_type": "code",
   "execution_count": 150,
   "outputs": [
    {
     "data": {
      "text/plain": "-0.029712315255765905"
     },
     "execution_count": 150,
     "metadata": {},
     "output_type": "execute_result"
    }
   ],
   "source": [
    "df3['col2'].cov(df3['col3'])"
   ],
   "metadata": {
    "collapsed": false,
    "ExecuteTime": {
     "end_time": "2023-06-27T11:12:38.249593100Z",
     "start_time": "2023-06-27T11:12:38.158833600Z"
    }
   }
  },
  {
   "cell_type": "markdown",
   "source": [
    "# correlation"
   ],
   "metadata": {
    "collapsed": false
   }
  },
  {
   "cell_type": "code",
   "execution_count": 151,
   "outputs": [
    {
     "data": {
      "text/plain": "-0.33558369773490293"
     },
     "execution_count": 151,
     "metadata": {},
     "output_type": "execute_result"
    }
   ],
   "source": [
    "df3['col2'].corr(df3['col3'])"
   ],
   "metadata": {
    "collapsed": false,
    "ExecuteTime": {
     "end_time": "2023-06-27T11:16:32.322610900Z",
     "start_time": "2023-06-27T11:16:32.234816300Z"
    }
   }
  },
  {
   "cell_type": "code",
   "execution_count": 152,
   "outputs": [
    {
     "data": {
      "text/plain": "<bound method DataFrame.corr of         col1      col2      col3\n0   0.156943  0.060754  0.496923\n1   0.364094  0.897677  0.548448\n2   0.751204  0.377408  0.221639\n3   0.594644  0.673176  0.048277\n4   0.514413  0.434249  0.655580\n5   0.158303  0.056663  0.817290\n6   0.153017  0.558103  0.947781\n7   0.903737  0.097254  0.262567\n8   0.832945  0.248087  0.924421\n9   0.879122  0.419689  0.882486\n10  0.567754  0.271735  0.980969\n11  0.562790  0.601445  0.284150\n12  0.060794  0.721338  0.078932\n13  0.647939  0.792193  0.742517\n14  0.927209  0.693122  0.347163\n15  0.770534  0.561498  0.291115\n16  0.604706  0.916077  0.281691>"
     },
     "execution_count": 152,
     "metadata": {},
     "output_type": "execute_result"
    }
   ],
   "source": [
    "df3.corr"
   ],
   "metadata": {
    "collapsed": false,
    "ExecuteTime": {
     "end_time": "2023-06-27T11:16:48.978071Z",
     "start_time": "2023-06-27T11:16:48.876816800Z"
    }
   }
  },
  {
   "cell_type": "markdown",
   "source": [
    "# Data cleaning"
   ],
   "metadata": {
    "collapsed": false
   }
  },
  {
   "cell_type": "code",
   "execution_count": 153,
   "outputs": [],
   "source": [
    "df = pd.DataFrame(np.random.randn(5, 3), index=['a', 'c', 'e', 'b', 'd'],\n",
    "                  columns=['col1', 'col2', 'col3'])"
   ],
   "metadata": {
    "collapsed": false,
    "ExecuteTime": {
     "end_time": "2023-06-27T11:18:36.365131800Z",
     "start_time": "2023-06-27T11:18:36.077826700Z"
    }
   }
  },
  {
   "cell_type": "code",
   "execution_count": 154,
   "outputs": [
    {
     "data": {
      "text/plain": "       col1      col2      col3\na -1.986733  0.951082 -0.414807\nc  0.547647  1.335714 -0.798960\ne -1.254732 -0.556936 -1.590442\nb -0.083264  0.815322  1.538366\nd  2.475315 -0.941380 -0.707212",
      "text/html": "<div>\n<style scoped>\n    .dataframe tbody tr th:only-of-type {\n        vertical-align: middle;\n    }\n\n    .dataframe tbody tr th {\n        vertical-align: top;\n    }\n\n    .dataframe thead th {\n        text-align: right;\n    }\n</style>\n<table border=\"1\" class=\"dataframe\">\n  <thead>\n    <tr style=\"text-align: right;\">\n      <th></th>\n      <th>col1</th>\n      <th>col2</th>\n      <th>col3</th>\n    </tr>\n  </thead>\n  <tbody>\n    <tr>\n      <th>a</th>\n      <td>-1.986733</td>\n      <td>0.951082</td>\n      <td>-0.414807</td>\n    </tr>\n    <tr>\n      <th>c</th>\n      <td>0.547647</td>\n      <td>1.335714</td>\n      <td>-0.798960</td>\n    </tr>\n    <tr>\n      <th>e</th>\n      <td>-1.254732</td>\n      <td>-0.556936</td>\n      <td>-1.590442</td>\n    </tr>\n    <tr>\n      <th>b</th>\n      <td>-0.083264</td>\n      <td>0.815322</td>\n      <td>1.538366</td>\n    </tr>\n    <tr>\n      <th>d</th>\n      <td>2.475315</td>\n      <td>-0.941380</td>\n      <td>-0.707212</td>\n    </tr>\n  </tbody>\n</table>\n</div>"
     },
     "execution_count": 154,
     "metadata": {},
     "output_type": "execute_result"
    }
   ],
   "source": [
    "df"
   ],
   "metadata": {
    "collapsed": false,
    "ExecuteTime": {
     "end_time": "2023-06-27T11:18:39.297408300Z",
     "start_time": "2023-06-27T11:18:39.202751500Z"
    }
   }
  },
  {
   "cell_type": "code",
   "execution_count": 155,
   "outputs": [],
   "source": [
    "df = df.reindex(['a', 'b', 'c', 'd', 'e'])"
   ],
   "metadata": {
    "collapsed": false,
    "ExecuteTime": {
     "end_time": "2023-06-27T11:19:15.247490600Z",
     "start_time": "2023-06-27T11:19:14.930688400Z"
    }
   }
  },
  {
   "cell_type": "code",
   "execution_count": 156,
   "outputs": [
    {
     "data": {
      "text/plain": "       col1      col2      col3\na -1.986733  0.951082 -0.414807\nb -0.083264  0.815322  1.538366\nc  0.547647  1.335714 -0.798960\nd  2.475315 -0.941380 -0.707212\ne -1.254732 -0.556936 -1.590442",
      "text/html": "<div>\n<style scoped>\n    .dataframe tbody tr th:only-of-type {\n        vertical-align: middle;\n    }\n\n    .dataframe tbody tr th {\n        vertical-align: top;\n    }\n\n    .dataframe thead th {\n        text-align: right;\n    }\n</style>\n<table border=\"1\" class=\"dataframe\">\n  <thead>\n    <tr style=\"text-align: right;\">\n      <th></th>\n      <th>col1</th>\n      <th>col2</th>\n      <th>col3</th>\n    </tr>\n  </thead>\n  <tbody>\n    <tr>\n      <th>a</th>\n      <td>-1.986733</td>\n      <td>0.951082</td>\n      <td>-0.414807</td>\n    </tr>\n    <tr>\n      <th>b</th>\n      <td>-0.083264</td>\n      <td>0.815322</td>\n      <td>1.538366</td>\n    </tr>\n    <tr>\n      <th>c</th>\n      <td>0.547647</td>\n      <td>1.335714</td>\n      <td>-0.798960</td>\n    </tr>\n    <tr>\n      <th>d</th>\n      <td>2.475315</td>\n      <td>-0.941380</td>\n      <td>-0.707212</td>\n    </tr>\n    <tr>\n      <th>e</th>\n      <td>-1.254732</td>\n      <td>-0.556936</td>\n      <td>-1.590442</td>\n    </tr>\n  </tbody>\n</table>\n</div>"
     },
     "execution_count": 156,
     "metadata": {},
     "output_type": "execute_result"
    }
   ],
   "source": [
    "df"
   ],
   "metadata": {
    "collapsed": false,
    "ExecuteTime": {
     "end_time": "2023-06-27T11:19:16.728038400Z",
     "start_time": "2023-06-27T11:19:16.569947300Z"
    }
   }
  },
  {
   "cell_type": "markdown",
   "source": [
    "## isnull()"
   ],
   "metadata": {
    "collapsed": false
   }
  },
  {
   "cell_type": "code",
   "execution_count": 157,
   "outputs": [
    {
     "data": {
      "text/plain": "    col1   col2   col3\na  False  False  False\nb  False  False  False\nc  False  False  False\nd  False  False  False\ne  False  False  False",
      "text/html": "<div>\n<style scoped>\n    .dataframe tbody tr th:only-of-type {\n        vertical-align: middle;\n    }\n\n    .dataframe tbody tr th {\n        vertical-align: top;\n    }\n\n    .dataframe thead th {\n        text-align: right;\n    }\n</style>\n<table border=\"1\" class=\"dataframe\">\n  <thead>\n    <tr style=\"text-align: right;\">\n      <th></th>\n      <th>col1</th>\n      <th>col2</th>\n      <th>col3</th>\n    </tr>\n  </thead>\n  <tbody>\n    <tr>\n      <th>a</th>\n      <td>False</td>\n      <td>False</td>\n      <td>False</td>\n    </tr>\n    <tr>\n      <th>b</th>\n      <td>False</td>\n      <td>False</td>\n      <td>False</td>\n    </tr>\n    <tr>\n      <th>c</th>\n      <td>False</td>\n      <td>False</td>\n      <td>False</td>\n    </tr>\n    <tr>\n      <th>d</th>\n      <td>False</td>\n      <td>False</td>\n      <td>False</td>\n    </tr>\n    <tr>\n      <th>e</th>\n      <td>False</td>\n      <td>False</td>\n      <td>False</td>\n    </tr>\n  </tbody>\n</table>\n</div>"
     },
     "execution_count": 157,
     "metadata": {},
     "output_type": "execute_result"
    }
   ],
   "source": [
    "df.isnull()"
   ],
   "metadata": {
    "collapsed": false,
    "ExecuteTime": {
     "end_time": "2023-06-27T11:19:57.819917300Z",
     "start_time": "2023-06-27T11:19:57.721902800Z"
    }
   }
  },
  {
   "cell_type": "markdown",
   "source": [
    "## notnulll()"
   ],
   "metadata": {
    "collapsed": false
   }
  },
  {
   "cell_type": "code",
   "execution_count": 158,
   "outputs": [
    {
     "data": {
      "text/plain": "   col1  col2  col3\na  True  True  True\nb  True  True  True\nc  True  True  True\nd  True  True  True\ne  True  True  True",
      "text/html": "<div>\n<style scoped>\n    .dataframe tbody tr th:only-of-type {\n        vertical-align: middle;\n    }\n\n    .dataframe tbody tr th {\n        vertical-align: top;\n    }\n\n    .dataframe thead th {\n        text-align: right;\n    }\n</style>\n<table border=\"1\" class=\"dataframe\">\n  <thead>\n    <tr style=\"text-align: right;\">\n      <th></th>\n      <th>col1</th>\n      <th>col2</th>\n      <th>col3</th>\n    </tr>\n  </thead>\n  <tbody>\n    <tr>\n      <th>a</th>\n      <td>True</td>\n      <td>True</td>\n      <td>True</td>\n    </tr>\n    <tr>\n      <th>b</th>\n      <td>True</td>\n      <td>True</td>\n      <td>True</td>\n    </tr>\n    <tr>\n      <th>c</th>\n      <td>True</td>\n      <td>True</td>\n      <td>True</td>\n    </tr>\n    <tr>\n      <th>d</th>\n      <td>True</td>\n      <td>True</td>\n      <td>True</td>\n    </tr>\n    <tr>\n      <th>e</th>\n      <td>True</td>\n      <td>True</td>\n      <td>True</td>\n    </tr>\n  </tbody>\n</table>\n</div>"
     },
     "execution_count": 158,
     "metadata": {},
     "output_type": "execute_result"
    }
   ],
   "source": [
    "df.notnull()"
   ],
   "metadata": {
    "collapsed": false,
    "ExecuteTime": {
     "end_time": "2023-06-27T11:20:27.724063200Z",
     "start_time": "2023-06-27T11:20:27.624667600Z"
    }
   }
  },
  {
   "cell_type": "code",
   "execution_count": 159,
   "outputs": [
    {
     "data": {
      "text/plain": "col1    0\ncol2    0\ncol3    0\ndtype: int64"
     },
     "execution_count": 159,
     "metadata": {},
     "output_type": "execute_result"
    }
   ],
   "source": [
    "df.isnull().sum()"
   ],
   "metadata": {
    "collapsed": false,
    "ExecuteTime": {
     "end_time": "2023-06-27T11:20:46.634199100Z",
     "start_time": "2023-06-27T11:20:46.483030800Z"
    }
   }
  },
  {
   "cell_type": "code",
   "execution_count": 160,
   "outputs": [
    {
     "data": {
      "text/plain": "col1    5\ncol2    5\ncol3    5\ndtype: int64"
     },
     "execution_count": 160,
     "metadata": {},
     "output_type": "execute_result"
    }
   ],
   "source": [
    "df.count()"
   ],
   "metadata": {
    "collapsed": false,
    "ExecuteTime": {
     "end_time": "2023-06-27T11:21:16.720522300Z",
     "start_time": "2023-06-27T11:21:16.602323600Z"
    }
   }
  },
  {
   "cell_type": "markdown",
   "source": [
    "# clean missing values"
   ],
   "metadata": {
    "collapsed": false
   }
  },
  {
   "cell_type": "markdown",
   "source": [
    "fillna()"
   ],
   "metadata": {
    "collapsed": false
   }
  },
  {
   "cell_type": "code",
   "execution_count": 161,
   "outputs": [
    {
     "data": {
      "text/plain": "       col1      col2      col3\na -1.986733  0.951082 -0.414807\nb -0.083264  0.815322  1.538366\nc  0.547647  1.335714 -0.798960\nd  2.475315 -0.941380 -0.707212\ne -1.254732 -0.556936 -1.590442",
      "text/html": "<div>\n<style scoped>\n    .dataframe tbody tr th:only-of-type {\n        vertical-align: middle;\n    }\n\n    .dataframe tbody tr th {\n        vertical-align: top;\n    }\n\n    .dataframe thead th {\n        text-align: right;\n    }\n</style>\n<table border=\"1\" class=\"dataframe\">\n  <thead>\n    <tr style=\"text-align: right;\">\n      <th></th>\n      <th>col1</th>\n      <th>col2</th>\n      <th>col3</th>\n    </tr>\n  </thead>\n  <tbody>\n    <tr>\n      <th>a</th>\n      <td>-1.986733</td>\n      <td>0.951082</td>\n      <td>-0.414807</td>\n    </tr>\n    <tr>\n      <th>b</th>\n      <td>-0.083264</td>\n      <td>0.815322</td>\n      <td>1.538366</td>\n    </tr>\n    <tr>\n      <th>c</th>\n      <td>0.547647</td>\n      <td>1.335714</td>\n      <td>-0.798960</td>\n    </tr>\n    <tr>\n      <th>d</th>\n      <td>2.475315</td>\n      <td>-0.941380</td>\n      <td>-0.707212</td>\n    </tr>\n    <tr>\n      <th>e</th>\n      <td>-1.254732</td>\n      <td>-0.556936</td>\n      <td>-1.590442</td>\n    </tr>\n  </tbody>\n</table>\n</div>"
     },
     "execution_count": 161,
     "metadata": {},
     "output_type": "execute_result"
    }
   ],
   "source": [
    "df.fillna(0)"
   ],
   "metadata": {
    "collapsed": false,
    "ExecuteTime": {
     "end_time": "2023-06-27T11:22:14.783514400Z",
     "start_time": "2023-06-27T11:22:14.681246700Z"
    }
   }
  },
  {
   "cell_type": "code",
   "execution_count": null,
   "outputs": [],
   "source": [],
   "metadata": {
    "collapsed": false
   }
  }
 ],
 "metadata": {
  "kernelspec": {
   "display_name": "Python 3",
   "language": "python",
   "name": "python3"
  },
  "language_info": {
   "codemirror_mode": {
    "name": "ipython",
    "version": 2
   },
   "file_extension": ".py",
   "mimetype": "text/x-python",
   "name": "python",
   "nbconvert_exporter": "python",
   "pygments_lexer": "ipython2",
   "version": "2.7.6"
  }
 },
 "nbformat": 4,
 "nbformat_minor": 0
}
