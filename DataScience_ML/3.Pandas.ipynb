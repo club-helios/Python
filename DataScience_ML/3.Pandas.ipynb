{
 "cells": [
  {
   "cell_type": "markdown",
   "source": [
    "# pandas\n",
    "\n",
    " * It's a python library that is used while you are working with the datasets\n",
    " * It has some function\n",
    "    1. analyze\n",
    "    2. Cleaning\n",
    "    3. Explore\n",
    "    4. Manipulation\n",
    "\n",
    "\n",
    "[JamBoard](https://jamboard.google.com/d/1-cxIXQroyDja7lDC5QR8HZvoYffOKAldTP7jQcv4tBM/edit?usp=sharing)"
   ],
   "metadata": {
    "collapsed": false
   }
  },
  {
   "cell_type": "markdown",
   "source": [
    "# Why Pandas\n",
    "\n",
    "* It allows us to analyze big data\n",
    "* It is used to clean messy datasets and then make it readable and relevant"
   ],
   "metadata": {
    "collapsed": false
   }
  },
  {
   "cell_type": "markdown",
   "source": [
    "# importation of Pandas"
   ],
   "metadata": {
    "collapsed": false
   }
  },
  {
   "cell_type": "code",
   "execution_count": 1,
   "outputs": [],
   "source": [
    "import pandas as pd\n",
    "import numpy as np"
   ],
   "metadata": {
    "collapsed": false,
    "ExecuteTime": {
     "end_time": "2023-06-27T03:21:04.657190900Z",
     "start_time": "2023-06-27T03:21:01.587446Z"
    }
   }
  },
  {
   "cell_type": "code",
   "execution_count": 2,
   "outputs": [
    {
     "data": {
      "text/plain": "'2.0.0'"
     },
     "execution_count": 2,
     "metadata": {},
     "output_type": "execute_result"
    }
   ],
   "source": [
    "pd.__version__"
   ],
   "metadata": {
    "collapsed": false,
    "ExecuteTime": {
     "end_time": "2023-06-27T03:21:04.688283800Z",
     "start_time": "2023-06-27T03:21:04.641811600Z"
    }
   }
  },
  {
   "cell_type": "markdown",
   "source": [
    "## pandas data structure\n",
    "\n",
    "   1. series\n",
    "   2. dataframe\n",
    "   3. panel"
   ],
   "metadata": {
    "collapsed": false
   }
  },
  {
   "cell_type": "markdown",
   "source": [
    "## Series\n",
    "It is a 1D array like DS\n"
   ],
   "metadata": {
    "collapsed": false
   }
  },
  {
   "cell_type": "code",
   "execution_count": 3,
   "outputs": [],
   "source": [
    "# pd.Series(data, index, dtype)"
   ],
   "metadata": {
    "collapsed": false,
    "ExecuteTime": {
     "end_time": "2023-06-27T03:21:04.688789400Z",
     "start_time": "2023-06-27T03:21:04.666831600Z"
    }
   }
  },
  {
   "cell_type": "markdown",
   "source": [
    "creating an empty series"
   ],
   "metadata": {
    "collapsed": false
   }
  },
  {
   "cell_type": "code",
   "execution_count": 4,
   "outputs": [],
   "source": [
    "s = pd.Series()"
   ],
   "metadata": {
    "collapsed": false,
    "ExecuteTime": {
     "end_time": "2023-06-27T03:21:04.793088200Z",
     "start_time": "2023-06-27T03:21:04.672829900Z"
    }
   }
  },
  {
   "cell_type": "code",
   "execution_count": 5,
   "outputs": [
    {
     "data": {
      "text/plain": "Series([], dtype: object)"
     },
     "execution_count": 5,
     "metadata": {},
     "output_type": "execute_result"
    }
   ],
   "source": [
    "s"
   ],
   "metadata": {
    "collapsed": false,
    "ExecuteTime": {
     "end_time": "2023-06-27T03:21:04.827971600Z",
     "start_time": "2023-06-27T03:21:04.682398900Z"
    }
   }
  },
  {
   "cell_type": "markdown",
   "source": [
    "create a series using numpy array"
   ],
   "metadata": {
    "collapsed": false
   }
  },
  {
   "cell_type": "code",
   "execution_count": 6,
   "outputs": [],
   "source": [
    "data = np.array([12, 45, 32, 89])\n",
    "s = pd.Series(data)"
   ],
   "metadata": {
    "collapsed": false,
    "ExecuteTime": {
     "end_time": "2023-06-27T03:21:04.828969200Z",
     "start_time": "2023-06-27T03:21:04.694779400Z"
    }
   }
  },
  {
   "cell_type": "code",
   "execution_count": 7,
   "outputs": [
    {
     "data": {
      "text/plain": "0    12\n1    45\n2    32\n3    89\ndtype: int32"
     },
     "execution_count": 7,
     "metadata": {},
     "output_type": "execute_result"
    }
   ],
   "source": [
    "s"
   ],
   "metadata": {
    "collapsed": false,
    "ExecuteTime": {
     "end_time": "2023-06-27T03:21:04.830711400Z",
     "start_time": "2023-06-27T03:21:04.701749Z"
    }
   }
  },
  {
   "cell_type": "code",
   "execution_count": 8,
   "outputs": [],
   "source": [
    "s = pd.Series(data, index=[101, 102, 103, 104])"
   ],
   "metadata": {
    "collapsed": false,
    "ExecuteTime": {
     "end_time": "2023-06-27T03:21:04.846597100Z",
     "start_time": "2023-06-27T03:21:04.716083600Z"
    }
   }
  },
  {
   "cell_type": "code",
   "execution_count": 9,
   "outputs": [
    {
     "data": {
      "text/plain": "101    12\n102    45\n103    32\n104    89\ndtype: int32"
     },
     "execution_count": 9,
     "metadata": {},
     "output_type": "execute_result"
    }
   ],
   "source": [
    "s"
   ],
   "metadata": {
    "collapsed": false,
    "ExecuteTime": {
     "end_time": "2023-06-27T03:21:04.849445500Z",
     "start_time": "2023-06-27T03:21:04.727374200Z"
    }
   }
  },
  {
   "cell_type": "markdown",
   "source": [
    "create a series using dictionary"
   ],
   "metadata": {
    "collapsed": false
   }
  },
  {
   "cell_type": "code",
   "execution_count": 10,
   "outputs": [],
   "source": [
    "data = {\"a\": 1, \"b\": 2, \"c\": 3}\n",
    "s = pd.Series(data)"
   ],
   "metadata": {
    "collapsed": false,
    "ExecuteTime": {
     "end_time": "2023-06-27T03:21:04.849445500Z",
     "start_time": "2023-06-27T03:21:04.740973800Z"
    }
   }
  },
  {
   "cell_type": "code",
   "execution_count": 11,
   "outputs": [
    {
     "data": {
      "text/plain": "a    1\nb    2\nc    3\ndtype: int64"
     },
     "execution_count": 11,
     "metadata": {},
     "output_type": "execute_result"
    }
   ],
   "source": [
    "s"
   ],
   "metadata": {
    "collapsed": false,
    "ExecuteTime": {
     "end_time": "2023-06-27T03:21:04.850441300Z",
     "start_time": "2023-06-27T03:21:04.748252300Z"
    }
   }
  },
  {
   "cell_type": "code",
   "execution_count": 12,
   "outputs": [],
   "source": [
    "data = {\"a\": 1, \"b\": 2, \"c\": 3}\n",
    "s = pd.Series(data, index=['f', 'g', 'h'])"
   ],
   "metadata": {
    "collapsed": false,
    "ExecuteTime": {
     "end_time": "2023-06-27T03:21:04.850441300Z",
     "start_time": "2023-06-27T03:21:04.756086800Z"
    }
   }
  },
  {
   "cell_type": "code",
   "execution_count": 13,
   "outputs": [
    {
     "data": {
      "text/plain": "f   NaN\ng   NaN\nh   NaN\ndtype: float64"
     },
     "execution_count": 13,
     "metadata": {},
     "output_type": "execute_result"
    }
   ],
   "source": [
    "s"
   ],
   "metadata": {
    "collapsed": false,
    "ExecuteTime": {
     "end_time": "2023-06-27T03:21:04.851440Z",
     "start_time": "2023-06-27T03:21:04.764374500Z"
    }
   }
  },
  {
   "cell_type": "markdown",
   "source": [
    "create a series using the scalar value"
   ],
   "metadata": {
    "collapsed": false
   }
  },
  {
   "cell_type": "code",
   "execution_count": 14,
   "outputs": [],
   "source": [
    "data = 99\n",
    "s = pd.Series(data, index=[101, 102, 103, 104])"
   ],
   "metadata": {
    "collapsed": false,
    "ExecuteTime": {
     "end_time": "2023-06-27T03:21:04.864095100Z",
     "start_time": "2023-06-27T03:21:04.777772100Z"
    }
   }
  },
  {
   "cell_type": "code",
   "execution_count": 15,
   "outputs": [
    {
     "data": {
      "text/plain": "101    99\n102    99\n103    99\n104    99\ndtype: int64"
     },
     "execution_count": 15,
     "metadata": {},
     "output_type": "execute_result"
    }
   ],
   "source": [
    "s"
   ],
   "metadata": {
    "collapsed": false,
    "ExecuteTime": {
     "end_time": "2023-06-27T03:21:04.865092500Z",
     "start_time": "2023-06-27T03:21:04.782559800Z"
    }
   }
  },
  {
   "cell_type": "markdown",
   "source": [
    "* Updation\n",
    "\n",
    "1 accesing the data from pandas series"
   ],
   "metadata": {
    "collapsed": false
   }
  },
  {
   "cell_type": "code",
   "execution_count": 16,
   "outputs": [],
   "source": [
    "data = np.array([12, 45, 32, 89, 7, -10, 21, -0.5, -7, 30])\n",
    "s = pd.Series(data)"
   ],
   "metadata": {
    "collapsed": false,
    "ExecuteTime": {
     "end_time": "2023-06-27T03:21:04.865659700Z",
     "start_time": "2023-06-27T03:21:04.793088200Z"
    }
   }
  },
  {
   "cell_type": "code",
   "execution_count": 17,
   "outputs": [
    {
     "data": {
      "text/plain": "0    12.0\n1    45.0\n2    32.0\n3    89.0\n4     7.0\n5   -10.0\n6    21.0\n7    -0.5\n8    -7.0\n9    30.0\ndtype: float64"
     },
     "execution_count": 17,
     "metadata": {},
     "output_type": "execute_result"
    }
   ],
   "source": [
    "s"
   ],
   "metadata": {
    "collapsed": false,
    "ExecuteTime": {
     "end_time": "2023-06-27T03:21:04.867174800Z",
     "start_time": "2023-06-27T03:21:04.798077700Z"
    }
   }
  },
  {
   "cell_type": "code",
   "execution_count": 18,
   "outputs": [
    {
     "data": {
      "text/plain": "7.0"
     },
     "execution_count": 18,
     "metadata": {},
     "output_type": "execute_result"
    }
   ],
   "source": [
    "s[4]"
   ],
   "metadata": {
    "collapsed": false,
    "ExecuteTime": {
     "end_time": "2023-06-27T03:21:04.868179700Z",
     "start_time": "2023-06-27T03:21:04.805344800Z"
    }
   }
  },
  {
   "cell_type": "code",
   "execution_count": 19,
   "outputs": [
    {
     "data": {
      "text/plain": "0    12.0\n1    45.0\n2    32.0\ndtype: float64"
     },
     "execution_count": 19,
     "metadata": {},
     "output_type": "execute_result"
    }
   ],
   "source": [
    "s[0:3]  # s[:3]"
   ],
   "metadata": {
    "collapsed": false,
    "ExecuteTime": {
     "end_time": "2023-06-27T03:21:05.096221500Z",
     "start_time": "2023-06-27T03:21:04.815499Z"
    }
   }
  },
  {
   "cell_type": "code",
   "execution_count": 20,
   "outputs": [
    {
     "data": {
      "text/plain": "7    -0.5\n8    -7.0\n9    30.0\ndtype: float64"
     },
     "execution_count": 20,
     "metadata": {},
     "output_type": "execute_result"
    }
   ],
   "source": [
    "s[7:]"
   ],
   "metadata": {
    "collapsed": false,
    "ExecuteTime": {
     "end_time": "2023-06-27T03:21:05.098218200Z",
     "start_time": "2023-06-27T03:21:04.825977600Z"
    }
   }
  },
  {
   "cell_type": "code",
   "execution_count": 21,
   "outputs": [],
   "source": [
    "data = {\"a\": 1, \"b\": 2, \"c\": 3}\n",
    "s = pd.Series(data, index=['f', 'g', 'h', 'a', 'b', 'c'])"
   ],
   "metadata": {
    "collapsed": false,
    "ExecuteTime": {
     "end_time": "2023-06-27T03:21:05.098218200Z",
     "start_time": "2023-06-27T03:21:04.832707300Z"
    }
   }
  },
  {
   "cell_type": "code",
   "execution_count": 22,
   "outputs": [
    {
     "data": {
      "text/plain": "f   NaN\ng   NaN\nh   NaN\ndtype: float64"
     },
     "execution_count": 22,
     "metadata": {},
     "output_type": "execute_result"
    }
   ],
   "source": [
    "s['f':'h']"
   ],
   "metadata": {
    "collapsed": false,
    "ExecuteTime": {
     "end_time": "2023-06-27T03:21:05.099214200Z",
     "start_time": "2023-06-27T03:21:04.839618300Z"
    }
   }
  },
  {
   "cell_type": "code",
   "execution_count": 23,
   "outputs": [],
   "source": [
    "s['f'] = 88.5"
   ],
   "metadata": {
    "collapsed": false,
    "ExecuteTime": {
     "end_time": "2023-06-27T03:21:05.099214200Z",
     "start_time": "2023-06-27T03:21:04.853607400Z"
    }
   }
  },
  {
   "cell_type": "code",
   "execution_count": 24,
   "outputs": [
    {
     "data": {
      "text/plain": "f    88.5\ng     NaN\nh     NaN\na     1.0\nb     2.0\nc     3.0\ndtype: float64"
     },
     "execution_count": 24,
     "metadata": {},
     "output_type": "execute_result"
    }
   ],
   "source": [
    "s"
   ],
   "metadata": {
    "collapsed": false,
    "ExecuteTime": {
     "end_time": "2023-06-27T03:21:05.100211100Z",
     "start_time": "2023-06-27T03:21:04.858107100Z"
    }
   }
  },
  {
   "cell_type": "markdown",
   "source": [
    "* boolean marking"
   ],
   "metadata": {
    "collapsed": false
   }
  },
  {
   "cell_type": "code",
   "execution_count": 25,
   "outputs": [
    {
     "data": {
      "text/plain": "f     True\ng    False\nh    False\na    False\nb    False\nc    False\ndtype: bool"
     },
     "execution_count": 25,
     "metadata": {},
     "output_type": "execute_result"
    }
   ],
   "source": [
    "s > 5"
   ],
   "metadata": {
    "collapsed": false,
    "ExecuteTime": {
     "end_time": "2023-06-27T03:21:05.140654500Z",
     "start_time": "2023-06-27T03:21:04.874661600Z"
    }
   }
  },
  {
   "cell_type": "code",
   "execution_count": 26,
   "outputs": [
    {
     "data": {
      "text/plain": "f    88.5\nc     3.0\ndtype: float64"
     },
     "execution_count": 26,
     "metadata": {},
     "output_type": "execute_result"
    }
   ],
   "source": [
    "s[s > 2]"
   ],
   "metadata": {
    "collapsed": false,
    "ExecuteTime": {
     "end_time": "2023-06-27T03:21:05.141662300Z",
     "start_time": "2023-06-27T03:21:04.885312700Z"
    }
   }
  },
  {
   "cell_type": "code",
   "execution_count": 27,
   "outputs": [],
   "source": [
    "# s[s < 2 or s == 3]"
   ],
   "metadata": {
    "collapsed": false,
    "ExecuteTime": {
     "end_time": "2023-06-27T03:21:05.141662300Z",
     "start_time": "2023-06-27T03:21:04.901134300Z"
    }
   }
  },
  {
   "cell_type": "code",
   "execution_count": 28,
   "outputs": [
    {
     "data": {
      "text/plain": "(6,)"
     },
     "execution_count": 28,
     "metadata": {},
     "output_type": "execute_result"
    }
   ],
   "source": [
    "s.shape"
   ],
   "metadata": {
    "collapsed": false,
    "ExecuteTime": {
     "end_time": "2023-06-27T03:21:05.142665100Z",
     "start_time": "2023-06-27T03:21:04.905634700Z"
    }
   }
  },
  {
   "cell_type": "code",
   "execution_count": 29,
   "outputs": [
    {
     "data": {
      "text/plain": "1"
     },
     "execution_count": 29,
     "metadata": {},
     "output_type": "execute_result"
    }
   ],
   "source": [
    "s.ndim"
   ],
   "metadata": {
    "collapsed": false,
    "ExecuteTime": {
     "end_time": "2023-06-27T03:21:05.143662100Z",
     "start_time": "2023-06-27T03:21:04.913256300Z"
    }
   }
  },
  {
   "cell_type": "code",
   "execution_count": 30,
   "outputs": [
    {
     "data": {
      "text/plain": "6"
     },
     "execution_count": 30,
     "metadata": {},
     "output_type": "execute_result"
    }
   ],
   "source": [
    "s.size"
   ],
   "metadata": {
    "collapsed": false,
    "ExecuteTime": {
     "end_time": "2023-06-27T03:21:05.143662100Z",
     "start_time": "2023-06-27T03:21:04.922352800Z"
    }
   }
  },
  {
   "cell_type": "code",
   "execution_count": 31,
   "outputs": [
    {
     "data": {
      "text/plain": "Index(['f', 'g', 'h', 'a', 'b', 'c'], dtype='object')"
     },
     "execution_count": 31,
     "metadata": {},
     "output_type": "execute_result"
    }
   ],
   "source": [
    "s.index"
   ],
   "metadata": {
    "collapsed": false,
    "ExecuteTime": {
     "end_time": "2023-06-27T03:21:05.144660Z",
     "start_time": "2023-06-27T03:21:04.931763500Z"
    }
   }
  },
  {
   "cell_type": "code",
   "execution_count": 32,
   "outputs": [
    {
     "data": {
      "text/plain": "array([88.5,  nan,  nan,  1. ,  2. ,  3. ])"
     },
     "execution_count": 32,
     "metadata": {},
     "output_type": "execute_result"
    }
   ],
   "source": [
    "s.values"
   ],
   "metadata": {
    "collapsed": false,
    "ExecuteTime": {
     "end_time": "2023-06-27T03:21:05.156613600Z",
     "start_time": "2023-06-27T03:21:04.939093700Z"
    }
   }
  },
  {
   "cell_type": "code",
   "execution_count": 33,
   "outputs": [
    {
     "data": {
      "text/plain": "True"
     },
     "execution_count": 33,
     "metadata": {},
     "output_type": "execute_result"
    }
   ],
   "source": [
    "'a' in s"
   ],
   "metadata": {
    "collapsed": false,
    "ExecuteTime": {
     "end_time": "2023-06-27T03:21:05.156613600Z",
     "start_time": "2023-06-27T03:21:04.947037900Z"
    }
   }
  },
  {
   "cell_type": "markdown",
   "source": [
    "# delete"
   ],
   "metadata": {
    "collapsed": false
   }
  },
  {
   "cell_type": "code",
   "execution_count": 34,
   "outputs": [
    {
     "data": {
      "text/plain": "f    88.5\ng     NaN\nh     NaN\nb     2.0\nc     3.0\ndtype: float64"
     },
     "execution_count": 34,
     "metadata": {},
     "output_type": "execute_result"
    }
   ],
   "source": [
    "s.drop('a')"
   ],
   "metadata": {
    "collapsed": false,
    "ExecuteTime": {
     "end_time": "2023-06-27T03:21:05.157610500Z",
     "start_time": "2023-06-27T03:21:04.955326700Z"
    }
   }
  },
  {
   "cell_type": "code",
   "execution_count": 35,
   "outputs": [
    {
     "data": {
      "text/plain": "f    88.5\ng     NaN\nh     NaN\na     1.0\nb     2.0\nc     3.0\ndtype: float64"
     },
     "execution_count": 35,
     "metadata": {},
     "output_type": "execute_result"
    }
   ],
   "source": [
    "s"
   ],
   "metadata": {
    "collapsed": false,
    "ExecuteTime": {
     "end_time": "2023-06-27T03:21:05.157610500Z",
     "start_time": "2023-06-27T03:21:04.964464600Z"
    }
   }
  },
  {
   "cell_type": "code",
   "execution_count": 36,
   "outputs": [],
   "source": [
    "s.drop('a', inplace=True)"
   ],
   "metadata": {
    "collapsed": false,
    "ExecuteTime": {
     "end_time": "2023-06-27T03:21:05.159604900Z",
     "start_time": "2023-06-27T03:21:04.974924100Z"
    }
   }
  },
  {
   "cell_type": "code",
   "execution_count": 37,
   "outputs": [
    {
     "data": {
      "text/plain": "f    88.5\ng     NaN\nh     NaN\nb     2.0\nc     3.0\ndtype: float64"
     },
     "execution_count": 37,
     "metadata": {},
     "output_type": "execute_result"
    }
   ],
   "source": [
    "s"
   ],
   "metadata": {
    "collapsed": false,
    "ExecuteTime": {
     "end_time": "2023-06-27T03:21:05.159604900Z",
     "start_time": "2023-06-27T03:21:04.982076900Z"
    }
   }
  },
  {
   "cell_type": "code",
   "execution_count": 38,
   "outputs": [
    {
     "data": {
      "text/plain": "f    90.5\ng     NaN\nh     NaN\nb     4.0\nc     5.0\ndtype: float64"
     },
     "execution_count": 38,
     "metadata": {},
     "output_type": "execute_result"
    }
   ],
   "source": [
    "s + 2"
   ],
   "metadata": {
    "collapsed": false,
    "ExecuteTime": {
     "end_time": "2023-06-27T03:21:05.160605400Z",
     "start_time": "2023-06-27T03:21:04.990110800Z"
    }
   }
  },
  {
   "cell_type": "code",
   "execution_count": 39,
   "outputs": [
    {
     "data": {
      "text/plain": "f    86.5\ng     NaN\nh     NaN\nb     0.0\nc     1.0\ndtype: float64"
     },
     "execution_count": 39,
     "metadata": {},
     "output_type": "execute_result"
    }
   ],
   "source": [
    "s - 2"
   ],
   "metadata": {
    "collapsed": false,
    "ExecuteTime": {
     "end_time": "2023-06-27T03:21:05.178575800Z",
     "start_time": "2023-06-27T03:21:04.998741Z"
    }
   }
  },
  {
   "cell_type": "code",
   "execution_count": 40,
   "outputs": [
    {
     "data": {
      "text/plain": "f    177.0\ng      NaN\nh      NaN\nb      4.0\nc      6.0\ndtype: float64"
     },
     "execution_count": 40,
     "metadata": {},
     "output_type": "execute_result"
    }
   ],
   "source": [
    "s * 2"
   ],
   "metadata": {
    "collapsed": false,
    "ExecuteTime": {
     "end_time": "2023-06-27T03:21:05.178575800Z",
     "start_time": "2023-06-27T03:21:05.008433600Z"
    }
   }
  },
  {
   "cell_type": "code",
   "execution_count": 41,
   "outputs": [
    {
     "data": {
      "text/plain": "f    7832.25\ng        NaN\nh        NaN\nb       4.00\nc       9.00\ndtype: float64"
     },
     "execution_count": 41,
     "metadata": {},
     "output_type": "execute_result"
    }
   ],
   "source": [
    "np.power(s, 2)"
   ],
   "metadata": {
    "collapsed": false,
    "ExecuteTime": {
     "end_time": "2023-06-27T03:21:05.179572700Z",
     "start_time": "2023-06-27T03:21:05.022066500Z"
    }
   }
  },
  {
   "cell_type": "markdown",
   "source": [
    "# DataFrame\n",
    "\n",
    "It is 2D ds"
   ],
   "metadata": {
    "collapsed": false
   }
  },
  {
   "cell_type": "code",
   "execution_count": 42,
   "outputs": [],
   "source": [
    "# pd.DataFrame(data, index, columns, dtype, copy)"
   ],
   "metadata": {
    "collapsed": false,
    "ExecuteTime": {
     "end_time": "2023-06-27T03:21:05.180570800Z",
     "start_time": "2023-06-27T03:21:05.031150200Z"
    }
   }
  },
  {
   "cell_type": "markdown",
   "source": [
    "CURD"
   ],
   "metadata": {
    "collapsed": false
   }
  },
  {
   "cell_type": "markdown",
   "source": [
    "To create\n",
    "\n",
    "1 list\n",
    "2 Dict\n",
    "3 ndarrays\n",
    "4 series"
   ],
   "metadata": {
    "collapsed": false
   }
  },
  {
   "cell_type": "code",
   "execution_count": 43,
   "outputs": [],
   "source": [
    "# empty data frame\n",
    "df = pd.DataFrame()"
   ],
   "metadata": {
    "collapsed": false,
    "ExecuteTime": {
     "end_time": "2023-06-27T03:21:05.180570800Z",
     "start_time": "2023-06-27T03:21:05.036961Z"
    }
   }
  },
  {
   "cell_type": "code",
   "execution_count": 44,
   "outputs": [
    {
     "data": {
      "text/plain": "Empty DataFrame\nColumns: []\nIndex: []",
      "text/html": "<div>\n<style scoped>\n    .dataframe tbody tr th:only-of-type {\n        vertical-align: middle;\n    }\n\n    .dataframe tbody tr th {\n        vertical-align: top;\n    }\n\n    .dataframe thead th {\n        text-align: right;\n    }\n</style>\n<table border=\"1\" class=\"dataframe\">\n  <thead>\n    <tr style=\"text-align: right;\">\n      <th></th>\n    </tr>\n  </thead>\n  <tbody>\n  </tbody>\n</table>\n</div>"
     },
     "execution_count": 44,
     "metadata": {},
     "output_type": "execute_result"
    }
   ],
   "source": [
    "df"
   ],
   "metadata": {
    "collapsed": false,
    "ExecuteTime": {
     "end_time": "2023-06-27T03:21:05.181569400Z",
     "start_time": "2023-06-27T03:21:05.043977800Z"
    }
   }
  },
  {
   "cell_type": "markdown",
   "source": [
    "## Create a data frame using list"
   ],
   "metadata": {
    "collapsed": false
   }
  },
  {
   "cell_type": "code",
   "execution_count": 45,
   "outputs": [],
   "source": [
    "data = [7, 8, 44, 56, 23, 98]"
   ],
   "metadata": {
    "collapsed": false,
    "ExecuteTime": {
     "end_time": "2023-06-27T03:21:05.183160100Z",
     "start_time": "2023-06-27T03:21:05.055431900Z"
    }
   }
  },
  {
   "cell_type": "code",
   "execution_count": 46,
   "outputs": [],
   "source": [
    "df = pd.DataFrame(data)"
   ],
   "metadata": {
    "collapsed": false,
    "ExecuteTime": {
     "end_time": "2023-06-27T03:21:05.184160800Z",
     "start_time": "2023-06-27T03:21:05.061604300Z"
    }
   }
  },
  {
   "cell_type": "code",
   "execution_count": 47,
   "outputs": [
    {
     "data": {
      "text/plain": "    0\n0   7\n1   8\n2  44\n3  56\n4  23\n5  98",
      "text/html": "<div>\n<style scoped>\n    .dataframe tbody tr th:only-of-type {\n        vertical-align: middle;\n    }\n\n    .dataframe tbody tr th {\n        vertical-align: top;\n    }\n\n    .dataframe thead th {\n        text-align: right;\n    }\n</style>\n<table border=\"1\" class=\"dataframe\">\n  <thead>\n    <tr style=\"text-align: right;\">\n      <th></th>\n      <th>0</th>\n    </tr>\n  </thead>\n  <tbody>\n    <tr>\n      <th>0</th>\n      <td>7</td>\n    </tr>\n    <tr>\n      <th>1</th>\n      <td>8</td>\n    </tr>\n    <tr>\n      <th>2</th>\n      <td>44</td>\n    </tr>\n    <tr>\n      <th>3</th>\n      <td>56</td>\n    </tr>\n    <tr>\n      <th>4</th>\n      <td>23</td>\n    </tr>\n    <tr>\n      <th>5</th>\n      <td>98</td>\n    </tr>\n  </tbody>\n</table>\n</div>"
     },
     "execution_count": 47,
     "metadata": {},
     "output_type": "execute_result"
    }
   ],
   "source": [
    "df"
   ],
   "metadata": {
    "collapsed": false,
    "ExecuteTime": {
     "end_time": "2023-06-27T03:21:05.184160800Z",
     "start_time": "2023-06-27T03:21:05.065109300Z"
    }
   }
  },
  {
   "cell_type": "code",
   "execution_count": 48,
   "outputs": [],
   "source": [
    "data = [[\"dog\", 'bhaw bhaw'], ['cat', 'meow'], ['cow', 'moo']]\n",
    "df = pd.DataFrame(data)"
   ],
   "metadata": {
    "collapsed": false,
    "ExecuteTime": {
     "end_time": "2023-06-27T03:21:05.185158700Z",
     "start_time": "2023-06-27T03:21:05.073731Z"
    }
   }
  },
  {
   "cell_type": "code",
   "execution_count": 49,
   "outputs": [
    {
     "data": {
      "text/plain": "     0          1\n0  dog  bhaw bhaw\n1  cat       meow\n2  cow        moo",
      "text/html": "<div>\n<style scoped>\n    .dataframe tbody tr th:only-of-type {\n        vertical-align: middle;\n    }\n\n    .dataframe tbody tr th {\n        vertical-align: top;\n    }\n\n    .dataframe thead th {\n        text-align: right;\n    }\n</style>\n<table border=\"1\" class=\"dataframe\">\n  <thead>\n    <tr style=\"text-align: right;\">\n      <th></th>\n      <th>0</th>\n      <th>1</th>\n    </tr>\n  </thead>\n  <tbody>\n    <tr>\n      <th>0</th>\n      <td>dog</td>\n      <td>bhaw bhaw</td>\n    </tr>\n    <tr>\n      <th>1</th>\n      <td>cat</td>\n      <td>meow</td>\n    </tr>\n    <tr>\n      <th>2</th>\n      <td>cow</td>\n      <td>moo</td>\n    </tr>\n  </tbody>\n</table>\n</div>"
     },
     "execution_count": 49,
     "metadata": {},
     "output_type": "execute_result"
    }
   ],
   "source": [
    "df"
   ],
   "metadata": {
    "collapsed": false,
    "ExecuteTime": {
     "end_time": "2023-06-27T03:21:05.186157500Z",
     "start_time": "2023-06-27T03:21:05.078934200Z"
    }
   }
  },
  {
   "cell_type": "code",
   "execution_count": 50,
   "outputs": [],
   "source": [
    "df = pd.DataFrame(data, columns=[\"animal_name\", 'animal_sound'])"
   ],
   "metadata": {
    "collapsed": false,
    "ExecuteTime": {
     "end_time": "2023-06-27T03:21:05.188150300Z",
     "start_time": "2023-06-27T03:21:05.091057500Z"
    }
   }
  },
  {
   "cell_type": "code",
   "execution_count": 51,
   "outputs": [
    {
     "data": {
      "text/plain": "  animal_name animal_sound\n0         dog    bhaw bhaw\n1         cat         meow\n2         cow          moo",
      "text/html": "<div>\n<style scoped>\n    .dataframe tbody tr th:only-of-type {\n        vertical-align: middle;\n    }\n\n    .dataframe tbody tr th {\n        vertical-align: top;\n    }\n\n    .dataframe thead th {\n        text-align: right;\n    }\n</style>\n<table border=\"1\" class=\"dataframe\">\n  <thead>\n    <tr style=\"text-align: right;\">\n      <th></th>\n      <th>animal_name</th>\n      <th>animal_sound</th>\n    </tr>\n  </thead>\n  <tbody>\n    <tr>\n      <th>0</th>\n      <td>dog</td>\n      <td>bhaw bhaw</td>\n    </tr>\n    <tr>\n      <th>1</th>\n      <td>cat</td>\n      <td>meow</td>\n    </tr>\n    <tr>\n      <th>2</th>\n      <td>cow</td>\n      <td>moo</td>\n    </tr>\n  </tbody>\n</table>\n</div>"
     },
     "execution_count": 51,
     "metadata": {},
     "output_type": "execute_result"
    }
   ],
   "source": [
    "df"
   ],
   "metadata": {
    "collapsed": false,
    "ExecuteTime": {
     "end_time": "2023-06-27T03:21:05.188150300Z",
     "start_time": "2023-06-27T03:21:05.097219100Z"
    }
   }
  },
  {
   "cell_type": "markdown",
   "source": [
    "## Create a data frame using dictionary"
   ],
   "metadata": {
    "collapsed": false
   }
  },
  {
   "cell_type": "code",
   "execution_count": 52,
   "outputs": [],
   "source": [
    "data = {'name': ['ram', 'rahul', 'bhwana'], \"age\": [25, 20, 18]}\n",
    "df = pd.DataFrame(data)"
   ],
   "metadata": {
    "collapsed": false,
    "ExecuteTime": {
     "end_time": "2023-06-27T03:21:05.189148400Z",
     "start_time": "2023-06-27T03:21:05.107985600Z"
    }
   }
  },
  {
   "cell_type": "code",
   "execution_count": 53,
   "outputs": [
    {
     "data": {
      "text/plain": "     name  age\n0     ram   25\n1   rahul   20\n2  bhwana   18",
      "text/html": "<div>\n<style scoped>\n    .dataframe tbody tr th:only-of-type {\n        vertical-align: middle;\n    }\n\n    .dataframe tbody tr th {\n        vertical-align: top;\n    }\n\n    .dataframe thead th {\n        text-align: right;\n    }\n</style>\n<table border=\"1\" class=\"dataframe\">\n  <thead>\n    <tr style=\"text-align: right;\">\n      <th></th>\n      <th>name</th>\n      <th>age</th>\n    </tr>\n  </thead>\n  <tbody>\n    <tr>\n      <th>0</th>\n      <td>ram</td>\n      <td>25</td>\n    </tr>\n    <tr>\n      <th>1</th>\n      <td>rahul</td>\n      <td>20</td>\n    </tr>\n    <tr>\n      <th>2</th>\n      <td>bhwana</td>\n      <td>18</td>\n    </tr>\n  </tbody>\n</table>\n</div>"
     },
     "execution_count": 53,
     "metadata": {},
     "output_type": "execute_result"
    }
   ],
   "source": [
    "df"
   ],
   "metadata": {
    "collapsed": false,
    "ExecuteTime": {
     "end_time": "2023-06-27T03:21:05.629539300Z",
     "start_time": "2023-06-27T03:21:05.111761100Z"
    }
   }
  },
  {
   "cell_type": "code",
   "execution_count": 54,
   "outputs": [],
   "source": [
    "df = pd.DataFrame(data, index=['a', 'b', 'c'])"
   ],
   "metadata": {
    "collapsed": false,
    "ExecuteTime": {
     "end_time": "2023-06-27T03:21:05.630537900Z",
     "start_time": "2023-06-27T03:21:05.128130400Z"
    }
   }
  },
  {
   "cell_type": "code",
   "execution_count": 55,
   "outputs": [
    {
     "data": {
      "text/plain": "     name  age\na     ram   25\nb   rahul   20\nc  bhwana   18",
      "text/html": "<div>\n<style scoped>\n    .dataframe tbody tr th:only-of-type {\n        vertical-align: middle;\n    }\n\n    .dataframe tbody tr th {\n        vertical-align: top;\n    }\n\n    .dataframe thead th {\n        text-align: right;\n    }\n</style>\n<table border=\"1\" class=\"dataframe\">\n  <thead>\n    <tr style=\"text-align: right;\">\n      <th></th>\n      <th>name</th>\n      <th>age</th>\n    </tr>\n  </thead>\n  <tbody>\n    <tr>\n      <th>a</th>\n      <td>ram</td>\n      <td>25</td>\n    </tr>\n    <tr>\n      <th>b</th>\n      <td>rahul</td>\n      <td>20</td>\n    </tr>\n    <tr>\n      <th>c</th>\n      <td>bhwana</td>\n      <td>18</td>\n    </tr>\n  </tbody>\n</table>\n</div>"
     },
     "execution_count": 55,
     "metadata": {},
     "output_type": "execute_result"
    }
   ],
   "source": [
    "df"
   ],
   "metadata": {
    "collapsed": false,
    "ExecuteTime": {
     "end_time": "2023-06-27T03:21:05.630537900Z",
     "start_time": "2023-06-27T03:21:05.136665300Z"
    }
   }
  },
  {
   "cell_type": "markdown",
   "source": [
    "## Create a data frame using series"
   ],
   "metadata": {
    "collapsed": false
   }
  },
  {
   "cell_type": "code",
   "execution_count": 56,
   "outputs": [],
   "source": [
    "data = {'karan_marks': pd.Series([50, 77, 65], index=['test1', 'test2', 'test3']),\n",
    "        \"arjun_marks\": pd.Series([67, 89, 32, 98, 50], index=['test-1', 'ptest-1', 'test-2', 'ptest-2', 'test-3'])}\n",
    "\n",
    "df = pd.DataFrame(data)"
   ],
   "metadata": {
    "collapsed": false,
    "ExecuteTime": {
     "end_time": "2023-06-27T03:21:05.630537900Z",
     "start_time": "2023-06-27T03:21:05.145656300Z"
    }
   }
  },
  {
   "cell_type": "code",
   "execution_count": 57,
   "outputs": [
    {
     "data": {
      "text/plain": "         karan_marks  arjun_marks\nptest-1          NaN         89.0\nptest-2          NaN         98.0\ntest-1           NaN         67.0\ntest-2           NaN         32.0\ntest-3           NaN         50.0\ntest1           50.0          NaN\ntest2           77.0          NaN\ntest3           65.0          NaN",
      "text/html": "<div>\n<style scoped>\n    .dataframe tbody tr th:only-of-type {\n        vertical-align: middle;\n    }\n\n    .dataframe tbody tr th {\n        vertical-align: top;\n    }\n\n    .dataframe thead th {\n        text-align: right;\n    }\n</style>\n<table border=\"1\" class=\"dataframe\">\n  <thead>\n    <tr style=\"text-align: right;\">\n      <th></th>\n      <th>karan_marks</th>\n      <th>arjun_marks</th>\n    </tr>\n  </thead>\n  <tbody>\n    <tr>\n      <th>ptest-1</th>\n      <td>NaN</td>\n      <td>89.0</td>\n    </tr>\n    <tr>\n      <th>ptest-2</th>\n      <td>NaN</td>\n      <td>98.0</td>\n    </tr>\n    <tr>\n      <th>test-1</th>\n      <td>NaN</td>\n      <td>67.0</td>\n    </tr>\n    <tr>\n      <th>test-2</th>\n      <td>NaN</td>\n      <td>32.0</td>\n    </tr>\n    <tr>\n      <th>test-3</th>\n      <td>NaN</td>\n      <td>50.0</td>\n    </tr>\n    <tr>\n      <th>test1</th>\n      <td>50.0</td>\n      <td>NaN</td>\n    </tr>\n    <tr>\n      <th>test2</th>\n      <td>77.0</td>\n      <td>NaN</td>\n    </tr>\n    <tr>\n      <th>test3</th>\n      <td>65.0</td>\n      <td>NaN</td>\n    </tr>\n  </tbody>\n</table>\n</div>"
     },
     "execution_count": 57,
     "metadata": {},
     "output_type": "execute_result"
    }
   ],
   "source": [
    "df"
   ],
   "metadata": {
    "collapsed": false,
    "ExecuteTime": {
     "end_time": "2023-06-27T03:21:05.631534400Z",
     "start_time": "2023-06-27T03:21:05.154618Z"
    }
   }
  },
  {
   "cell_type": "markdown",
   "source": [
    "5. Create a data frame using list of dictionaries"
   ],
   "metadata": {
    "collapsed": false
   }
  },
  {
   "cell_type": "code",
   "execution_count": 58,
   "outputs": [],
   "source": [
    "data = [{\"a\": 1, \"b\": 2}, {\"c\": 3, \"d\": 4}, {\"e\": 5, \"f\": 6}]\n",
    "df = pd.DataFrame(data)\n"
   ],
   "metadata": {
    "collapsed": false,
    "ExecuteTime": {
     "end_time": "2023-06-27T03:21:05.631534400Z",
     "start_time": "2023-06-27T03:21:05.180570800Z"
    }
   }
  },
  {
   "cell_type": "code",
   "execution_count": 59,
   "outputs": [
    {
     "data": {
      "text/plain": "     a    b    c    d    e    f\n0  1.0  2.0  NaN  NaN  NaN  NaN\n1  NaN  NaN  3.0  4.0  NaN  NaN\n2  NaN  NaN  NaN  NaN  5.0  6.0",
      "text/html": "<div>\n<style scoped>\n    .dataframe tbody tr th:only-of-type {\n        vertical-align: middle;\n    }\n\n    .dataframe tbody tr th {\n        vertical-align: top;\n    }\n\n    .dataframe thead th {\n        text-align: right;\n    }\n</style>\n<table border=\"1\" class=\"dataframe\">\n  <thead>\n    <tr style=\"text-align: right;\">\n      <th></th>\n      <th>a</th>\n      <th>b</th>\n      <th>c</th>\n      <th>d</th>\n      <th>e</th>\n      <th>f</th>\n    </tr>\n  </thead>\n  <tbody>\n    <tr>\n      <th>0</th>\n      <td>1.0</td>\n      <td>2.0</td>\n      <td>NaN</td>\n      <td>NaN</td>\n      <td>NaN</td>\n      <td>NaN</td>\n    </tr>\n    <tr>\n      <th>1</th>\n      <td>NaN</td>\n      <td>NaN</td>\n      <td>3.0</td>\n      <td>4.0</td>\n      <td>NaN</td>\n      <td>NaN</td>\n    </tr>\n    <tr>\n      <th>2</th>\n      <td>NaN</td>\n      <td>NaN</td>\n      <td>NaN</td>\n      <td>NaN</td>\n      <td>5.0</td>\n      <td>6.0</td>\n    </tr>\n  </tbody>\n</table>\n</div>"
     },
     "execution_count": 59,
     "metadata": {},
     "output_type": "execute_result"
    }
   ],
   "source": [
    "df"
   ],
   "metadata": {
    "collapsed": false,
    "ExecuteTime": {
     "end_time": "2023-06-27T03:21:05.632534200Z",
     "start_time": "2023-06-27T03:21:05.190147100Z"
    }
   }
  },
  {
   "cell_type": "code",
   "execution_count": 60,
   "outputs": [],
   "source": [
    "data = [{\"a\": 1, \"b\": 2, \"c\": 90}, {\"c\": 3, \"d\": 4}, {\"e\": 5, \"f\": 6}]\n",
    "df = pd.DataFrame(data, index=['x', 'y', 'z'])\n"
   ],
   "metadata": {
    "collapsed": false,
    "ExecuteTime": {
     "end_time": "2023-06-27T03:21:05.632534200Z",
     "start_time": "2023-06-27T03:21:05.203118300Z"
    }
   }
  },
  {
   "cell_type": "code",
   "execution_count": 61,
   "outputs": [
    {
     "data": {
      "text/plain": "     a    b     c    d    e    f\nx  1.0  2.0  90.0  NaN  NaN  NaN\ny  NaN  NaN   3.0  4.0  NaN  NaN\nz  NaN  NaN   NaN  NaN  5.0  6.0",
      "text/html": "<div>\n<style scoped>\n    .dataframe tbody tr th:only-of-type {\n        vertical-align: middle;\n    }\n\n    .dataframe tbody tr th {\n        vertical-align: top;\n    }\n\n    .dataframe thead th {\n        text-align: right;\n    }\n</style>\n<table border=\"1\" class=\"dataframe\">\n  <thead>\n    <tr style=\"text-align: right;\">\n      <th></th>\n      <th>a</th>\n      <th>b</th>\n      <th>c</th>\n      <th>d</th>\n      <th>e</th>\n      <th>f</th>\n    </tr>\n  </thead>\n  <tbody>\n    <tr>\n      <th>x</th>\n      <td>1.0</td>\n      <td>2.0</td>\n      <td>90.0</td>\n      <td>NaN</td>\n      <td>NaN</td>\n      <td>NaN</td>\n    </tr>\n    <tr>\n      <th>y</th>\n      <td>NaN</td>\n      <td>NaN</td>\n      <td>3.0</td>\n      <td>4.0</td>\n      <td>NaN</td>\n      <td>NaN</td>\n    </tr>\n    <tr>\n      <th>z</th>\n      <td>NaN</td>\n      <td>NaN</td>\n      <td>NaN</td>\n      <td>NaN</td>\n      <td>5.0</td>\n      <td>6.0</td>\n    </tr>\n  </tbody>\n</table>\n</div>"
     },
     "execution_count": 61,
     "metadata": {},
     "output_type": "execute_result"
    }
   ],
   "source": [
    "df"
   ],
   "metadata": {
    "collapsed": false,
    "ExecuteTime": {
     "end_time": "2023-06-27T03:21:05.633529200Z",
     "start_time": "2023-06-27T03:21:05.213588500Z"
    }
   }
  },
  {
   "cell_type": "markdown",
   "source": [
    "### Update"
   ],
   "metadata": {
    "collapsed": false
   }
  },
  {
   "cell_type": "code",
   "execution_count": 62,
   "outputs": [],
   "source": [
    "data = [10, 20, 30, 40, 50, 60, 70]\n",
    "data1 = [100, 200, 300, 400, 500, 600, 700]\n",
    "df = pd.DataFrame([data, data1], columns=['a', 'b', 'c', 'd', 'e', 'f', 'g'])"
   ],
   "metadata": {
    "collapsed": false,
    "ExecuteTime": {
     "end_time": "2023-06-27T03:21:05.633529200Z",
     "start_time": "2023-06-27T03:21:05.227872100Z"
    }
   }
  },
  {
   "cell_type": "code",
   "execution_count": 63,
   "outputs": [
    {
     "data": {
      "text/plain": "     a    b    c    d    e    f    g\n0   10   20   30   40   50   60   70\n1  100  200  300  400  500  600  700",
      "text/html": "<div>\n<style scoped>\n    .dataframe tbody tr th:only-of-type {\n        vertical-align: middle;\n    }\n\n    .dataframe tbody tr th {\n        vertical-align: top;\n    }\n\n    .dataframe thead th {\n        text-align: right;\n    }\n</style>\n<table border=\"1\" class=\"dataframe\">\n  <thead>\n    <tr style=\"text-align: right;\">\n      <th></th>\n      <th>a</th>\n      <th>b</th>\n      <th>c</th>\n      <th>d</th>\n      <th>e</th>\n      <th>f</th>\n      <th>g</th>\n    </tr>\n  </thead>\n  <tbody>\n    <tr>\n      <th>0</th>\n      <td>10</td>\n      <td>20</td>\n      <td>30</td>\n      <td>40</td>\n      <td>50</td>\n      <td>60</td>\n      <td>70</td>\n    </tr>\n    <tr>\n      <th>1</th>\n      <td>100</td>\n      <td>200</td>\n      <td>300</td>\n      <td>400</td>\n      <td>500</td>\n      <td>600</td>\n      <td>700</td>\n    </tr>\n  </tbody>\n</table>\n</div>"
     },
     "execution_count": 63,
     "metadata": {},
     "output_type": "execute_result"
    }
   ],
   "source": [
    "df"
   ],
   "metadata": {
    "collapsed": false,
    "ExecuteTime": {
     "end_time": "2023-06-27T03:21:05.633529200Z",
     "start_time": "2023-06-27T03:21:05.235728100Z"
    }
   }
  },
  {
   "cell_type": "markdown",
   "source": [
    "1. column selection"
   ],
   "metadata": {
    "collapsed": false
   }
  },
  {
   "cell_type": "code",
   "execution_count": 64,
   "outputs": [
    {
     "data": {
      "text/plain": "0     20\n1    200\nName: b, dtype: int64"
     },
     "execution_count": 64,
     "metadata": {},
     "output_type": "execute_result"
    }
   ],
   "source": [
    "df['b']"
   ],
   "metadata": {
    "collapsed": false,
    "ExecuteTime": {
     "end_time": "2023-06-27T03:21:05.664453600Z",
     "start_time": "2023-06-27T03:21:05.243229600Z"
    }
   }
  },
  {
   "cell_type": "markdown",
   "source": [
    "2. add a column"
   ],
   "metadata": {
    "collapsed": false
   }
  },
  {
   "cell_type": "code",
   "execution_count": 65,
   "outputs": [],
   "source": [
    "df['h'] = [56, 78]"
   ],
   "metadata": {
    "collapsed": false,
    "ExecuteTime": {
     "end_time": "2023-06-27T03:21:05.665450900Z",
     "start_time": "2023-06-27T03:21:05.252070700Z"
    }
   }
  },
  {
   "cell_type": "code",
   "execution_count": 66,
   "outputs": [
    {
     "data": {
      "text/plain": "     a    b    c    d    e    f    g   h\n0   10   20   30   40   50   60   70  56\n1  100  200  300  400  500  600  700  78",
      "text/html": "<div>\n<style scoped>\n    .dataframe tbody tr th:only-of-type {\n        vertical-align: middle;\n    }\n\n    .dataframe tbody tr th {\n        vertical-align: top;\n    }\n\n    .dataframe thead th {\n        text-align: right;\n    }\n</style>\n<table border=\"1\" class=\"dataframe\">\n  <thead>\n    <tr style=\"text-align: right;\">\n      <th></th>\n      <th>a</th>\n      <th>b</th>\n      <th>c</th>\n      <th>d</th>\n      <th>e</th>\n      <th>f</th>\n      <th>g</th>\n      <th>h</th>\n    </tr>\n  </thead>\n  <tbody>\n    <tr>\n      <th>0</th>\n      <td>10</td>\n      <td>20</td>\n      <td>30</td>\n      <td>40</td>\n      <td>50</td>\n      <td>60</td>\n      <td>70</td>\n      <td>56</td>\n    </tr>\n    <tr>\n      <th>1</th>\n      <td>100</td>\n      <td>200</td>\n      <td>300</td>\n      <td>400</td>\n      <td>500</td>\n      <td>600</td>\n      <td>700</td>\n      <td>78</td>\n    </tr>\n  </tbody>\n</table>\n</div>"
     },
     "execution_count": 66,
     "metadata": {},
     "output_type": "execute_result"
    }
   ],
   "source": [
    "df"
   ],
   "metadata": {
    "collapsed": false,
    "ExecuteTime": {
     "end_time": "2023-06-27T03:21:05.665450900Z",
     "start_time": "2023-06-27T03:21:05.259417300Z"
    }
   }
  },
  {
   "cell_type": "code",
   "execution_count": 67,
   "outputs": [],
   "source": [
    "df['m'] = pd.Series([56, 78, 89])"
   ],
   "metadata": {
    "collapsed": false,
    "ExecuteTime": {
     "end_time": "2023-06-27T03:21:05.665450900Z",
     "start_time": "2023-06-27T03:21:05.267005700Z"
    }
   }
  },
  {
   "cell_type": "code",
   "execution_count": 68,
   "outputs": [
    {
     "data": {
      "text/plain": "     a    b    c    d    e    f    g   h   m\n0   10   20   30   40   50   60   70  56  56\n1  100  200  300  400  500  600  700  78  78",
      "text/html": "<div>\n<style scoped>\n    .dataframe tbody tr th:only-of-type {\n        vertical-align: middle;\n    }\n\n    .dataframe tbody tr th {\n        vertical-align: top;\n    }\n\n    .dataframe thead th {\n        text-align: right;\n    }\n</style>\n<table border=\"1\" class=\"dataframe\">\n  <thead>\n    <tr style=\"text-align: right;\">\n      <th></th>\n      <th>a</th>\n      <th>b</th>\n      <th>c</th>\n      <th>d</th>\n      <th>e</th>\n      <th>f</th>\n      <th>g</th>\n      <th>h</th>\n      <th>m</th>\n    </tr>\n  </thead>\n  <tbody>\n    <tr>\n      <th>0</th>\n      <td>10</td>\n      <td>20</td>\n      <td>30</td>\n      <td>40</td>\n      <td>50</td>\n      <td>60</td>\n      <td>70</td>\n      <td>56</td>\n      <td>56</td>\n    </tr>\n    <tr>\n      <th>1</th>\n      <td>100</td>\n      <td>200</td>\n      <td>300</td>\n      <td>400</td>\n      <td>500</td>\n      <td>600</td>\n      <td>700</td>\n      <td>78</td>\n      <td>78</td>\n    </tr>\n  </tbody>\n</table>\n</div>"
     },
     "execution_count": 68,
     "metadata": {},
     "output_type": "execute_result"
    }
   ],
   "source": [
    "df"
   ],
   "metadata": {
    "collapsed": false,
    "ExecuteTime": {
     "end_time": "2023-06-27T03:21:05.666448700Z",
     "start_time": "2023-06-27T03:21:05.277113200Z"
    }
   }
  },
  {
   "cell_type": "code",
   "execution_count": 69,
   "outputs": [],
   "source": [
    "df['n'] = pd.Series([56])"
   ],
   "metadata": {
    "collapsed": false,
    "ExecuteTime": {
     "end_time": "2023-06-27T03:21:05.666448700Z",
     "start_time": "2023-06-27T03:21:05.287368700Z"
    }
   }
  },
  {
   "cell_type": "code",
   "execution_count": 70,
   "outputs": [
    {
     "data": {
      "text/plain": "     a    b    c    d    e    f    g   h   m     n\n0   10   20   30   40   50   60   70  56  56  56.0\n1  100  200  300  400  500  600  700  78  78   NaN",
      "text/html": "<div>\n<style scoped>\n    .dataframe tbody tr th:only-of-type {\n        vertical-align: middle;\n    }\n\n    .dataframe tbody tr th {\n        vertical-align: top;\n    }\n\n    .dataframe thead th {\n        text-align: right;\n    }\n</style>\n<table border=\"1\" class=\"dataframe\">\n  <thead>\n    <tr style=\"text-align: right;\">\n      <th></th>\n      <th>a</th>\n      <th>b</th>\n      <th>c</th>\n      <th>d</th>\n      <th>e</th>\n      <th>f</th>\n      <th>g</th>\n      <th>h</th>\n      <th>m</th>\n      <th>n</th>\n    </tr>\n  </thead>\n  <tbody>\n    <tr>\n      <th>0</th>\n      <td>10</td>\n      <td>20</td>\n      <td>30</td>\n      <td>40</td>\n      <td>50</td>\n      <td>60</td>\n      <td>70</td>\n      <td>56</td>\n      <td>56</td>\n      <td>56.0</td>\n    </tr>\n    <tr>\n      <th>1</th>\n      <td>100</td>\n      <td>200</td>\n      <td>300</td>\n      <td>400</td>\n      <td>500</td>\n      <td>600</td>\n      <td>700</td>\n      <td>78</td>\n      <td>78</td>\n      <td>NaN</td>\n    </tr>\n  </tbody>\n</table>\n</div>"
     },
     "execution_count": 70,
     "metadata": {},
     "output_type": "execute_result"
    }
   ],
   "source": [
    "df"
   ],
   "metadata": {
    "collapsed": false,
    "ExecuteTime": {
     "end_time": "2023-06-27T03:21:05.668442900Z",
     "start_time": "2023-06-27T03:21:05.294798400Z"
    }
   }
  },
  {
   "cell_type": "code",
   "execution_count": 71,
   "outputs": [],
   "source": [
    "del df['n']"
   ],
   "metadata": {
    "collapsed": false,
    "ExecuteTime": {
     "end_time": "2023-06-27T03:21:05.668442900Z",
     "start_time": "2023-06-27T03:21:05.304795500Z"
    }
   }
  },
  {
   "cell_type": "code",
   "execution_count": 72,
   "outputs": [
    {
     "data": {
      "text/plain": "     a    b    c    d    e    f    g   h   m\n0   10   20   30   40   50   60   70  56  56\n1  100  200  300  400  500  600  700  78  78",
      "text/html": "<div>\n<style scoped>\n    .dataframe tbody tr th:only-of-type {\n        vertical-align: middle;\n    }\n\n    .dataframe tbody tr th {\n        vertical-align: top;\n    }\n\n    .dataframe thead th {\n        text-align: right;\n    }\n</style>\n<table border=\"1\" class=\"dataframe\">\n  <thead>\n    <tr style=\"text-align: right;\">\n      <th></th>\n      <th>a</th>\n      <th>b</th>\n      <th>c</th>\n      <th>d</th>\n      <th>e</th>\n      <th>f</th>\n      <th>g</th>\n      <th>h</th>\n      <th>m</th>\n    </tr>\n  </thead>\n  <tbody>\n    <tr>\n      <th>0</th>\n      <td>10</td>\n      <td>20</td>\n      <td>30</td>\n      <td>40</td>\n      <td>50</td>\n      <td>60</td>\n      <td>70</td>\n      <td>56</td>\n      <td>56</td>\n    </tr>\n    <tr>\n      <th>1</th>\n      <td>100</td>\n      <td>200</td>\n      <td>300</td>\n      <td>400</td>\n      <td>500</td>\n      <td>600</td>\n      <td>700</td>\n      <td>78</td>\n      <td>78</td>\n    </tr>\n  </tbody>\n</table>\n</div>"
     },
     "execution_count": 72,
     "metadata": {},
     "output_type": "execute_result"
    }
   ],
   "source": [
    "df"
   ],
   "metadata": {
    "collapsed": false,
    "ExecuteTime": {
     "end_time": "2023-06-27T03:21:05.668442900Z",
     "start_time": "2023-06-27T03:21:05.310174800Z"
    }
   }
  },
  {
   "cell_type": "code",
   "execution_count": 73,
   "outputs": [],
   "source": [
    "# df.pop()"
   ],
   "metadata": {
    "collapsed": false,
    "ExecuteTime": {
     "end_time": "2023-06-27T03:21:05.669440500Z",
     "start_time": "2023-06-27T03:21:05.321493700Z"
    }
   }
  },
  {
   "cell_type": "code",
   "execution_count": 74,
   "outputs": [
    {
     "data": {
      "text/plain": "     c\n0   30\n1  300",
      "text/html": "<div>\n<style scoped>\n    .dataframe tbody tr th:only-of-type {\n        vertical-align: middle;\n    }\n\n    .dataframe tbody tr th {\n        vertical-align: top;\n    }\n\n    .dataframe thead th {\n        text-align: right;\n    }\n</style>\n<table border=\"1\" class=\"dataframe\">\n  <thead>\n    <tr style=\"text-align: right;\">\n      <th></th>\n      <th>c</th>\n    </tr>\n  </thead>\n  <tbody>\n    <tr>\n      <th>0</th>\n      <td>30</td>\n    </tr>\n    <tr>\n      <th>1</th>\n      <td>300</td>\n    </tr>\n  </tbody>\n</table>\n</div>"
     },
     "execution_count": 74,
     "metadata": {},
     "output_type": "execute_result"
    }
   ],
   "source": [
    "df[['c']]"
   ],
   "metadata": {
    "collapsed": false,
    "ExecuteTime": {
     "end_time": "2023-06-27T03:21:05.669440500Z",
     "start_time": "2023-06-27T03:21:05.325488900Z"
    }
   }
  },
  {
   "cell_type": "code",
   "execution_count": 75,
   "outputs": [
    {
     "data": {
      "text/plain": "     e    a    f\n0   50   10   60\n1  500  100  600",
      "text/html": "<div>\n<style scoped>\n    .dataframe tbody tr th:only-of-type {\n        vertical-align: middle;\n    }\n\n    .dataframe tbody tr th {\n        vertical-align: top;\n    }\n\n    .dataframe thead th {\n        text-align: right;\n    }\n</style>\n<table border=\"1\" class=\"dataframe\">\n  <thead>\n    <tr style=\"text-align: right;\">\n      <th></th>\n      <th>e</th>\n      <th>a</th>\n      <th>f</th>\n    </tr>\n  </thead>\n  <tbody>\n    <tr>\n      <th>0</th>\n      <td>50</td>\n      <td>10</td>\n      <td>60</td>\n    </tr>\n    <tr>\n      <th>1</th>\n      <td>500</td>\n      <td>100</td>\n      <td>600</td>\n    </tr>\n  </tbody>\n</table>\n</div>"
     },
     "execution_count": 75,
     "metadata": {},
     "output_type": "execute_result"
    }
   ],
   "source": [
    "df[['e', 'a', 'f']]"
   ],
   "metadata": {
    "collapsed": false,
    "ExecuteTime": {
     "end_time": "2023-06-27T03:21:05.669440500Z",
     "start_time": "2023-06-27T03:21:05.334578900Z"
    }
   }
  },
  {
   "cell_type": "code",
   "execution_count": 76,
   "outputs": [],
   "source": [
    "data = {'apple': [102, 500, 250, 75], \"grapes\": [50, 150, 90, 45]}\n",
    "df = pd.DataFrame(data)"
   ],
   "metadata": {
    "collapsed": false,
    "ExecuteTime": {
     "end_time": "2023-06-27T03:21:05.680925500Z",
     "start_time": "2023-06-27T03:21:05.345090200Z"
    }
   }
  },
  {
   "cell_type": "code",
   "execution_count": 77,
   "outputs": [
    {
     "data": {
      "text/plain": "   apple  grapes\n0    102      50\n1    500     150\n2    250      90\n3     75      45",
      "text/html": "<div>\n<style scoped>\n    .dataframe tbody tr th:only-of-type {\n        vertical-align: middle;\n    }\n\n    .dataframe tbody tr th {\n        vertical-align: top;\n    }\n\n    .dataframe thead th {\n        text-align: right;\n    }\n</style>\n<table border=\"1\" class=\"dataframe\">\n  <thead>\n    <tr style=\"text-align: right;\">\n      <th></th>\n      <th>apple</th>\n      <th>grapes</th>\n    </tr>\n  </thead>\n  <tbody>\n    <tr>\n      <th>0</th>\n      <td>102</td>\n      <td>50</td>\n    </tr>\n    <tr>\n      <th>1</th>\n      <td>500</td>\n      <td>150</td>\n    </tr>\n    <tr>\n      <th>2</th>\n      <td>250</td>\n      <td>90</td>\n    </tr>\n    <tr>\n      <th>3</th>\n      <td>75</td>\n      <td>45</td>\n    </tr>\n  </tbody>\n</table>\n</div>"
     },
     "execution_count": 77,
     "metadata": {},
     "output_type": "execute_result"
    }
   ],
   "source": [
    "df"
   ],
   "metadata": {
    "collapsed": false,
    "ExecuteTime": {
     "end_time": "2023-06-27T03:21:05.681922800Z",
     "start_time": "2023-06-27T03:21:05.351064100Z"
    }
   }
  },
  {
   "cell_type": "code",
   "execution_count": 78,
   "outputs": [
    {
     "data": {
      "text/plain": "   grapes\n0      50\n1     150\n2      90\n3      45",
      "text/html": "<div>\n<style scoped>\n    .dataframe tbody tr th:only-of-type {\n        vertical-align: middle;\n    }\n\n    .dataframe tbody tr th {\n        vertical-align: top;\n    }\n\n    .dataframe thead th {\n        text-align: right;\n    }\n</style>\n<table border=\"1\" class=\"dataframe\">\n  <thead>\n    <tr style=\"text-align: right;\">\n      <th></th>\n      <th>grapes</th>\n    </tr>\n  </thead>\n  <tbody>\n    <tr>\n      <th>0</th>\n      <td>50</td>\n    </tr>\n    <tr>\n      <th>1</th>\n      <td>150</td>\n    </tr>\n    <tr>\n      <th>2</th>\n      <td>90</td>\n    </tr>\n    <tr>\n      <th>3</th>\n      <td>45</td>\n    </tr>\n  </tbody>\n</table>\n</div>"
     },
     "execution_count": 78,
     "metadata": {},
     "output_type": "execute_result"
    }
   ],
   "source": [
    "df[['grapes']]"
   ],
   "metadata": {
    "collapsed": false,
    "ExecuteTime": {
     "end_time": "2023-06-27T03:21:05.682920100Z",
     "start_time": "2023-06-27T03:21:05.361077400Z"
    }
   }
  },
  {
   "cell_type": "code",
   "execution_count": 79,
   "outputs": [],
   "source": [
    "df['bananas'] = df['grapes'] + 50"
   ],
   "metadata": {
    "collapsed": false,
    "ExecuteTime": {
     "end_time": "2023-06-27T03:21:05.682920100Z",
     "start_time": "2023-06-27T03:21:05.369394600Z"
    }
   }
  },
  {
   "cell_type": "code",
   "execution_count": 80,
   "outputs": [
    {
     "data": {
      "text/plain": "   apple  grapes  bananas\n0    102      50      100\n1    500     150      200\n2    250      90      140\n3     75      45       95",
      "text/html": "<div>\n<style scoped>\n    .dataframe tbody tr th:only-of-type {\n        vertical-align: middle;\n    }\n\n    .dataframe tbody tr th {\n        vertical-align: top;\n    }\n\n    .dataframe thead th {\n        text-align: right;\n    }\n</style>\n<table border=\"1\" class=\"dataframe\">\n  <thead>\n    <tr style=\"text-align: right;\">\n      <th></th>\n      <th>apple</th>\n      <th>grapes</th>\n      <th>bananas</th>\n    </tr>\n  </thead>\n  <tbody>\n    <tr>\n      <th>0</th>\n      <td>102</td>\n      <td>50</td>\n      <td>100</td>\n    </tr>\n    <tr>\n      <th>1</th>\n      <td>500</td>\n      <td>150</td>\n      <td>200</td>\n    </tr>\n    <tr>\n      <th>2</th>\n      <td>250</td>\n      <td>90</td>\n      <td>140</td>\n    </tr>\n    <tr>\n      <th>3</th>\n      <td>75</td>\n      <td>45</td>\n      <td>95</td>\n    </tr>\n  </tbody>\n</table>\n</div>"
     },
     "execution_count": 80,
     "metadata": {},
     "output_type": "execute_result"
    }
   ],
   "source": [
    "df"
   ],
   "metadata": {
    "collapsed": false,
    "ExecuteTime": {
     "end_time": "2023-06-27T03:21:05.682920100Z",
     "start_time": "2023-06-27T03:21:05.375810400Z"
    }
   }
  },
  {
   "cell_type": "code",
   "execution_count": 81,
   "outputs": [],
   "source": [
    "df.drop('bananas', axis=1, inplace=True)"
   ],
   "metadata": {
    "collapsed": false,
    "ExecuteTime": {
     "end_time": "2023-06-27T03:21:05.683916200Z",
     "start_time": "2023-06-27T03:21:05.386991300Z"
    }
   }
  },
  {
   "cell_type": "code",
   "execution_count": 82,
   "outputs": [
    {
     "data": {
      "text/plain": "   apple  grapes\n0    102      50\n1    500     150\n2    250      90\n3     75      45",
      "text/html": "<div>\n<style scoped>\n    .dataframe tbody tr th:only-of-type {\n        vertical-align: middle;\n    }\n\n    .dataframe tbody tr th {\n        vertical-align: top;\n    }\n\n    .dataframe thead th {\n        text-align: right;\n    }\n</style>\n<table border=\"1\" class=\"dataframe\">\n  <thead>\n    <tr style=\"text-align: right;\">\n      <th></th>\n      <th>apple</th>\n      <th>grapes</th>\n    </tr>\n  </thead>\n  <tbody>\n    <tr>\n      <th>0</th>\n      <td>102</td>\n      <td>50</td>\n    </tr>\n    <tr>\n      <th>1</th>\n      <td>500</td>\n      <td>150</td>\n    </tr>\n    <tr>\n      <th>2</th>\n      <td>250</td>\n      <td>90</td>\n    </tr>\n    <tr>\n      <th>3</th>\n      <td>75</td>\n      <td>45</td>\n    </tr>\n  </tbody>\n</table>\n</div>"
     },
     "execution_count": 82,
     "metadata": {},
     "output_type": "execute_result"
    }
   ],
   "source": [
    "df"
   ],
   "metadata": {
    "collapsed": false,
    "ExecuteTime": {
     "end_time": "2023-06-27T03:21:05.683916200Z",
     "start_time": "2023-06-27T03:21:05.393428600Z"
    }
   }
  },
  {
   "cell_type": "code",
   "execution_count": 83,
   "outputs": [],
   "source": [
    "df['pear'] = df['grapes'] + 100\n",
    "df['mangos'] = df['grapes'] + 500\n",
    "df['jackfruit'] = df['grapes'] + 150\n",
    "df['strawberry'] = df['grapes'] + 200\n",
    "df['oranges'] = df['grapes'] + 70"
   ],
   "metadata": {
    "collapsed": false,
    "ExecuteTime": {
     "end_time": "2023-06-27T03:21:05.683916200Z",
     "start_time": "2023-06-27T03:21:05.402741100Z"
    }
   }
  },
  {
   "cell_type": "code",
   "execution_count": 84,
   "outputs": [
    {
     "data": {
      "text/plain": "   apple  grapes  pear  mangos  jackfruit  strawberry  oranges\n0    102      50   150     550        200         250      120\n1    500     150   250     650        300         350      220\n2    250      90   190     590        240         290      160\n3     75      45   145     545        195         245      115",
      "text/html": "<div>\n<style scoped>\n    .dataframe tbody tr th:only-of-type {\n        vertical-align: middle;\n    }\n\n    .dataframe tbody tr th {\n        vertical-align: top;\n    }\n\n    .dataframe thead th {\n        text-align: right;\n    }\n</style>\n<table border=\"1\" class=\"dataframe\">\n  <thead>\n    <tr style=\"text-align: right;\">\n      <th></th>\n      <th>apple</th>\n      <th>grapes</th>\n      <th>pear</th>\n      <th>mangos</th>\n      <th>jackfruit</th>\n      <th>strawberry</th>\n      <th>oranges</th>\n    </tr>\n  </thead>\n  <tbody>\n    <tr>\n      <th>0</th>\n      <td>102</td>\n      <td>50</td>\n      <td>150</td>\n      <td>550</td>\n      <td>200</td>\n      <td>250</td>\n      <td>120</td>\n    </tr>\n    <tr>\n      <th>1</th>\n      <td>500</td>\n      <td>150</td>\n      <td>250</td>\n      <td>650</td>\n      <td>300</td>\n      <td>350</td>\n      <td>220</td>\n    </tr>\n    <tr>\n      <th>2</th>\n      <td>250</td>\n      <td>90</td>\n      <td>190</td>\n      <td>590</td>\n      <td>240</td>\n      <td>290</td>\n      <td>160</td>\n    </tr>\n    <tr>\n      <th>3</th>\n      <td>75</td>\n      <td>45</td>\n      <td>145</td>\n      <td>545</td>\n      <td>195</td>\n      <td>245</td>\n      <td>115</td>\n    </tr>\n  </tbody>\n</table>\n</div>"
     },
     "execution_count": 84,
     "metadata": {},
     "output_type": "execute_result"
    }
   ],
   "source": [
    "df"
   ],
   "metadata": {
    "collapsed": false,
    "ExecuteTime": {
     "end_time": "2023-06-27T03:21:05.683916200Z",
     "start_time": "2023-06-27T03:21:05.410243900Z"
    }
   }
  },
  {
   "cell_type": "markdown",
   "source": [
    "## Row selection"
   ],
   "metadata": {
    "collapsed": false
   }
  },
  {
   "cell_type": "code",
   "execution_count": 85,
   "outputs": [
    {
     "data": {
      "text/plain": "apple          75\ngrapes         45\npear          145\nmangos        545\njackfruit     195\nstrawberry    245\noranges       115\nName: 3, dtype: int64"
     },
     "execution_count": 85,
     "metadata": {},
     "output_type": "execute_result"
    }
   ],
   "source": [
    "# loc & iloc\n",
    "# loc -> works with rows\n",
    "df.loc[3]"
   ],
   "metadata": {
    "collapsed": false,
    "ExecuteTime": {
     "end_time": "2023-06-27T03:21:05.684914800Z",
     "start_time": "2023-06-27T03:21:05.423289600Z"
    }
   }
  },
  {
   "cell_type": "markdown",
   "source": [
    "df.loc[[3]]"
   ],
   "metadata": {
    "collapsed": false
   }
  },
  {
   "cell_type": "code",
   "execution_count": 86,
   "outputs": [
    {
     "data": {
      "text/plain": "   apple  grapes  pear  mangos  jackfruit  strawberry  oranges\n3     75      45   145     545        195         245      115",
      "text/html": "<div>\n<style scoped>\n    .dataframe tbody tr th:only-of-type {\n        vertical-align: middle;\n    }\n\n    .dataframe tbody tr th {\n        vertical-align: top;\n    }\n\n    .dataframe thead th {\n        text-align: right;\n    }\n</style>\n<table border=\"1\" class=\"dataframe\">\n  <thead>\n    <tr style=\"text-align: right;\">\n      <th></th>\n      <th>apple</th>\n      <th>grapes</th>\n      <th>pear</th>\n      <th>mangos</th>\n      <th>jackfruit</th>\n      <th>strawberry</th>\n      <th>oranges</th>\n    </tr>\n  </thead>\n  <tbody>\n    <tr>\n      <th>3</th>\n      <td>75</td>\n      <td>45</td>\n      <td>145</td>\n      <td>545</td>\n      <td>195</td>\n      <td>245</td>\n      <td>115</td>\n    </tr>\n  </tbody>\n</table>\n</div>"
     },
     "execution_count": 86,
     "metadata": {},
     "output_type": "execute_result"
    }
   ],
   "source": [
    "# iloc -> index name\n",
    "df.iloc[[3]]"
   ],
   "metadata": {
    "collapsed": false,
    "ExecuteTime": {
     "end_time": "2023-06-27T03:21:05.684914800Z",
     "start_time": "2023-06-27T03:21:05.430100100Z"
    }
   }
  },
  {
   "cell_type": "markdown",
   "source": [
    "## Row addition"
   ],
   "metadata": {
    "collapsed": false
   }
  },
  {
   "cell_type": "code",
   "execution_count": 87,
   "outputs": [],
   "source": [
    "student_marks = {\n",
    "    \"name\": ['rahul', 'rohit', 'venkat', 'sahil', 'ankita'],\n",
    "    \"OS\": [25, 75.5, 96, 0, 100],\n",
    "    \"DBMS\": [20, 80, 60, 50, 99]\n",
    "}\n",
    "\n",
    "df1 = pd.DataFrame(student_marks)"
   ],
   "metadata": {
    "collapsed": false,
    "ExecuteTime": {
     "end_time": "2023-06-27T03:21:05.684914800Z",
     "start_time": "2023-06-27T03:21:05.437973900Z"
    }
   }
  },
  {
   "cell_type": "code",
   "execution_count": 88,
   "outputs": [
    {
     "data": {
      "text/plain": "     name     OS  DBMS\n0   rahul   25.0    20\n1   rohit   75.5    80\n2  venkat   96.0    60\n3   sahil    0.0    50\n4  ankita  100.0    99",
      "text/html": "<div>\n<style scoped>\n    .dataframe tbody tr th:only-of-type {\n        vertical-align: middle;\n    }\n\n    .dataframe tbody tr th {\n        vertical-align: top;\n    }\n\n    .dataframe thead th {\n        text-align: right;\n    }\n</style>\n<table border=\"1\" class=\"dataframe\">\n  <thead>\n    <tr style=\"text-align: right;\">\n      <th></th>\n      <th>name</th>\n      <th>OS</th>\n      <th>DBMS</th>\n    </tr>\n  </thead>\n  <tbody>\n    <tr>\n      <th>0</th>\n      <td>rahul</td>\n      <td>25.0</td>\n      <td>20</td>\n    </tr>\n    <tr>\n      <th>1</th>\n      <td>rohit</td>\n      <td>75.5</td>\n      <td>80</td>\n    </tr>\n    <tr>\n      <th>2</th>\n      <td>venkat</td>\n      <td>96.0</td>\n      <td>60</td>\n    </tr>\n    <tr>\n      <th>3</th>\n      <td>sahil</td>\n      <td>0.0</td>\n      <td>50</td>\n    </tr>\n    <tr>\n      <th>4</th>\n      <td>ankita</td>\n      <td>100.0</td>\n      <td>99</td>\n    </tr>\n  </tbody>\n</table>\n</div>"
     },
     "execution_count": 88,
     "metadata": {},
     "output_type": "execute_result"
    }
   ],
   "source": [
    "df1"
   ],
   "metadata": {
    "collapsed": false,
    "ExecuteTime": {
     "end_time": "2023-06-27T03:21:05.685910700Z",
     "start_time": "2023-06-27T03:21:05.446226300Z"
    }
   }
  },
  {
   "cell_type": "code",
   "execution_count": 89,
   "outputs": [],
   "source": [
    "data2 = {\"name\": \"robby\", \"OS\": 60.5, \"DBMS\": 55.5}"
   ],
   "metadata": {
    "collapsed": false,
    "ExecuteTime": {
     "end_time": "2023-06-27T03:21:05.717825400Z",
     "start_time": "2023-06-27T03:21:05.458916600Z"
    }
   }
  },
  {
   "cell_type": "code",
   "execution_count": 90,
   "outputs": [],
   "source": [
    "df1 = df1._append(data2, ignore_index=True)"
   ],
   "metadata": {
    "collapsed": false,
    "ExecuteTime": {
     "end_time": "2023-06-27T03:21:05.717825400Z",
     "start_time": "2023-06-27T03:21:05.467821200Z"
    }
   }
  },
  {
   "cell_type": "code",
   "execution_count": 91,
   "outputs": [
    {
     "data": {
      "text/plain": "     name     OS  DBMS\n0   rahul   25.0  20.0\n1   rohit   75.5  80.0\n2  venkat   96.0  60.0\n3   sahil    0.0  50.0\n4  ankita  100.0  99.0\n5   robby   60.5  55.5",
      "text/html": "<div>\n<style scoped>\n    .dataframe tbody tr th:only-of-type {\n        vertical-align: middle;\n    }\n\n    .dataframe tbody tr th {\n        vertical-align: top;\n    }\n\n    .dataframe thead th {\n        text-align: right;\n    }\n</style>\n<table border=\"1\" class=\"dataframe\">\n  <thead>\n    <tr style=\"text-align: right;\">\n      <th></th>\n      <th>name</th>\n      <th>OS</th>\n      <th>DBMS</th>\n    </tr>\n  </thead>\n  <tbody>\n    <tr>\n      <th>0</th>\n      <td>rahul</td>\n      <td>25.0</td>\n      <td>20.0</td>\n    </tr>\n    <tr>\n      <th>1</th>\n      <td>rohit</td>\n      <td>75.5</td>\n      <td>80.0</td>\n    </tr>\n    <tr>\n      <th>2</th>\n      <td>venkat</td>\n      <td>96.0</td>\n      <td>60.0</td>\n    </tr>\n    <tr>\n      <th>3</th>\n      <td>sahil</td>\n      <td>0.0</td>\n      <td>50.0</td>\n    </tr>\n    <tr>\n      <th>4</th>\n      <td>ankita</td>\n      <td>100.0</td>\n      <td>99.0</td>\n    </tr>\n    <tr>\n      <th>5</th>\n      <td>robby</td>\n      <td>60.5</td>\n      <td>55.5</td>\n    </tr>\n  </tbody>\n</table>\n</div>"
     },
     "execution_count": 91,
     "metadata": {},
     "output_type": "execute_result"
    }
   ],
   "source": [
    "df1"
   ],
   "metadata": {
    "collapsed": false,
    "ExecuteTime": {
     "end_time": "2023-06-27T03:21:05.718823300Z",
     "start_time": "2023-06-27T03:21:05.476511900Z"
    }
   }
  },
  {
   "cell_type": "code",
   "execution_count": 92,
   "outputs": [],
   "source": [
    "data3 = {\"name\": \"venom\", \"OS\": 80.5, \"DBMS\": 75}\n",
    "df3 = pd.DataFrame(data3, index=[0])"
   ],
   "metadata": {
    "collapsed": false,
    "ExecuteTime": {
     "end_time": "2023-06-27T03:21:05.779183700Z",
     "start_time": "2023-06-27T03:21:05.488190800Z"
    }
   }
  },
  {
   "cell_type": "code",
   "execution_count": 93,
   "outputs": [
    {
     "data": {
      "text/plain": "    name    OS  DBMS\n0  venom  80.5    75",
      "text/html": "<div>\n<style scoped>\n    .dataframe tbody tr th:only-of-type {\n        vertical-align: middle;\n    }\n\n    .dataframe tbody tr th {\n        vertical-align: top;\n    }\n\n    .dataframe thead th {\n        text-align: right;\n    }\n</style>\n<table border=\"1\" class=\"dataframe\">\n  <thead>\n    <tr style=\"text-align: right;\">\n      <th></th>\n      <th>name</th>\n      <th>OS</th>\n      <th>DBMS</th>\n    </tr>\n  </thead>\n  <tbody>\n    <tr>\n      <th>0</th>\n      <td>venom</td>\n      <td>80.5</td>\n      <td>75</td>\n    </tr>\n  </tbody>\n</table>\n</div>"
     },
     "execution_count": 93,
     "metadata": {},
     "output_type": "execute_result"
    }
   ],
   "source": [
    "df3\n"
   ],
   "metadata": {
    "collapsed": false,
    "ExecuteTime": {
     "end_time": "2023-06-27T03:21:05.780181400Z",
     "start_time": "2023-06-27T03:21:05.494737800Z"
    }
   }
  },
  {
   "cell_type": "code",
   "execution_count": 94,
   "outputs": [],
   "source": [
    "df1 = pd.concat([df1, df3], ignore_index=True)"
   ],
   "metadata": {
    "collapsed": false,
    "ExecuteTime": {
     "end_time": "2023-06-27T03:21:05.815087800Z",
     "start_time": "2023-06-27T03:21:05.504401Z"
    }
   }
  },
  {
   "cell_type": "code",
   "execution_count": 95,
   "outputs": [
    {
     "data": {
      "text/plain": "     name     OS  DBMS\n0   rahul   25.0  20.0\n1   rohit   75.5  80.0\n2  venkat   96.0  60.0\n3   sahil    0.0  50.0\n4  ankita  100.0  99.0\n5   robby   60.5  55.5\n6   venom   80.5  75.0",
      "text/html": "<div>\n<style scoped>\n    .dataframe tbody tr th:only-of-type {\n        vertical-align: middle;\n    }\n\n    .dataframe tbody tr th {\n        vertical-align: top;\n    }\n\n    .dataframe thead th {\n        text-align: right;\n    }\n</style>\n<table border=\"1\" class=\"dataframe\">\n  <thead>\n    <tr style=\"text-align: right;\">\n      <th></th>\n      <th>name</th>\n      <th>OS</th>\n      <th>DBMS</th>\n    </tr>\n  </thead>\n  <tbody>\n    <tr>\n      <th>0</th>\n      <td>rahul</td>\n      <td>25.0</td>\n      <td>20.0</td>\n    </tr>\n    <tr>\n      <th>1</th>\n      <td>rohit</td>\n      <td>75.5</td>\n      <td>80.0</td>\n    </tr>\n    <tr>\n      <th>2</th>\n      <td>venkat</td>\n      <td>96.0</td>\n      <td>60.0</td>\n    </tr>\n    <tr>\n      <th>3</th>\n      <td>sahil</td>\n      <td>0.0</td>\n      <td>50.0</td>\n    </tr>\n    <tr>\n      <th>4</th>\n      <td>ankita</td>\n      <td>100.0</td>\n      <td>99.0</td>\n    </tr>\n    <tr>\n      <th>5</th>\n      <td>robby</td>\n      <td>60.5</td>\n      <td>55.5</td>\n    </tr>\n    <tr>\n      <th>6</th>\n      <td>venom</td>\n      <td>80.5</td>\n      <td>75.0</td>\n    </tr>\n  </tbody>\n</table>\n</div>"
     },
     "execution_count": 95,
     "metadata": {},
     "output_type": "execute_result"
    }
   ],
   "source": [
    "df1"
   ],
   "metadata": {
    "collapsed": false,
    "ExecuteTime": {
     "end_time": "2023-06-27T03:21:05.875442100Z",
     "start_time": "2023-06-27T03:21:05.511489800Z"
    }
   }
  },
  {
   "cell_type": "code",
   "execution_count": 96,
   "outputs": [
    {
     "data": {
      "text/plain": "    name    OS  DBMS\n0  rahul  25.0  20.0",
      "text/html": "<div>\n<style scoped>\n    .dataframe tbody tr th:only-of-type {\n        vertical-align: middle;\n    }\n\n    .dataframe tbody tr th {\n        vertical-align: top;\n    }\n\n    .dataframe thead th {\n        text-align: right;\n    }\n</style>\n<table border=\"1\" class=\"dataframe\">\n  <thead>\n    <tr style=\"text-align: right;\">\n      <th></th>\n      <th>name</th>\n      <th>OS</th>\n      <th>DBMS</th>\n    </tr>\n  </thead>\n  <tbody>\n    <tr>\n      <th>0</th>\n      <td>rahul</td>\n      <td>25.0</td>\n      <td>20.0</td>\n    </tr>\n  </tbody>\n</table>\n</div>"
     },
     "execution_count": 96,
     "metadata": {},
     "output_type": "execute_result"
    }
   ],
   "source": [
    "df1.iloc[[0]]"
   ],
   "metadata": {
    "collapsed": false,
    "ExecuteTime": {
     "end_time": "2023-06-27T03:21:05.875442100Z",
     "start_time": "2023-06-27T03:21:05.530203100Z"
    }
   }
  },
  {
   "cell_type": "code",
   "execution_count": 97,
   "outputs": [
    {
     "data": {
      "text/plain": "     name     OS  DBMS\n4  ankita  100.0  99.0",
      "text/html": "<div>\n<style scoped>\n    .dataframe tbody tr th:only-of-type {\n        vertical-align: middle;\n    }\n\n    .dataframe tbody tr th {\n        vertical-align: top;\n    }\n\n    .dataframe thead th {\n        text-align: right;\n    }\n</style>\n<table border=\"1\" class=\"dataframe\">\n  <thead>\n    <tr style=\"text-align: right;\">\n      <th></th>\n      <th>name</th>\n      <th>OS</th>\n      <th>DBMS</th>\n    </tr>\n  </thead>\n  <tbody>\n    <tr>\n      <th>4</th>\n      <td>ankita</td>\n      <td>100.0</td>\n      <td>99.0</td>\n    </tr>\n  </tbody>\n</table>\n</div>"
     },
     "execution_count": 97,
     "metadata": {},
     "output_type": "execute_result"
    }
   ],
   "source": [
    "df1.loc[[4]]"
   ],
   "metadata": {
    "collapsed": false,
    "ExecuteTime": {
     "end_time": "2023-06-27T03:21:05.876442400Z",
     "start_time": "2023-06-27T03:21:05.541089Z"
    }
   }
  },
  {
   "cell_type": "code",
   "execution_count": 98,
   "outputs": [],
   "source": [
    "df1.loc[4] = ['steve', 67, 23]"
   ],
   "metadata": {
    "collapsed": false,
    "ExecuteTime": {
     "end_time": "2023-06-27T03:21:05.876442400Z",
     "start_time": "2023-06-27T03:21:05.552419600Z"
    }
   }
  },
  {
   "cell_type": "code",
   "execution_count": 99,
   "outputs": [
    {
     "data": {
      "text/plain": "     name    OS  DBMS\n0   rahul  25.0  20.0\n1   rohit  75.5  80.0\n2  venkat  96.0  60.0\n3   sahil   0.0  50.0\n4   steve  67.0  23.0\n5   robby  60.5  55.5\n6   venom  80.5  75.0",
      "text/html": "<div>\n<style scoped>\n    .dataframe tbody tr th:only-of-type {\n        vertical-align: middle;\n    }\n\n    .dataframe tbody tr th {\n        vertical-align: top;\n    }\n\n    .dataframe thead th {\n        text-align: right;\n    }\n</style>\n<table border=\"1\" class=\"dataframe\">\n  <thead>\n    <tr style=\"text-align: right;\">\n      <th></th>\n      <th>name</th>\n      <th>OS</th>\n      <th>DBMS</th>\n    </tr>\n  </thead>\n  <tbody>\n    <tr>\n      <th>0</th>\n      <td>rahul</td>\n      <td>25.0</td>\n      <td>20.0</td>\n    </tr>\n    <tr>\n      <th>1</th>\n      <td>rohit</td>\n      <td>75.5</td>\n      <td>80.0</td>\n    </tr>\n    <tr>\n      <th>2</th>\n      <td>venkat</td>\n      <td>96.0</td>\n      <td>60.0</td>\n    </tr>\n    <tr>\n      <th>3</th>\n      <td>sahil</td>\n      <td>0.0</td>\n      <td>50.0</td>\n    </tr>\n    <tr>\n      <th>4</th>\n      <td>steve</td>\n      <td>67.0</td>\n      <td>23.0</td>\n    </tr>\n    <tr>\n      <th>5</th>\n      <td>robby</td>\n      <td>60.5</td>\n      <td>55.5</td>\n    </tr>\n    <tr>\n      <th>6</th>\n      <td>venom</td>\n      <td>80.5</td>\n      <td>75.0</td>\n    </tr>\n  </tbody>\n</table>\n</div>"
     },
     "execution_count": 99,
     "metadata": {},
     "output_type": "execute_result"
    }
   ],
   "source": [
    "df1"
   ],
   "metadata": {
    "collapsed": false,
    "ExecuteTime": {
     "end_time": "2023-06-27T03:21:05.876442400Z",
     "start_time": "2023-06-27T03:21:05.558483200Z"
    }
   }
  },
  {
   "cell_type": "markdown",
   "source": [
    "## Row deletion"
   ],
   "metadata": {
    "collapsed": false
   }
  },
  {
   "cell_type": "code",
   "execution_count": 100,
   "outputs": [
    {
     "data": {
      "text/plain": "    name    OS  DBMS\n6  venom  80.5  75.0",
      "text/html": "<div>\n<style scoped>\n    .dataframe tbody tr th:only-of-type {\n        vertical-align: middle;\n    }\n\n    .dataframe tbody tr th {\n        vertical-align: top;\n    }\n\n    .dataframe thead th {\n        text-align: right;\n    }\n</style>\n<table border=\"1\" class=\"dataframe\">\n  <thead>\n    <tr style=\"text-align: right;\">\n      <th></th>\n      <th>name</th>\n      <th>OS</th>\n      <th>DBMS</th>\n    </tr>\n  </thead>\n  <tbody>\n    <tr>\n      <th>6</th>\n      <td>venom</td>\n      <td>80.5</td>\n      <td>75.0</td>\n    </tr>\n  </tbody>\n</table>\n</div>"
     },
     "execution_count": 100,
     "metadata": {},
     "output_type": "execute_result"
    }
   ],
   "source": [
    "# del, pop, drop\n",
    "df1.loc[[6]]"
   ],
   "metadata": {
    "collapsed": false,
    "ExecuteTime": {
     "end_time": "2023-06-27T03:21:05.877439400Z",
     "start_time": "2023-06-27T03:21:05.567675800Z"
    }
   }
  },
  {
   "cell_type": "code",
   "execution_count": 101,
   "outputs": [],
   "source": [
    "df1.drop(6, inplace=True)"
   ],
   "metadata": {
    "collapsed": false,
    "ExecuteTime": {
     "end_time": "2023-06-27T03:21:05.877439400Z",
     "start_time": "2023-06-27T03:21:05.582991100Z"
    }
   }
  },
  {
   "cell_type": "code",
   "execution_count": 102,
   "outputs": [
    {
     "data": {
      "text/plain": "     name    OS  DBMS\n0   rahul  25.0  20.0\n1   rohit  75.5  80.0\n2  venkat  96.0  60.0\n3   sahil   0.0  50.0\n4   steve  67.0  23.0\n5   robby  60.5  55.5",
      "text/html": "<div>\n<style scoped>\n    .dataframe tbody tr th:only-of-type {\n        vertical-align: middle;\n    }\n\n    .dataframe tbody tr th {\n        vertical-align: top;\n    }\n\n    .dataframe thead th {\n        text-align: right;\n    }\n</style>\n<table border=\"1\" class=\"dataframe\">\n  <thead>\n    <tr style=\"text-align: right;\">\n      <th></th>\n      <th>name</th>\n      <th>OS</th>\n      <th>DBMS</th>\n    </tr>\n  </thead>\n  <tbody>\n    <tr>\n      <th>0</th>\n      <td>rahul</td>\n      <td>25.0</td>\n      <td>20.0</td>\n    </tr>\n    <tr>\n      <th>1</th>\n      <td>rohit</td>\n      <td>75.5</td>\n      <td>80.0</td>\n    </tr>\n    <tr>\n      <th>2</th>\n      <td>venkat</td>\n      <td>96.0</td>\n      <td>60.0</td>\n    </tr>\n    <tr>\n      <th>3</th>\n      <td>sahil</td>\n      <td>0.0</td>\n      <td>50.0</td>\n    </tr>\n    <tr>\n      <th>4</th>\n      <td>steve</td>\n      <td>67.0</td>\n      <td>23.0</td>\n    </tr>\n    <tr>\n      <th>5</th>\n      <td>robby</td>\n      <td>60.5</td>\n      <td>55.5</td>\n    </tr>\n  </tbody>\n</table>\n</div>"
     },
     "execution_count": 102,
     "metadata": {},
     "output_type": "execute_result"
    }
   ],
   "source": [
    "df1"
   ],
   "metadata": {
    "collapsed": false,
    "ExecuteTime": {
     "end_time": "2023-06-27T03:21:05.877439400Z",
     "start_time": "2023-06-27T03:21:05.591519100Z"
    }
   }
  },
  {
   "cell_type": "code",
   "execution_count": 103,
   "outputs": [],
   "source": [
    "lis = [1, 2, 3, 4, 5, 6, 7]"
   ],
   "metadata": {
    "collapsed": false,
    "ExecuteTime": {
     "end_time": "2023-06-27T03:21:05.877439400Z",
     "start_time": "2023-06-27T03:21:05.602375700Z"
    }
   }
  },
  {
   "cell_type": "markdown",
   "source": [
    "# data\n",
    "   * data cleaning\n",
    "   * data analysis\n",
    "   * data manipulation\n",
    "   * data exploration"
   ],
   "metadata": {
    "collapsed": false
   }
  },
  {
   "cell_type": "code",
   "execution_count": 104,
   "outputs": [
    {
     "data": {
      "text/plain": "     name    OS  DBMS\n0   rahul  25.0  20.0\n1   rohit  75.5  80.0\n2  venkat  96.0  60.0\n3   sahil   0.0  50.0\n4   steve  67.0  23.0\n5   robby  60.5  55.5",
      "text/html": "<div>\n<style scoped>\n    .dataframe tbody tr th:only-of-type {\n        vertical-align: middle;\n    }\n\n    .dataframe tbody tr th {\n        vertical-align: top;\n    }\n\n    .dataframe thead th {\n        text-align: right;\n    }\n</style>\n<table border=\"1\" class=\"dataframe\">\n  <thead>\n    <tr style=\"text-align: right;\">\n      <th></th>\n      <th>name</th>\n      <th>OS</th>\n      <th>DBMS</th>\n    </tr>\n  </thead>\n  <tbody>\n    <tr>\n      <th>0</th>\n      <td>rahul</td>\n      <td>25.0</td>\n      <td>20.0</td>\n    </tr>\n    <tr>\n      <th>1</th>\n      <td>rohit</td>\n      <td>75.5</td>\n      <td>80.0</td>\n    </tr>\n    <tr>\n      <th>2</th>\n      <td>venkat</td>\n      <td>96.0</td>\n      <td>60.0</td>\n    </tr>\n    <tr>\n      <th>3</th>\n      <td>sahil</td>\n      <td>0.0</td>\n      <td>50.0</td>\n    </tr>\n    <tr>\n      <th>4</th>\n      <td>steve</td>\n      <td>67.0</td>\n      <td>23.0</td>\n    </tr>\n    <tr>\n      <th>5</th>\n      <td>robby</td>\n      <td>60.5</td>\n      <td>55.5</td>\n    </tr>\n  </tbody>\n</table>\n</div>"
     },
     "execution_count": 104,
     "metadata": {},
     "output_type": "execute_result"
    }
   ],
   "source": [
    "df1"
   ],
   "metadata": {
    "collapsed": false,
    "ExecuteTime": {
     "end_time": "2023-06-27T03:21:05.878436600Z",
     "start_time": "2023-06-27T03:21:05.610544400Z"
    }
   }
  },
  {
   "cell_type": "markdown",
   "source": [
    "# Data exploration"
   ],
   "metadata": {
    "collapsed": false
   }
  },
  {
   "cell_type": "code",
   "execution_count": 105,
   "outputs": [
    {
     "data": {
      "text/plain": "   apple  grapes  pear  mangos  jackfruit  strawberry  oranges\n0    102      50   150     550        200         250      120\n1    500     150   250     650        300         350      220\n2    250      90   190     590        240         290      160\n3     75      45   145     545        195         245      115",
      "text/html": "<div>\n<style scoped>\n    .dataframe tbody tr th:only-of-type {\n        vertical-align: middle;\n    }\n\n    .dataframe tbody tr th {\n        vertical-align: top;\n    }\n\n    .dataframe thead th {\n        text-align: right;\n    }\n</style>\n<table border=\"1\" class=\"dataframe\">\n  <thead>\n    <tr style=\"text-align: right;\">\n      <th></th>\n      <th>apple</th>\n      <th>grapes</th>\n      <th>pear</th>\n      <th>mangos</th>\n      <th>jackfruit</th>\n      <th>strawberry</th>\n      <th>oranges</th>\n    </tr>\n  </thead>\n  <tbody>\n    <tr>\n      <th>0</th>\n      <td>102</td>\n      <td>50</td>\n      <td>150</td>\n      <td>550</td>\n      <td>200</td>\n      <td>250</td>\n      <td>120</td>\n    </tr>\n    <tr>\n      <th>1</th>\n      <td>500</td>\n      <td>150</td>\n      <td>250</td>\n      <td>650</td>\n      <td>300</td>\n      <td>350</td>\n      <td>220</td>\n    </tr>\n    <tr>\n      <th>2</th>\n      <td>250</td>\n      <td>90</td>\n      <td>190</td>\n      <td>590</td>\n      <td>240</td>\n      <td>290</td>\n      <td>160</td>\n    </tr>\n    <tr>\n      <th>3</th>\n      <td>75</td>\n      <td>45</td>\n      <td>145</td>\n      <td>545</td>\n      <td>195</td>\n      <td>245</td>\n      <td>115</td>\n    </tr>\n  </tbody>\n</table>\n</div>"
     },
     "execution_count": 105,
     "metadata": {},
     "output_type": "execute_result"
    }
   ],
   "source": [
    "df"
   ],
   "metadata": {
    "collapsed": false,
    "ExecuteTime": {
     "end_time": "2023-06-27T03:24:21.830801700Z",
     "start_time": "2023-06-27T03:24:21.700123100Z"
    }
   }
  },
  {
   "cell_type": "code",
   "execution_count": 106,
   "outputs": [
    {
     "data": {
      "text/plain": "     name    OS  DBMS\n0   rahul  25.0  20.0\n1   rohit  75.5  80.0\n2  venkat  96.0  60.0\n3   sahil   0.0  50.0\n4   steve  67.0  23.0\n5   robby  60.5  55.5",
      "text/html": "<div>\n<style scoped>\n    .dataframe tbody tr th:only-of-type {\n        vertical-align: middle;\n    }\n\n    .dataframe tbody tr th {\n        vertical-align: top;\n    }\n\n    .dataframe thead th {\n        text-align: right;\n    }\n</style>\n<table border=\"1\" class=\"dataframe\">\n  <thead>\n    <tr style=\"text-align: right;\">\n      <th></th>\n      <th>name</th>\n      <th>OS</th>\n      <th>DBMS</th>\n    </tr>\n  </thead>\n  <tbody>\n    <tr>\n      <th>0</th>\n      <td>rahul</td>\n      <td>25.0</td>\n      <td>20.0</td>\n    </tr>\n    <tr>\n      <th>1</th>\n      <td>rohit</td>\n      <td>75.5</td>\n      <td>80.0</td>\n    </tr>\n    <tr>\n      <th>2</th>\n      <td>venkat</td>\n      <td>96.0</td>\n      <td>60.0</td>\n    </tr>\n    <tr>\n      <th>3</th>\n      <td>sahil</td>\n      <td>0.0</td>\n      <td>50.0</td>\n    </tr>\n    <tr>\n      <th>4</th>\n      <td>steve</td>\n      <td>67.0</td>\n      <td>23.0</td>\n    </tr>\n    <tr>\n      <th>5</th>\n      <td>robby</td>\n      <td>60.5</td>\n      <td>55.5</td>\n    </tr>\n  </tbody>\n</table>\n</div>"
     },
     "execution_count": 106,
     "metadata": {},
     "output_type": "execute_result"
    }
   ],
   "source": [
    "df1"
   ],
   "metadata": {
    "collapsed": false,
    "ExecuteTime": {
     "end_time": "2023-06-27T03:24:48.064414800Z",
     "start_time": "2023-06-27T03:24:47.910791100Z"
    }
   }
  },
  {
   "cell_type": "markdown",
   "source": [
    "## head()"
   ],
   "metadata": {
    "collapsed": false
   }
  },
  {
   "cell_type": "code",
   "execution_count": 107,
   "outputs": [
    {
     "data": {
      "text/plain": "     name    OS  DBMS\n0   rahul  25.0  20.0\n1   rohit  75.5  80.0\n2  venkat  96.0  60.0\n3   sahil   0.0  50.0\n4   steve  67.0  23.0",
      "text/html": "<div>\n<style scoped>\n    .dataframe tbody tr th:only-of-type {\n        vertical-align: middle;\n    }\n\n    .dataframe tbody tr th {\n        vertical-align: top;\n    }\n\n    .dataframe thead th {\n        text-align: right;\n    }\n</style>\n<table border=\"1\" class=\"dataframe\">\n  <thead>\n    <tr style=\"text-align: right;\">\n      <th></th>\n      <th>name</th>\n      <th>OS</th>\n      <th>DBMS</th>\n    </tr>\n  </thead>\n  <tbody>\n    <tr>\n      <th>0</th>\n      <td>rahul</td>\n      <td>25.0</td>\n      <td>20.0</td>\n    </tr>\n    <tr>\n      <th>1</th>\n      <td>rohit</td>\n      <td>75.5</td>\n      <td>80.0</td>\n    </tr>\n    <tr>\n      <th>2</th>\n      <td>venkat</td>\n      <td>96.0</td>\n      <td>60.0</td>\n    </tr>\n    <tr>\n      <th>3</th>\n      <td>sahil</td>\n      <td>0.0</td>\n      <td>50.0</td>\n    </tr>\n    <tr>\n      <th>4</th>\n      <td>steve</td>\n      <td>67.0</td>\n      <td>23.0</td>\n    </tr>\n  </tbody>\n</table>\n</div>"
     },
     "execution_count": 107,
     "metadata": {},
     "output_type": "execute_result"
    }
   ],
   "source": [
    "df1.head()"
   ],
   "metadata": {
    "collapsed": false,
    "ExecuteTime": {
     "end_time": "2023-06-27T03:25:27.623406800Z",
     "start_time": "2023-06-27T03:25:27.498224Z"
    }
   }
  },
  {
   "cell_type": "markdown",
   "source": [
    "## tail()"
   ],
   "metadata": {
    "collapsed": false
   }
  },
  {
   "cell_type": "code",
   "execution_count": 108,
   "outputs": [
    {
     "data": {
      "text/plain": "     name    OS  DBMS\n1   rohit  75.5  80.0\n2  venkat  96.0  60.0\n3   sahil   0.0  50.0\n4   steve  67.0  23.0\n5   robby  60.5  55.5",
      "text/html": "<div>\n<style scoped>\n    .dataframe tbody tr th:only-of-type {\n        vertical-align: middle;\n    }\n\n    .dataframe tbody tr th {\n        vertical-align: top;\n    }\n\n    .dataframe thead th {\n        text-align: right;\n    }\n</style>\n<table border=\"1\" class=\"dataframe\">\n  <thead>\n    <tr style=\"text-align: right;\">\n      <th></th>\n      <th>name</th>\n      <th>OS</th>\n      <th>DBMS</th>\n    </tr>\n  </thead>\n  <tbody>\n    <tr>\n      <th>1</th>\n      <td>rohit</td>\n      <td>75.5</td>\n      <td>80.0</td>\n    </tr>\n    <tr>\n      <th>2</th>\n      <td>venkat</td>\n      <td>96.0</td>\n      <td>60.0</td>\n    </tr>\n    <tr>\n      <th>3</th>\n      <td>sahil</td>\n      <td>0.0</td>\n      <td>50.0</td>\n    </tr>\n    <tr>\n      <th>4</th>\n      <td>steve</td>\n      <td>67.0</td>\n      <td>23.0</td>\n    </tr>\n    <tr>\n      <th>5</th>\n      <td>robby</td>\n      <td>60.5</td>\n      <td>55.5</td>\n    </tr>\n  </tbody>\n</table>\n</div>"
     },
     "execution_count": 108,
     "metadata": {},
     "output_type": "execute_result"
    }
   ],
   "source": [
    "df1.tail()"
   ],
   "metadata": {
    "collapsed": false,
    "ExecuteTime": {
     "end_time": "2023-06-27T03:26:29.577841900Z",
     "start_time": "2023-06-27T03:26:29.480527700Z"
    }
   }
  },
  {
   "cell_type": "code",
   "execution_count": 109,
   "outputs": [
    {
     "data": {
      "text/plain": "    name    OS  DBMS\n0  rahul  25.0  20.0\n1  rohit  75.5  80.0",
      "text/html": "<div>\n<style scoped>\n    .dataframe tbody tr th:only-of-type {\n        vertical-align: middle;\n    }\n\n    .dataframe tbody tr th {\n        vertical-align: top;\n    }\n\n    .dataframe thead th {\n        text-align: right;\n    }\n</style>\n<table border=\"1\" class=\"dataframe\">\n  <thead>\n    <tr style=\"text-align: right;\">\n      <th></th>\n      <th>name</th>\n      <th>OS</th>\n      <th>DBMS</th>\n    </tr>\n  </thead>\n  <tbody>\n    <tr>\n      <th>0</th>\n      <td>rahul</td>\n      <td>25.0</td>\n      <td>20.0</td>\n    </tr>\n    <tr>\n      <th>1</th>\n      <td>rohit</td>\n      <td>75.5</td>\n      <td>80.0</td>\n    </tr>\n  </tbody>\n</table>\n</div>"
     },
     "execution_count": 109,
     "metadata": {},
     "output_type": "execute_result"
    }
   ],
   "source": [
    "df1.head(2)"
   ],
   "metadata": {
    "collapsed": false,
    "ExecuteTime": {
     "end_time": "2023-06-27T03:26:50.646378600Z",
     "start_time": "2023-06-27T03:26:50.523137800Z"
    }
   }
  },
  {
   "cell_type": "markdown",
   "source": [
    "## dtypes"
   ],
   "metadata": {
    "collapsed": false
   }
  },
  {
   "cell_type": "code",
   "execution_count": 110,
   "outputs": [
    {
     "data": {
      "text/plain": "name     object\nOS      float64\nDBMS    float64\ndtype: object"
     },
     "execution_count": 110,
     "metadata": {},
     "output_type": "execute_result"
    }
   ],
   "source": [
    "df1.dtypes"
   ],
   "metadata": {
    "collapsed": false,
    "ExecuteTime": {
     "end_time": "2023-06-27T03:27:42.524133400Z",
     "start_time": "2023-06-27T03:27:42.417818100Z"
    }
   }
  },
  {
   "cell_type": "markdown",
   "source": [
    "## empty"
   ],
   "metadata": {
    "collapsed": false
   }
  },
  {
   "cell_type": "code",
   "execution_count": 112,
   "outputs": [
    {
     "data": {
      "text/plain": "False"
     },
     "execution_count": 112,
     "metadata": {},
     "output_type": "execute_result"
    }
   ],
   "source": [
    "df1.empty"
   ],
   "metadata": {
    "collapsed": false,
    "ExecuteTime": {
     "end_time": "2023-06-27T03:28:19.751235500Z",
     "start_time": "2023-06-27T03:28:19.699335400Z"
    }
   }
  },
  {
   "cell_type": "markdown",
   "source": [
    "## ndim"
   ],
   "metadata": {
    "collapsed": false
   }
  },
  {
   "cell_type": "code",
   "execution_count": 113,
   "outputs": [
    {
     "data": {
      "text/plain": "2"
     },
     "execution_count": 113,
     "metadata": {},
     "output_type": "execute_result"
    }
   ],
   "source": [
    "df1.ndim"
   ],
   "metadata": {
    "collapsed": false,
    "ExecuteTime": {
     "end_time": "2023-06-27T03:28:35.891713100Z",
     "start_time": "2023-06-27T03:28:35.784582600Z"
    }
   }
  },
  {
   "cell_type": "markdown",
   "source": [
    "## shape"
   ],
   "metadata": {
    "collapsed": false
   }
  },
  {
   "cell_type": "code",
   "execution_count": 114,
   "outputs": [
    {
     "data": {
      "text/plain": "(6, 3)"
     },
     "execution_count": 114,
     "metadata": {},
     "output_type": "execute_result"
    }
   ],
   "source": [
    "df1.shape"
   ],
   "metadata": {
    "collapsed": false,
    "ExecuteTime": {
     "end_time": "2023-06-27T03:28:55.107945Z",
     "start_time": "2023-06-27T03:28:55.020644200Z"
    }
   }
  },
  {
   "cell_type": "code",
   "execution_count": 115,
   "outputs": [
    {
     "data": {
      "text/plain": "18"
     },
     "execution_count": 115,
     "metadata": {},
     "output_type": "execute_result"
    }
   ],
   "source": [
    "df1.size"
   ],
   "metadata": {
    "collapsed": false,
    "ExecuteTime": {
     "end_time": "2023-06-27T03:29:10.185087Z",
     "start_time": "2023-06-27T03:29:10.100828300Z"
    }
   }
  },
  {
   "cell_type": "markdown",
   "source": [
    "## values"
   ],
   "metadata": {
    "collapsed": false
   }
  },
  {
   "cell_type": "code",
   "execution_count": 116,
   "outputs": [
    {
     "data": {
      "text/plain": "array([['rahul', 25.0, 20.0],\n       ['rohit', 75.5, 80.0],\n       ['venkat', 96.0, 60.0],\n       ['sahil', 0.0, 50.0],\n       ['steve', 67.0, 23.0],\n       ['robby', 60.5, 55.5]], dtype=object)"
     },
     "execution_count": 116,
     "metadata": {},
     "output_type": "execute_result"
    }
   ],
   "source": [
    "df1.values"
   ],
   "metadata": {
    "collapsed": false,
    "ExecuteTime": {
     "end_time": "2023-06-27T03:29:30.163572900Z",
     "start_time": "2023-06-27T03:29:30.073303600Z"
    }
   }
  },
  {
   "cell_type": "code",
   "execution_count": 117,
   "outputs": [
    {
     "data": {
      "text/plain": "Index(['name', 'OS', 'DBMS'], dtype='object')"
     },
     "execution_count": 117,
     "metadata": {},
     "output_type": "execute_result"
    }
   ],
   "source": [
    "df1.keys()"
   ],
   "metadata": {
    "collapsed": false,
    "ExecuteTime": {
     "end_time": "2023-06-27T03:29:47.935725800Z",
     "start_time": "2023-06-27T03:29:47.805557400Z"
    }
   }
  },
  {
   "cell_type": "markdown",
   "source": [
    "## describe"
   ],
   "metadata": {
    "collapsed": false
   }
  },
  {
   "cell_type": "code",
   "execution_count": 118,
   "outputs": [
    {
     "data": {
      "text/plain": "              OS       DBMS\ncount   6.000000   6.000000\nmean   54.000000  48.083333\nstd    35.198011  22.966098\nmin     0.000000  20.000000\n25%    33.875000  29.750000\n50%    63.750000  52.750000\n75%    73.375000  58.875000\nmax    96.000000  80.000000",
      "text/html": "<div>\n<style scoped>\n    .dataframe tbody tr th:only-of-type {\n        vertical-align: middle;\n    }\n\n    .dataframe tbody tr th {\n        vertical-align: top;\n    }\n\n    .dataframe thead th {\n        text-align: right;\n    }\n</style>\n<table border=\"1\" class=\"dataframe\">\n  <thead>\n    <tr style=\"text-align: right;\">\n      <th></th>\n      <th>OS</th>\n      <th>DBMS</th>\n    </tr>\n  </thead>\n  <tbody>\n    <tr>\n      <th>count</th>\n      <td>6.000000</td>\n      <td>6.000000</td>\n    </tr>\n    <tr>\n      <th>mean</th>\n      <td>54.000000</td>\n      <td>48.083333</td>\n    </tr>\n    <tr>\n      <th>std</th>\n      <td>35.198011</td>\n      <td>22.966098</td>\n    </tr>\n    <tr>\n      <th>min</th>\n      <td>0.000000</td>\n      <td>20.000000</td>\n    </tr>\n    <tr>\n      <th>25%</th>\n      <td>33.875000</td>\n      <td>29.750000</td>\n    </tr>\n    <tr>\n      <th>50%</th>\n      <td>63.750000</td>\n      <td>52.750000</td>\n    </tr>\n    <tr>\n      <th>75%</th>\n      <td>73.375000</td>\n      <td>58.875000</td>\n    </tr>\n    <tr>\n      <th>max</th>\n      <td>96.000000</td>\n      <td>80.000000</td>\n    </tr>\n  </tbody>\n</table>\n</div>"
     },
     "execution_count": 118,
     "metadata": {},
     "output_type": "execute_result"
    }
   ],
   "source": [
    "df1.describe()"
   ],
   "metadata": {
    "collapsed": false,
    "ExecuteTime": {
     "end_time": "2023-06-27T03:30:21.887198600Z",
     "start_time": "2023-06-27T03:30:21.800933800Z"
    }
   }
  },
  {
   "cell_type": "markdown",
   "source": [
    "## T"
   ],
   "metadata": {
    "collapsed": false
   }
  },
  {
   "cell_type": "code",
   "execution_count": 119,
   "outputs": [
    {
     "data": {
      "text/plain": "          0      1       2      3      4      5\nname  rahul  rohit  venkat  sahil  steve  robby\nOS     25.0   75.5    96.0    0.0   67.0   60.5\nDBMS   20.0   80.0    60.0   50.0   23.0   55.5",
      "text/html": "<div>\n<style scoped>\n    .dataframe tbody tr th:only-of-type {\n        vertical-align: middle;\n    }\n\n    .dataframe tbody tr th {\n        vertical-align: top;\n    }\n\n    .dataframe thead th {\n        text-align: right;\n    }\n</style>\n<table border=\"1\" class=\"dataframe\">\n  <thead>\n    <tr style=\"text-align: right;\">\n      <th></th>\n      <th>0</th>\n      <th>1</th>\n      <th>2</th>\n      <th>3</th>\n      <th>4</th>\n      <th>5</th>\n    </tr>\n  </thead>\n  <tbody>\n    <tr>\n      <th>name</th>\n      <td>rahul</td>\n      <td>rohit</td>\n      <td>venkat</td>\n      <td>sahil</td>\n      <td>steve</td>\n      <td>robby</td>\n    </tr>\n    <tr>\n      <th>OS</th>\n      <td>25.0</td>\n      <td>75.5</td>\n      <td>96.0</td>\n      <td>0.0</td>\n      <td>67.0</td>\n      <td>60.5</td>\n    </tr>\n    <tr>\n      <th>DBMS</th>\n      <td>20.0</td>\n      <td>80.0</td>\n      <td>60.0</td>\n      <td>50.0</td>\n      <td>23.0</td>\n      <td>55.5</td>\n    </tr>\n  </tbody>\n</table>\n</div>"
     },
     "execution_count": 119,
     "metadata": {},
     "output_type": "execute_result"
    }
   ],
   "source": [
    "df1.T"
   ],
   "metadata": {
    "collapsed": false,
    "ExecuteTime": {
     "end_time": "2023-06-27T03:31:30.290072900Z",
     "start_time": "2023-06-27T03:31:30.209775700Z"
    }
   }
  },
  {
   "cell_type": "code",
   "execution_count": 120,
   "outputs": [
    {
     "data": {
      "text/plain": "name    rohit\nOS       75.5\nDBMS     80.0\nName: 1, dtype: object"
     },
     "execution_count": 120,
     "metadata": {},
     "output_type": "execute_result"
    }
   ],
   "source": [
    "df1.iloc[1]"
   ],
   "metadata": {
    "collapsed": false,
    "ExecuteTime": {
     "end_time": "2023-06-27T03:31:44.476392500Z",
     "start_time": "2023-06-27T03:31:44.400085900Z"
    }
   }
  },
  {
   "cell_type": "code",
   "execution_count": 121,
   "outputs": [
    {
     "data": {
      "text/plain": "name    rahulrohitvenkatsahilsteverobby\nOS                                324.0\nDBMS                              288.5\ndtype: object"
     },
     "execution_count": 121,
     "metadata": {},
     "output_type": "execute_result"
    }
   ],
   "source": [
    "df1.sum()"
   ],
   "metadata": {
    "collapsed": false,
    "ExecuteTime": {
     "end_time": "2023-06-27T03:32:26.833554300Z",
     "start_time": "2023-06-27T03:32:26.749738300Z"
    }
   }
  },
  {
   "cell_type": "code",
   "execution_count": 122,
   "outputs": [
    {
     "data": {
      "text/plain": "324.0"
     },
     "execution_count": 122,
     "metadata": {},
     "output_type": "execute_result"
    }
   ],
   "source": [
    "df1['OS'].sum()"
   ],
   "metadata": {
    "collapsed": false,
    "ExecuteTime": {
     "end_time": "2023-06-27T03:32:49.349108800Z",
     "start_time": "2023-06-27T03:32:49.240882900Z"
    }
   }
  },
  {
   "cell_type": "markdown",
   "source": [
    "## mean()"
   ],
   "metadata": {
    "collapsed": false
   }
  },
  {
   "cell_type": "code",
   "execution_count": 126,
   "outputs": [
    {
     "data": {
      "text/plain": "54.0"
     },
     "execution_count": 126,
     "metadata": {},
     "output_type": "execute_result"
    }
   ],
   "source": [
    "df1['OS'].mean()"
   ],
   "metadata": {
    "collapsed": false,
    "ExecuteTime": {
     "end_time": "2023-06-27T03:34:30.986191900Z",
     "start_time": "2023-06-27T03:34:30.911502800Z"
    }
   }
  },
  {
   "cell_type": "markdown",
   "source": [
    "# Data cleaning & data manipulation"
   ],
   "metadata": {
    "collapsed": false
   }
  },
  {
   "cell_type": "code",
   "execution_count": 129,
   "outputs": [],
   "source": [
    "data1 = np.random.rand(10, 3)\n",
    "data2 = np.random.rand(7, 3)"
   ],
   "metadata": {
    "collapsed": false,
    "ExecuteTime": {
     "end_time": "2023-06-27T03:37:14.207365Z",
     "start_time": "2023-06-27T03:37:14.145766Z"
    }
   }
  },
  {
   "cell_type": "code",
   "execution_count": 132,
   "outputs": [],
   "source": [
    "df1 = pd.DataFrame(data1, columns=['col1', 'col2', 'col3'])\n",
    "df2 = pd.DataFrame(data2, columns=['col1', 'col2', 'col3'])"
   ],
   "metadata": {
    "collapsed": false,
    "ExecuteTime": {
     "end_time": "2023-06-27T03:38:44.465050Z",
     "start_time": "2023-06-27T03:38:44.388897400Z"
    }
   }
  },
  {
   "cell_type": "code",
   "execution_count": 133,
   "outputs": [
    {
     "data": {
      "text/plain": "       col1      col2      col3\n0  0.795459  0.944681  0.507495\n1  0.822759  0.229912  0.451445\n2  0.354201  0.608649  0.239196\n3  0.670721  0.772857  0.115557\n4  0.784963  0.407988  0.150065\n5  0.767798  0.130127  0.976652\n6  0.723033  0.560141  0.762444\n7  0.819365  0.959302  0.710914\n8  0.213306  0.442744  0.924330\n9  0.473400  0.989139  0.248578",
      "text/html": "<div>\n<style scoped>\n    .dataframe tbody tr th:only-of-type {\n        vertical-align: middle;\n    }\n\n    .dataframe tbody tr th {\n        vertical-align: top;\n    }\n\n    .dataframe thead th {\n        text-align: right;\n    }\n</style>\n<table border=\"1\" class=\"dataframe\">\n  <thead>\n    <tr style=\"text-align: right;\">\n      <th></th>\n      <th>col1</th>\n      <th>col2</th>\n      <th>col3</th>\n    </tr>\n  </thead>\n  <tbody>\n    <tr>\n      <th>0</th>\n      <td>0.795459</td>\n      <td>0.944681</td>\n      <td>0.507495</td>\n    </tr>\n    <tr>\n      <th>1</th>\n      <td>0.822759</td>\n      <td>0.229912</td>\n      <td>0.451445</td>\n    </tr>\n    <tr>\n      <th>2</th>\n      <td>0.354201</td>\n      <td>0.608649</td>\n      <td>0.239196</td>\n    </tr>\n    <tr>\n      <th>3</th>\n      <td>0.670721</td>\n      <td>0.772857</td>\n      <td>0.115557</td>\n    </tr>\n    <tr>\n      <th>4</th>\n      <td>0.784963</td>\n      <td>0.407988</td>\n      <td>0.150065</td>\n    </tr>\n    <tr>\n      <th>5</th>\n      <td>0.767798</td>\n      <td>0.130127</td>\n      <td>0.976652</td>\n    </tr>\n    <tr>\n      <th>6</th>\n      <td>0.723033</td>\n      <td>0.560141</td>\n      <td>0.762444</td>\n    </tr>\n    <tr>\n      <th>7</th>\n      <td>0.819365</td>\n      <td>0.959302</td>\n      <td>0.710914</td>\n    </tr>\n    <tr>\n      <th>8</th>\n      <td>0.213306</td>\n      <td>0.442744</td>\n      <td>0.924330</td>\n    </tr>\n    <tr>\n      <th>9</th>\n      <td>0.473400</td>\n      <td>0.989139</td>\n      <td>0.248578</td>\n    </tr>\n  </tbody>\n</table>\n</div>"
     },
     "execution_count": 133,
     "metadata": {},
     "output_type": "execute_result"
    }
   ],
   "source": [
    "df1"
   ],
   "metadata": {
    "collapsed": false,
    "ExecuteTime": {
     "end_time": "2023-06-27T03:38:47.292410500Z",
     "start_time": "2023-06-27T03:38:47.178219200Z"
    }
   }
  },
  {
   "cell_type": "code",
   "execution_count": 134,
   "outputs": [
    {
     "data": {
      "text/plain": "       col1      col2      col3\n0  0.892026  0.567333  0.210953\n1  0.955649  0.704607  0.923586\n2  0.651615  0.798795  0.577292\n3  0.779335  0.423630  0.067682\n4  0.703482  0.965217  0.853138\n5  0.845411  0.371225  0.660319\n6  0.648321  0.371363  0.997834",
      "text/html": "<div>\n<style scoped>\n    .dataframe tbody tr th:only-of-type {\n        vertical-align: middle;\n    }\n\n    .dataframe tbody tr th {\n        vertical-align: top;\n    }\n\n    .dataframe thead th {\n        text-align: right;\n    }\n</style>\n<table border=\"1\" class=\"dataframe\">\n  <thead>\n    <tr style=\"text-align: right;\">\n      <th></th>\n      <th>col1</th>\n      <th>col2</th>\n      <th>col3</th>\n    </tr>\n  </thead>\n  <tbody>\n    <tr>\n      <th>0</th>\n      <td>0.892026</td>\n      <td>0.567333</td>\n      <td>0.210953</td>\n    </tr>\n    <tr>\n      <th>1</th>\n      <td>0.955649</td>\n      <td>0.704607</td>\n      <td>0.923586</td>\n    </tr>\n    <tr>\n      <th>2</th>\n      <td>0.651615</td>\n      <td>0.798795</td>\n      <td>0.577292</td>\n    </tr>\n    <tr>\n      <th>3</th>\n      <td>0.779335</td>\n      <td>0.423630</td>\n      <td>0.067682</td>\n    </tr>\n    <tr>\n      <th>4</th>\n      <td>0.703482</td>\n      <td>0.965217</td>\n      <td>0.853138</td>\n    </tr>\n    <tr>\n      <th>5</th>\n      <td>0.845411</td>\n      <td>0.371225</td>\n      <td>0.660319</td>\n    </tr>\n    <tr>\n      <th>6</th>\n      <td>0.648321</td>\n      <td>0.371363</td>\n      <td>0.997834</td>\n    </tr>\n  </tbody>\n</table>\n</div>"
     },
     "execution_count": 134,
     "metadata": {},
     "output_type": "execute_result"
    }
   ],
   "source": [
    "df2"
   ],
   "metadata": {
    "collapsed": false,
    "ExecuteTime": {
     "end_time": "2023-06-27T03:38:50.804940300Z",
     "start_time": "2023-06-27T03:38:50.716175400Z"
    }
   }
  },
  {
   "cell_type": "code",
   "execution_count": 135,
   "outputs": [],
   "source": [
    "df3 = pd.concat([df1, df2], ignore_index=True)"
   ],
   "metadata": {
    "collapsed": false,
    "ExecuteTime": {
     "end_time": "2023-06-27T03:39:48.749815900Z",
     "start_time": "2023-06-27T03:39:48.551316100Z"
    }
   }
  },
  {
   "cell_type": "code",
   "execution_count": 136,
   "outputs": [
    {
     "data": {
      "text/plain": "        col1      col2      col3\n0   0.795459  0.944681  0.507495\n1   0.822759  0.229912  0.451445\n2   0.354201  0.608649  0.239196\n3   0.670721  0.772857  0.115557\n4   0.784963  0.407988  0.150065\n5   0.767798  0.130127  0.976652\n6   0.723033  0.560141  0.762444\n7   0.819365  0.959302  0.710914\n8   0.213306  0.442744  0.924330\n9   0.473400  0.989139  0.248578\n10  0.892026  0.567333  0.210953\n11  0.955649  0.704607  0.923586\n12  0.651615  0.798795  0.577292\n13  0.779335  0.423630  0.067682\n14  0.703482  0.965217  0.853138\n15  0.845411  0.371225  0.660319\n16  0.648321  0.371363  0.997834",
      "text/html": "<div>\n<style scoped>\n    .dataframe tbody tr th:only-of-type {\n        vertical-align: middle;\n    }\n\n    .dataframe tbody tr th {\n        vertical-align: top;\n    }\n\n    .dataframe thead th {\n        text-align: right;\n    }\n</style>\n<table border=\"1\" class=\"dataframe\">\n  <thead>\n    <tr style=\"text-align: right;\">\n      <th></th>\n      <th>col1</th>\n      <th>col2</th>\n      <th>col3</th>\n    </tr>\n  </thead>\n  <tbody>\n    <tr>\n      <th>0</th>\n      <td>0.795459</td>\n      <td>0.944681</td>\n      <td>0.507495</td>\n    </tr>\n    <tr>\n      <th>1</th>\n      <td>0.822759</td>\n      <td>0.229912</td>\n      <td>0.451445</td>\n    </tr>\n    <tr>\n      <th>2</th>\n      <td>0.354201</td>\n      <td>0.608649</td>\n      <td>0.239196</td>\n    </tr>\n    <tr>\n      <th>3</th>\n      <td>0.670721</td>\n      <td>0.772857</td>\n      <td>0.115557</td>\n    </tr>\n    <tr>\n      <th>4</th>\n      <td>0.784963</td>\n      <td>0.407988</td>\n      <td>0.150065</td>\n    </tr>\n    <tr>\n      <th>5</th>\n      <td>0.767798</td>\n      <td>0.130127</td>\n      <td>0.976652</td>\n    </tr>\n    <tr>\n      <th>6</th>\n      <td>0.723033</td>\n      <td>0.560141</td>\n      <td>0.762444</td>\n    </tr>\n    <tr>\n      <th>7</th>\n      <td>0.819365</td>\n      <td>0.959302</td>\n      <td>0.710914</td>\n    </tr>\n    <tr>\n      <th>8</th>\n      <td>0.213306</td>\n      <td>0.442744</td>\n      <td>0.924330</td>\n    </tr>\n    <tr>\n      <th>9</th>\n      <td>0.473400</td>\n      <td>0.989139</td>\n      <td>0.248578</td>\n    </tr>\n    <tr>\n      <th>10</th>\n      <td>0.892026</td>\n      <td>0.567333</td>\n      <td>0.210953</td>\n    </tr>\n    <tr>\n      <th>11</th>\n      <td>0.955649</td>\n      <td>0.704607</td>\n      <td>0.923586</td>\n    </tr>\n    <tr>\n      <th>12</th>\n      <td>0.651615</td>\n      <td>0.798795</td>\n      <td>0.577292</td>\n    </tr>\n    <tr>\n      <th>13</th>\n      <td>0.779335</td>\n      <td>0.423630</td>\n      <td>0.067682</td>\n    </tr>\n    <tr>\n      <th>14</th>\n      <td>0.703482</td>\n      <td>0.965217</td>\n      <td>0.853138</td>\n    </tr>\n    <tr>\n      <th>15</th>\n      <td>0.845411</td>\n      <td>0.371225</td>\n      <td>0.660319</td>\n    </tr>\n    <tr>\n      <th>16</th>\n      <td>0.648321</td>\n      <td>0.371363</td>\n      <td>0.997834</td>\n    </tr>\n  </tbody>\n</table>\n</div>"
     },
     "execution_count": 136,
     "metadata": {},
     "output_type": "execute_result"
    }
   ],
   "source": [
    "df3"
   ],
   "metadata": {
    "collapsed": false,
    "ExecuteTime": {
     "end_time": "2023-06-27T03:39:50.589990300Z",
     "start_time": "2023-06-27T03:39:50.470293200Z"
    }
   }
  },
  {
   "cell_type": "code",
   "execution_count": 138,
   "outputs": [
    {
     "name": "stdout",
     "output_type": "stream",
     "text": [
      "0.5074951871161482\n",
      "0.4514449615413314\n",
      "0.23919615910569558\n",
      "0.11555702507388155\n",
      "0.15006473072043724\n",
      "0.9766518006745163\n",
      "0.7624435637296831\n",
      "0.7109143265653408\n",
      "0.9243297472289314\n",
      "0.2485783892547454\n",
      "0.21095335029356788\n",
      "0.9235861597258038\n",
      "0.5772917412554308\n",
      "0.06768169996847806\n",
      "0.8531383542044966\n",
      "0.6603194426501356\n",
      "0.9978344133269763\n"
     ]
    }
   ],
   "source": [
    "for i in df3.col3:\n",
    "    print(i)"
   ],
   "metadata": {
    "collapsed": false,
    "ExecuteTime": {
     "end_time": "2023-06-27T03:41:07.289115600Z",
     "start_time": "2023-06-27T03:41:07.232572Z"
    }
   }
  },
  {
   "cell_type": "markdown",
   "source": [
    "## iteritems"
   ],
   "metadata": {
    "collapsed": false
   }
  },
  {
   "cell_type": "code",
   "execution_count": 146,
   "outputs": [
    {
     "name": "stdout",
     "output_type": "stream",
     "text": [
      "0 col1    0.795459\n",
      "col2    0.944681\n",
      "col3    0.507495\n",
      "Name: 0, dtype: float64\n",
      "1 col1    0.822759\n",
      "col2    0.229912\n",
      "col3    0.451445\n",
      "Name: 1, dtype: float64\n",
      "2 col1    0.354201\n",
      "col2    0.608649\n",
      "col3    0.239196\n",
      "Name: 2, dtype: float64\n",
      "3 col1    0.670721\n",
      "col2    0.772857\n",
      "col3    0.115557\n",
      "Name: 3, dtype: float64\n",
      "4 col1    0.784963\n",
      "col2    0.407988\n",
      "col3    0.150065\n",
      "Name: 4, dtype: float64\n",
      "5 col1    0.767798\n",
      "col2    0.130127\n",
      "col3    0.976652\n",
      "Name: 5, dtype: float64\n",
      "6 col1    0.723033\n",
      "col2    0.560141\n",
      "col3    0.762444\n",
      "Name: 6, dtype: float64\n",
      "7 col1    0.819365\n",
      "col2    0.959302\n",
      "col3    0.710914\n",
      "Name: 7, dtype: float64\n",
      "8 col1    0.213306\n",
      "col2    0.442744\n",
      "col3    0.924330\n",
      "Name: 8, dtype: float64\n",
      "9 col1    0.473400\n",
      "col2    0.989139\n",
      "col3    0.248578\n",
      "Name: 9, dtype: float64\n",
      "10 col1    0.892026\n",
      "col2    0.567333\n",
      "col3    0.210953\n",
      "Name: 10, dtype: float64\n",
      "11 col1    0.955649\n",
      "col2    0.704607\n",
      "col3    0.923586\n",
      "Name: 11, dtype: float64\n",
      "12 col1    0.651615\n",
      "col2    0.798795\n",
      "col3    0.577292\n",
      "Name: 12, dtype: float64\n",
      "13 col1    0.779335\n",
      "col2    0.423630\n",
      "col3    0.067682\n",
      "Name: 13, dtype: float64\n",
      "14 col1    0.703482\n",
      "col2    0.965217\n",
      "col3    0.853138\n",
      "Name: 14, dtype: float64\n",
      "15 col1    0.845411\n",
      "col2    0.371225\n",
      "col3    0.660319\n",
      "Name: 15, dtype: float64\n",
      "16 col1    0.648321\n",
      "col2    0.371363\n",
      "col3    0.997834\n",
      "Name: 16, dtype: float64\n"
     ]
    }
   ],
   "source": [
    "for key, value in df3.iterrows():\n",
    "    print(key, value)"
   ],
   "metadata": {
    "collapsed": false,
    "ExecuteTime": {
     "end_time": "2023-06-27T03:44:27.397615200Z",
     "start_time": "2023-06-27T03:44:27.374119Z"
    }
   }
  },
  {
   "cell_type": "markdown",
   "source": [
    "## Sort()"
   ],
   "metadata": {
    "collapsed": false
   }
  },
  {
   "cell_type": "code",
   "execution_count": 149,
   "outputs": [],
   "source": [
    "unsorted_df = pd.DataFrame(np.random.randn(10, 3), index=[5, 7, 3, 9, 2, 1, 9, 11, 21, 4],\n",
    "                           columns=['col1', 'col2', 'col3'])"
   ],
   "metadata": {
    "collapsed": false,
    "ExecuteTime": {
     "end_time": "2023-06-27T03:46:48.640283900Z",
     "start_time": "2023-06-27T03:46:48.493474500Z"
    }
   }
  },
  {
   "cell_type": "code",
   "execution_count": 150,
   "outputs": [
    {
     "data": {
      "text/plain": "        col1      col2      col3\n5   0.911532  1.240046 -0.457150\n7   0.134772  0.846314  0.582585\n3  -1.234521 -1.428757  1.228797\n9   0.678490 -0.061519 -0.838489\n2  -0.619077  0.962761 -0.193700\n1   0.998296  1.012123 -0.464851\n9   3.277719  0.674263  1.768207\n11  0.830656 -3.822701 -0.563797\n21  2.721211 -0.471861 -1.234308\n4  -0.013465 -0.416539 -0.202902",
      "text/html": "<div>\n<style scoped>\n    .dataframe tbody tr th:only-of-type {\n        vertical-align: middle;\n    }\n\n    .dataframe tbody tr th {\n        vertical-align: top;\n    }\n\n    .dataframe thead th {\n        text-align: right;\n    }\n</style>\n<table border=\"1\" class=\"dataframe\">\n  <thead>\n    <tr style=\"text-align: right;\">\n      <th></th>\n      <th>col1</th>\n      <th>col2</th>\n      <th>col3</th>\n    </tr>\n  </thead>\n  <tbody>\n    <tr>\n      <th>5</th>\n      <td>0.911532</td>\n      <td>1.240046</td>\n      <td>-0.457150</td>\n    </tr>\n    <tr>\n      <th>7</th>\n      <td>0.134772</td>\n      <td>0.846314</td>\n      <td>0.582585</td>\n    </tr>\n    <tr>\n      <th>3</th>\n      <td>-1.234521</td>\n      <td>-1.428757</td>\n      <td>1.228797</td>\n    </tr>\n    <tr>\n      <th>9</th>\n      <td>0.678490</td>\n      <td>-0.061519</td>\n      <td>-0.838489</td>\n    </tr>\n    <tr>\n      <th>2</th>\n      <td>-0.619077</td>\n      <td>0.962761</td>\n      <td>-0.193700</td>\n    </tr>\n    <tr>\n      <th>1</th>\n      <td>0.998296</td>\n      <td>1.012123</td>\n      <td>-0.464851</td>\n    </tr>\n    <tr>\n      <th>9</th>\n      <td>3.277719</td>\n      <td>0.674263</td>\n      <td>1.768207</td>\n    </tr>\n    <tr>\n      <th>11</th>\n      <td>0.830656</td>\n      <td>-3.822701</td>\n      <td>-0.563797</td>\n    </tr>\n    <tr>\n      <th>21</th>\n      <td>2.721211</td>\n      <td>-0.471861</td>\n      <td>-1.234308</td>\n    </tr>\n    <tr>\n      <th>4</th>\n      <td>-0.013465</td>\n      <td>-0.416539</td>\n      <td>-0.202902</td>\n    </tr>\n  </tbody>\n</table>\n</div>"
     },
     "execution_count": 150,
     "metadata": {},
     "output_type": "execute_result"
    }
   ],
   "source": [
    "unsorted_df"
   ],
   "metadata": {
    "collapsed": false,
    "ExecuteTime": {
     "end_time": "2023-06-27T03:46:49.405743Z",
     "start_time": "2023-06-27T03:46:49.374319800Z"
    }
   }
  },
  {
   "cell_type": "code",
   "execution_count": 151,
   "outputs": [
    {
     "data": {
      "text/plain": "        col1      col2      col3\n1   0.998296  1.012123 -0.464851\n2  -0.619077  0.962761 -0.193700\n3  -1.234521 -1.428757  1.228797\n4  -0.013465 -0.416539 -0.202902\n5   0.911532  1.240046 -0.457150\n7   0.134772  0.846314  0.582585\n9   0.678490 -0.061519 -0.838489\n9   3.277719  0.674263  1.768207\n11  0.830656 -3.822701 -0.563797\n21  2.721211 -0.471861 -1.234308",
      "text/html": "<div>\n<style scoped>\n    .dataframe tbody tr th:only-of-type {\n        vertical-align: middle;\n    }\n\n    .dataframe tbody tr th {\n        vertical-align: top;\n    }\n\n    .dataframe thead th {\n        text-align: right;\n    }\n</style>\n<table border=\"1\" class=\"dataframe\">\n  <thead>\n    <tr style=\"text-align: right;\">\n      <th></th>\n      <th>col1</th>\n      <th>col2</th>\n      <th>col3</th>\n    </tr>\n  </thead>\n  <tbody>\n    <tr>\n      <th>1</th>\n      <td>0.998296</td>\n      <td>1.012123</td>\n      <td>-0.464851</td>\n    </tr>\n    <tr>\n      <th>2</th>\n      <td>-0.619077</td>\n      <td>0.962761</td>\n      <td>-0.193700</td>\n    </tr>\n    <tr>\n      <th>3</th>\n      <td>-1.234521</td>\n      <td>-1.428757</td>\n      <td>1.228797</td>\n    </tr>\n    <tr>\n      <th>4</th>\n      <td>-0.013465</td>\n      <td>-0.416539</td>\n      <td>-0.202902</td>\n    </tr>\n    <tr>\n      <th>5</th>\n      <td>0.911532</td>\n      <td>1.240046</td>\n      <td>-0.457150</td>\n    </tr>\n    <tr>\n      <th>7</th>\n      <td>0.134772</td>\n      <td>0.846314</td>\n      <td>0.582585</td>\n    </tr>\n    <tr>\n      <th>9</th>\n      <td>0.678490</td>\n      <td>-0.061519</td>\n      <td>-0.838489</td>\n    </tr>\n    <tr>\n      <th>9</th>\n      <td>3.277719</td>\n      <td>0.674263</td>\n      <td>1.768207</td>\n    </tr>\n    <tr>\n      <th>11</th>\n      <td>0.830656</td>\n      <td>-3.822701</td>\n      <td>-0.563797</td>\n    </tr>\n    <tr>\n      <th>21</th>\n      <td>2.721211</td>\n      <td>-0.471861</td>\n      <td>-1.234308</td>\n    </tr>\n  </tbody>\n</table>\n</div>"
     },
     "execution_count": 151,
     "metadata": {},
     "output_type": "execute_result"
    }
   ],
   "source": [
    "unsorted_df.sort_index()"
   ],
   "metadata": {
    "collapsed": false,
    "ExecuteTime": {
     "end_time": "2023-06-27T03:47:30.823074800Z",
     "start_time": "2023-06-27T03:47:30.733422400Z"
    }
   }
  },
  {
   "cell_type": "code",
   "execution_count": 152,
   "outputs": [
    {
     "data": {
      "text/plain": "        col1      col2      col3\n21  2.721211 -0.471861 -1.234308\n11  0.830656 -3.822701 -0.563797\n9   0.678490 -0.061519 -0.838489\n9   3.277719  0.674263  1.768207\n7   0.134772  0.846314  0.582585\n5   0.911532  1.240046 -0.457150\n4  -0.013465 -0.416539 -0.202902\n3  -1.234521 -1.428757  1.228797\n2  -0.619077  0.962761 -0.193700\n1   0.998296  1.012123 -0.464851",
      "text/html": "<div>\n<style scoped>\n    .dataframe tbody tr th:only-of-type {\n        vertical-align: middle;\n    }\n\n    .dataframe tbody tr th {\n        vertical-align: top;\n    }\n\n    .dataframe thead th {\n        text-align: right;\n    }\n</style>\n<table border=\"1\" class=\"dataframe\">\n  <thead>\n    <tr style=\"text-align: right;\">\n      <th></th>\n      <th>col1</th>\n      <th>col2</th>\n      <th>col3</th>\n    </tr>\n  </thead>\n  <tbody>\n    <tr>\n      <th>21</th>\n      <td>2.721211</td>\n      <td>-0.471861</td>\n      <td>-1.234308</td>\n    </tr>\n    <tr>\n      <th>11</th>\n      <td>0.830656</td>\n      <td>-3.822701</td>\n      <td>-0.563797</td>\n    </tr>\n    <tr>\n      <th>9</th>\n      <td>0.678490</td>\n      <td>-0.061519</td>\n      <td>-0.838489</td>\n    </tr>\n    <tr>\n      <th>9</th>\n      <td>3.277719</td>\n      <td>0.674263</td>\n      <td>1.768207</td>\n    </tr>\n    <tr>\n      <th>7</th>\n      <td>0.134772</td>\n      <td>0.846314</td>\n      <td>0.582585</td>\n    </tr>\n    <tr>\n      <th>5</th>\n      <td>0.911532</td>\n      <td>1.240046</td>\n      <td>-0.457150</td>\n    </tr>\n    <tr>\n      <th>4</th>\n      <td>-0.013465</td>\n      <td>-0.416539</td>\n      <td>-0.202902</td>\n    </tr>\n    <tr>\n      <th>3</th>\n      <td>-1.234521</td>\n      <td>-1.428757</td>\n      <td>1.228797</td>\n    </tr>\n    <tr>\n      <th>2</th>\n      <td>-0.619077</td>\n      <td>0.962761</td>\n      <td>-0.193700</td>\n    </tr>\n    <tr>\n      <th>1</th>\n      <td>0.998296</td>\n      <td>1.012123</td>\n      <td>-0.464851</td>\n    </tr>\n  </tbody>\n</table>\n</div>"
     },
     "execution_count": 152,
     "metadata": {},
     "output_type": "execute_result"
    }
   ],
   "source": [
    "unsorted_df.sort_index(ascending=False)"
   ],
   "metadata": {
    "collapsed": false,
    "ExecuteTime": {
     "end_time": "2023-06-27T03:47:56.180745200Z",
     "start_time": "2023-06-27T03:47:56.099445900Z"
    }
   }
  },
  {
   "cell_type": "code",
   "execution_count": 153,
   "outputs": [
    {
     "data": {
      "text/plain": "        col1      col2      col3\n5   0.911532  1.240046 -0.457150\n7   0.134772  0.846314  0.582585\n3  -1.234521 -1.428757  1.228797\n9   0.678490 -0.061519 -0.838489\n2  -0.619077  0.962761 -0.193700\n1   0.998296  1.012123 -0.464851\n9   3.277719  0.674263  1.768207\n11  0.830656 -3.822701 -0.563797\n21  2.721211 -0.471861 -1.234308\n4  -0.013465 -0.416539 -0.202902",
      "text/html": "<div>\n<style scoped>\n    .dataframe tbody tr th:only-of-type {\n        vertical-align: middle;\n    }\n\n    .dataframe tbody tr th {\n        vertical-align: top;\n    }\n\n    .dataframe thead th {\n        text-align: right;\n    }\n</style>\n<table border=\"1\" class=\"dataframe\">\n  <thead>\n    <tr style=\"text-align: right;\">\n      <th></th>\n      <th>col1</th>\n      <th>col2</th>\n      <th>col3</th>\n    </tr>\n  </thead>\n  <tbody>\n    <tr>\n      <th>5</th>\n      <td>0.911532</td>\n      <td>1.240046</td>\n      <td>-0.457150</td>\n    </tr>\n    <tr>\n      <th>7</th>\n      <td>0.134772</td>\n      <td>0.846314</td>\n      <td>0.582585</td>\n    </tr>\n    <tr>\n      <th>3</th>\n      <td>-1.234521</td>\n      <td>-1.428757</td>\n      <td>1.228797</td>\n    </tr>\n    <tr>\n      <th>9</th>\n      <td>0.678490</td>\n      <td>-0.061519</td>\n      <td>-0.838489</td>\n    </tr>\n    <tr>\n      <th>2</th>\n      <td>-0.619077</td>\n      <td>0.962761</td>\n      <td>-0.193700</td>\n    </tr>\n    <tr>\n      <th>1</th>\n      <td>0.998296</td>\n      <td>1.012123</td>\n      <td>-0.464851</td>\n    </tr>\n    <tr>\n      <th>9</th>\n      <td>3.277719</td>\n      <td>0.674263</td>\n      <td>1.768207</td>\n    </tr>\n    <tr>\n      <th>11</th>\n      <td>0.830656</td>\n      <td>-3.822701</td>\n      <td>-0.563797</td>\n    </tr>\n    <tr>\n      <th>21</th>\n      <td>2.721211</td>\n      <td>-0.471861</td>\n      <td>-1.234308</td>\n    </tr>\n    <tr>\n      <th>4</th>\n      <td>-0.013465</td>\n      <td>-0.416539</td>\n      <td>-0.202902</td>\n    </tr>\n  </tbody>\n</table>\n</div>"
     },
     "execution_count": 153,
     "metadata": {},
     "output_type": "execute_result"
    }
   ],
   "source": [
    "unsorted_df.sort_index(axis=1)"
   ],
   "metadata": {
    "collapsed": false,
    "ExecuteTime": {
     "end_time": "2023-06-27T03:48:21.910224300Z",
     "start_time": "2023-06-27T03:48:21.814898800Z"
    }
   }
  },
  {
   "cell_type": "markdown",
   "source": [
    "## sort_values()"
   ],
   "metadata": {
    "collapsed": false
   }
  },
  {
   "cell_type": "code",
   "execution_count": null,
   "outputs": [],
   "source": [],
   "metadata": {
    "collapsed": false
   }
  }
 ],
 "metadata": {
  "kernelspec": {
   "display_name": "Python 3",
   "language": "python",
   "name": "python3"
  },
  "language_info": {
   "codemirror_mode": {
    "name": "ipython",
    "version": 2
   },
   "file_extension": ".py",
   "mimetype": "text/x-python",
   "name": "python",
   "nbconvert_exporter": "python",
   "pygments_lexer": "ipython2",
   "version": "2.7.6"
  }
 },
 "nbformat": 4,
 "nbformat_minor": 0
}
