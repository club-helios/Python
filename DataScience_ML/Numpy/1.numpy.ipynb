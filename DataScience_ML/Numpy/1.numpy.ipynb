{
 "cells": [
  {
   "cell_type": "code",
   "execution_count": 2,
   "metadata": {
    "id": "rtkMjNjWzIMg"
   },
   "outputs": [
    {
     "name": "stdout",
     "output_type": "stream",
     "text": [
      "56.01587963104248\n"
     ]
    }
   ],
   "source": [
    "#numpy\n",
    "import numpy as np\n",
    "import time\n",
    "a= np.random.rand(1000000000)\n",
    "start  = time.time()\n",
    "\n",
    "men_list = np.mean(a)\n",
    "print(time.time()-start)\n"
   ]
  },
  {
   "cell_type": "code",
   "execution_count": 8,
   "metadata": {
    "id": "szuskzVP8whh"
   },
   "outputs": [
    {
     "data": {
      "text/plain": "'1.22.3'"
     },
     "execution_count": 8,
     "metadata": {},
     "output_type": "execute_result"
    }
   ],
   "source": [
    "np.__version__"
   ]
  },
  {
   "cell_type": "markdown",
   "metadata": {
    "id": "OUmOREVvSCIh"
   },
   "source": [
    "# initializing the numpy array"
   ]
  },
  {
   "cell_type": "code",
   "execution_count": null,
   "metadata": {
    "id": "WRUp3csF9lrw"
   },
   "outputs": [],
   "source": [
    "import  numpy as np\n",
    "\n",
    "# 0D (zero dimentional)\n",
    "arr = np.array(2)\n"
   ]
  },
  {
   "cell_type": "code",
   "execution_count": null,
   "metadata": {
    "id": "5Zu0pNJU-OLw"
   },
   "outputs": [],
   "source": [
    "# 1d array\n",
    "arr = np.array([1,2,3,4,5])\n",
    "\n",
    "type(arr)"
   ]
  },
  {
   "cell_type": "code",
   "execution_count": null,
   "metadata": {
    "id": "U_AdEO4fSKuf"
   },
   "outputs": [],
   "source": [
    "# 2d array\n",
    "\n",
    "arr = np.array([[1,2,3,4,5],[6,7,8,9,10]])\n",
    "print(arr)"
   ]
  },
  {
   "cell_type": "code",
   "execution_count": null,
   "metadata": {
    "id": "xUnRPY90SK4j"
   },
   "outputs": [],
   "source": [
    "# 3d array\n",
    "arr = np.array([\n",
    "                  [\n",
    "                      [1,2,3,4],\n",
    "                      [5,6,7,8]\n",
    "                  ],\n",
    "                [\n",
    "                    [8,7,6,5],\n",
    "                 [4,3,2,1]\n",
    "                ]\n",
    "                ])\n",
    "print(arr)"
   ]
  },
  {
   "cell_type": "markdown",
   "source": [
    "# ndim attribute- it will gonna return the dimention of the array"
   ],
   "metadata": {
    "collapsed": false
   }
  },
  {
   "cell_type": "code",
   "execution_count": null,
   "metadata": {
    "id": "KJ7SUl0QT3Cz"
   },
   "outputs": [],
   "source": [
    "# 0D (zero dimentional)\n",
    "arr = np.array(2)\n",
    "arr.ndim"
   ]
  },
  {
   "cell_type": "code",
   "execution_count": null,
   "metadata": {
    "id": "GW3XLyiYUOkL"
   },
   "outputs": [],
   "source": [
    "# 1d array\n",
    "arr = np.array([1,2,3,4,5])\n",
    "\n",
    "arr.ndim"
   ]
  },
  {
   "cell_type": "code",
   "execution_count": 1,
   "metadata": {
    "id": "mljSxIhrUZzN"
   },
   "outputs": [
    {
     "ename": "NameError",
     "evalue": "name 'np' is not defined",
     "output_type": "error",
     "traceback": [
      "\u001B[1;31m---------------------------------------------------------------------------\u001B[0m",
      "\u001B[1;31mNameError\u001B[0m                                 Traceback (most recent call last)",
      "Cell \u001B[1;32mIn[1], line 1\u001B[0m\n\u001B[1;32m----> 1\u001B[0m arr \u001B[38;5;241m=\u001B[39m \u001B[43mnp\u001B[49m\u001B[38;5;241m.\u001B[39marray([\u001B[38;5;241m1\u001B[39m,\u001B[38;5;241m2\u001B[39m,\u001B[38;5;241m3\u001B[39m,\u001B[38;5;241m4\u001B[39m,\u001B[38;5;241m5\u001B[39m], ndmin\u001B[38;5;241m=\u001B[39m\u001B[38;5;241m10\u001B[39m)\n\u001B[0;32m      2\u001B[0m arr\u001B[38;5;241m.\u001B[39mndim\n",
      "\u001B[1;31mNameError\u001B[0m: name 'np' is not defined"
     ]
    }
   ],
   "source": [
    "arr = np.array([1,2,3,4,5], ndmin=10)\n",
    "arr.ndim"
   ]
  },
  {
   "cell_type": "code",
   "execution_count": null,
   "outputs": [],
   "source": [],
   "metadata": {
    "collapsed": false
   }
  }
 ],
 "metadata": {
  "accelerator": "GPU",
  "colab": {
   "authorship_tag": "ABX9TyOAJ0MbtmNZm5NUm0alcfiM",
   "include_colab_link": true,
   "private_outputs": true,
   "provenance": [],
   "toc_visible": true
  },
  "gpuClass": "standard",
  "kernelspec": {
   "display_name": "Python 3",
   "language": "python",
   "name": "python3"
  },
  "language_info": {
   "name": "python",
   "version": "3.9.13"
  },
  "vscode": {
   "interpreter": {
    "hash": "41ac547e6fc53f920cde0d75544e76f72425fe1d216be029676194d4ae7b3941"
   }
  }
 },
 "nbformat": 4,
 "nbformat_minor": 0
}
