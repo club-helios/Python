{
 "cells": [
  {
   "cell_type": "code",
   "execution_count": 1,
   "metadata": {
    "id": "rtkMjNjWzIMg",
    "ExecuteTime": {
     "start_time": "2023-04-14T12:58:46.523504Z",
     "end_time": "2023-04-14T12:58:46.669779Z"
    }
   },
   "outputs": [
    {
     "name": "stdout",
     "output_type": "stream",
     "text": [
      "0.00997304916381836\n"
     ]
    }
   ],
   "source": [
    "#numpy\n",
    "import numpy as np\n",
    "import time\n",
    "\n",
    "a = np.random.rand(10000000)\n",
    "start = time.time()\n",
    "\n",
    "men_list = np.mean(a)\n",
    "print(time.time() - start)\n"
   ]
  },
  {
   "cell_type": "code",
   "execution_count": 2,
   "metadata": {
    "id": "szuskzVP8whh",
    "ExecuteTime": {
     "start_time": "2023-04-14T12:58:48.691569Z",
     "end_time": "2023-04-14T12:58:48.711971Z"
    }
   },
   "outputs": [
    {
     "data": {
      "text/plain": "'1.24.2'"
     },
     "execution_count": 2,
     "metadata": {},
     "output_type": "execute_result"
    }
   ],
   "source": [
    "np.__version__"
   ]
  },
  {
   "cell_type": "markdown",
   "metadata": {
    "id": "OUmOREVvSCIh"
   },
   "source": [
    "# initializing the numpy array"
   ]
  },
  {
   "cell_type": "code",
   "execution_count": 3,
   "metadata": {
    "id": "WRUp3csF9lrw",
    "ExecuteTime": {
     "start_time": "2023-04-14T12:55:15.289552Z",
     "end_time": "2023-04-14T12:55:15.308038Z"
    }
   },
   "outputs": [],
   "source": [
    "import numpy as np\n",
    "\n",
    "# 0D (zero dimentional)\n",
    "arr = np.array(2)\n"
   ]
  },
  {
   "cell_type": "code",
   "execution_count": 4,
   "metadata": {
    "id": "5Zu0pNJU-OLw",
    "ExecuteTime": {
     "start_time": "2023-04-14T12:55:18.320056Z",
     "end_time": "2023-04-14T12:55:18.330740Z"
    }
   },
   "outputs": [
    {
     "data": {
      "text/plain": "numpy.ndarray"
     },
     "execution_count": 4,
     "metadata": {},
     "output_type": "execute_result"
    }
   ],
   "source": [
    "# 1d array\n",
    "arr = np.array([1, 2, 3, 4, 5])\n",
    "\n",
    "type(arr)"
   ]
  },
  {
   "cell_type": "code",
   "execution_count": 5,
   "metadata": {
    "id": "U_AdEO4fSKuf",
    "ExecuteTime": {
     "start_time": "2023-04-14T12:55:19.816884Z",
     "end_time": "2023-04-14T12:55:19.862088Z"
    }
   },
   "outputs": [
    {
     "name": "stdout",
     "output_type": "stream",
     "text": [
      "[[ 1  2  3  4  5]\n",
      " [ 6  7  8  9 10]]\n"
     ]
    }
   ],
   "source": [
    "# 2d array\n",
    "\n",
    "arr = np.array([[1, 2, 3, 4, 5], [6, 7, 8, 9, 10]])\n",
    "print(arr)"
   ]
  },
  {
   "cell_type": "code",
   "execution_count": 6,
   "metadata": {
    "id": "xUnRPY90SK4j",
    "ExecuteTime": {
     "start_time": "2023-04-14T12:55:20.527692Z",
     "end_time": "2023-04-14T12:55:20.801401Z"
    }
   },
   "outputs": [
    {
     "name": "stdout",
     "output_type": "stream",
     "text": [
      "[[[1 2 3 4]\n",
      "  [5 6 7 8]]\n",
      "\n",
      " [[8 7 6 5]\n",
      "  [4 3 2 1]]]\n"
     ]
    }
   ],
   "source": [
    "# 3d array\n",
    "arr = np.array([\n",
    "    [\n",
    "        [1, 2, 3, 4],\n",
    "        [5, 6, 7, 8]\n",
    "    ],\n",
    "    [\n",
    "        [8, 7, 6, 5],\n",
    "        [4, 3, 2, 1]\n",
    "    ]\n",
    "])\n",
    "print(arr)"
   ]
  },
  {
   "cell_type": "markdown",
   "metadata": {
    "collapsed": false
   },
   "source": [
    "# ndim attribute- it will gonna return the dimention of the array"
   ]
  },
  {
   "cell_type": "code",
   "execution_count": 7,
   "metadata": {
    "id": "KJ7SUl0QT3Cz",
    "ExecuteTime": {
     "start_time": "2023-04-14T12:55:21.195282Z",
     "end_time": "2023-04-14T12:55:21.221336Z"
    }
   },
   "outputs": [
    {
     "data": {
      "text/plain": "0"
     },
     "execution_count": 7,
     "metadata": {},
     "output_type": "execute_result"
    }
   ],
   "source": [
    "# 0D (zero dimentional)\n",
    "arr = np.array(2)\n",
    "arr.ndim"
   ]
  },
  {
   "cell_type": "code",
   "execution_count": 8,
   "metadata": {
    "id": "GW3XLyiYUOkL",
    "ExecuteTime": {
     "start_time": "2023-04-14T12:55:21.416296Z",
     "end_time": "2023-04-14T12:55:21.444247Z"
    }
   },
   "outputs": [
    {
     "data": {
      "text/plain": "1"
     },
     "execution_count": 8,
     "metadata": {},
     "output_type": "execute_result"
    }
   ],
   "source": [
    "# 1d array\n",
    "arr = np.array([1, 2, 3, 4, 5])\n",
    "\n",
    "arr.ndim"
   ]
  },
  {
   "cell_type": "code",
   "execution_count": 9,
   "metadata": {
    "id": "mljSxIhrUZzN",
    "ExecuteTime": {
     "start_time": "2023-04-14T12:55:21.645131Z",
     "end_time": "2023-04-14T12:55:21.677376Z"
    }
   },
   "outputs": [
    {
     "data": {
      "text/plain": "10"
     },
     "execution_count": 9,
     "metadata": {},
     "output_type": "execute_result"
    }
   ],
   "source": [
    "arr = np.array([1, 2, 3, 4, 5], ndmin=10)\n",
    "arr.ndim"
   ]
  }
 ],
 "metadata": {
  "accelerator": "GPU",
  "colab": {
   "authorship_tag": "ABX9TyOAJ0MbtmNZm5NUm0alcfiM",
   "include_colab_link": true,
   "private_outputs": true,
   "provenance": [],
   "toc_visible": true
  },
  "gpuClass": "standard",
  "kernelspec": {
   "display_name": "Python 3",
   "language": "python",
   "name": "python3"
  },
  "language_info": {
   "codemirror_mode": {
    "name": "ipython",
    "version": 3
   },
   "file_extension": ".py",
   "mimetype": "text/x-python",
   "name": "python",
   "nbconvert_exporter": "python",
   "pygments_lexer": "ipython3",
   "version": "3.11.2"
  },
  "vscode": {
   "interpreter": {
    "hash": "41ac547e6fc53f920cde0d75544e76f72425fe1d216be029676194d4ae7b3941"
   }
  }
 },
 "nbformat": 4,
 "nbformat_minor": 0
}
