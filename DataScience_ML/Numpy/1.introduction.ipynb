{
 "cells": [
  {
   "cell_type": "markdown",
   "metadata": {
    "deletable": false,
    "editable": false
   },
   "source": [
    " # NumPY\n",
    "\n",
    "NumPy is a powerful numerical computing library in Python that provides support for large, multi-dimensional arrays and matrices, along with a wide range of mathematical functions. It is widely used in various fields for numerical computations and is an essential tool for any data scientist or researcher working with numerical data in Python."
   ]
  },
  {
   "cell_type": "code",
   "execution_count": null,
   "metadata": {
    "ExecuteTime": {
     "end_time": "2023-04-15T10:30:03.376421Z",
     "start_time": "2023-04-15T10:30:03.372151Z"
    },
    "pycharm": {
     "is_executing": true
    }
   },
   "outputs": [],
   "source": [
    "import numpy as np\n",
    "import time"
   ]
  },
  {
   "cell_type": "code",
   "execution_count": null,
   "metadata": {
    "ExecuteTime": {
     "end_time": "2023-04-15T10:30:08.638609Z",
     "start_time": "2023-04-15T10:30:03.524544Z"
    }
   },
   "outputs": [],
   "source": [
    "data = np.random.rand(110000000)\n",
    "print(data)"
   ]
  },
  {
   "cell_type": "markdown",
   "metadata": {},
   "source": [
    "Show time difference between list and numpy"
   ]
  },
  {
   "cell_type": "code",
   "execution_count": null,
   "metadata": {
    "ExecuteTime": {
     "end_time": "2023-04-15T10:30:15.277977Z",
     "start_time": "2023-04-15T10:30:08.640605Z"
    }
   },
   "outputs": [],
   "source": [
    "# List\n",
    "\n",
    "start = time.time()\n",
    "mean_list = sum(data) / len(data)\n",
    "print(time.time() - start)"
   ]
  },
  {
   "cell_type": "code",
   "execution_count": null,
   "metadata": {
    "ExecuteTime": {
     "end_time": "2023-04-15T10:30:15.438281Z",
     "start_time": "2023-04-15T10:30:15.279975Z"
    }
   },
   "outputs": [],
   "source": [
    "# Numpy\n",
    "\n",
    "start = time.time()\n",
    "mean_np = np.mean(data)\n",
    "print(time.time() - start)"
   ]
  },
  {
   "cell_type": "code",
   "execution_count": null,
   "metadata": {
    "ExecuteTime": {
     "end_time": "2023-04-15T10:30:15.454317Z",
     "start_time": "2023-04-15T10:30:15.441278Z"
    }
   },
   "outputs": [],
   "source": [
    "mean_list"
   ]
  },
  {
   "cell_type": "code",
   "execution_count": null,
   "metadata": {
    "ExecuteTime": {
     "end_time": "2023-04-15T10:30:15.464370Z",
     "start_time": "2023-04-15T10:30:15.457313Z"
    }
   },
   "outputs": [],
   "source": [
    "mean_np"
   ]
  },
  {
   "cell_type": "markdown",
   "metadata": {},
   "source": [
    "---"
   ]
  },
  {
   "cell_type": "markdown",
   "metadata": {},
   "source": [
    "## Creating ndarrays\n"
   ]
  },
  {
   "cell_type": "markdown",
   "metadata": {},
   "source": [
    "<a href=\"https://ibb.co/LYqp1wp\"><img src=\"https://i.ibb.co/HBMgqvg/Screenshot-2023-04-15-125315.png\" alt=\"Screenshot-2023-04-15-125315\" border=\"0\"></a>"
   ]
  },
  {
   "cell_type": "code",
   "execution_count": null,
   "metadata": {
    "ExecuteTime": {
     "end_time": "2023-04-15T10:30:15.471071Z",
     "start_time": "2023-04-15T10:30:15.466371Z"
    }
   },
   "outputs": [],
   "source": [
    "# syntax\n",
    "# arr = np.array()\n",
    "# arr"
   ]
  },
  {
   "cell_type": "code",
   "execution_count": null,
   "metadata": {
    "ExecuteTime": {
     "end_time": "2023-04-15T10:30:15.476994Z",
     "start_time": "2023-04-15T10:30:15.473069Z"
    }
   },
   "outputs": [],
   "source": [
    "# 0D (zero dimensional)\n",
    "arr0 = np.array(1)"
   ]
  },
  {
   "cell_type": "code",
   "execution_count": null,
   "metadata": {
    "ExecuteTime": {
     "end_time": "2023-04-15T10:30:15.485563Z",
     "start_time": "2023-04-15T10:30:15.478993Z"
    }
   },
   "outputs": [],
   "source": [
    "# 1D (one dimensional)\n",
    "arr = np.array([1, 2, 3, 4, 5])\n",
    "arr"
   ]
  },
  {
   "cell_type": "code",
   "execution_count": null,
   "metadata": {
    "ExecuteTime": {
     "end_time": "2023-04-15T10:30:15.492909Z",
     "start_time": "2023-04-15T10:30:15.489561Z"
    }
   },
   "outputs": [],
   "source": [
    "# 2D (2 dimensional)\n",
    "arr2 = np.array([[1, 2, 3, 4, 5], [6, 7, 8, 9, 10]])"
   ]
  },
  {
   "cell_type": "code",
   "execution_count": null,
   "metadata": {
    "ExecuteTime": {
     "end_time": "2023-04-15T10:30:15.502529Z",
     "start_time": "2023-04-15T10:30:15.496902Z"
    }
   },
   "outputs": [],
   "source": [
    "arr2"
   ]
  },
  {
   "cell_type": "code",
   "execution_count": null,
   "metadata": {
    "ExecuteTime": {
     "end_time": "2023-04-15T10:30:15.509604Z",
     "start_time": "2023-04-15T10:30:15.503532Z"
    }
   },
   "outputs": [],
   "source": [
    "# 3D (3 dimensional)\n",
    "arr3 = np.array(\n",
    "    [\n",
    "        [\n",
    "            [1, 2, 3],\n",
    "            [4, 5, 6]\n",
    "        ],\n",
    "        [\n",
    "            [7, 8, 9],\n",
    "            [10, 11, 12]\n",
    "\n",
    "        ]\n",
    "    ]\n",
    ")"
   ]
  },
  {
   "cell_type": "code",
   "execution_count": null,
   "metadata": {
    "ExecuteTime": {
     "end_time": "2023-04-15T10:30:15.518461Z",
     "start_time": "2023-04-15T10:30:15.511603Z"
    }
   },
   "outputs": [],
   "source": [
    "arr3"
   ]
  },
  {
   "cell_type": "code",
   "execution_count": null,
   "metadata": {
    "ExecuteTime": {
     "end_time": "2023-04-15T10:30:15.528207Z",
     "start_time": "2023-04-15T10:30:15.522457Z"
    }
   },
   "outputs": [],
   "source": [
    "type(arr3)"
   ]
  },
  {
   "cell_type": "markdown",
   "metadata": {},
   "source": [
    "### Ndim\n",
    "It Return a dimension of the array\n",
    "has two dimensions with shape\n",
    "inferred from the data. We can confirm this by inspecting the ndim and shape\n",
    "attributes:"
   ]
  },
  {
   "cell_type": "code",
   "execution_count": null,
   "metadata": {
    "ExecuteTime": {
     "end_time": "2023-04-15T10:30:15.533889Z",
     "start_time": "2023-04-15T10:30:15.530205Z"
    }
   },
   "outputs": [],
   "source": [
    "# 0D (zero dimensional)\n",
    "arr0 = np.array(1)"
   ]
  },
  {
   "cell_type": "code",
   "execution_count": null,
   "metadata": {
    "ExecuteTime": {
     "end_time": "2023-04-15T10:30:15.542329Z",
     "start_time": "2023-04-15T10:30:15.536885Z"
    }
   },
   "outputs": [],
   "source": [
    "arr0.ndim"
   ]
  },
  {
   "cell_type": "code",
   "execution_count": null,
   "metadata": {
    "ExecuteTime": {
     "end_time": "2023-04-15T10:30:15.552435Z",
     "start_time": "2023-04-15T10:30:15.545325Z"
    }
   },
   "outputs": [],
   "source": [
    "# 1D (one dimensional)\n",
    "arr = np.array([1, 2, 3, 4, 5])\n",
    "arr\n"
   ]
  },
  {
   "cell_type": "code",
   "execution_count": null,
   "metadata": {
    "ExecuteTime": {
     "end_time": "2023-04-15T10:30:15.559374Z",
     "start_time": "2023-04-15T10:30:15.554432Z"
    }
   },
   "outputs": [],
   "source": [
    "arr.ndim"
   ]
  },
  {
   "cell_type": "code",
   "execution_count": null,
   "metadata": {
    "ExecuteTime": {
     "end_time": "2023-04-15T10:30:15.564446Z",
     "start_time": "2023-04-15T10:30:15.561374Z"
    }
   },
   "outputs": [],
   "source": [
    "# 2D (2 dimensional)\n",
    "arr2 = np.array([[1, 2, 3, 4, 5], [6, 7, 8, 9, 10]])\n"
   ]
  },
  {
   "cell_type": "code",
   "execution_count": null,
   "metadata": {
    "ExecuteTime": {
     "end_time": "2023-04-15T10:30:15.570537Z",
     "start_time": "2023-04-15T10:30:15.565447Z"
    }
   },
   "outputs": [],
   "source": [
    "arr2.ndim"
   ]
  },
  {
   "cell_type": "code",
   "execution_count": null,
   "metadata": {
    "ExecuteTime": {
     "end_time": "2023-04-15T10:30:15.577995Z",
     "start_time": "2023-04-15T10:30:15.573533Z"
    }
   },
   "outputs": [],
   "source": [
    "# 3D (3 dimensional)\n",
    "arr3 = np.array(\n",
    "    [\n",
    "        [\n",
    "            [1, 2, 3],\n",
    "            [4, 5, 6]\n",
    "        ],\n",
    "        [\n",
    "            [7, 8, 9],\n",
    "            [10, 11, 12]\n",
    "\n",
    "        ]\n",
    "    ]\n",
    ")"
   ]
  },
  {
   "cell_type": "code",
   "execution_count": null,
   "metadata": {
    "ExecuteTime": {
     "end_time": "2023-04-15T10:30:15.588627Z",
     "start_time": "2023-04-15T10:30:15.581990Z"
    }
   },
   "outputs": [],
   "source": [
    "arr3.ndim"
   ]
  },
  {
   "cell_type": "code",
   "execution_count": null,
   "metadata": {
    "ExecuteTime": {
     "end_time": "2023-04-15T10:30:15.593802Z",
     "start_time": "2023-04-15T10:30:15.590626Z"
    }
   },
   "outputs": [],
   "source": [
    "arr10 = np.array([1, 2, 3, 4], ndmin=10)\n"
   ]
  },
  {
   "cell_type": "code",
   "execution_count": null,
   "metadata": {
    "ExecuteTime": {
     "end_time": "2023-04-15T10:30:15.599839Z",
     "start_time": "2023-04-15T10:30:15.595800Z"
    }
   },
   "outputs": [],
   "source": [
    "arr10.ndim"
   ]
  },
  {
   "cell_type": "code",
   "execution_count": null,
   "metadata": {
    "ExecuteTime": {
     "end_time": "2023-04-15T10:30:15.605255Z",
     "start_time": "2023-04-15T10:30:15.600840Z"
    }
   },
   "outputs": [],
   "source": [
    "arr10"
   ]
  },
  {
   "cell_type": "markdown",
   "metadata": {},
   "source": [
    "### Shape\n",
    "It tails the shape of the array\n"
   ]
  },
  {
   "cell_type": "code",
   "execution_count": null,
   "metadata": {
    "ExecuteTime": {
     "end_time": "2023-04-15T10:30:15.611033Z",
     "start_time": "2023-04-15T10:30:15.607255Z"
    }
   },
   "outputs": [],
   "source": [
    "arr3.shape"
   ]
  },
  {
   "cell_type": "code",
   "execution_count": null,
   "metadata": {
    "ExecuteTime": {
     "end_time": "2023-04-15T10:30:15.617004Z",
     "start_time": "2023-04-15T10:30:15.613031Z"
    }
   },
   "outputs": [],
   "source": [
    "arr10.shape"
   ]
  },
  {
   "cell_type": "code",
   "execution_count": null,
   "metadata": {
    "ExecuteTime": {
     "end_time": "2023-04-15T10:30:15.625100Z",
     "start_time": "2023-04-15T10:30:15.619004Z"
    }
   },
   "outputs": [],
   "source": [
    "arr2.shape"
   ]
  },
  {
   "cell_type": "markdown",
   "metadata": {},
   "source": [
    "## Data Types of ndarrays\n",
    "\n",
    "<a href=\"https://ibb.co/Kmt7wfK\"><img src=\"https://i.ibb.co/JCY2QG3/Screenshot-2023-04-15-125904.png\" alt=\"Screenshot-2023-04-15-125904\" border=\"0\"></a>"
   ]
  },
  {
   "cell_type": "markdown",
   "metadata": {},
   "source": [
    "### Type --- dtype\n",
    "It tells about the type of the data"
   ]
  },
  {
   "cell_type": "code",
   "execution_count": null,
   "metadata": {
    "ExecuteTime": {
     "end_time": "2023-04-15T10:30:15.635212Z",
     "start_time": "2023-04-15T10:30:15.631089Z"
    }
   },
   "outputs": [],
   "source": [
    "arr3.dtype"
   ]
  },
  {
   "cell_type": "code",
   "execution_count": null,
   "metadata": {
    "ExecuteTime": {
     "end_time": "2023-04-15T10:30:15.643132Z",
     "start_time": "2023-04-15T10:30:15.637212Z"
    }
   },
   "outputs": [],
   "source": [
    "arrs = np.array(['a', 'b'])\n",
    "arrs.dtype"
   ]
  },
  {
   "cell_type": "code",
   "execution_count": null,
   "metadata": {
    "ExecuteTime": {
     "end_time": "2023-04-15T10:30:15.647980Z",
     "start_time": "2023-04-15T10:30:15.645131Z"
    }
   },
   "outputs": [],
   "source": [
    "arr1 = np.array([1, 2, 3], dtype=np.float64)\n"
   ]
  },
  {
   "cell_type": "code",
   "execution_count": null,
   "metadata": {
    "ExecuteTime": {
     "end_time": "2023-04-15T10:30:15.654467Z",
     "start_time": "2023-04-15T10:30:15.649977Z"
    }
   },
   "outputs": [],
   "source": [
    "arr1.dtype"
   ]
  },
  {
   "cell_type": "markdown",
   "metadata": {},
   "source": [
    "Change the dtype of the data"
   ]
  },
  {
   "cell_type": "code",
   "execution_count": null,
   "metadata": {
    "ExecuteTime": {
     "end_time": "2023-04-15T10:30:15.660800Z",
     "start_time": "2023-04-15T10:30:15.656464Z"
    }
   },
   "outputs": [],
   "source": [
    "arr1.astype(np.int32)"
   ]
  },
  {
   "cell_type": "markdown",
   "metadata": {},
   "source": [
    "### Size - it tells total number of element"
   ]
  },
  {
   "cell_type": "code",
   "execution_count": null,
   "metadata": {
    "ExecuteTime": {
     "end_time": "2023-04-15T10:30:15.666554Z",
     "start_time": "2023-04-15T10:30:15.662797Z"
    }
   },
   "outputs": [],
   "source": [
    "arr1.size"
   ]
  },
  {
   "cell_type": "code",
   "execution_count": null,
   "metadata": {
    "ExecuteTime": {
     "end_time": "2023-04-15T10:30:15.672593Z",
     "start_time": "2023-04-15T10:30:15.668553Z"
    }
   },
   "outputs": [],
   "source": [
    "arr2.size"
   ]
  },
  {
   "cell_type": "code",
   "execution_count": null,
   "metadata": {
    "ExecuteTime": {
     "end_time": "2023-04-15T10:30:15.679148Z",
     "start_time": "2023-04-15T10:30:15.674592Z"
    }
   },
   "outputs": [],
   "source": [
    "arr2\n"
   ]
  },
  {
   "cell_type": "code",
   "execution_count": null,
   "metadata": {
    "ExecuteTime": {
     "end_time": "2023-04-15T10:30:15.684842Z",
     "start_time": "2023-04-15T10:30:15.681146Z"
    }
   },
   "outputs": [],
   "source": [
    "#### 1 for the column\n",
    "# 0  for the row\n",
    "\n",
    "np.size(arr2, 1)\n"
   ]
  },
  {
   "cell_type": "markdown",
   "metadata": {},
   "source": [
    "### Itemsize\n",
    "It tells about the length of the single element in bytes"
   ]
  },
  {
   "cell_type": "code",
   "execution_count": null,
   "metadata": {
    "ExecuteTime": {
     "end_time": "2023-04-15T10:30:15.691262Z",
     "start_time": "2023-04-15T10:30:15.686841Z"
    }
   },
   "outputs": [],
   "source": [
    "arr2.itemsize"
   ]
  },
  {
   "cell_type": "markdown",
   "metadata": {},
   "source": [
    "### nbytes\n",
    "Total bytes"
   ]
  },
  {
   "cell_type": "code",
   "execution_count": null,
   "metadata": {
    "ExecuteTime": {
     "end_time": "2023-04-15T10:30:15.699467Z",
     "start_time": "2023-04-15T10:30:15.694256Z"
    }
   },
   "outputs": [],
   "source": [
    "arr2.nbytes"
   ]
  },
  {
   "cell_type": "markdown",
   "metadata": {},
   "source": [
    "## Create array using arange method\n"
   ]
  },
  {
   "cell_type": "code",
   "execution_count": null,
   "metadata": {
    "ExecuteTime": {
     "end_time": "2023-04-15T10:30:15.706668Z",
     "start_time": "2023-04-15T10:30:15.701465Z"
    }
   },
   "outputs": [],
   "source": [
    "\n",
    "aranged_array = np.arange(10)\n",
    "aranged_array"
   ]
  },
  {
   "cell_type": "code",
   "execution_count": null,
   "metadata": {
    "ExecuteTime": {
     "end_time": "2023-04-15T10:30:15.712918Z",
     "start_time": "2023-04-15T10:30:15.708665Z"
    }
   },
   "outputs": [],
   "source": [
    "aranged_array2 = np.arange(2, 10)  ## craete a 1D array with start with 2 and end with 9\n",
    "aranged_array2"
   ]
  },
  {
   "cell_type": "code",
   "execution_count": null,
   "metadata": {
    "ExecuteTime": {
     "end_time": "2023-04-15T10:30:15.719790Z",
     "start_time": "2023-04-15T10:30:15.714916Z"
    }
   },
   "outputs": [],
   "source": [
    "aranged_array3 = np.arange(2, 10, 2)  # create 1D ndarray with start with 2 and end with 9 and increment 2\n",
    "aranged_array3"
   ]
  },
  {
   "cell_type": "code",
   "execution_count": null,
   "metadata": {
    "ExecuteTime": {
     "end_time": "2023-04-15T10:30:15.726280Z",
     "start_time": "2023-04-15T10:30:15.721788Z"
    }
   },
   "outputs": [],
   "source": [
    "aranged_array4 = np.arange(1, 2, 0.1)\n",
    "\n",
    "aranged_array4"
   ]
  },
  {
   "cell_type": "markdown",
   "metadata": {},
   "source": [
    "## create a ndarray using zeros()"
   ]
  },
  {
   "cell_type": "code",
   "execution_count": null,
   "metadata": {
    "ExecuteTime": {
     "end_time": "2023-04-15T10:30:15.732784Z",
     "start_time": "2023-04-15T10:30:15.728278Z"
    }
   },
   "outputs": [],
   "source": [
    "## zeros(shape, dtype)\n",
    "\n",
    "\n",
    "zero_arr = np.zeros(2, dtype=int)\n",
    "zero_arr"
   ]
  },
  {
   "cell_type": "code",
   "execution_count": null,
   "metadata": {
    "ExecuteTime": {
     "end_time": "2023-04-15T10:30:15.739459Z",
     "start_time": "2023-04-15T10:30:15.734783Z"
    }
   },
   "outputs": [],
   "source": [
    "zero_arr = np.zeros([3, 5], dtype=int)\n",
    "zero_arr"
   ]
  },
  {
   "cell_type": "code",
   "execution_count": null,
   "outputs": [],
   "source": [],
   "metadata": {
    "collapsed": false
   }
  }
 ],
 "metadata": {
  "gist": {
   "data": {
    "description": "DataScience_ML/Numpy/1.introduction.ipynb",
    "public": false
   },
   "id": ""
  },
  "kernelspec": {
   "display_name": "Python 3 (ipykernel)",
   "language": "python",
   "name": "python3"
  },
  "language_info": {
   "codemirror_mode": {
    "name": "ipython",
    "version": 3
   },
   "file_extension": ".py",
   "mimetype": "text/x-python",
   "name": "python",
   "nbconvert_exporter": "python",
   "pygments_lexer": "ipython3",
   "version": "3.11.3"
  },
  "toc": {
   "base_numbering": 1,
   "nav_menu": {},
   "number_sections": true,
   "sideBar": true,
   "skip_h1_title": false,
   "title_cell": "Table of Contents",
   "title_sidebar": "Contents",
   "toc_cell": false,
   "toc_position": {
    "height": "calc(100% - 180px)",
    "left": "10px",
    "top": "150px",
    "width": "303.837px"
   },
   "toc_section_display": true,
   "toc_window_display": false
  }
 },
 "nbformat": 4,
 "nbformat_minor": 1
}
